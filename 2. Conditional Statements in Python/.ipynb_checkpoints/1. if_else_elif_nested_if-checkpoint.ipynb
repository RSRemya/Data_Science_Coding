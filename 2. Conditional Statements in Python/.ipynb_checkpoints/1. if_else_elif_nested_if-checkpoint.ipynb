{
 "cells": [
  {
   "cell_type": "code",
   "execution_count": 5,
   "id": "54e61de7",
   "metadata": {},
   "outputs": [],
   "source": [
    "passing_marks = 33.33\n",
    "distinction_marks = 75"
   ]
  },
  {
   "cell_type": "code",
   "execution_count": 6,
   "id": "cfe25cc8",
   "metadata": {},
   "outputs": [
    {
     "name": "stdout",
     "output_type": "stream",
     "text": [
      "Your Score :56\n"
     ]
    }
   ],
   "source": [
    "your_score = int(input(\"Your Score :\"))"
   ]
  },
  {
   "cell_type": "markdown",
   "id": "4e91873e",
   "metadata": {},
   "source": [
    "# if condition"
   ]
  },
  {
   "cell_type": "code",
   "execution_count": 7,
   "id": "fb882ef5",
   "metadata": {},
   "outputs": [
    {
     "name": "stdout",
     "output_type": "stream",
     "text": [
      "You have passed the exam\n"
     ]
    }
   ],
   "source": [
    "if your_score > passing_marks:\n",
    "    print(\"You have passed the exam\")"
   ]
  },
  {
   "cell_type": "markdown",
   "id": "5783e6d0",
   "metadata": {},
   "source": [
    "# if else condition"
   ]
  },
  {
   "cell_type": "code",
   "execution_count": 8,
   "id": "bfede5c6",
   "metadata": {},
   "outputs": [
    {
     "name": "stdout",
     "output_type": "stream",
     "text": [
      "Passed\n"
     ]
    }
   ],
   "source": [
    "if your_score > passing_marks:\n",
    "    print(\"Passed\")\n",
    "    \n",
    "else:\n",
    "    print(\"Failed\")"
   ]
  },
  {
   "cell_type": "markdown",
   "id": "085ef9a2",
   "metadata": {},
   "source": [
    "## Single Line if else"
   ]
  },
  {
   "cell_type": "code",
   "execution_count": 13,
   "id": "22e3cd56",
   "metadata": {},
   "outputs": [
    {
     "name": "stdout",
     "output_type": "stream",
     "text": [
      "passed\n"
     ]
    }
   ],
   "source": [
    "print(\"passed\" if your_score > passing_marks else \"failed\")"
   ]
  },
  {
   "cell_type": "markdown",
   "id": "4a143791",
   "metadata": {},
   "source": [
    "# if elif else condition"
   ]
  },
  {
   "cell_type": "code",
   "execution_count": 9,
   "id": "2a2a6356",
   "metadata": {},
   "outputs": [
    {
     "name": "stdout",
     "output_type": "stream",
     "text": [
      "Passed\n"
     ]
    }
   ],
   "source": [
    "if your_score > distinction_marks:\n",
    "    print(\"You have Passed with distinction\")\n",
    "\n",
    "elif your_score > passing_marks:\n",
    "    print(\"Passed\")\n",
    "    \n",
    "else:\n",
    "    print(\"Failed\")"
   ]
  },
  {
   "cell_type": "markdown",
   "id": "5f787e66",
   "metadata": {},
   "source": [
    "# Nested if"
   ]
  },
  {
   "cell_type": "code",
   "execution_count": 10,
   "id": "4e2bf6a3",
   "metadata": {},
   "outputs": [
    {
     "name": "stdout",
     "output_type": "stream",
     "text": [
      "Since you have scored: 56, you have passed the exams!\n"
     ]
    }
   ],
   "source": [
    "\n",
    "if your_score >= passing_marks: # strict case\n",
    "    print(f\"Since you have scored: {your_score}, you have passed the exams!\")\n",
    "    if your_score > distinction_marks:\n",
    "        print(\"You have Passed with distinction\")\n",
    "else:\n",
    "    print(\"You have failed\")"
   ]
  },
  {
   "cell_type": "code",
   "execution_count": 11,
   "id": "41cd8241",
   "metadata": {},
   "outputs": [
    {
     "name": "stdout",
     "output_type": "stream",
     "text": [
      "Enter a number:6\n",
      "Its a positive no\n"
     ]
    }
   ],
   "source": [
    "val = float(input(\"Enter a number:\"))\n",
    "if val>=0:\n",
    "    if val == 0:\n",
    "        print(\"Its zero\")\n",
    "    else:\n",
    "        print(\"Its a positive no\")\n",
    "else:\n",
    "    print(\"Negative number\")"
   ]
  }
 ],
 "metadata": {
  "kernelspec": {
   "display_name": "Python 3 (ipykernel)",
   "language": "python",
   "name": "python3"
  },
  "language_info": {
   "codemirror_mode": {
    "name": "ipython",
    "version": 3
   },
   "file_extension": ".py",
   "mimetype": "text/x-python",
   "name": "python",
   "nbconvert_exporter": "python",
   "pygments_lexer": "ipython3",
   "version": "3.9.13"
  }
 },
 "nbformat": 4,
 "nbformat_minor": 5
}
