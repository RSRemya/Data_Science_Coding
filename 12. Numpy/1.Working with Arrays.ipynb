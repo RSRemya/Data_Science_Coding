{
 "cells": [
  {
   "cell_type": "markdown",
   "id": "f28ca73e",
   "metadata": {},
   "source": [
    "# Numpy is important because:\n",
    "    NumPy can be used to perform a wide variety of mathematical operations on arrays/matrix.\n",
    "    System can't understand image/audio/video/text\n",
    "    System needs all information in the form of arrays and matrix \n",
    "    Using Numpy the convertion of them into array/matrix is possible"
   ]
  },
  {
   "cell_type": "code",
   "execution_count": 1,
   "id": "591bc6be",
   "metadata": {},
   "outputs": [],
   "source": [
    "import numpy as np "
   ]
  },
  {
   "cell_type": "markdown",
   "id": "ee623365",
   "metadata": {},
   "source": [
    "# Converting List into an 1D Array"
   ]
  },
  {
   "cell_type": "code",
   "execution_count": 2,
   "id": "b3a340e3-d856-4f37-9021-aa892653dc5e",
   "metadata": {},
   "outputs": [],
   "source": [
    "l = [1,2,3,4,4]"
   ]
  },
  {
   "cell_type": "code",
   "execution_count": 3,
   "id": "de1f4257-a2a7-4ee4-a4bc-389eb07678e5",
   "metadata": {},
   "outputs": [
    {
     "data": {
      "text/plain": [
       "list"
      ]
     },
     "execution_count": 3,
     "metadata": {},
     "output_type": "execute_result"
    }
   ],
   "source": [
    "type(l)"
   ]
  },
  {
   "cell_type": "code",
   "execution_count": 4,
   "id": "297d9ac3-3769-4947-b3cf-b06d84046fdd",
   "metadata": {},
   "outputs": [],
   "source": [
    "a = np.array(l)"
   ]
  },
  {
   "cell_type": "code",
   "execution_count": 5,
   "id": "f91841fd-f18d-4f2a-b479-715f495dddf6",
   "metadata": {},
   "outputs": [
    {
     "data": {
      "text/plain": [
       "numpy.ndarray"
      ]
     },
     "execution_count": 5,
     "metadata": {},
     "output_type": "execute_result"
    }
   ],
   "source": [
    "type(a)"
   ]
  },
  {
   "cell_type": "code",
   "execution_count": 6,
   "id": "f216ea2d-8ae5-4c3f-b62b-26746d1e9f7a",
   "metadata": {},
   "outputs": [
    {
     "data": {
      "text/plain": [
       "array([1, 2, 3, 4, 4])"
      ]
     },
     "execution_count": 6,
     "metadata": {},
     "output_type": "execute_result"
    }
   ],
   "source": [
    "a"
   ]
  },
  {
   "cell_type": "markdown",
   "id": "6d08f20e",
   "metadata": {},
   "source": [
    "# Making 2D Array using Lists and 1 Square Brackets"
   ]
  },
  {
   "cell_type": "code",
   "execution_count": 7,
   "id": "6af1eefc-7afd-4dc3-a1ee-9d326c7fcfef",
   "metadata": {},
   "outputs": [
    {
     "data": {
      "text/plain": [
       "array([[1, 2, 3],\n",
       "       [3, 4, 5]])"
      ]
     },
     "execution_count": 7,
     "metadata": {},
     "output_type": "execute_result"
    }
   ],
   "source": [
    "a1 = np.array([[1,2,3] , [3,4,5]])\n",
    "a1"
   ]
  },
  {
   "cell_type": "markdown",
   "id": "b4c6decc",
   "metadata": {},
   "source": [
    "# Making 3D Array using Lists and 2 Square Brackets"
   ]
  },
  {
   "cell_type": "code",
   "execution_count": 8,
   "id": "15fa41fa-f81d-42ac-a118-b8bcf0666e56",
   "metadata": {},
   "outputs": [],
   "source": [
    "a2 = np.array([[[1,2,3] , [4,.5,6]]])"
   ]
  },
  {
   "cell_type": "code",
   "execution_count": 9,
   "id": "74ae2bb7-e7aa-43d5-9179-5f5b5948caf8",
   "metadata": {},
   "outputs": [
    {
     "data": {
      "text/plain": [
       "array([[[1. , 2. , 3. ],\n",
       "        [4. , 0.5, 6. ]]])"
      ]
     },
     "execution_count": 9,
     "metadata": {},
     "output_type": "execute_result"
    }
   ],
   "source": [
    "a2"
   ]
  },
  {
   "cell_type": "code",
   "execution_count": 10,
   "id": "4464a24e-0e19-43fa-b730-1993d2a1cfde",
   "metadata": {},
   "outputs": [
    {
     "data": {
      "text/plain": [
       "array([1, 2, 3, 4, 4])"
      ]
     },
     "execution_count": 10,
     "metadata": {},
     "output_type": "execute_result"
    }
   ],
   "source": [
    "a"
   ]
  },
  {
   "cell_type": "markdown",
   "id": "a8255b68",
   "metadata": {},
   "source": [
    "# Finding Dimensions of Arrays Created"
   ]
  },
  {
   "cell_type": "code",
   "execution_count": 11,
   "id": "e3b68bb7-d3e4-44c3-ba3f-8419b7d91d28",
   "metadata": {},
   "outputs": [
    {
     "data": {
      "text/plain": [
       "1"
      ]
     },
     "execution_count": 11,
     "metadata": {},
     "output_type": "execute_result"
    }
   ],
   "source": [
    "a.ndim"
   ]
  },
  {
   "cell_type": "code",
   "execution_count": 12,
   "id": "0879e33b-5b1a-4f95-b7bf-b286fe4dd453",
   "metadata": {},
   "outputs": [
    {
     "data": {
      "text/plain": [
       "2"
      ]
     },
     "execution_count": 12,
     "metadata": {},
     "output_type": "execute_result"
    }
   ],
   "source": [
    "a1.ndim\n"
   ]
  },
  {
   "cell_type": "code",
   "execution_count": 13,
   "id": "984ac883-a6e3-487f-bad9-3de78a4170a3",
   "metadata": {},
   "outputs": [
    {
     "data": {
      "text/plain": [
       "3"
      ]
     },
     "execution_count": 13,
     "metadata": {},
     "output_type": "execute_result"
    }
   ],
   "source": [
    "a2.ndim"
   ]
  },
  {
   "cell_type": "code",
   "execution_count": 14,
   "id": "3a024126-8be3-4bad-b26c-7e4fa51b5fab",
   "metadata": {},
   "outputs": [],
   "source": [
    "a3 = np.array([[[1,2,3] , [4,.5,6]],[[1,2,3] , [4,.5,6]],[[1,2,3] , [4,.5,6]]])"
   ]
  },
  {
   "cell_type": "code",
   "execution_count": 15,
   "id": "83ac298d-c474-4c57-94bf-97befda66e9f",
   "metadata": {},
   "outputs": [
    {
     "data": {
      "text/plain": [
       "array([[[1. , 2. , 3. ],\n",
       "        [4. , 0.5, 6. ]],\n",
       "\n",
       "       [[1. , 2. , 3. ],\n",
       "        [4. , 0.5, 6. ]],\n",
       "\n",
       "       [[1. , 2. , 3. ],\n",
       "        [4. , 0.5, 6. ]]])"
      ]
     },
     "execution_count": 15,
     "metadata": {},
     "output_type": "execute_result"
    }
   ],
   "source": [
    "a3"
   ]
  },
  {
   "cell_type": "code",
   "execution_count": 16,
   "id": "a73903e8-ee36-4925-aec1-818e90db861d",
   "metadata": {},
   "outputs": [
    {
     "data": {
      "text/plain": [
       "3"
      ]
     },
     "execution_count": 16,
     "metadata": {},
     "output_type": "execute_result"
    }
   ],
   "source": [
    "a3.ndim"
   ]
  },
  {
   "cell_type": "markdown",
   "id": "1a18188e",
   "metadata": {},
   "source": [
    "# Using asarray to convert list into array"
   ]
  },
  {
   "cell_type": "code",
   "execution_count": 17,
   "id": "c89ab63e-a4f7-44db-91cd-6c863c452e3d",
   "metadata": {},
   "outputs": [],
   "source": [
    "l = [1,2,3,4]"
   ]
  },
  {
   "cell_type": "code",
   "execution_count": 18,
   "id": "f8904384-5afe-4ca3-b1d9-6ecda7d1fdc1",
   "metadata": {},
   "outputs": [
    {
     "data": {
      "text/plain": [
       "numpy.ndarray"
      ]
     },
     "execution_count": 18,
     "metadata": {},
     "output_type": "execute_result"
    }
   ],
   "source": [
    "a = np.asarray(l)\n",
    "type(a)"
   ]
  },
  {
   "cell_type": "markdown",
   "id": "83ba6f9d",
   "metadata": {},
   "source": [
    "# Using matrix to convert list into matrix\n",
    "\n",
    "    Matrix have atleast 2 Dimension\n",
    "    Array have atleast 3 Dimension\n",
    "    \n",
    "    Matrix ia a subset of array"
   ]
  },
  {
   "cell_type": "code",
   "execution_count": 19,
   "id": "cb904727-8761-4abd-a299-8023cb291c90",
   "metadata": {},
   "outputs": [
    {
     "data": {
      "text/plain": [
       "numpy.matrix"
      ]
     },
     "execution_count": 19,
     "metadata": {},
     "output_type": "execute_result"
    }
   ],
   "source": [
    "m = np.matrix(l)\n",
    "type(m)"
   ]
  },
  {
   "cell_type": "markdown",
   "id": "b56effc9",
   "metadata": {},
   "source": [
    "# Using asanyarray"
   ]
  },
  {
   "cell_type": "code",
   "execution_count": 20,
   "id": "5a9db928-647b-429b-b9df-5457e2ee61d8",
   "metadata": {},
   "outputs": [
    {
     "data": {
      "text/plain": [
       "array([1, 2, 3, 4])"
      ]
     },
     "execution_count": 20,
     "metadata": {},
     "output_type": "execute_result"
    }
   ],
   "source": [
    "# asanyarray can be used to convert list into an array\n",
    "np.asanyarray(l)"
   ]
  },
  {
   "cell_type": "code",
   "execution_count": 21,
   "id": "05739d24-0006-4822-8308-0c09c9ad2c91",
   "metadata": {},
   "outputs": [
    {
     "data": {
      "text/plain": [
       "array([1, 2, 3, 4])"
      ]
     },
     "execution_count": 21,
     "metadata": {},
     "output_type": "execute_result"
    }
   ],
   "source": [
    "np.asanyarray(a)"
   ]
  },
  {
   "cell_type": "code",
   "execution_count": 22,
   "id": "a69c8a25-5fd7-4be4-a539-f556f6d6b23d",
   "metadata": {},
   "outputs": [
    {
     "data": {
      "text/plain": [
       "matrix([[1, 2, 3, 4]])"
      ]
     },
     "execution_count": 22,
     "metadata": {},
     "output_type": "execute_result"
    }
   ],
   "source": [
    "# But asanyarray will not convert a matrix into an array, because matrix is also a type of array\n",
    "np.asanyarray(m)"
   ]
  },
  {
   "cell_type": "markdown",
   "id": "340d1888",
   "metadata": {},
   "source": [
    "# Shallow Copying"
   ]
  },
  {
   "cell_type": "code",
   "execution_count": 23,
   "id": "7bc1cccf-ab21-4f96-bbea-6055f87211d7",
   "metadata": {},
   "outputs": [
    {
     "name": "stdout",
     "output_type": "stream",
     "text": [
      "[1 2 3 4]\n"
     ]
    },
    {
     "data": {
      "text/plain": [
       "numpy.ndarray"
      ]
     },
     "execution_count": 23,
     "metadata": {},
     "output_type": "execute_result"
    }
   ],
   "source": [
    "print(a)\n",
    "type(a)"
   ]
  },
  {
   "cell_type": "code",
   "execution_count": 24,
   "id": "e82a186b-49a9-4cc3-98a6-a854a63bd49a",
   "metadata": {},
   "outputs": [
    {
     "data": {
      "text/plain": [
       "numpy.ndarray"
      ]
     },
     "execution_count": 24,
     "metadata": {},
     "output_type": "execute_result"
    }
   ],
   "source": [
    "a1 = a \n",
    "type(a1)"
   ]
  },
  {
   "cell_type": "code",
   "execution_count": 25,
   "id": "c95a3e81-3aa2-4f3a-95b7-0050174a706d",
   "metadata": {},
   "outputs": [],
   "source": [
    "a[0] = 10"
   ]
  },
  {
   "cell_type": "code",
   "execution_count": 26,
   "id": "0dca2851-0cee-4fe3-a3b5-6eccc4f11388",
   "metadata": {},
   "outputs": [
    {
     "data": {
      "text/plain": [
       "array([10,  2,  3,  4])"
      ]
     },
     "execution_count": 26,
     "metadata": {},
     "output_type": "execute_result"
    }
   ],
   "source": [
    "a"
   ]
  },
  {
   "cell_type": "code",
   "execution_count": 27,
   "id": "8c416e48-2de1-4374-930f-f05346205989",
   "metadata": {},
   "outputs": [
    {
     "data": {
      "text/plain": [
       "array([10,  2,  3,  4])"
      ]
     },
     "execution_count": 27,
     "metadata": {},
     "output_type": "execute_result"
    }
   ],
   "source": [
    "a1# both a and a1 are same because a1=a"
   ]
  },
  {
   "cell_type": "code",
   "execution_count": 28,
   "id": "2104476a-e1fd-4df9-b08e-b9c559b2a103",
   "metadata": {},
   "outputs": [],
   "source": [
    "a1[3] = 50"
   ]
  },
  {
   "cell_type": "code",
   "execution_count": 29,
   "id": "4c14a0c4-3f70-4251-a113-66fb593b8381",
   "metadata": {},
   "outputs": [
    {
     "data": {
      "text/plain": [
       "array([10,  2,  3, 50])"
      ]
     },
     "execution_count": 29,
     "metadata": {},
     "output_type": "execute_result"
    }
   ],
   "source": [
    "a1"
   ]
  },
  {
   "cell_type": "code",
   "execution_count": 30,
   "id": "411029ac-9aa6-4429-b4e2-5c6c5ede6e54",
   "metadata": {},
   "outputs": [
    {
     "data": {
      "text/plain": [
       "array([10,  2,  3, 50])"
      ]
     },
     "execution_count": 30,
     "metadata": {},
     "output_type": "execute_result"
    }
   ],
   "source": [
    "a"
   ]
  },
  {
   "cell_type": "markdown",
   "id": "401a3448",
   "metadata": {},
   "source": [
    "**In shallow copying, changes in a1 is reflected in a**"
   ]
  },
  {
   "cell_type": "markdown",
   "id": "b4d8fe9b",
   "metadata": {},
   "source": [
    "# Deep Copying"
   ]
  },
  {
   "cell_type": "code",
   "execution_count": 31,
   "id": "eb73a9bb-f4a0-42cb-be16-119625194db9",
   "metadata": {},
   "outputs": [],
   "source": [
    "a2 = np.copy(a)"
   ]
  },
  {
   "cell_type": "code",
   "execution_count": 32,
   "id": "0f8e53b8-3efc-4699-be1c-2309a4a8e48a",
   "metadata": {},
   "outputs": [
    {
     "data": {
      "text/plain": [
       "array([10,  2,  3, 50])"
      ]
     },
     "execution_count": 32,
     "metadata": {},
     "output_type": "execute_result"
    }
   ],
   "source": [
    "a2"
   ]
  },
  {
   "cell_type": "code",
   "execution_count": 33,
   "id": "f5144950-f06e-4d62-8367-436e51c877ae",
   "metadata": {},
   "outputs": [],
   "source": [
    "a2[2] = 30"
   ]
  },
  {
   "cell_type": "code",
   "execution_count": 34,
   "id": "6235e46a-0ec7-47a1-b61a-49c17d8ec117",
   "metadata": {},
   "outputs": [
    {
     "data": {
      "text/plain": [
       "array([10,  2, 30, 50])"
      ]
     },
     "execution_count": 34,
     "metadata": {},
     "output_type": "execute_result"
    }
   ],
   "source": [
    "a2"
   ]
  },
  {
   "cell_type": "code",
   "execution_count": 35,
   "id": "47373eeb-80c8-46b7-bbd0-37a66bed9f3d",
   "metadata": {},
   "outputs": [
    {
     "data": {
      "text/plain": [
       "array([10,  2,  3, 50])"
      ]
     },
     "execution_count": 35,
     "metadata": {},
     "output_type": "execute_result"
    }
   ],
   "source": [
    "a"
   ]
  },
  {
   "cell_type": "markdown",
   "id": "02ba4ac5",
   "metadata": {},
   "source": [
    "**In deep copying, changes in a2 is not reflected in a**"
   ]
  },
  {
   "cell_type": "markdown",
   "id": "5085831a",
   "metadata": {},
   "source": [
    "# Generating an array via fromfunction"
   ]
  },
  {
   "cell_type": "code",
   "execution_count": 36,
   "id": "0e7ce447-386a-4c0a-acfa-57ba497e96bc",
   "metadata": {},
   "outputs": [
    {
     "data": {
      "text/plain": [
       "array([[ True, False, False, False],\n",
       "       [False,  True, False, False],\n",
       "       [False, False,  True, False]])"
      ]
     },
     "execution_count": 36,
     "metadata": {},
     "output_type": "execute_result"
    }
   ],
   "source": [
    "np.fromfunction(lambda i,j : i==j , (3,4))\n",
    "# Dimesion of it is 3*4 and wherever row number - column number-->  True is displayed, otherwise, its shown by False"
   ]
  },
  {
   "cell_type": "code",
   "execution_count": 37,
   "id": "72296cbc-ab35-4cec-ace1-2e601b9b503c",
   "metadata": {},
   "outputs": [
    {
     "data": {
      "text/plain": [
       "array([[[0.44111187, 0.29729965],\n",
       "        [0.21360349, 0.77558223],\n",
       "        [0.64082018, 0.04221715]],\n",
       "\n",
       "       [[0.88759585, 0.6729367 ],\n",
       "        [0.23094186, 0.05361156],\n",
       "        [0.45076414, 0.54862553]]])"
      ]
     },
     "execution_count": 37,
     "metadata": {},
     "output_type": "execute_result"
    }
   ],
   "source": [
    "# Generating array of dimension (2,3,2) using random numbers\n",
    "np.random.rand(2,3,2)"
   ]
  },
  {
   "cell_type": "code",
   "execution_count": 38,
   "id": "ea49e53b-7d14-4e2e-86bd-f70fb5da0ed1",
   "metadata": {},
   "outputs": [
    {
     "data": {
      "text/plain": [
       "array([[[[0.56797247, 0.55089578],\n",
       "         [0.59893274, 0.93755632]],\n",
       "\n",
       "        [[0.58490827, 0.32626968],\n",
       "         [0.42534004, 0.82726739]],\n",
       "\n",
       "        [[0.61147442, 0.38052196],\n",
       "         [0.54956315, 0.58937583]]],\n",
       "\n",
       "\n",
       "       [[[0.38931911, 0.38304663],\n",
       "         [0.62078082, 0.8458981 ]],\n",
       "\n",
       "        [[0.37426674, 0.10972701],\n",
       "         [0.41350229, 0.2230668 ]],\n",
       "\n",
       "        [[0.28060895, 0.68952186],\n",
       "         [0.40622018, 0.50930732]]]])"
      ]
     },
     "execution_count": 38,
     "metadata": {},
     "output_type": "execute_result"
    }
   ],
   "source": [
    "# Generating array of dimension (2,3,2,2) using random numbers\n",
    "np.random.rand(2,3,2,2)"
   ]
  },
  {
   "cell_type": "code",
   "execution_count": 39,
   "id": "f34d4a91-f829-45e5-b1b8-4f48da258386",
   "metadata": {},
   "outputs": [
    {
     "data": {
      "text/plain": [
       "array([[[0.01331053, 0.11211761, 0.57961422, 0.71958834, 0.53246972],\n",
       "        [0.35375969, 0.48651467, 0.55810564, 0.29774713, 0.0232501 ],\n",
       "        [0.78596991, 0.36665405, 0.33550827, 0.20637773, 0.84080768],\n",
       "        [0.42799286, 0.85215007, 0.36498072, 0.01718468, 0.55171774]],\n",
       "\n",
       "       [[0.57421738, 0.17258185, 0.6518394 , 0.46846219, 0.4157697 ],\n",
       "        [0.49137763, 0.25588878, 0.32324054, 0.95138689, 0.08912799],\n",
       "        [0.28758907, 0.59138179, 0.23738889, 0.62414364, 0.82682462],\n",
       "        [0.042287  , 0.64434086, 0.41671035, 0.94847119, 0.85154287]],\n",
       "\n",
       "       [[0.83900383, 0.50547221, 0.35924752, 0.81461643, 0.37850921],\n",
       "        [0.47659932, 0.74244112, 0.85549081, 0.59989722, 0.04207079],\n",
       "        [0.53327045, 0.84965688, 0.50509242, 0.44358517, 0.39205056],\n",
       "        [0.33632004, 0.23778856, 0.68637776, 0.96487096, 0.06961032]]])"
      ]
     },
     "execution_count": 39,
     "metadata": {},
     "output_type": "execute_result"
    }
   ],
   "source": [
    "np.random.rand(3,4,5)"
   ]
  },
  {
   "cell_type": "markdown",
   "id": "2af531e9",
   "metadata": {},
   "source": [
    "# Converting Array into Dataframe"
   ]
  },
  {
   "cell_type": "code",
   "execution_count": 40,
   "id": "3152344c-7acf-4b37-bf93-560ddb67010f",
   "metadata": {},
   "outputs": [
    {
     "data": {
      "text/plain": [
       "array([[ 0.6902524 ,  0.17454857, -0.80833386,  1.30167134],\n",
       "       [ 1.10935412, -0.50887602, -0.64854642,  2.55959236],\n",
       "       [ 1.98852696, -1.58630656, -0.0695129 , -2.46239003]])"
      ]
     },
     "execution_count": 40,
     "metadata": {},
     "output_type": "execute_result"
    }
   ],
   "source": [
    "d = np.random.randn(3,4)\n",
    "d"
   ]
  },
  {
   "cell_type": "code",
   "execution_count": 41,
   "id": "9f752550-0999-4fe1-afab-e89d0b65127b",
   "metadata": {},
   "outputs": [
    {
     "data": {
      "text/html": [
       "<div>\n",
       "<style scoped>\n",
       "    .dataframe tbody tr th:only-of-type {\n",
       "        vertical-align: middle;\n",
       "    }\n",
       "\n",
       "    .dataframe tbody tr th {\n",
       "        vertical-align: top;\n",
       "    }\n",
       "\n",
       "    .dataframe thead th {\n",
       "        text-align: right;\n",
       "    }\n",
       "</style>\n",
       "<table border=\"1\" class=\"dataframe\">\n",
       "  <thead>\n",
       "    <tr style=\"text-align: right;\">\n",
       "      <th></th>\n",
       "      <th>0</th>\n",
       "      <th>1</th>\n",
       "      <th>2</th>\n",
       "      <th>3</th>\n",
       "    </tr>\n",
       "  </thead>\n",
       "  <tbody>\n",
       "    <tr>\n",
       "      <th>0</th>\n",
       "      <td>0.690252</td>\n",
       "      <td>0.174549</td>\n",
       "      <td>-0.808334</td>\n",
       "      <td>1.301671</td>\n",
       "    </tr>\n",
       "    <tr>\n",
       "      <th>1</th>\n",
       "      <td>1.109354</td>\n",
       "      <td>-0.508876</td>\n",
       "      <td>-0.648546</td>\n",
       "      <td>2.559592</td>\n",
       "    </tr>\n",
       "    <tr>\n",
       "      <th>2</th>\n",
       "      <td>1.988527</td>\n",
       "      <td>-1.586307</td>\n",
       "      <td>-0.069513</td>\n",
       "      <td>-2.462390</td>\n",
       "    </tr>\n",
       "  </tbody>\n",
       "</table>\n",
       "</div>"
      ],
      "text/plain": [
       "          0         1         2         3\n",
       "0  0.690252  0.174549 -0.808334  1.301671\n",
       "1  1.109354 -0.508876 -0.648546  2.559592\n",
       "2  1.988527 -1.586307 -0.069513 -2.462390"
      ]
     },
     "execution_count": 41,
     "metadata": {},
     "output_type": "execute_result"
    }
   ],
   "source": [
    "import pandas as pd\n",
    "pd.DataFrame(d)"
   ]
  },
  {
   "cell_type": "markdown",
   "id": "d3dadc25",
   "metadata": {},
   "source": [
    "# Forming Integer Array"
   ]
  },
  {
   "cell_type": "code",
   "execution_count": 42,
   "id": "859bdc07-eb8e-4310-9e74-0a9c05092cdb",
   "metadata": {},
   "outputs": [
    {
     "data": {
      "text/plain": [
       "array([[[4, 2],\n",
       "        [5, 0],\n",
       "        [4, 9],\n",
       "        [0, 4]],\n",
       "\n",
       "       [[8, 6],\n",
       "        [9, 3],\n",
       "        [7, 0],\n",
       "        [1, 9]],\n",
       "\n",
       "       [[0, 5],\n",
       "        [3, 1],\n",
       "        [7, 8],\n",
       "        [8, 9]],\n",
       "\n",
       "       [[6, 0],\n",
       "        [7, 9],\n",
       "        [3, 0],\n",
       "        [2, 3]]])"
      ]
     },
     "execution_count": 42,
     "metadata": {},
     "output_type": "execute_result"
    }
   ],
   "source": [
    "#Generating array having random integer values\n",
    "d1=np.random.randint(0,10,(4,4,2))# Dataset having integers in range 0 to 10, dimension = 4*4*2\n",
    "d1"
   ]
  },
  {
   "cell_type": "markdown",
   "id": "645dcb65",
   "metadata": {},
   "source": [
    "# Changing dimension of existing array\n",
    "\n",
    "    There are total 32 elements in d1, its dimention can be 16*2, 8*4, 32*1"
   ]
  },
  {
   "cell_type": "code",
   "execution_count": 43,
   "id": "d88bf048-418e-43ae-82f8-b6a5c23c3670",
   "metadata": {},
   "outputs": [
    {
     "data": {
      "text/plain": [
       "array([[4, 2],\n",
       "       [5, 0],\n",
       "       [4, 9],\n",
       "       [0, 4],\n",
       "       [8, 6],\n",
       "       [9, 3],\n",
       "       [7, 0],\n",
       "       [1, 9],\n",
       "       [0, 5],\n",
       "       [3, 1],\n",
       "       [7, 8],\n",
       "       [8, 9],\n",
       "       [6, 0],\n",
       "       [7, 9],\n",
       "       [3, 0],\n",
       "       [2, 3]])"
      ]
     },
     "execution_count": 43,
     "metadata": {},
     "output_type": "execute_result"
    }
   ],
   "source": [
    "d1.reshape(16,2)"
   ]
  },
  {
   "cell_type": "code",
   "execution_count": 44,
   "id": "3c4d6088-f66a-4f35-a7e3-6e73b8fda110",
   "metadata": {},
   "outputs": [
    {
     "data": {
      "text/plain": [
       "array([[4, 2, 5, 0],\n",
       "       [4, 9, 0, 4],\n",
       "       [8, 6, 9, 3],\n",
       "       [7, 0, 1, 9],\n",
       "       [0, 5, 3, 1],\n",
       "       [7, 8, 8, 9],\n",
       "       [6, 0, 7, 9],\n",
       "       [3, 0, 2, 3]])"
      ]
     },
     "execution_count": 44,
     "metadata": {},
     "output_type": "execute_result"
    }
   ],
   "source": [
    "d1.reshape(8,4)"
   ]
  },
  {
   "cell_type": "code",
   "execution_count": 45,
   "id": "5d393f90",
   "metadata": {},
   "outputs": [
    {
     "data": {
      "text/plain": [
       "array([[4],\n",
       "       [2],\n",
       "       [5],\n",
       "       [0],\n",
       "       [4],\n",
       "       [9],\n",
       "       [0],\n",
       "       [4],\n",
       "       [8],\n",
       "       [6],\n",
       "       [9],\n",
       "       [3],\n",
       "       [7],\n",
       "       [0],\n",
       "       [1],\n",
       "       [9],\n",
       "       [0],\n",
       "       [5],\n",
       "       [3],\n",
       "       [1],\n",
       "       [7],\n",
       "       [8],\n",
       "       [8],\n",
       "       [9],\n",
       "       [6],\n",
       "       [0],\n",
       "       [7],\n",
       "       [9],\n",
       "       [3],\n",
       "       [0],\n",
       "       [2],\n",
       "       [3]])"
      ]
     },
     "execution_count": 45,
     "metadata": {},
     "output_type": "execute_result"
    }
   ],
   "source": [
    "d1.reshape(32,-421365981374)"
   ]
  },
  {
   "cell_type": "code",
   "execution_count": 46,
   "id": "b53d211c-3ae5-4e8a-9f4d-ce0b9a4ea4c9",
   "metadata": {},
   "outputs": [
    {
     "ename": "ValueError",
     "evalue": "Must pass 2-d input. shape=(4, 4, 2)",
     "output_type": "error",
     "traceback": [
      "\u001b[1;31m---------------------------------------------------------------------------\u001b[0m",
      "\u001b[1;31mValueError\u001b[0m                                Traceback (most recent call last)",
      "\u001b[1;32m~\\AppData\\Local\\Temp\\ipykernel_13128\\3376031797.py\u001b[0m in \u001b[0;36m<module>\u001b[1;34m\u001b[0m\n\u001b[1;32m----> 1\u001b[1;33m \u001b[0mpd\u001b[0m\u001b[1;33m.\u001b[0m\u001b[0mDataFrame\u001b[0m\u001b[1;33m(\u001b[0m\u001b[0md1\u001b[0m\u001b[1;33m)\u001b[0m\u001b[1;33m\u001b[0m\u001b[1;33m\u001b[0m\u001b[0m\n\u001b[0m",
      "\u001b[1;32mC:\\ProgramData\\Anaconda3\\lib\\site-packages\\pandas\\core\\frame.py\u001b[0m in \u001b[0;36m__init__\u001b[1;34m(self, data, index, columns, dtype, copy)\u001b[0m\n\u001b[0;32m    692\u001b[0m                 )\n\u001b[0;32m    693\u001b[0m             \u001b[1;32melse\u001b[0m\u001b[1;33m:\u001b[0m\u001b[1;33m\u001b[0m\u001b[1;33m\u001b[0m\u001b[0m\n\u001b[1;32m--> 694\u001b[1;33m                 mgr = ndarray_to_mgr(\n\u001b[0m\u001b[0;32m    695\u001b[0m                     \u001b[0mdata\u001b[0m\u001b[1;33m,\u001b[0m\u001b[1;33m\u001b[0m\u001b[1;33m\u001b[0m\u001b[0m\n\u001b[0;32m    696\u001b[0m                     \u001b[0mindex\u001b[0m\u001b[1;33m,\u001b[0m\u001b[1;33m\u001b[0m\u001b[1;33m\u001b[0m\u001b[0m\n",
      "\u001b[1;32mC:\\ProgramData\\Anaconda3\\lib\\site-packages\\pandas\\core\\internals\\construction.py\u001b[0m in \u001b[0;36mndarray_to_mgr\u001b[1;34m(values, index, columns, dtype, copy, typ)\u001b[0m\n\u001b[0;32m    329\u001b[0m         \u001b[1;31m# by definition an array here\u001b[0m\u001b[1;33m\u001b[0m\u001b[1;33m\u001b[0m\u001b[0m\n\u001b[0;32m    330\u001b[0m         \u001b[1;31m# the dtypes will be coerced to a single dtype\u001b[0m\u001b[1;33m\u001b[0m\u001b[1;33m\u001b[0m\u001b[0m\n\u001b[1;32m--> 331\u001b[1;33m         \u001b[0mvalues\u001b[0m \u001b[1;33m=\u001b[0m \u001b[0m_prep_ndarray\u001b[0m\u001b[1;33m(\u001b[0m\u001b[0mvalues\u001b[0m\u001b[1;33m,\u001b[0m \u001b[0mcopy\u001b[0m\u001b[1;33m=\u001b[0m\u001b[0mcopy_on_sanitize\u001b[0m\u001b[1;33m)\u001b[0m\u001b[1;33m\u001b[0m\u001b[1;33m\u001b[0m\u001b[0m\n\u001b[0m\u001b[0;32m    332\u001b[0m \u001b[1;33m\u001b[0m\u001b[0m\n\u001b[0;32m    333\u001b[0m     \u001b[1;32mif\u001b[0m \u001b[0mdtype\u001b[0m \u001b[1;32mis\u001b[0m \u001b[1;32mnot\u001b[0m \u001b[1;32mNone\u001b[0m \u001b[1;32mand\u001b[0m \u001b[1;32mnot\u001b[0m \u001b[0mis_dtype_equal\u001b[0m\u001b[1;33m(\u001b[0m\u001b[0mvalues\u001b[0m\u001b[1;33m.\u001b[0m\u001b[0mdtype\u001b[0m\u001b[1;33m,\u001b[0m \u001b[0mdtype\u001b[0m\u001b[1;33m)\u001b[0m\u001b[1;33m:\u001b[0m\u001b[1;33m\u001b[0m\u001b[1;33m\u001b[0m\u001b[0m\n",
      "\u001b[1;32mC:\\ProgramData\\Anaconda3\\lib\\site-packages\\pandas\\core\\internals\\construction.py\u001b[0m in \u001b[0;36m_prep_ndarray\u001b[1;34m(values, copy)\u001b[0m\n\u001b[0;32m    589\u001b[0m         \u001b[0mvalues\u001b[0m \u001b[1;33m=\u001b[0m \u001b[0mvalues\u001b[0m\u001b[1;33m.\u001b[0m\u001b[0mreshape\u001b[0m\u001b[1;33m(\u001b[0m\u001b[1;33m(\u001b[0m\u001b[0mvalues\u001b[0m\u001b[1;33m.\u001b[0m\u001b[0mshape\u001b[0m\u001b[1;33m[\u001b[0m\u001b[1;36m0\u001b[0m\u001b[1;33m]\u001b[0m\u001b[1;33m,\u001b[0m \u001b[1;36m1\u001b[0m\u001b[1;33m)\u001b[0m\u001b[1;33m)\u001b[0m\u001b[1;33m\u001b[0m\u001b[1;33m\u001b[0m\u001b[0m\n\u001b[0;32m    590\u001b[0m     \u001b[1;32melif\u001b[0m \u001b[0mvalues\u001b[0m\u001b[1;33m.\u001b[0m\u001b[0mndim\u001b[0m \u001b[1;33m!=\u001b[0m \u001b[1;36m2\u001b[0m\u001b[1;33m:\u001b[0m\u001b[1;33m\u001b[0m\u001b[1;33m\u001b[0m\u001b[0m\n\u001b[1;32m--> 591\u001b[1;33m         \u001b[1;32mraise\u001b[0m \u001b[0mValueError\u001b[0m\u001b[1;33m(\u001b[0m\u001b[1;34mf\"Must pass 2-d input. shape={values.shape}\"\u001b[0m\u001b[1;33m)\u001b[0m\u001b[1;33m\u001b[0m\u001b[1;33m\u001b[0m\u001b[0m\n\u001b[0m\u001b[0;32m    592\u001b[0m \u001b[1;33m\u001b[0m\u001b[0m\n\u001b[0;32m    593\u001b[0m     \u001b[1;32mreturn\u001b[0m \u001b[0mvalues\u001b[0m\u001b[1;33m\u001b[0m\u001b[1;33m\u001b[0m\u001b[0m\n",
      "\u001b[1;31mValueError\u001b[0m: Must pass 2-d input. shape=(4, 4, 2)"
     ]
    }
   ],
   "source": [
    "pd.DataFrame(d1)"
   ]
  },
  {
   "cell_type": "code",
   "execution_count": 47,
   "id": "11cdb3c9-bf4c-4568-b7be-a5935031a5d3",
   "metadata": {},
   "outputs": [],
   "source": [
    "#Only 2D array can be converted into dataframe\n",
    "d1=d1.reshape(8,4)"
   ]
  },
  {
   "cell_type": "code",
   "execution_count": 48,
   "id": "b75d8cc7",
   "metadata": {},
   "outputs": [
    {
     "data": {
      "text/html": [
       "<div>\n",
       "<style scoped>\n",
       "    .dataframe tbody tr th:only-of-type {\n",
       "        vertical-align: middle;\n",
       "    }\n",
       "\n",
       "    .dataframe tbody tr th {\n",
       "        vertical-align: top;\n",
       "    }\n",
       "\n",
       "    .dataframe thead th {\n",
       "        text-align: right;\n",
       "    }\n",
       "</style>\n",
       "<table border=\"1\" class=\"dataframe\">\n",
       "  <thead>\n",
       "    <tr style=\"text-align: right;\">\n",
       "      <th></th>\n",
       "      <th>0</th>\n",
       "      <th>1</th>\n",
       "      <th>2</th>\n",
       "      <th>3</th>\n",
       "    </tr>\n",
       "  </thead>\n",
       "  <tbody>\n",
       "    <tr>\n",
       "      <th>0</th>\n",
       "      <td>4</td>\n",
       "      <td>2</td>\n",
       "      <td>5</td>\n",
       "      <td>0</td>\n",
       "    </tr>\n",
       "    <tr>\n",
       "      <th>1</th>\n",
       "      <td>4</td>\n",
       "      <td>9</td>\n",
       "      <td>0</td>\n",
       "      <td>4</td>\n",
       "    </tr>\n",
       "    <tr>\n",
       "      <th>2</th>\n",
       "      <td>8</td>\n",
       "      <td>6</td>\n",
       "      <td>9</td>\n",
       "      <td>3</td>\n",
       "    </tr>\n",
       "    <tr>\n",
       "      <th>3</th>\n",
       "      <td>7</td>\n",
       "      <td>0</td>\n",
       "      <td>1</td>\n",
       "      <td>9</td>\n",
       "    </tr>\n",
       "    <tr>\n",
       "      <th>4</th>\n",
       "      <td>0</td>\n",
       "      <td>5</td>\n",
       "      <td>3</td>\n",
       "      <td>1</td>\n",
       "    </tr>\n",
       "    <tr>\n",
       "      <th>5</th>\n",
       "      <td>7</td>\n",
       "      <td>8</td>\n",
       "      <td>8</td>\n",
       "      <td>9</td>\n",
       "    </tr>\n",
       "    <tr>\n",
       "      <th>6</th>\n",
       "      <td>6</td>\n",
       "      <td>0</td>\n",
       "      <td>7</td>\n",
       "      <td>9</td>\n",
       "    </tr>\n",
       "    <tr>\n",
       "      <th>7</th>\n",
       "      <td>3</td>\n",
       "      <td>0</td>\n",
       "      <td>2</td>\n",
       "      <td>3</td>\n",
       "    </tr>\n",
       "  </tbody>\n",
       "</table>\n",
       "</div>"
      ],
      "text/plain": [
       "   0  1  2  3\n",
       "0  4  2  5  0\n",
       "1  4  9  0  4\n",
       "2  8  6  9  3\n",
       "3  7  0  1  9\n",
       "4  0  5  3  1\n",
       "5  7  8  8  9\n",
       "6  6  0  7  9\n",
       "7  3  0  2  3"
      ]
     },
     "execution_count": 48,
     "metadata": {},
     "output_type": "execute_result"
    }
   ],
   "source": [
    "pd.DataFrame(d1)"
   ]
  },
  {
   "cell_type": "code",
   "execution_count": null,
   "id": "ed20e6ab",
   "metadata": {},
   "outputs": [],
   "source": []
  }
 ],
 "metadata": {
  "kernelspec": {
   "display_name": "Python 3 (ipykernel)",
   "language": "python",
   "name": "python3"
  },
  "language_info": {
   "codemirror_mode": {
    "name": "ipython",
    "version": 3
   },
   "file_extension": ".py",
   "mimetype": "text/x-python",
   "name": "python",
   "nbconvert_exporter": "python",
   "pygments_lexer": "ipython3",
   "version": "3.9.13"
  }
 },
 "nbformat": 4,
 "nbformat_minor": 5
}
