{
 "cells": [
  {
   "cell_type": "markdown",
   "id": "a80ccf6a",
   "metadata": {},
   "source": [
    "# Generating inetgers in a particular range "
   ]
  },
  {
   "cell_type": "code",
   "execution_count": 1,
   "id": "af3560b3",
   "metadata": {},
   "outputs": [],
   "source": [
    "import numpy as np"
   ]
  },
  {
   "cell_type": "code",
   "execution_count": 2,
   "id": "ff52c252-f36e-488c-ad36-52711409d61b",
   "metadata": {},
   "outputs": [
    {
     "data": {
      "text/plain": [
       "range(0, 10)"
      ]
     },
     "execution_count": 2,
     "metadata": {},
     "output_type": "execute_result"
    }
   ],
   "source": [
    "range(10)# a generator function which gives range object, to generate numbers"
   ]
  },
  {
   "cell_type": "code",
   "execution_count": 3,
   "id": "672688a9-64ca-4f4b-bdcd-980d5d882554",
   "metadata": {},
   "outputs": [
    {
     "data": {
      "text/plain": [
       "[0, 1, 2, 3, 4, 5, 6, 7, 8, 9]"
      ]
     },
     "execution_count": 3,
     "metadata": {},
     "output_type": "execute_result"
    }
   ],
   "source": [
    "list(range(10))# will give number list from 0 to 9"
   ]
  },
  {
   "cell_type": "code",
   "execution_count": 4,
   "id": "48907ed3-2c0c-4c00-89cc-d4f230c29c2b",
   "metadata": {},
   "outputs": [
    {
     "data": {
      "text/plain": [
       "[3, 4, 5, 6, 7, 8, 9]"
      ]
     },
     "execution_count": 4,
     "metadata": {},
     "output_type": "execute_result"
    }
   ],
   "source": [
    "list(range(3 ,10))# will give number list from 3 to 9"
   ]
  },
  {
   "cell_type": "code",
   "execution_count": 5,
   "id": "cc17611d-ee3f-4f23-acc1-0e80c7500277",
   "metadata": {},
   "outputs": [
    {
     "ename": "TypeError",
     "evalue": "'float' object cannot be interpreted as an integer",
     "output_type": "error",
     "traceback": [
      "\u001b[1;31m---------------------------------------------------------------------------\u001b[0m",
      "\u001b[1;31mTypeError\u001b[0m                                 Traceback (most recent call last)",
      "\u001b[1;32m~\\AppData\\Local\\Temp\\ipykernel_17012\\8546333.py\u001b[0m in \u001b[0;36m<module>\u001b[1;34m\u001b[0m\n\u001b[1;32m----> 1\u001b[1;33m \u001b[0mlist\u001b[0m\u001b[1;33m(\u001b[0m\u001b[0mrange\u001b[0m\u001b[1;33m(\u001b[0m\u001b[1;36m3\u001b[0m \u001b[1;33m,\u001b[0m\u001b[1;36m10.5\u001b[0m\u001b[1;33m)\u001b[0m\u001b[1;33m)\u001b[0m\u001b[1;33m\u001b[0m\u001b[1;33m\u001b[0m\u001b[0m\n\u001b[0m\u001b[0;32m      2\u001b[0m \u001b[1;33m\u001b[0m\u001b[0m\n\u001b[0;32m      3\u001b[0m \u001b[1;31m# Never use floating point elements while mentioning range\u001b[0m\u001b[1;33m\u001b[0m\u001b[1;33m\u001b[0m\u001b[0m\n",
      "\u001b[1;31mTypeError\u001b[0m: 'float' object cannot be interpreted as an integer"
     ]
    }
   ],
   "source": [
    "list(range(3 ,10.5))\n",
    "\n",
    "# Never use floating point elements while mentioning range"
   ]
  },
  {
   "cell_type": "markdown",
   "id": "bb66f4ea",
   "metadata": {},
   "source": [
    "# Generating Floating point numbers in a particular range"
   ]
  },
  {
   "cell_type": "code",
   "execution_count": 6,
   "id": "6568e437-8bfe-40be-b081-d21f89d654e5",
   "metadata": {},
   "outputs": [
    {
     "data": {
      "text/plain": [
       "array([0, 1, 2, 3, 4, 5, 6, 7, 8, 9])"
      ]
     },
     "execution_count": 6,
     "metadata": {},
     "output_type": "execute_result"
    }
   ],
   "source": [
    "np.arange(10)\n",
    "#arange is advanced version of range function"
   ]
  },
  {
   "cell_type": "code",
   "execution_count": 7,
   "id": "5181317e-34a5-4c76-8ae1-802beaa6e796",
   "metadata": {},
   "outputs": [
    {
     "data": {
      "text/plain": [
       "array([0.5, 1.5, 2.5, 3.5, 4.5, 5.5, 6.5, 7.5, 8.5, 9.5])"
      ]
     },
     "execution_count": 7,
     "metadata": {},
     "output_type": "execute_result"
    }
   ],
   "source": [
    "np.arange(.5 , 10)\n",
    "#numbers from 0.5 to 10, with equal interval"
   ]
  },
  {
   "cell_type": "code",
   "execution_count": 8,
   "id": "603dfdea-adde-43f2-8442-67eb9d36c1e6",
   "metadata": {},
   "outputs": [
    {
     "data": {
      "text/plain": [
       "array([ 5,  4,  3,  2,  1,  0, -1, -2, -3])"
      ]
     },
     "execution_count": 8,
     "metadata": {},
     "output_type": "execute_result"
    }
   ],
   "source": [
    "np.arange(5 ,-4, -1)\n",
    "# numbers 5 to -4(excluding -4) with equal interval of -1"
   ]
  },
  {
   "cell_type": "code",
   "execution_count": 9,
   "id": "8817d1da-8c6c-4cd5-8e2e-17d8fc18e554",
   "metadata": {},
   "outputs": [
    {
     "data": {
      "text/plain": [
       "array([ 5. ,  4.5,  4. ,  3.5,  3. ,  2.5,  2. ,  1.5,  1. ,  0.5,  0. ,\n",
       "       -0.5, -1. , -1.5, -2. , -2.5, -3. , -3.5])"
      ]
     },
     "execution_count": 9,
     "metadata": {},
     "output_type": "execute_result"
    }
   ],
   "source": [
    "np.arange(5 ,-4, -.5)\n",
    "# numbers 5 to -4(excluding -4) with equal interval of -0.5"
   ]
  },
  {
   "cell_type": "code",
   "execution_count": 10,
   "id": "8358f606-642b-4c80-b209-ce282f4c9b29",
   "metadata": {},
   "outputs": [
    {
     "data": {
      "text/plain": [
       "[array([1.        , 1.21052632, 1.42105263, 1.63157895, 1.84210526,\n",
       "        2.05263158, 2.26315789, 2.47368421, 2.68421053, 2.89473684,\n",
       "        3.10526316, 3.31578947, 3.52631579, 3.73684211, 3.94736842,\n",
       "        4.15789474, 4.36842105, 4.57894737, 4.78947368, 5.        ]),\n",
       " 0.21052631578947367]"
      ]
     },
     "execution_count": 10,
     "metadata": {},
     "output_type": "execute_result"
    }
   ],
   "source": [
    "list(np.linspace(1,5,20,retstep=True))\n",
    "# generates 20 datapoints in range 1 to 5"
   ]
  },
  {
   "cell_type": "code",
   "execution_count": 11,
   "id": "c72f8380-35e9-4a6b-8f1e-34459e9ce93a",
   "metadata": {},
   "outputs": [
    {
     "data": {
      "text/plain": [
       "array([1.00000000e+01, 2.78255940e+06, 7.74263683e+11, 2.15443469e+17,\n",
       "       5.99484250e+22, 1.66810054e+28, 4.64158883e+33, 1.29154967e+39,\n",
       "       3.59381366e+44, 1.00000000e+50])"
      ]
     },
     "execution_count": 11,
     "metadata": {},
     "output_type": "execute_result"
    }
   ],
   "source": [
    "np.logspace(1,50,10)\n",
    "# generates 10 log of datapoints(base -10) in range 1 to 50"
   ]
  },
  {
   "cell_type": "markdown",
   "id": "7c538846",
   "metadata": {},
   "source": [
    "# Generating Array having zeros"
   ]
  },
  {
   "cell_type": "code",
   "execution_count": 12,
   "id": "f7c28959-a428-4b41-9e79-4c87baf1c62a",
   "metadata": {},
   "outputs": [
    {
     "data": {
      "text/plain": [
       "array([0., 0., 0., 0., 0.])"
      ]
     },
     "execution_count": 12,
     "metadata": {},
     "output_type": "execute_result"
    }
   ],
   "source": [
    "# Making a 1D array of zeros\n",
    "np.zeros(5)"
   ]
  },
  {
   "cell_type": "code",
   "execution_count": 13,
   "id": "9a45cda7-8726-466b-815d-a45de01b36c9",
   "metadata": {},
   "outputs": [
    {
     "data": {
      "text/plain": [
       "array([[0., 0., 0., 0., 0.],\n",
       "       [0., 0., 0., 0., 0.],\n",
       "       [0., 0., 0., 0., 0.]])"
      ]
     },
     "execution_count": 13,
     "metadata": {},
     "output_type": "execute_result"
    }
   ],
   "source": [
    "np.zeros((3,5))"
   ]
  },
  {
   "cell_type": "code",
   "execution_count": 14,
   "id": "5b65cf0d-d977-4e57-a125-3ac7f0e0d81e",
   "metadata": {},
   "outputs": [
    {
     "data": {
      "text/plain": [
       "array([[[0., 0.],\n",
       "        [0., 0.],\n",
       "        [0., 0.],\n",
       "        [0., 0.],\n",
       "        [0., 0.]],\n",
       "\n",
       "       [[0., 0.],\n",
       "        [0., 0.],\n",
       "        [0., 0.],\n",
       "        [0., 0.],\n",
       "        [0., 0.]],\n",
       "\n",
       "       [[0., 0.],\n",
       "        [0., 0.],\n",
       "        [0., 0.],\n",
       "        [0., 0.],\n",
       "        [0., 0.]]])"
      ]
     },
     "execution_count": 14,
     "metadata": {},
     "output_type": "execute_result"
    }
   ],
   "source": [
    "np.zeros((3,5,2))"
   ]
  },
  {
   "cell_type": "markdown",
   "id": "6225deea",
   "metadata": {},
   "source": [
    "# Generating array having ones"
   ]
  },
  {
   "cell_type": "code",
   "execution_count": 15,
   "id": "9c95b291-d808-4a70-a842-631fe6709534",
   "metadata": {},
   "outputs": [
    {
     "data": {
      "text/plain": [
       "array([1., 1., 1., 1., 1.])"
      ]
     },
     "execution_count": 15,
     "metadata": {},
     "output_type": "execute_result"
    }
   ],
   "source": [
    "np.ones(5)"
   ]
  },
  {
   "cell_type": "code",
   "execution_count": 16,
   "id": "adf7e081-ac70-4691-9bd4-2c4557726d2b",
   "metadata": {},
   "outputs": [
    {
     "data": {
      "text/plain": [
       "array([[[1., 1.],\n",
       "        [1., 1.],\n",
       "        [1., 1.],\n",
       "        [1., 1.]],\n",
       "\n",
       "       [[1., 1.],\n",
       "        [1., 1.],\n",
       "        [1., 1.],\n",
       "        [1., 1.]],\n",
       "\n",
       "       [[1., 1.],\n",
       "        [1., 1.],\n",
       "        [1., 1.],\n",
       "        [1., 1.]]])"
      ]
     },
     "execution_count": 16,
     "metadata": {},
     "output_type": "execute_result"
    }
   ],
   "source": [
    "np.ones((3,4,2))"
   ]
  },
  {
   "cell_type": "code",
   "execution_count": 17,
   "id": "66ee7475",
   "metadata": {},
   "outputs": [
    {
     "data": {
      "text/plain": [
       "array([[[5., 5.],\n",
       "        [5., 5.],\n",
       "        [5., 5.],\n",
       "        [5., 5.]],\n",
       "\n",
       "       [[5., 5.],\n",
       "        [5., 5.],\n",
       "        [5., 5.],\n",
       "        [5., 5.]],\n",
       "\n",
       "       [[5., 5.],\n",
       "        [5., 5.],\n",
       "        [5., 5.],\n",
       "        [5., 5.]]])"
      ]
     },
     "execution_count": 17,
     "metadata": {},
     "output_type": "execute_result"
    }
   ],
   "source": [
    "np.ones((3,4,2))*5"
   ]
  },
  {
   "cell_type": "markdown",
   "id": "c05e5f44",
   "metadata": {},
   "source": [
    "# Making Empty Array"
   ]
  },
  {
   "cell_type": "code",
   "execution_count": 18,
   "id": "df207b55",
   "metadata": {},
   "outputs": [
    {
     "data": {
      "text/plain": [
       "array([[0., 0., 0.],\n",
       "       [0., 0., 0.]])"
      ]
     },
     "execution_count": 18,
     "metadata": {},
     "output_type": "execute_result"
    }
   ],
   "source": [
    "np.empty((2,3))"
   ]
  },
  {
   "cell_type": "markdown",
   "id": "127a542d",
   "metadata": {},
   "source": [
    "# Making Identity Matrix of dimension 4"
   ]
  },
  {
   "cell_type": "code",
   "execution_count": 19,
   "id": "58784092-9a64-480c-845b-a3c4c45ca845",
   "metadata": {},
   "outputs": [],
   "source": [
    "a = np.eye(4)"
   ]
  },
  {
   "cell_type": "code",
   "execution_count": 20,
   "id": "2ad775ac-0f00-4194-94df-0c647d8151ab",
   "metadata": {},
   "outputs": [
    {
     "data": {
      "text/plain": [
       "(4, 4)"
      ]
     },
     "execution_count": 20,
     "metadata": {},
     "output_type": "execute_result"
    }
   ],
   "source": [
    "a.shape"
   ]
  },
  {
   "cell_type": "code",
   "execution_count": 21,
   "id": "970ebb8d-585a-4410-a1ba-82201f1542d1",
   "metadata": {},
   "outputs": [
    {
     "data": {
      "text/plain": [
       "array([[1., 0., 0., 0.],\n",
       "       [0., 1., 0., 0.],\n",
       "       [0., 0., 1., 0.],\n",
       "       [0., 0., 0., 1.]])"
      ]
     },
     "execution_count": 21,
     "metadata": {},
     "output_type": "execute_result"
    }
   ],
   "source": [
    "a"
   ]
  },
  {
   "cell_type": "code",
   "execution_count": 22,
   "id": "e75a5683-3431-4f35-aa94-c59c7069c2d5",
   "metadata": {},
   "outputs": [
    {
     "data": {
      "text/plain": [
       "16"
      ]
     },
     "execution_count": 22,
     "metadata": {},
     "output_type": "execute_result"
    }
   ],
   "source": [
    "a.size"
   ]
  },
  {
   "cell_type": "code",
   "execution_count": 23,
   "id": "f62d13dc-25cc-4de1-9ec5-c85e4aa1a34e",
   "metadata": {},
   "outputs": [
    {
     "data": {
      "text/plain": [
       "2"
      ]
     },
     "execution_count": 23,
     "metadata": {},
     "output_type": "execute_result"
    }
   ],
   "source": [
    "a.ndim"
   ]
  },
  {
   "cell_type": "markdown",
   "id": "6a0b322d",
   "metadata": {},
   "source": [
    "# Make a matrix using random numbers"
   ]
  },
  {
   "cell_type": "code",
   "execution_count": 24,
   "id": "68f11878-09e1-49a8-b8fd-0be93c308eba",
   "metadata": {},
   "outputs": [],
   "source": [
    "a1 = np.random.randn(3,4)"
   ]
  },
  {
   "cell_type": "code",
   "execution_count": 25,
   "id": "57a25d56-aa8e-4e0b-b588-da0c7e256e06",
   "metadata": {},
   "outputs": [
    {
     "data": {
      "text/plain": [
       "array([[-1.11079282, -1.58488513,  1.83270074, -0.66310413],\n",
       "       [ 0.11601061,  1.77481002, -0.98580459,  1.18884926],\n",
       "       [ 1.67485449, -1.12107986,  0.71257819, -0.03732553]])"
      ]
     },
     "execution_count": 25,
     "metadata": {},
     "output_type": "execute_result"
    }
   ],
   "source": [
    "a1"
   ]
  },
  {
   "cell_type": "code",
   "execution_count": 26,
   "id": "69bfe3cf-5dcd-4d3c-a157-d8d111bd5c67",
   "metadata": {},
   "outputs": [],
   "source": [
    "import pandas as pd "
   ]
  },
  {
   "cell_type": "code",
   "execution_count": 27,
   "id": "9adc109b-e393-4315-9f98-1c7f429f98b8",
   "metadata": {},
   "outputs": [
    {
     "data": {
      "text/html": [
       "<div>\n",
       "<style scoped>\n",
       "    .dataframe tbody tr th:only-of-type {\n",
       "        vertical-align: middle;\n",
       "    }\n",
       "\n",
       "    .dataframe tbody tr th {\n",
       "        vertical-align: top;\n",
       "    }\n",
       "\n",
       "    .dataframe thead th {\n",
       "        text-align: right;\n",
       "    }\n",
       "</style>\n",
       "<table border=\"1\" class=\"dataframe\">\n",
       "  <thead>\n",
       "    <tr style=\"text-align: right;\">\n",
       "      <th></th>\n",
       "      <th>0</th>\n",
       "      <th>1</th>\n",
       "      <th>2</th>\n",
       "      <th>3</th>\n",
       "    </tr>\n",
       "  </thead>\n",
       "  <tbody>\n",
       "    <tr>\n",
       "      <th>0</th>\n",
       "      <td>-1.110793</td>\n",
       "      <td>-1.584885</td>\n",
       "      <td>1.832701</td>\n",
       "      <td>-0.663104</td>\n",
       "    </tr>\n",
       "    <tr>\n",
       "      <th>1</th>\n",
       "      <td>0.116011</td>\n",
       "      <td>1.774810</td>\n",
       "      <td>-0.985805</td>\n",
       "      <td>1.188849</td>\n",
       "    </tr>\n",
       "    <tr>\n",
       "      <th>2</th>\n",
       "      <td>1.674854</td>\n",
       "      <td>-1.121080</td>\n",
       "      <td>0.712578</td>\n",
       "      <td>-0.037326</td>\n",
       "    </tr>\n",
       "  </tbody>\n",
       "</table>\n",
       "</div>"
      ],
      "text/plain": [
       "          0         1         2         3\n",
       "0 -1.110793 -1.584885  1.832701 -0.663104\n",
       "1  0.116011  1.774810 -0.985805  1.188849\n",
       "2  1.674854 -1.121080  0.712578 -0.037326"
      ]
     },
     "execution_count": 27,
     "metadata": {},
     "output_type": "execute_result"
    }
   ],
   "source": [
    "pd.DataFrame(a1)"
   ]
  },
  {
   "cell_type": "markdown",
   "id": "0cfb03f8",
   "metadata": {},
   "source": [
    "# Elements & Parts of a matrix"
   ]
  },
  {
   "cell_type": "code",
   "execution_count": 28,
   "id": "aff60cf2-28b9-413d-a29f-0839b7ef7887",
   "metadata": {},
   "outputs": [
    {
     "data": {
      "text/plain": [
       "array([[-1.11079282, -1.58488513,  1.83270074, -0.66310413],\n",
       "       [ 0.11601061,  1.77481002, -0.98580459,  1.18884926],\n",
       "       [ 1.67485449, -1.12107986,  0.71257819, -0.03732553]])"
      ]
     },
     "execution_count": 28,
     "metadata": {},
     "output_type": "execute_result"
    }
   ],
   "source": [
    "a1"
   ]
  },
  {
   "cell_type": "code",
   "execution_count": 29,
   "id": "9fe7cde0-ad44-4a07-8c91-c8e16bac50de",
   "metadata": {},
   "outputs": [
    {
     "data": {
      "text/plain": [
       "1.7748100175903578"
      ]
     },
     "execution_count": 29,
     "metadata": {},
     "output_type": "execute_result"
    }
   ],
   "source": [
    "a1[1][1]"
   ]
  },
  {
   "cell_type": "code",
   "execution_count": 30,
   "id": "6391e14b-ce56-4765-aa5a-839e9c1ba04f",
   "metadata": {},
   "outputs": [
    {
     "data": {
      "text/plain": [
       "array([[-1.11079282, -1.58488513],\n",
       "       [ 0.11601061,  1.77481002]])"
      ]
     },
     "execution_count": 30,
     "metadata": {},
     "output_type": "execute_result"
    }
   ],
   "source": [
    "a1[0:2 , 0:2]"
   ]
  },
  {
   "cell_type": "code",
   "execution_count": 31,
   "id": "b64a28e3-de66-47bf-beb6-104fcdc1b530",
   "metadata": {},
   "outputs": [
    {
     "data": {
      "text/plain": [
       "array([[-1.11079282, -1.58488513],\n",
       "       [ 0.11601061,  1.77481002]])"
      ]
     },
     "execution_count": 31,
     "metadata": {},
     "output_type": "execute_result"
    }
   ],
   "source": [
    "a1[[0,1] , 0:2]"
   ]
  },
  {
   "cell_type": "code",
   "execution_count": 32,
   "id": "879654c5-5ca7-48ad-8844-ba2f6601fa51",
   "metadata": {},
   "outputs": [
    {
     "data": {
      "text/plain": [
       "array([[-1.11079282, -1.58488513],\n",
       "       [ 0.11601061,  1.77481002]])"
      ]
     },
     "execution_count": 32,
     "metadata": {},
     "output_type": "execute_result"
    }
   ],
   "source": [
    "a1[[0,1] ,0:2]"
   ]
  },
  {
   "cell_type": "code",
   "execution_count": 33,
   "id": "8fbe874d-af9f-4ec2-832d-315ac58ded30",
   "metadata": {},
   "outputs": [
    {
     "data": {
      "text/plain": [
       "array([[-1.11079282, -1.58488513,  1.83270074, -0.66310413],\n",
       "       [ 0.11601061,  1.77481002, -0.98580459,  1.18884926],\n",
       "       [ 1.67485449, -1.12107986,  0.71257819, -0.03732553]])"
      ]
     },
     "execution_count": 33,
     "metadata": {},
     "output_type": "execute_result"
    }
   ],
   "source": [
    "a1"
   ]
  },
  {
   "cell_type": "code",
   "execution_count": 34,
   "id": "2e539b56-4df5-4e58-a274-54f264ee0a1f",
   "metadata": {},
   "outputs": [
    {
     "data": {
      "text/plain": [
       "array([ 1.18884926, -0.03732553])"
      ]
     },
     "execution_count": 34,
     "metadata": {},
     "output_type": "execute_result"
    }
   ],
   "source": [
    "a1[[1,2],3]\n",
    "# 1st and 2nd row elements in 3rd column is extracted"
   ]
  },
  {
   "cell_type": "markdown",
   "id": "96452ac1",
   "metadata": {},
   "source": [
    "# Mathematical Operations on Matrices"
   ]
  },
  {
   "cell_type": "code",
   "execution_count": 35,
   "id": "a31943ec-43b2-4bc9-b278-131acaa8816e",
   "metadata": {},
   "outputs": [],
   "source": [
    "m1 = np.random.randint(1,3 , (3,3))"
   ]
  },
  {
   "cell_type": "code",
   "execution_count": 36,
   "id": "ba0ea113-4f30-4f44-b5e0-70060b79fa08",
   "metadata": {},
   "outputs": [
    {
     "data": {
      "text/plain": [
       "array([[2, 2, 1],\n",
       "       [2, 2, 2],\n",
       "       [2, 2, 2]])"
      ]
     },
     "execution_count": 36,
     "metadata": {},
     "output_type": "execute_result"
    }
   ],
   "source": [
    "m1"
   ]
  },
  {
   "cell_type": "code",
   "execution_count": 37,
   "id": "4a310420-f421-4a2f-a9c4-25ad3e87dda0",
   "metadata": {},
   "outputs": [],
   "source": [
    "m2 = np.random.randint(2,4 , (3,3))"
   ]
  },
  {
   "cell_type": "code",
   "execution_count": 38,
   "id": "eb526c27-ce1f-4672-905d-df1293de11e2",
   "metadata": {},
   "outputs": [
    {
     "data": {
      "text/plain": [
       "array([[2, 2, 2],\n",
       "       [3, 3, 3],\n",
       "       [2, 3, 2]])"
      ]
     },
     "execution_count": 38,
     "metadata": {},
     "output_type": "execute_result"
    }
   ],
   "source": [
    "m2"
   ]
  },
  {
   "cell_type": "code",
   "execution_count": 47,
   "id": "35705ff6",
   "metadata": {},
   "outputs": [
    {
     "data": {
      "text/plain": [
       "array([[4, 4, 3],\n",
       "       [5, 5, 5],\n",
       "       [4, 5, 4]])"
      ]
     },
     "execution_count": 47,
     "metadata": {},
     "output_type": "execute_result"
    }
   ],
   "source": [
    "# Addition\n",
    "m1+m2"
   ]
  },
  {
   "cell_type": "code",
   "execution_count": 39,
   "id": "157bcbc7-79bb-4046-b0f7-ba54d4df5aa6",
   "metadata": {},
   "outputs": [
    {
     "data": {
      "text/plain": [
       "array([[4, 4, 2],\n",
       "       [6, 6, 6],\n",
       "       [4, 6, 4]])"
      ]
     },
     "execution_count": 39,
     "metadata": {},
     "output_type": "execute_result"
    }
   ],
   "source": [
    "# Elementwise Multiplication\n",
    "m1*m2"
   ]
  },
  {
   "cell_type": "code",
   "execution_count": 40,
   "id": "abb34e13-4174-4728-856f-708ae2ccbcf2",
   "metadata": {},
   "outputs": [
    {
     "data": {
      "text/plain": [
       "array([[12, 13, 12],\n",
       "       [14, 16, 14],\n",
       "       [14, 16, 14]])"
      ]
     },
     "execution_count": 40,
     "metadata": {},
     "output_type": "execute_result"
    }
   ],
   "source": [
    "# matrix Multiplication\n",
    "m1@m2"
   ]
  },
  {
   "cell_type": "code",
   "execution_count": 41,
   "id": "1fe2d125-9d81-4f2d-bef1-df7b128bf02d",
   "metadata": {},
   "outputs": [
    {
     "data": {
      "text/plain": [
       "array([[2, 2, 1],\n",
       "       [2, 2, 2],\n",
       "       [2, 2, 2]])"
      ]
     },
     "execution_count": 41,
     "metadata": {},
     "output_type": "execute_result"
    }
   ],
   "source": [
    "m1"
   ]
  },
  {
   "cell_type": "code",
   "execution_count": 42,
   "id": "a31b4844-47b7-4d54-87f9-de8c449e06e8",
   "metadata": {},
   "outputs": [
    {
     "data": {
      "text/plain": [
       "array([[16, 16,  1],\n",
       "       [16, 16, 16],\n",
       "       [16, 16, 16]], dtype=int32)"
      ]
     },
     "execution_count": 42,
     "metadata": {},
     "output_type": "execute_result"
    }
   ],
   "source": [
    "# Taking power of each element in the matrix\n",
    "pow(m1 , 4)"
   ]
  },
  {
   "cell_type": "code",
   "execution_count": 43,
   "id": "320a3a11-8d53-4bc0-b9e0-8a299ee2a2b2",
   "metadata": {},
   "outputs": [
    {
     "data": {
      "text/plain": [
       "array([[1.41421356, 1.41421356, 1.        ],\n",
       "       [1.41421356, 1.41421356, 1.41421356],\n",
       "       [1.41421356, 1.41421356, 1.41421356]])"
      ]
     },
     "execution_count": 43,
     "metadata": {},
     "output_type": "execute_result"
    }
   ],
   "source": [
    "# Taking square rootof elemets in a matix\n",
    "np.sqrt(m1)"
   ]
  },
  {
   "cell_type": "code",
   "execution_count": 44,
   "id": "7290950f-2942-4714-b2d8-f83628ff2465",
   "metadata": {},
   "outputs": [
    {
     "data": {
      "text/plain": [
       "array([[0.30103, 0.30103, 0.     ],\n",
       "       [0.30103, 0.30103, 0.30103],\n",
       "       [0.30103, 0.30103, 0.30103]])"
      ]
     },
     "execution_count": 44,
     "metadata": {},
     "output_type": "execute_result"
    }
   ],
   "source": [
    "# Finding logarithmic of elements in a matrix\n",
    "np.log10(m1)"
   ]
  },
  {
   "cell_type": "code",
   "execution_count": 45,
   "id": "117cdc5d-e4fa-4ce7-96b5-111add6339c5",
   "metadata": {},
   "outputs": [
    {
     "data": {
      "text/plain": [
       "array([[7.3890561 , 7.3890561 , 2.71828183],\n",
       "       [7.3890561 , 7.3890561 , 7.3890561 ],\n",
       "       [7.3890561 , 7.3890561 , 7.3890561 ]])"
      ]
     },
     "execution_count": 45,
     "metadata": {},
     "output_type": "execute_result"
    }
   ],
   "source": [
    "# Taking exponential of elements in a matrix\n",
    "np.exp(m1)"
   ]
  },
  {
   "cell_type": "code",
   "execution_count": 46,
   "id": "e3b259db-da67-43b4-b9be-8ee35754ab89",
   "metadata": {},
   "outputs": [
    {
     "data": {
      "text/plain": [
       "array([[4, 4, 1],\n",
       "       [4, 4, 4],\n",
       "       [4, 4, 4]], dtype=int32)"
      ]
     },
     "execution_count": 46,
     "metadata": {},
     "output_type": "execute_result"
    }
   ],
   "source": [
    "# Taking square of every elemets in matrix\n",
    "m1**2\n"
   ]
  },
  {
   "cell_type": "code",
   "execution_count": null,
   "id": "5d4ebc88-aca9-4f08-a741-ac4dc05a61d3",
   "metadata": {},
   "outputs": [],
   "source": []
  }
 ],
 "metadata": {
  "kernelspec": {
   "display_name": "Python 3 (ipykernel)",
   "language": "python",
   "name": "python3"
  },
  "language_info": {
   "codemirror_mode": {
    "name": "ipython",
    "version": 3
   },
   "file_extension": ".py",
   "mimetype": "text/x-python",
   "name": "python",
   "nbconvert_exporter": "python",
   "pygments_lexer": "ipython3",
   "version": "3.9.13"
  }
 },
 "nbformat": 4,
 "nbformat_minor": 5
}
