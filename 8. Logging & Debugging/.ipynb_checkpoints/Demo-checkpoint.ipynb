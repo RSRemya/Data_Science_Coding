{
 "cells": [
  {
   "cell_type": "code",
   "execution_count": 5,
   "id": "38fa4fe3",
   "metadata": {},
   "outputs": [],
   "source": [
    "import logging\n",
    "\n",
    "logging.basicConfig(filename=\"demo.log\",level=logging.DEBUG,format='%(asctime)s - %(levelname)s - %(message)s')\n",
    "\n",
    "def name_check(name):\n",
    "    if len(name) < 2:\n",
    "        logging.debug(\"Checking for name length\")\n",
    "        return \"Invalid Name\"\n",
    "    \n",
    "    elif name.isspace():\n",
    "        logging.debug(\"Checking for space in name\")\n",
    "        return \"Invalid Name\"\n",
    "    \n",
    "    elif name.isalpha():\n",
    "        logging.debug(\"Checking for alphabets in name\")\n",
    "        return \"Valid Name\"\n",
    "    \n",
    "    elif name.replace(\" \",\"\").isaplha():\n",
    "        logging.debug(\"Checking for full name\")\n",
    "        return \"Valid Name\"\n",
    "    \n",
    "    else:\n",
    "        logging.debug('Failed all checks')\n",
    "        return \"Invalid Name\""
   ]
  },
  {
   "cell_type": "code",
   "execution_count": 6,
   "id": "a063c68b",
   "metadata": {},
   "outputs": [
    {
     "data": {
      "text/plain": [
       "'Valid Name'"
      ]
     },
     "execution_count": 6,
     "metadata": {},
     "output_type": "execute_result"
    }
   ],
   "source": [
    "name_check(\"Remya\")"
   ]
  },
  {
   "cell_type": "code",
   "execution_count": null,
   "id": "4c644fce",
   "metadata": {},
   "outputs": [],
   "source": []
  }
 ],
 "metadata": {
  "kernelspec": {
   "display_name": "Python 3 (ipykernel)",
   "language": "python",
   "name": "python3"
  },
  "language_info": {
   "codemirror_mode": {
    "name": "ipython",
    "version": 3
   },
   "file_extension": ".py",
   "mimetype": "text/x-python",
   "name": "python",
   "nbconvert_exporter": "python",
   "pygments_lexer": "ipython3",
   "version": "3.9.13"
  }
 },
 "nbformat": 4,
 "nbformat_minor": 5
}
