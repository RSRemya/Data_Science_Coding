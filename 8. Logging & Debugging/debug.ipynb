{
 "cells": [
  {
   "cell_type": "code",
   "execution_count": 1,
   "id": "9f9d738f",
   "metadata": {},
   "outputs": [],
   "source": [
    "import logging\n",
    "\n",
    "logging.basicConfig(filename=\"test1.log\",level=logging.DEBUG)\n",
    "\n",
    "def add(x,y):\n",
    "    return x+y\n",
    "\n",
    "def subtract(x,y):\n",
    "    return x-y\n",
    "\n",
    "def multiply(x,y):\n",
    "    return x*y\n",
    "\n",
    "def divide(x,y):\n",
    "    return x/y\n",
    "\n",
    "num_1 = 20\n",
    "num_2 = 10\n",
    "\n",
    "add_result = add(num_1,num_2)\n",
    "logging.debug(add_result)\n",
    "subtract_result = subtract(num_1,num_2)\n",
    "logging.debug(subtract_result)\n",
    "multiply_result = multiply(num_1,num_2)\n",
    "logging.debug(multiply_result)\n",
    "divide_result = divide(num_1,num_2)\n",
    "logging.debug(divide_result)"
   ]
  },
  {
   "cell_type": "code",
   "execution_count": 2,
   "id": "da8f5aef",
   "metadata": {},
   "outputs": [],
   "source": [
    "add_result = add(num_1,num_2)\n",
    "logging.info(add_result)\n",
    "subtract_result = subtract(num_1,num_2)\n",
    "logging.info(subtract_result)\n",
    "multiply_result = multiply(num_1,num_2)\n",
    "logging.info(multiply_result)\n",
    "divide_result = divide(num_1,num_2)\n",
    "logging.info(divide_result)"
   ]
  },
  {
   "cell_type": "code",
   "execution_count": 3,
   "id": "a4f854b9",
   "metadata": {},
   "outputs": [],
   "source": [
    "add_result = add(num_1,num_2)\n",
    "logging.warning(add_result)\n",
    "subtract_result = subtract(num_1,num_2)\n",
    "logging.warning(subtract_result)\n",
    "multiply_result = multiply(num_1,num_2)\n",
    "logging.warning(multiply_result)\n",
    "divide_result = divide(num_1,num_2)\n",
    "logging.warning(divide_result)"
   ]
  },
  {
   "cell_type": "code",
   "execution_count": 4,
   "id": "ec89ebd4",
   "metadata": {},
   "outputs": [],
   "source": [
    "add_result = add(num_1,num_2)\n",
    "logging.error(add_result)\n",
    "subtract_result = subtract(num_1,num_2)\n",
    "logging.error(subtract_result)\n",
    "multiply_result = multiply(num_1,num_2)\n",
    "logging.error(multiply_result)\n",
    "divide_result = divide(num_1,num_2)\n",
    "logging.error(divide_result)"
   ]
  },
  {
   "cell_type": "code",
   "execution_count": 5,
   "id": "19d4cab9",
   "metadata": {},
   "outputs": [],
   "source": [
    "add_result = add(num_1,num_2)\n",
    "logging.critical(add_result)\n",
    "subtract_result = subtract(num_1,num_2)\n",
    "logging.critical(subtract_result)\n",
    "multiply_result = multiply(num_1,num_2)\n",
    "logging.critical(multiply_result)\n",
    "divide_result = divide(num_1,num_2)\n",
    "logging.critical(divide_result)"
   ]
  },
  {
   "cell_type": "code",
   "execution_count": null,
   "id": "922a9242",
   "metadata": {},
   "outputs": [],
   "source": []
  },
  {
   "cell_type": "code",
   "execution_count": null,
   "id": "c078090e",
   "metadata": {},
   "outputs": [],
   "source": []
  },
  {
   "cell_type": "code",
   "execution_count": null,
   "id": "3d688f6c",
   "metadata": {},
   "outputs": [],
   "source": []
  }
 ],
 "metadata": {
  "kernelspec": {
   "display_name": "Python 3 (ipykernel)",
   "language": "python",
   "name": "python3"
  },
  "language_info": {
   "codemirror_mode": {
    "name": "ipython",
    "version": 3
   },
   "file_extension": ".py",
   "mimetype": "text/x-python",
   "name": "python",
   "nbconvert_exporter": "python",
   "pygments_lexer": "ipython3",
   "version": "3.9.13"
  }
 },
 "nbformat": 4,
 "nbformat_minor": 5
}
