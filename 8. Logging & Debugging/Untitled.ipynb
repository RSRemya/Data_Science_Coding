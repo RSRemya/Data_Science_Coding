{
 "cells": [
  {
   "cell_type": "code",
   "execution_count": 5,
   "id": "8b1ac964",
   "metadata": {},
   "outputs": [
    {
     "name": "stderr",
     "output_type": "stream",
     "text": [
      "2023-05-01 07:14:25,174 - __main__ - INFO - dividing 6 by 0 gives \n",
      "2023-05-01 07:14:25,174 - __main__ - INFO - dividing 6 by 0 gives \n",
      "2023-05-01 07:14:25,175 - __main__ - INFO - Zero division error\n",
      "2023-05-01 07:14:25,175 - __main__ - INFO - Zero division error\n"
     ]
    },
    {
     "name": "stdout",
     "output_type": "stream",
     "text": [
      "None\n"
     ]
    }
   ],
   "source": [
    "import logging\n",
    "\n",
    "#create a custom logger\n",
    "logger=logging.getLogger(__name__)\n",
    "\n",
    "handler = logging.StreamHandler()\n",
    "\n",
    "#create formaters and add those formatter to handlers\n",
    "formatter=logging.Formatter('%(asctime)s - %(name)s - %(levelname)s - %(message)s')\n",
    "\n",
    "#set formatters and add them to handlers\n",
    "handler.setFormatter(formatter)\n",
    "\n",
    "#Add handlers to logger, to handle logs\n",
    "logger.addHandler(handler)\n",
    "\n",
    "#set level\n",
    "logger.setLevel(logging.INFO)\n",
    "\n",
    "def divide(dividend,divisor):\n",
    "    try:\n",
    "        logger.info(f\"dividing {dividend} by {divisor} gives \")\n",
    "        return dividend/divisor\n",
    "    except ZeroDivisionError:\n",
    "        logger.info(\"Zero division error\")\n",
    "    \n",
    "print(divide(6,0))\n"
   ]
  },
  {
   "cell_type": "code",
   "execution_count": 6,
   "id": "453d2b2b",
   "metadata": {},
   "outputs": [
    {
     "name": "stderr",
     "output_type": "stream",
     "text": [
      "2023-05-01 07:14:45,282 - __main__ - INFO - dividing 6 by 2 gives \n",
      "2023-05-01 07:14:45,282 - __main__ - INFO - dividing 6 by 2 gives \n"
     ]
    },
    {
     "name": "stdout",
     "output_type": "stream",
     "text": [
      "3.0\n"
     ]
    }
   ],
   "source": [
    "print(divide(6,2))"
   ]
  },
  {
   "cell_type": "code",
   "execution_count": null,
   "id": "23b62953",
   "metadata": {},
   "outputs": [],
   "source": []
  }
 ],
 "metadata": {
  "kernelspec": {
   "display_name": "Python 3 (ipykernel)",
   "language": "python",
   "name": "python3"
  },
  "language_info": {
   "codemirror_mode": {
    "name": "ipython",
    "version": 3
   },
   "file_extension": ".py",
   "mimetype": "text/x-python",
   "name": "python",
   "nbconvert_exporter": "python",
   "pygments_lexer": "ipython3",
   "version": "3.9.13"
  }
 },
 "nbformat": 4,
 "nbformat_minor": 5
}
