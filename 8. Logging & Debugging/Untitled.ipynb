{
 "cells": [
  {
   "cell_type": "markdown",
   "id": "a7445ec8",
   "metadata": {},
   "source": [
    "# Create logger in your code"
   ]
  },
  {
   "cell_type": "markdown",
   "id": "df9c005b",
   "metadata": {},
   "source": [
    "1.Create one function which can take any number of input as an  argument, will be able to return sum\n",
    "\n",
    "2.Capture user input in log file\n",
    "\n",
    "3.Read log file from python code and show it in whole"
   ]
  },
  {
   "cell_type": "code",
   "execution_count": 1,
   "id": "4eee6c59",
   "metadata": {},
   "outputs": [],
   "source": [
    "import logging as lg\n",
    "\n",
    "lg.basicConfig(filename=\"num_added.log\",level=lg.DEBUG)\n",
    "\n",
    "def addition(*args):\n",
    "    lg.info(\"This numbers needed to be added together: \")\n",
    "    s=0\n",
    "    for i in args:\n",
    "        lg.info(str(i))\n",
    "        s=s+i\n",
    "    return s"
   ]
  },
  {
   "cell_type": "code",
   "execution_count": 3,
   "id": "1e86f7fb",
   "metadata": {},
   "outputs": [
    {
     "name": "stdout",
     "output_type": "stream",
     "text": [
      "INFO:root:This numbers needed to be added together: \n",
      "INFO:root:1\n",
      "INFO:root:2\n",
      "INFO:root:3\n",
      "INFO:root:4\n",
      "\n"
     ]
    },
    {
     "data": {
      "text/plain": [
       "10"
      ]
     },
     "execution_count": 3,
     "metadata": {},
     "output_type": "execute_result"
    }
   ],
   "source": [
    "f=open(\"num_added.log\",\"r\")     \n",
    "print(f.read())\n",
    "\n",
    "res = addition(1,2,3,4)\n",
    "res"
   ]
  },
  {
   "cell_type": "code",
   "execution_count": null,
   "id": "a1aa3710",
   "metadata": {},
   "outputs": [],
   "source": []
  }
 ],
 "metadata": {
  "kernelspec": {
   "display_name": "Python 3 (ipykernel)",
   "language": "python",
   "name": "python3"
  },
  "language_info": {
   "codemirror_mode": {
    "name": "ipython",
    "version": 3
   },
   "file_extension": ".py",
   "mimetype": "text/x-python",
   "name": "python",
   "nbconvert_exporter": "python",
   "pygments_lexer": "ipython3",
   "version": "3.9.13"
  }
 },
 "nbformat": 4,
 "nbformat_minor": 5
}
