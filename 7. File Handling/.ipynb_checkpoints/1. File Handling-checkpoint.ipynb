{
 "cells": [
  {
   "cell_type": "markdown",
   "id": "ebc3f752",
   "metadata": {},
   "source": [
    "# File Handling"
   ]
  },
  {
   "cell_type": "code",
   "execution_count": 1,
   "id": "4e379b45",
   "metadata": {},
   "outputs": [
    {
     "name": "stdout",
     "output_type": "stream",
     "text": [
      " Volume in drive C has no label.\n",
      " Volume Serial Number is F2B7-355B\n",
      "\n",
      " Directory of C:\\Users\\HP\\Data Science\\7. File Handling\n",
      "\n",
      "04/16/2023  08:04 PM    <DIR>          .\n",
      "04/16/2023  08:04 PM    <DIR>          ..\n",
      "04/16/2023  08:04 PM    <DIR>          .ipynb_checkpoints\n",
      "04/16/2023  08:04 PM            14,977 1. File Handling.ipynb\n",
      "               1 File(s)         14,977 bytes\n",
      "               3 Dir(s)  582,324,793,344 bytes free\n"
     ]
    }
   ],
   "source": [
    "#Checking present working directory via following code\n",
    "#Check all the files over there\n",
    "ls"
   ]
  },
  {
   "cell_type": "code",
   "execution_count": 2,
   "id": "50c53194",
   "metadata": {},
   "outputs": [
    {
     "data": {
      "text/plain": [
       "'C:\\\\Users\\\\HP\\\\Data Science\\\\7. File Handling'"
      ]
     },
     "execution_count": 2,
     "metadata": {},
     "output_type": "execute_result"
    }
   ],
   "source": [
    "#Check location of current file, onwhich we are working\n",
    "pwd()"
   ]
  },
  {
   "cell_type": "markdown",
   "id": "ad97253f",
   "metadata": {},
   "source": [
    "### Opening and Closing a File"
   ]
  },
  {
   "cell_type": "code",
   "execution_count": 3,
   "id": "9ef53a36",
   "metadata": {},
   "outputs": [],
   "source": [
    "#used to open file\n",
    "f=open(\"test.txt\")"
   ]
  },
  {
   "cell_type": "code",
   "execution_count": 4,
   "id": "75a38c8b",
   "metadata": {},
   "outputs": [
    {
     "data": {
      "text/plain": [
       "_io.TextIOWrapper"
      ]
     },
     "execution_count": 4,
     "metadata": {},
     "output_type": "execute_result"
    }
   ],
   "source": [
    "type(f)"
   ]
  },
  {
   "cell_type": "code",
   "execution_count": 5,
   "id": "1d4bcd33",
   "metadata": {},
   "outputs": [],
   "source": [
    "f.close()"
   ]
  },
  {
   "cell_type": "markdown",
   "id": "1dcb06a5",
   "metadata": {},
   "source": [
    "### Opening and Reading a File"
   ]
  },
  {
   "cell_type": "code",
   "execution_count": 6,
   "id": "2cd13cd7",
   "metadata": {},
   "outputs": [
    {
     "data": {
      "text/plain": [
       "'File Handling Operations'"
      ]
     },
     "execution_count": 6,
     "metadata": {},
     "output_type": "execute_result"
    }
   ],
   "source": [
    "f=open(\"test.txt\")\n",
    "\n",
    "f.read()"
   ]
  },
  {
   "cell_type": "code",
   "execution_count": 7,
   "id": "b7ddac95",
   "metadata": {},
   "outputs": [
    {
     "data": {
      "text/plain": [
       "'File Han'"
      ]
     },
     "execution_count": 7,
     "metadata": {},
     "output_type": "execute_result"
    }
   ],
   "source": [
    "f=open(\"test.txt\")\n",
    "f.read(8)"
   ]
  },
  {
   "cell_type": "markdown",
   "id": "ee85e0ba",
   "metadata": {},
   "source": [
    "### Cursor positions in a file"
   ]
  },
  {
   "cell_type": "code",
   "execution_count": 8,
   "id": "813ecbf8",
   "metadata": {},
   "outputs": [
    {
     "data": {
      "text/plain": [
       "8"
      ]
     },
     "execution_count": 8,
     "metadata": {},
     "output_type": "execute_result"
    }
   ],
   "source": [
    "# To get current cursor position\n",
    "f.tell()"
   ]
  },
  {
   "cell_type": "code",
   "execution_count": 9,
   "id": "73e374a0",
   "metadata": {},
   "outputs": [
    {
     "data": {
      "text/plain": [
       "0"
      ]
     },
     "execution_count": 9,
     "metadata": {},
     "output_type": "execute_result"
    }
   ],
   "source": [
    "# To change the cursor position use seek function\n",
    "f.seek(0)"
   ]
  },
  {
   "cell_type": "code",
   "execution_count": 10,
   "id": "6a66bb46",
   "metadata": {},
   "outputs": [
    {
     "data": {
      "text/plain": [
       "0"
      ]
     },
     "execution_count": 10,
     "metadata": {},
     "output_type": "execute_result"
    }
   ],
   "source": [
    "f.tell()"
   ]
  },
  {
   "cell_type": "code",
   "execution_count": 11,
   "id": "eeb998a2",
   "metadata": {},
   "outputs": [
    {
     "data": {
      "text/plain": [
       "5"
      ]
     },
     "execution_count": 11,
     "metadata": {},
     "output_type": "execute_result"
    }
   ],
   "source": [
    "f.seek(5)"
   ]
  },
  {
   "cell_type": "code",
   "execution_count": 12,
   "id": "70adc5c6",
   "metadata": {},
   "outputs": [
    {
     "data": {
      "text/plain": [
       "5"
      ]
     },
     "execution_count": 12,
     "metadata": {},
     "output_type": "execute_result"
    }
   ],
   "source": [
    "f.tell()"
   ]
  },
  {
   "cell_type": "code",
   "execution_count": 13,
   "id": "639876d7",
   "metadata": {},
   "outputs": [
    {
     "data": {
      "text/plain": [
       "['Handling Operations']"
      ]
     },
     "execution_count": 13,
     "metadata": {},
     "output_type": "execute_result"
    }
   ],
   "source": [
    "f.readlines()"
   ]
  },
  {
   "cell_type": "code",
   "execution_count": 14,
   "id": "813e7857",
   "metadata": {},
   "outputs": [],
   "source": [
    "# r open a filefor readding\n",
    "# w opens a file for writing and creates a new file if its does not exits or tructaes the file if exitss\n",
    "# x opens a file for exclustive creation if the file already exits operations\n",
    "# a open a file for appending at the end of file\n",
    "# + oepns a file for updating (reading a dwriting)\n",
    "\n",
    "# r and + will only open a file--> r for reafing, + for reading and writing\n",
    "\n",
    "# w, x, a will create a new file"
   ]
  },
  {
   "cell_type": "markdown",
   "id": "d1043b9c",
   "metadata": {},
   "source": [
    "### Creating a file & writing within it"
   ]
  },
  {
   "cell_type": "code",
   "execution_count": 15,
   "id": "1c97d584",
   "metadata": {},
   "outputs": [
    {
     "name": "stdout",
     "output_type": "stream",
     "text": [
      "done\n"
     ]
    }
   ],
   "source": [
    "data=\"First file created via code\"\n",
    "f=open(\"test1.txt\",'w')\n",
    "f.write(data)\n",
    "print(\"done\")\n",
    "f.close()"
   ]
  },
  {
   "cell_type": "code",
   "execution_count": 16,
   "id": "fc306491",
   "metadata": {},
   "outputs": [],
   "source": [
    "# Checking the file"
   ]
  },
  {
   "cell_type": "code",
   "execution_count": 17,
   "id": "3e29b817",
   "metadata": {},
   "outputs": [
    {
     "data": {
      "text/plain": [
       "'First file created via code'"
      ]
     },
     "execution_count": 17,
     "metadata": {},
     "output_type": "execute_result"
    }
   ],
   "source": [
    "f=open(\"test1.txt\")\n",
    "f.read()"
   ]
  },
  {
   "cell_type": "code",
   "execution_count": 18,
   "id": "55384df3",
   "metadata": {},
   "outputs": [],
   "source": [
    "try:\n",
    "    f=open(\"test.txt\")\n",
    "finally:\n",
    "    f.close()"
   ]
  },
  {
   "cell_type": "code",
   "execution_count": 19,
   "id": "0666c07a",
   "metadata": {},
   "outputs": [],
   "source": [
    "f=open(\"test.txt\")\n",
    "\n",
    "with open(\"test.txt\") as f:\n",
    "    #file operation\n",
    "    f.read()\n",
    "    pass"
   ]
  },
  {
   "cell_type": "markdown",
   "id": "ba31a8d7",
   "metadata": {},
   "source": [
    "### Creating, opening & Closing a file using with statement"
   ]
  },
  {
   "cell_type": "code",
   "execution_count": 20,
   "id": "ffbedd32",
   "metadata": {},
   "outputs": [],
   "source": [
    "# we need to close a file after reading and writing it, its the standard practice that one should follow\n",
    "# This closing procedure is automatically done in with statement, no need to close the file separately\n",
    "\n",
    "with open(\"test2.txt\",'w') as f:\n",
    "    f.write(\"first line\\n\")\n",
    "    f.write(\"second line\\n\")\n",
    "    f.write(\"third line\\n\")\n",
    "    f.write(\"fourth line\\n\")"
   ]
  },
  {
   "cell_type": "markdown",
   "id": "5b71cda1",
   "metadata": {},
   "source": [
    "### Opening a file and reading its lines"
   ]
  },
  {
   "cell_type": "code",
   "execution_count": 21,
   "id": "3a1a5416",
   "metadata": {},
   "outputs": [
    {
     "data": {
      "text/plain": [
       "['first line\\n']"
      ]
     },
     "execution_count": 21,
     "metadata": {},
     "output_type": "execute_result"
    }
   ],
   "source": [
    "f=open(\"test2.txt\")\n",
    "\n",
    "f.readlines(1)"
   ]
  },
  {
   "cell_type": "code",
   "execution_count": 22,
   "id": "df08450b",
   "metadata": {},
   "outputs": [
    {
     "data": {
      "text/plain": [
       "['second line\\n']"
      ]
     },
     "execution_count": 22,
     "metadata": {},
     "output_type": "execute_result"
    }
   ],
   "source": [
    "f.readlines(2)"
   ]
  },
  {
   "cell_type": "code",
   "execution_count": 23,
   "id": "4d5105ed",
   "metadata": {},
   "outputs": [
    {
     "data": {
      "text/plain": [
       "['third line\\n']"
      ]
     },
     "execution_count": 23,
     "metadata": {},
     "output_type": "execute_result"
    }
   ],
   "source": [
    "f.readlines(3)"
   ]
  },
  {
   "cell_type": "code",
   "execution_count": 24,
   "id": "3ffe6239",
   "metadata": {},
   "outputs": [
    {
     "data": {
      "text/plain": [
       "['fourth line\\n']"
      ]
     },
     "execution_count": 24,
     "metadata": {},
     "output_type": "execute_result"
    }
   ],
   "source": [
    "f.readlines(4)"
   ]
  },
  {
   "cell_type": "code",
   "execution_count": 25,
   "id": "4092a4a2",
   "metadata": {},
   "outputs": [],
   "source": [
    "f=open(\"new.txt\",'x')\n",
    "\n",
    "# when first time this statement is executed, it will create new.txt in the location where this file is\n",
    "# when this code is executed second time or more error got generated : FileExistsError\n",
    "# Because x means opens a file for exclustive creation if the file already exits operations"
   ]
  },
  {
   "cell_type": "code",
   "execution_count": 27,
   "id": "b975338e",
   "metadata": {},
   "outputs": [
    {
     "ename": "FileExistsError",
     "evalue": "[Errno 17] File exists: 'new.txt'",
     "output_type": "error",
     "traceback": [
      "\u001b[1;31m---------------------------------------------------------------------------\u001b[0m",
      "\u001b[1;31mFileExistsError\u001b[0m                           Traceback (most recent call last)",
      "\u001b[1;32m~\\AppData\\Local\\Temp\\ipykernel_9684\\4053113092.py\u001b[0m in \u001b[0;36m<module>\u001b[1;34m\u001b[0m\n\u001b[1;32m----> 1\u001b[1;33m \u001b[0mf\u001b[0m\u001b[1;33m=\u001b[0m\u001b[0mopen\u001b[0m\u001b[1;33m(\u001b[0m\u001b[1;34m\"new.txt\"\u001b[0m\u001b[1;33m,\u001b[0m\u001b[1;34m'x'\u001b[0m\u001b[1;33m)\u001b[0m\u001b[1;33m\u001b[0m\u001b[1;33m\u001b[0m\u001b[0m\n\u001b[0m",
      "\u001b[1;31mFileExistsError\u001b[0m: [Errno 17] File exists: 'new.txt'"
     ]
    }
   ],
   "source": [
    "f=open(\"new.txt\",'x')"
   ]
  },
  {
   "cell_type": "code",
   "execution_count": 26,
   "id": "8fc4a3a3",
   "metadata": {},
   "outputs": [
    {
     "name": "stdout",
     "output_type": "stream",
     "text": [
      "enter the first number6\n",
      "enter the second number0\n",
      "there is some issue with my code division by zero\n",
      "Error Found is : division by zero\n"
     ]
    }
   ],
   "source": [
    "try:\n",
    "    a=int(input(\"enter the first number\"))\n",
    "    b=int(input(\"enter the second number\"))\n",
    "    c=a/b\n",
    "except ArithmeticError as e:\n",
    "    print(\"there is some issue with my code\", e)\n",
    "    f=open(\"error5.txt\",'w+')\n",
    "    f.write(\"Error Found is : \")\n",
    "    f.write(str(e))\n",
    "    # above three statements will create an erro.txt file with statement : Error Found is : division by zero\n",
    "    f.seek(0)\n",
    "    print(f.read())\n",
    "else:\n",
    "    print(\"No error generated\")\n",
    "    print(\"Result\")\n",
    "    try:\n",
    "        f= open(\"test3.txt\",'w')\n",
    "    except:\n",
    "        print(\"this is and issue with try block\")"
   ]
  },
  {
   "cell_type": "code",
   "execution_count": null,
   "id": "523cc985",
   "metadata": {},
   "outputs": [],
   "source": []
  },
  {
   "cell_type": "code",
   "execution_count": null,
   "id": "bdb69de7",
   "metadata": {},
   "outputs": [],
   "source": []
  },
  {
   "cell_type": "code",
   "execution_count": null,
   "id": "01440102",
   "metadata": {},
   "outputs": [],
   "source": []
  }
 ],
 "metadata": {
  "kernelspec": {
   "display_name": "Python 3 (ipykernel)",
   "language": "python",
   "name": "python3"
  },
  "language_info": {
   "codemirror_mode": {
    "name": "ipython",
    "version": 3
   },
   "file_extension": ".py",
   "mimetype": "text/x-python",
   "name": "python",
   "nbconvert_exporter": "python",
   "pygments_lexer": "ipython3",
   "version": "3.9.13"
  }
 },
 "nbformat": 4,
 "nbformat_minor": 5
}
