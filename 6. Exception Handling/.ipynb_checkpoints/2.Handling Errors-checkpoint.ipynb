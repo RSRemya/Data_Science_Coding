{
 "cells": [
  {
   "cell_type": "markdown",
   "id": "4db8b56a",
   "metadata": {},
   "source": [
    "# Handling Errors"
   ]
  },
  {
   "cell_type": "markdown",
   "id": "aa62d42b",
   "metadata": {},
   "source": [
    "Importance of Handling Errors:\n",
    "    \n",
    "    -> Prevents program from crashing if an error occurs \n",
    "    -> Saves time debugging errors"
   ]
  },
  {
   "cell_type": "raw",
   "id": "7b8f6f94",
   "metadata": {},
   "source": [
    "try:\n",
    "    Error prone block to be executed\n",
    "except:\n",
    "    Block that will execute when exception is detected\n",
    "else:\n",
    "    This code excecutes when exception is not detected\n",
    "finally:\n",
    "    This code gets executed either exception is generated or not\n",
    "\n"
   ]
  },
  {
   "cell_type": "markdown",
   "id": "ba09bb2a",
   "metadata": {},
   "source": [
    "### Handling Errors Manually \n",
    "\n",
    "We can handle errors by the Try/Except/Finally method. \n",
    "\n",
    "We write unsafe code in the try & in except -> error handling code is mentioned."
   ]
  },
  {
   "cell_type": "code",
   "execution_count": 10,
   "id": "645302cf",
   "metadata": {},
   "outputs": [
    {
     "name": "stdout",
     "output_type": "stream",
     "text": [
      "4\n",
      "5\n",
      "6\n",
      "7\n",
      "8\n",
      "9\n",
      "9\n",
      "At this point its not working\n"
     ]
    }
   ],
   "source": [
    "# Handling index  error\n",
    "\n",
    "l=[4,5,6,7,8,9,9]\n",
    "\n",
    "try:\n",
    "    for i in range(len(l)+1):\n",
    "        print(l[i])\n",
    "except:\n",
    "    print(\"At this point its not working\")\n",
    "    \n",
    "else:\n",
    "    print(\"No error found\")"
   ]
  },
  {
   "cell_type": "code",
   "execution_count": 11,
   "id": "8b3c77ff",
   "metadata": {},
   "outputs": [
    {
     "name": "stdout",
     "output_type": "stream",
     "text": [
      "Enter a numerator for division : 7\n",
      "Enter a denominator for division : 9\n",
      "Answer :  0.7777777777777778\n",
      "No error found\n"
     ]
    }
   ],
   "source": [
    "# Handling divided by zero error\n",
    "\n",
    "try:\n",
    "    a=int(input(\"Enter a numerator for division : \"))\n",
    "    b=int(input(\"Enter a denominator for division : \"))\n",
    "    c=a/b\n",
    "    print(\"Answer : \", c)\n",
    "except:\n",
    "    print(\"Error occured, check inputs\")\n",
    "else:\n",
    "    print(\"No error found\")"
   ]
  },
  {
   "cell_type": "code",
   "execution_count": 79,
   "id": "0a315d7b",
   "metadata": {},
   "outputs": [
    {
     "name": "stdout",
     "output_type": "stream",
     "text": [
      "Enter a numerator for division : t\n",
      "Entered value is wrong\n"
     ]
    }
   ],
   "source": [
    "#Handling above more specifically\n",
    "\n",
    "try:\n",
    "    a=int(input(\"Enter a numerator for division : \"))\n",
    "    b=int(input(\"Enter a denominator for division : \"))\n",
    "    c=a/b\n",
    "    print(\"Answer is : \",c)\n",
    "except ValueError:\n",
    "    print(\"Entered value is wrong\")\n",
    "except ZeroDivisionError:\n",
    "    print(\"cannt divide by zero\")\n",
    "else:\n",
    "    print(\"No error found\")"
   ]
  },
  {
   "cell_type": "markdown",
   "id": "9b1f05c3",
   "metadata": {},
   "source": [
    "### Handling Errors when we don't know what error may occur\n",
    "\n",
    "Use Exception keyword along except block as follows"
   ]
  },
  {
   "cell_type": "code",
   "execution_count": 16,
   "id": "ac09b235",
   "metadata": {},
   "outputs": [
    {
     "name": "stdout",
     "output_type": "stream",
     "text": [
      "Enter a numerator for division : 7\n",
      "Enter a denominator for division : u\n",
      "invalid literal for int() with base 10: 'u'\n"
     ]
    }
   ],
   "source": [
    "try:\n",
    "    a=int(input(\"Enter a numerator for division : \"))\n",
    "    b=int(input(\"Enter a denominator for division : \"))\n",
    "    c=a/b\n",
    "    print(c)\n",
    "except Exception as e:\n",
    "    print(e)\n",
    "else:\n",
    "    print(\"No error found\")"
   ]
  },
  {
   "cell_type": "code",
   "execution_count": 5,
   "id": "976dc1fb",
   "metadata": {},
   "outputs": [
    {
     "name": "stdout",
     "output_type": "stream",
     "text": [
      "4\n",
      "5\n",
      "6\n",
      "7\n",
      "8\n",
      "9\n",
      "9\n",
      "list index out of range\n"
     ]
    }
   ],
   "source": [
    "l=[4,5,6,7,8,9,9]\n",
    "\n",
    "try:\n",
    "    for i in range(len(l)+1):\n",
    "        print(l[i])\n",
    "except Exception as e:\n",
    "    print(e)"
   ]
  },
  {
   "cell_type": "raw",
   "id": "735d7b73",
   "metadata": {},
   "source": [
    "Another way of handling errors when we don't know, what error may occur"
   ]
  },
  {
   "cell_type": "code",
   "execution_count": 17,
   "id": "1fe256e7",
   "metadata": {},
   "outputs": [
    {
     "name": "stdout",
     "output_type": "stream",
     "text": [
      "The entry is a\n",
      "oops <class 'ValueError'> occured\n",
      "code got executed successfully\n",
      "The entry is 0\n",
      "oops <class 'ZeroDivisionError'> occured\n",
      "code got executed successfully\n",
      "The entry is 7\n",
      "The reciprocal list is 0.14285714285714285\n",
      "No error occured\n",
      "code got executed successfully\n",
      "The entry is 9\n",
      "The reciprocal list is 0.1111111111111111\n",
      "No error occured\n",
      "code got executed successfully\n",
      "The entry is t\n",
      "oops <class 'ValueError'> occured\n",
      "code got executed successfully\n"
     ]
    }
   ],
   "source": [
    "import sys\n",
    "\n",
    "randomList=['a',0,7,9,'t']\n",
    "\n",
    "\n",
    "for i in randomList:\n",
    "                 \n",
    "    try:\n",
    "        print(\"The entry is\",i)\n",
    "        r=1/int(i)\n",
    "        print(\"The reciprocal list is\", r)\n",
    "        #break\n",
    "    except:\n",
    "        print(\"oops\",sys.exc_info()[0],\"occured\")   \n",
    "    else:\n",
    "        print(\"No error occured\")\n",
    "    finally:\n",
    "        print(\"code got executed successfully\")\n",
    "\n",
    "        \n",
    "    "
   ]
  },
  {
   "cell_type": "markdown",
   "id": "2619fcd8",
   "metadata": {},
   "source": [
    "### Making user defined function with exception handling facility"
   ]
  },
  {
   "cell_type": "code",
   "execution_count": 30,
   "id": "2dbb0f33",
   "metadata": {},
   "outputs": [],
   "source": [
    "def divide(x,y):\n",
    "    try:\n",
    "        return x/y\n",
    "    except Exception as e:\n",
    "        print(e)\n"
   ]
  },
  {
   "cell_type": "code",
   "execution_count": 31,
   "id": "8af010ce",
   "metadata": {},
   "outputs": [
    {
     "name": "stdout",
     "output_type": "stream",
     "text": [
      "division by zero\n"
     ]
    }
   ],
   "source": [
    "divide(7,0)"
   ]
  },
  {
   "cell_type": "code",
   "execution_count": 32,
   "id": "c2509ffb",
   "metadata": {},
   "outputs": [
    {
     "data": {
      "text/plain": [
       "0.3333333333333333"
      ]
     },
     "execution_count": 32,
     "metadata": {},
     "output_type": "execute_result"
    }
   ],
   "source": [
    "divide(2,6)"
   ]
  },
  {
   "cell_type": "code",
   "execution_count": 33,
   "id": "6524ef59",
   "metadata": {},
   "outputs": [
    {
     "name": "stdout",
     "output_type": "stream",
     "text": [
      "unsupported operand type(s) for /: 'str' and 'int'\n"
     ]
    }
   ],
   "source": [
    "divide('a',8)"
   ]
  },
  {
   "cell_type": "markdown",
   "id": "fd9a106d",
   "metadata": {},
   "source": [
    "### Nested try except blocks"
   ]
  },
  {
   "cell_type": "code",
   "execution_count": 82,
   "id": "d605bd23",
   "metadata": {},
   "outputs": [
    {
     "name": "stdout",
     "output_type": "stream",
     "text": [
      "check inputs, they are not integer\n"
     ]
    }
   ],
   "source": [
    "a='7'\n",
    "b=0\n",
    "try:\n",
    "    try:\n",
    "        print(a/b)\n",
    "    except TypeError:\n",
    "        print(\"check inputs, they are not integer\")\n",
    "except ZeroDivisionError:\n",
    "    print(\"division by zero is prohibitted\")"
   ]
  },
  {
   "cell_type": "code",
   "execution_count": null,
   "id": "76216391",
   "metadata": {},
   "outputs": [],
   "source": []
  }
 ],
 "metadata": {
  "kernelspec": {
   "display_name": "Python 3 (ipykernel)",
   "language": "python",
   "name": "python3"
  },
  "language_info": {
   "codemirror_mode": {
    "name": "ipython",
    "version": 3
   },
   "file_extension": ".py",
   "mimetype": "text/x-python",
   "name": "python",
   "nbconvert_exporter": "python",
   "pygments_lexer": "ipython3",
   "version": "3.9.13"
  }
 },
 "nbformat": 4,
 "nbformat_minor": 5
}
