{
 "cells": [
  {
   "cell_type": "code",
   "execution_count": 1,
   "id": "81525329",
   "metadata": {},
   "outputs": [
    {
     "data": {
      "text/plain": [
       "'python'"
      ]
     },
     "execution_count": 1,
     "metadata": {},
     "output_type": "execute_result"
    }
   ],
   "source": [
    "\"python\""
   ]
  },
  {
   "cell_type": "code",
   "execution_count": 2,
   "id": "01bb6a34",
   "metadata": {},
   "outputs": [
    {
     "name": "stdout",
     "output_type": "stream",
     "text": [
      "python\n"
     ]
    }
   ],
   "source": [
    "print(\"python\")"
   ]
  },
  {
   "cell_type": "code",
   "execution_count": 3,
   "id": "5edb8f6c",
   "metadata": {},
   "outputs": [
    {
     "name": "stdout",
     "output_type": "stream",
     "text": [
      "this is class of : \"python\" \n"
     ]
    }
   ],
   "source": [
    "print('this is class of : \"python\" ')"
   ]
  },
  {
   "cell_type": "code",
   "execution_count": 4,
   "id": "5189afe1",
   "metadata": {},
   "outputs": [
    {
     "name": "stdout",
     "output_type": "stream",
     "text": [
      "this is class of : 'python' \n"
     ]
    }
   ],
   "source": [
    "print(\"this is class of : 'python' \")"
   ]
  },
  {
   "cell_type": "code",
   "execution_count": 5,
   "id": "8541e4e5",
   "metadata": {},
   "outputs": [
    {
     "name": "stdout",
     "output_type": "stream",
     "text": [
      " this is class of : \"python\" \n"
     ]
    }
   ],
   "source": [
    "print(''' this is class of : \"python\" ''')"
   ]
  },
  {
   "cell_type": "code",
   "execution_count": 6,
   "id": "b9f462ae",
   "metadata": {},
   "outputs": [
    {
     "name": "stdout",
     "output_type": "stream",
     "text": [
      " this is class of : 'python' \n"
     ]
    }
   ],
   "source": [
    "print(''' this is class of : 'python' ''')"
   ]
  },
  {
   "cell_type": "code",
   "execution_count": 7,
   "id": "0beeccc9",
   "metadata": {},
   "outputs": [
    {
     "ename": "SyntaxError",
     "evalue": "EOL while scanning string literal (2919635500.py, line 1)",
     "output_type": "error",
     "traceback": [
      "\u001b[1;36m  File \u001b[1;32m\"C:\\Users\\HP\\AppData\\Local\\Temp\\ipykernel_12804\\2919635500.py\"\u001b[1;36m, line \u001b[1;32m1\u001b[0m\n\u001b[1;33m    print(\"The class\u001b[0m\n\u001b[1;37m                     ^\u001b[0m\n\u001b[1;31mSyntaxError\u001b[0m\u001b[1;31m:\u001b[0m EOL while scanning string literal\n"
     ]
    }
   ],
   "source": [
    "print(\"The class \n",
    "      of \n",
    "      python basics\") #never apply double quotes for multiple lines"
   ]
  },
  {
   "cell_type": "code",
   "execution_count": 8,
   "id": "dcd6e10d",
   "metadata": {},
   "outputs": [
    {
     "name": "stdout",
     "output_type": "stream",
     "text": [
      " The class \n",
      "      of \n",
      "      python basics\n"
     ]
    }
   ],
   "source": [
    "print(''' The class \n",
    "      of \n",
    "      python basics''')"
   ]
  },
  {
   "cell_type": "code",
   "execution_count": 9,
   "id": "999eae90",
   "metadata": {},
   "outputs": [
    {
     "data": {
      "text/plain": [
       "'fsdhfoasdfg\\ndsfhladsjflkds\\ndsfjdshfjds'"
      ]
     },
     "execution_count": 9,
     "metadata": {},
     "output_type": "execute_result"
    }
   ],
   "source": [
    "#Multiline commenting\n",
    "'''fsdhfoasdfg\n",
    "dsfhladsjflkds\n",
    "dsfjdshfjds'''"
   ]
  },
  {
   "cell_type": "code",
   "execution_count": 10,
   "id": "141c3b63",
   "metadata": {},
   "outputs": [
    {
     "name": "stdout",
     "output_type": "stream",
     "text": [
      "The rating of xyz shop is : 5\n"
     ]
    }
   ],
   "source": [
    "A = 5\n",
    "\n",
    "print(\"The rating of xyz shop is :\", A)"
   ]
  },
  {
   "cell_type": "code",
   "execution_count": 11,
   "id": "cede5e10",
   "metadata": {},
   "outputs": [
    {
     "name": "stdout",
     "output_type": "stream",
     "text": [
      "The rating of xyz shop is : 5\n"
     ]
    }
   ],
   "source": [
    "print(f\"The rating of xyz shop is : {A}\")"
   ]
  },
  {
   "cell_type": "code",
   "execution_count": 12,
   "id": "733d3aaf",
   "metadata": {},
   "outputs": [
    {
     "name": "stdout",
     "output_type": "stream",
     "text": [
      "Score of team A is 6, they can win the match\n"
     ]
    }
   ],
   "source": [
    "B = 6\n",
    "print(f\"Score of team A is {B}, they can win the match\")"
   ]
  },
  {
   "cell_type": "code",
   "execution_count": 13,
   "id": "95840ebc",
   "metadata": {},
   "outputs": [
    {
     "name": "stdout",
     "output_type": "stream",
     "text": [
      "The rating of xyz shop is : 5\n"
     ]
    }
   ],
   "source": [
    "print(\"The rating of xyz shop is : {}\".format(A))"
   ]
  },
  {
   "cell_type": "code",
   "execution_count": 14,
   "id": "8ae1a433",
   "metadata": {},
   "outputs": [
    {
     "name": "stdout",
     "output_type": "stream",
     "text": [
      "Enter a number :4\n"
     ]
    },
    {
     "data": {
      "text/plain": [
       "str"
      ]
     },
     "execution_count": 14,
     "metadata": {},
     "output_type": "execute_result"
    }
   ],
   "source": [
    "B = input(\"Enter a number :\")\n",
    "type(B)"
   ]
  },
  {
   "cell_type": "code",
   "execution_count": 15,
   "id": "f43a27d5",
   "metadata": {},
   "outputs": [
    {
     "name": "stdout",
     "output_type": "stream",
     "text": [
      "Enter a number :2\n"
     ]
    },
    {
     "data": {
      "text/plain": [
       "int"
      ]
     },
     "execution_count": 15,
     "metadata": {},
     "output_type": "execute_result"
    }
   ],
   "source": [
    "B = int(input(\"Enter a number :\"))\n",
    "type(B)"
   ]
  },
  {
   "cell_type": "code",
   "execution_count": 16,
   "id": "9ef90242",
   "metadata": {},
   "outputs": [
    {
     "name": "stdout",
     "output_type": "stream",
     "text": [
      "Class starts at :4\n",
      "Student entered at :5\n"
     ]
    }
   ],
   "source": [
    "X = int(input(\"Class starts at :\"))\n",
    "y = int(input(\"Student entered at :\"))"
   ]
  },
  {
   "cell_type": "code",
   "execution_count": 17,
   "id": "7c33aac9",
   "metadata": {},
   "outputs": [],
   "source": [
    "student_understood = y<=X"
   ]
  },
  {
   "cell_type": "code",
   "execution_count": 18,
   "id": "fd81922e",
   "metadata": {},
   "outputs": [
    {
     "data": {
      "text/plain": [
       "False"
      ]
     },
     "execution_count": 18,
     "metadata": {},
     "output_type": "execute_result"
    }
   ],
   "source": [
    "student_understood"
   ]
  },
  {
   "cell_type": "code",
   "execution_count": 19,
   "id": "eb3727e1",
   "metadata": {},
   "outputs": [
    {
     "name": "stdout",
     "output_type": "stream",
     "text": [
      "student understood everything? : False\n"
     ]
    }
   ],
   "source": [
    "print(\"student understood everything? :\",student_understood)"
   ]
  },
  {
   "cell_type": "code",
   "execution_count": null,
   "id": "eb24fa8d",
   "metadata": {},
   "outputs": [],
   "source": []
  }
 ],
 "metadata": {
  "kernelspec": {
   "display_name": "Python 3 (ipykernel)",
   "language": "python",
   "name": "python3"
  },
  "language_info": {
   "codemirror_mode": {
    "name": "ipython",
    "version": 3
   },
   "file_extension": ".py",
   "mimetype": "text/x-python",
   "name": "python",
   "nbconvert_exporter": "python",
   "pygments_lexer": "ipython3",
   "version": "3.9.13"
  }
 },
 "nbformat": 4,
 "nbformat_minor": 5
}
