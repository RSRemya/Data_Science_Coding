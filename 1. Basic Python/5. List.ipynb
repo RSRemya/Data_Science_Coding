{
 "cells": [
  {
   "cell_type": "code",
   "execution_count": 1,
   "id": "09ea82fa",
   "metadata": {},
   "outputs": [
    {
     "data": {
      "text/plain": [
       "list"
      ]
     },
     "execution_count": 1,
     "metadata": {},
     "output_type": "execute_result"
    }
   ],
   "source": [
    "l = [4,5,6,7,[4,3,2]]\n",
    "type(l)"
   ]
  },
  {
   "cell_type": "markdown",
   "id": "7b1b638e",
   "metadata": {},
   "source": [
    "# Indexing"
   ]
  },
  {
   "cell_type": "code",
   "execution_count": 2,
   "id": "6325576b",
   "metadata": {},
   "outputs": [
    {
     "data": {
      "text/plain": [
       "4"
      ]
     },
     "execution_count": 2,
     "metadata": {},
     "output_type": "execute_result"
    }
   ],
   "source": [
    "l[0]"
   ]
  },
  {
   "cell_type": "code",
   "execution_count": 3,
   "id": "766eae61",
   "metadata": {},
   "outputs": [
    {
     "data": {
      "text/plain": [
       "[4, 3, 2]"
      ]
     },
     "execution_count": 3,
     "metadata": {},
     "output_type": "execute_result"
    }
   ],
   "source": [
    "l[4]"
   ]
  },
  {
   "cell_type": "code",
   "execution_count": 4,
   "id": "7f3bab6a",
   "metadata": {},
   "outputs": [
    {
     "data": {
      "text/plain": [
       "3"
      ]
     },
     "execution_count": 4,
     "metadata": {},
     "output_type": "execute_result"
    }
   ],
   "source": [
    "l[4][1]"
   ]
  },
  {
   "cell_type": "markdown",
   "id": "b4e52ef7",
   "metadata": {},
   "source": [
    "# Reversing the list"
   ]
  },
  {
   "cell_type": "code",
   "execution_count": 5,
   "id": "8755b732",
   "metadata": {},
   "outputs": [
    {
     "data": {
      "text/plain": [
       "[[4, 3, 2], 7, 6, 5, 4]"
      ]
     },
     "execution_count": 5,
     "metadata": {},
     "output_type": "execute_result"
    }
   ],
   "source": [
    "l[::-1]"
   ]
  },
  {
   "cell_type": "code",
   "execution_count": 6,
   "id": "4af91e5c",
   "metadata": {},
   "outputs": [
    {
     "data": {
      "text/plain": [
       "[[4, 3, 2], 7, 6, 5, 4]"
      ]
     },
     "execution_count": 6,
     "metadata": {},
     "output_type": "execute_result"
    }
   ],
   "source": [
    "l.reverse()\n",
    "l"
   ]
  },
  {
   "cell_type": "markdown",
   "id": "a1fef4e7",
   "metadata": {},
   "source": [
    "# Modifying the list"
   ]
  },
  {
   "cell_type": "code",
   "execution_count": 7,
   "id": "dac1b14e",
   "metadata": {},
   "outputs": [
    {
     "data": {
      "text/plain": [
       "[5, [10, [20, [30, [3500, 9], 0], 4], 5], 2]"
      ]
     },
     "execution_count": 7,
     "metadata": {},
     "output_type": "execute_result"
    }
   ],
   "source": [
    "\n",
    "l1 = [5,[10,[20,[30,[35,9],0],4],5],2]\n",
    "l1[1][1][1][1][0]=3500\n",
    "l1"
   ]
  },
  {
   "cell_type": "markdown",
   "id": "5e054eaf",
   "metadata": {},
   "source": [
    "# Count of an element in list"
   ]
  },
  {
   "cell_type": "code",
   "execution_count": 8,
   "id": "e2c3fd6d",
   "metadata": {},
   "outputs": [
    {
     "data": {
      "text/plain": [
       "3"
      ]
     },
     "execution_count": 8,
     "metadata": {},
     "output_type": "execute_result"
    }
   ],
   "source": [
    "A = [1,2,1,4,5,6,7,7,7]\n",
    "A.count(7)"
   ]
  },
  {
   "cell_type": "markdown",
   "id": "83bd147d",
   "metadata": {},
   "source": [
    "# Index of an element in list"
   ]
  },
  {
   "cell_type": "code",
   "execution_count": 11,
   "id": "30c8d38b",
   "metadata": {},
   "outputs": [
    {
     "data": {
      "text/plain": [
       "6"
      ]
     },
     "execution_count": 11,
     "metadata": {},
     "output_type": "execute_result"
    }
   ],
   "source": [
    "A.index(7)"
   ]
  },
  {
   "cell_type": "markdown",
   "id": "6424f1c9",
   "metadata": {},
   "source": [
    "# Sorting a Numerical List"
   ]
  },
  {
   "cell_type": "code",
   "execution_count": 12,
   "id": "c4ab575d",
   "metadata": {},
   "outputs": [
    {
     "data": {
      "text/plain": [
       "[-22, 1, 22, 45, 67]"
      ]
     },
     "execution_count": 12,
     "metadata": {},
     "output_type": "execute_result"
    }
   ],
   "source": [
    "A = [1, 45, 67, 22, -22]\n",
    "\n",
    "A.sort()\n",
    "A"
   ]
  },
  {
   "cell_type": "code",
   "execution_count": 13,
   "id": "592f0113",
   "metadata": {},
   "outputs": [
    {
     "data": {
      "text/plain": [
       "[67, 45, 22, 1, -22]"
      ]
     },
     "execution_count": 13,
     "metadata": {},
     "output_type": "execute_result"
    }
   ],
   "source": [
    "A.sort(reverse=True)\n",
    "A"
   ]
  },
  {
   "cell_type": "code",
   "execution_count": 14,
   "id": "04f8f597",
   "metadata": {},
   "outputs": [
    {
     "data": {
      "text/plain": [
       "-22"
      ]
     },
     "execution_count": 14,
     "metadata": {},
     "output_type": "execute_result"
    }
   ],
   "source": [
    "min(A)"
   ]
  },
  {
   "cell_type": "code",
   "execution_count": 15,
   "id": "b146c230",
   "metadata": {},
   "outputs": [
    {
     "data": {
      "text/plain": [
       "67"
      ]
     },
     "execution_count": 15,
     "metadata": {},
     "output_type": "execute_result"
    }
   ],
   "source": [
    "max(A)"
   ]
  },
  {
   "cell_type": "markdown",
   "id": "7d9e8d69",
   "metadata": {},
   "source": [
    "# Appending a List"
   ]
  },
  {
   "cell_type": "code",
   "execution_count": 16,
   "id": "06321938",
   "metadata": {},
   "outputs": [
    {
     "data": {
      "text/plain": [
       "[67, 45, 22, 1, -22, 3]"
      ]
     },
     "execution_count": 16,
     "metadata": {},
     "output_type": "execute_result"
    }
   ],
   "source": [
    "A.append(3)\n",
    "A"
   ]
  },
  {
   "cell_type": "markdown",
   "id": "66aa99b9",
   "metadata": {},
   "source": [
    "# Difference between append and extend"
   ]
  },
  {
   "cell_type": "code",
   "execution_count": 17,
   "id": "a5565342",
   "metadata": {},
   "outputs": [],
   "source": [
    "X = [1,2,3]\n",
    "\n",
    "Y = [11, 22, 33]"
   ]
  },
  {
   "cell_type": "code",
   "execution_count": 18,
   "id": "ce2bc9f9",
   "metadata": {},
   "outputs": [
    {
     "data": {
      "text/plain": [
       "[1, 2, 3, 11, 22, 33]"
      ]
     },
     "execution_count": 18,
     "metadata": {},
     "output_type": "execute_result"
    }
   ],
   "source": [
    "X.extend(Y)\n",
    "X"
   ]
  },
  {
   "cell_type": "code",
   "execution_count": 19,
   "id": "b09b01d5",
   "metadata": {},
   "outputs": [
    {
     "data": {
      "text/plain": [
       "[1, 2, 3, 11, 22, 33, [11, 22, 33]]"
      ]
     },
     "execution_count": 19,
     "metadata": {},
     "output_type": "execute_result"
    }
   ],
   "source": [
    "X.append(Y)\n",
    "X"
   ]
  },
  {
   "cell_type": "markdown",
   "id": "61afe88c",
   "metadata": {},
   "source": [
    "# Difference between append and insert"
   ]
  },
  {
   "cell_type": "code",
   "execution_count": 20,
   "id": "51fd0007",
   "metadata": {},
   "outputs": [
    {
     "data": {
      "text/plain": [
       "[1, 2, 3, 4, 5, 99]"
      ]
     },
     "execution_count": 20,
     "metadata": {},
     "output_type": "execute_result"
    }
   ],
   "source": [
    "A = [1,2,3,4,5]\n",
    "A.append(99)\n",
    "\n",
    "A"
   ]
  },
  {
   "cell_type": "code",
   "execution_count": 21,
   "id": "35a653de",
   "metadata": {},
   "outputs": [
    {
     "data": {
      "text/plain": [
       "[1, 2, 'Python', 3, 4, 5, 99]"
      ]
     },
     "execution_count": 21,
     "metadata": {},
     "output_type": "execute_result"
    }
   ],
   "source": [
    "A.insert(2, \"Python\")\n",
    "\n",
    "A"
   ]
  },
  {
   "cell_type": "code",
   "execution_count": 22,
   "id": "08cba3f4",
   "metadata": {},
   "outputs": [
    {
     "data": {
      "text/plain": [
       "['Basic', 1, 2, 'Python', 3, 4, 5, 99]"
      ]
     },
     "execution_count": 22,
     "metadata": {},
     "output_type": "execute_result"
    }
   ],
   "source": [
    "A.insert(0, \"Basic\")\n",
    "\n",
    "A"
   ]
  },
  {
   "cell_type": "code",
   "execution_count": 23,
   "id": "cc96ccb0",
   "metadata": {},
   "outputs": [
    {
     "data": {
      "text/plain": [
       "['Basic', 1, 2, 'Python', 3, 4, 5, 99, 'Class']"
      ]
     },
     "execution_count": 23,
     "metadata": {},
     "output_type": "execute_result"
    }
   ],
   "source": [
    "A.insert(100, \"Class\")\n",
    "\n",
    "A"
   ]
  },
  {
   "cell_type": "code",
   "execution_count": 24,
   "id": "6666f84c",
   "metadata": {},
   "outputs": [
    {
     "data": {
      "text/plain": [
       "['The', 'Basic', 1, 2, 'Python', 3, 4, 5, 99, 'Class']"
      ]
     },
     "execution_count": 24,
     "metadata": {},
     "output_type": "execute_result"
    }
   ],
   "source": [
    "A.insert(-200, \"The\")\n",
    "\n",
    "A"
   ]
  },
  {
   "cell_type": "markdown",
   "id": "1d1c3ede",
   "metadata": {},
   "source": [
    "# Removing elements from a list"
   ]
  },
  {
   "cell_type": "code",
   "execution_count": 25,
   "id": "827ceda0",
   "metadata": {},
   "outputs": [
    {
     "data": {
      "text/plain": [
       "['The', 'Basic', 1, 2, 'Python', 3, 4, 5, 'Class']"
      ]
     },
     "execution_count": 25,
     "metadata": {},
     "output_type": "execute_result"
    }
   ],
   "source": [
    "A.remove(99)\n",
    "\n",
    "A"
   ]
  },
  {
   "cell_type": "markdown",
   "id": "96d3c161",
   "metadata": {},
   "source": [
    "# Extend"
   ]
  },
  {
   "cell_type": "code",
   "execution_count": 26,
   "id": "370ff81f",
   "metadata": {},
   "outputs": [
    {
     "data": {
      "text/plain": [
       "[1, 2, 3, 11, 22, 33]"
      ]
     },
     "execution_count": 26,
     "metadata": {},
     "output_type": "execute_result"
    }
   ],
   "source": [
    "A = [1,2,3]\n",
    "\n",
    "B = [11, 22, 33]\n",
    "\n",
    "A.extend(B) # permananet operation, inplace assignment\n",
    "\n",
    "A"
   ]
  },
  {
   "cell_type": "markdown",
   "id": "762daa9a",
   "metadata": {},
   "source": [
    "# Addition"
   ]
  },
  {
   "cell_type": "code",
   "execution_count": 27,
   "id": "2965d32e",
   "metadata": {},
   "outputs": [
    {
     "data": {
      "text/plain": [
       "[1, 2, 3, 11, 22, 33]"
      ]
     },
     "execution_count": 27,
     "metadata": {},
     "output_type": "execute_result"
    }
   ],
   "source": [
    "A = [1,2,3]\n",
    "\n",
    "B = [11, 22, 33]\n",
    "\n",
    "A + B"
   ]
  },
  {
   "cell_type": "markdown",
   "id": "946bdbd8",
   "metadata": {},
   "source": [
    "# Finding Length of a List"
   ]
  },
  {
   "cell_type": "code",
   "execution_count": 29,
   "id": "702391c9",
   "metadata": {},
   "outputs": [
    {
     "data": {
      "text/plain": [
       "6"
      ]
     },
     "execution_count": 29,
     "metadata": {},
     "output_type": "execute_result"
    }
   ],
   "source": [
    "X = [22, 12, 34, 1,1,2]\n",
    "\n",
    "len(X)"
   ]
  },
  {
   "cell_type": "code",
   "execution_count": null,
   "id": "85f872fd",
   "metadata": {},
   "outputs": [],
   "source": []
  }
 ],
 "metadata": {
  "kernelspec": {
   "display_name": "Python 3 (ipykernel)",
   "language": "python",
   "name": "python3"
  },
  "language_info": {
   "codemirror_mode": {
    "name": "ipython",
    "version": 3
   },
   "file_extension": ".py",
   "mimetype": "text/x-python",
   "name": "python",
   "nbconvert_exporter": "python",
   "pygments_lexer": "ipython3",
   "version": "3.9.13"
  }
 },
 "nbformat": 4,
 "nbformat_minor": 5
}
