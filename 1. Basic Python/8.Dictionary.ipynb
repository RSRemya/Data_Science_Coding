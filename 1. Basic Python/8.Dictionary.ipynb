{
 "cells": [
  {
   "cell_type": "code",
   "execution_count": 3,
   "id": "5863e24d",
   "metadata": {},
   "outputs": [
    {
     "data": {
      "text/plain": [
       "dict"
      ]
     },
     "execution_count": 3,
     "metadata": {},
     "output_type": "execute_result"
    }
   ],
   "source": [
    "dit = {\"key1\" : \"python\" , \"key2\" : [2,3,4,5]}\n",
    "type(dit)"
   ]
  },
  {
   "cell_type": "markdown",
   "id": "0ed4f814",
   "metadata": {},
   "source": [
    "# Key & Value"
   ]
  },
  {
   "cell_type": "code",
   "execution_count": 1,
   "id": "7cc4108c",
   "metadata": {},
   "outputs": [
    {
     "data": {
      "text/plain": [
       "{True: 'value1', 'key2': 'value2', 'key1': 'abc'}"
      ]
     },
     "execution_count": 1,
     "metadata": {},
     "output_type": "execute_result"
    }
   ],
   "source": [
    "my_dict = {True:'value1','key2':'value2','key1':'valuedfvdfg','key1':'abc'} # Same key check key1 value \n",
    "my_dict"
   ]
  },
  {
   "cell_type": "code",
   "execution_count": 2,
   "id": "5d43e996",
   "metadata": {},
   "outputs": [
    {
     "data": {
      "text/plain": [
       "dict_keys([True, 'key2', 'key1'])"
      ]
     },
     "execution_count": 2,
     "metadata": {},
     "output_type": "execute_result"
    }
   ],
   "source": [
    "my_dict.keys()"
   ]
  },
  {
   "cell_type": "code",
   "execution_count": 3,
   "id": "14c5ad48",
   "metadata": {},
   "outputs": [
    {
     "data": {
      "text/plain": [
       "dict_values(['value1', 'value2', 'abc'])"
      ]
     },
     "execution_count": 3,
     "metadata": {},
     "output_type": "execute_result"
    }
   ],
   "source": [
    "my_dict.values()"
   ]
  },
  {
   "cell_type": "code",
   "execution_count": 4,
   "id": "c250aed7",
   "metadata": {},
   "outputs": [
    {
     "data": {
      "text/plain": [
       "dict_items([(True, 'value1'), ('key2', 'value2'), ('key1', 'abc')])"
      ]
     },
     "execution_count": 4,
     "metadata": {},
     "output_type": "execute_result"
    }
   ],
   "source": [
    "my_dict.items()"
   ]
  },
  {
   "cell_type": "markdown",
   "id": "e4b87848",
   "metadata": {},
   "source": [
    "# Call values by their key, accessing values based on key"
   ]
  },
  {
   "cell_type": "code",
   "execution_count": 4,
   "id": "47c173b0",
   "metadata": {},
   "outputs": [
    {
     "data": {
      "text/plain": [
       "'value2'"
      ]
     },
     "execution_count": 4,
     "metadata": {},
     "output_type": "execute_result"
    }
   ],
   "source": [
    "my_dict['key2']"
   ]
  },
  {
   "cell_type": "code",
   "execution_count": 5,
   "id": "321bdada",
   "metadata": {},
   "outputs": [
    {
     "data": {
      "text/plain": [
       "33"
      ]
     },
     "execution_count": 5,
     "metadata": {},
     "output_type": "execute_result"
    }
   ],
   "source": [
    "my_dict = {'key1':123,'key2':[12,23,33],'key3':['item0','item1','item2']}\n",
    "my_dict['key2'][2]"
   ]
  },
  {
   "cell_type": "markdown",
   "id": "0d58b55f",
   "metadata": {},
   "source": [
    "# Changing case of value in a dictionary"
   ]
  },
  {
   "cell_type": "code",
   "execution_count": 6,
   "id": "db3b2d70",
   "metadata": {},
   "outputs": [
    {
     "data": {
      "text/plain": [
       "'ITEM0'"
      ]
     },
     "execution_count": 6,
     "metadata": {},
     "output_type": "execute_result"
    }
   ],
   "source": [
    "my_dict['key3'][0].upper()"
   ]
  },
  {
   "cell_type": "markdown",
   "id": "123f2eba",
   "metadata": {},
   "source": [
    "# Possible type of Key in Dictionary"
   ]
  },
  {
   "cell_type": "code",
   "execution_count": 2,
   "id": "6dcf32db",
   "metadata": {},
   "outputs": [
    {
     "data": {
      "text/plain": [
       "{234324: 'python'}"
      ]
     },
     "execution_count": 2,
     "metadata": {},
     "output_type": "execute_result"
    }
   ],
   "source": [
    "d1 = { 234324 : \"python\"}\n",
    "d1"
   ]
  },
  {
   "cell_type": "code",
   "execution_count": 3,
   "id": "28a9c286",
   "metadata": {},
   "outputs": [
    {
     "data": {
      "text/plain": [
       "{'$basic': 'python'}"
      ]
     },
     "execution_count": 3,
     "metadata": {},
     "output_type": "execute_result"
    }
   ],
   "source": [
    "d2 = { \"$basic\" : \"python\"}\n",
    "d2"
   ]
  },
  {
   "cell_type": "code",
   "execution_count": 6,
   "id": "1c00740f",
   "metadata": {},
   "outputs": [
    {
     "data": {
      "text/plain": [
       "{(1, 2, 3, 4, 5): 'sudh'}"
      ]
     },
     "execution_count": 6,
     "metadata": {},
     "output_type": "execute_result"
    }
   ],
   "source": [
    "d3 = {(1,2,3,4,5) : \"sudh\"}\n",
    "d3"
   ]
  },
  {
   "cell_type": "code",
   "execution_count": 10,
   "id": "1c6b620f",
   "metadata": {},
   "outputs": [
    {
     "ename": "TypeError",
     "evalue": "unhashable type: 'list'",
     "output_type": "error",
     "traceback": [
      "\u001b[1;31m---------------------------------------------------------------------------\u001b[0m",
      "\u001b[1;31mTypeError\u001b[0m                                 Traceback (most recent call last)",
      "\u001b[1;32m~\\AppData\\Local\\Temp\\ipykernel_1936\\4099806122.py\u001b[0m in \u001b[0;36m<module>\u001b[1;34m\u001b[0m\n\u001b[1;32m----> 1\u001b[1;33m \u001b[0md4\u001b[0m \u001b[1;33m=\u001b[0m \u001b[1;33m{\u001b[0m\u001b[1;33m[\u001b[0m\u001b[1;36m1\u001b[0m\u001b[1;33m,\u001b[0m\u001b[1;36m2\u001b[0m\u001b[1;33m,\u001b[0m\u001b[1;36m3\u001b[0m\u001b[1;33m,\u001b[0m\u001b[1;36m4\u001b[0m\u001b[1;33m]\u001b[0m \u001b[1;33m:\u001b[0m \u001b[1;34m\"sudh\"\u001b[0m\u001b[1;33m}\u001b[0m \u001b[1;31m# key can't be a list\u001b[0m\u001b[1;33m\u001b[0m\u001b[1;33m\u001b[0m\u001b[0m\n\u001b[0m",
      "\u001b[1;31mTypeError\u001b[0m: unhashable type: 'list'"
     ]
    }
   ],
   "source": [
    "d4 = {[1,2,3,4] : \"sudh\"} # key can't be a list"
   ]
  },
  {
   "cell_type": "markdown",
   "id": "b3f4dd2f",
   "metadata": {},
   "source": [
    "# Dictionary within dictionary"
   ]
  },
  {
   "cell_type": "code",
   "execution_count": 18,
   "id": "547bf82f",
   "metadata": {},
   "outputs": [
    {
     "data": {
      "text/plain": [
       "'c'"
      ]
     },
     "execution_count": 18,
     "metadata": {},
     "output_type": "execute_result"
    }
   ],
   "source": [
    "d5 = {\"name\": \"x\" , \"mentor\" : {\"fsds\": \"a\" , \"fsda\":\"b\" , \"bigdata\" : \"c\" }}\n",
    "\n",
    "d5['mentor']['bigdata']"
   ]
  },
  {
   "cell_type": "markdown",
   "id": "b4974d2c",
   "metadata": {},
   "source": [
    "# Accepting latest value of a key"
   ]
  },
  {
   "cell_type": "code",
   "execution_count": 13,
   "id": "284aea17",
   "metadata": {},
   "outputs": [
    {
     "data": {
      "text/plain": [
       "{'name': 'z', 'org': 'abc', 'mail id ': 'x@abc.com'}"
      ]
     },
     "execution_count": 13,
     "metadata": {},
     "output_type": "execute_result"
    }
   ],
   "source": [
    "d6 = { \"name\" : \"x\" , \"org\" : \"abc\" , \"mail id \" : \"x@abc.com\" , \"name\" : \"y\" , \"name\" : \"z\"}\n",
    "\n",
    "d6"
   ]
  },
  {
   "cell_type": "markdown",
   "id": "8ea64a89",
   "metadata": {},
   "source": [
    "# Deleting a dictionary"
   ]
  },
  {
   "cell_type": "code",
   "execution_count": 14,
   "id": "25685a57",
   "metadata": {},
   "outputs": [],
   "source": [
    "del d6"
   ]
  },
  {
   "cell_type": "code",
   "execution_count": 15,
   "id": "de82304b",
   "metadata": {},
   "outputs": [
    {
     "ename": "NameError",
     "evalue": "name 'd6' is not defined",
     "output_type": "error",
     "traceback": [
      "\u001b[1;31m---------------------------------------------------------------------------\u001b[0m",
      "\u001b[1;31mNameError\u001b[0m                                 Traceback (most recent call last)",
      "\u001b[1;32m~\\AppData\\Local\\Temp\\ipykernel_1936\\3684213037.py\u001b[0m in \u001b[0;36m<module>\u001b[1;34m\u001b[0m\n\u001b[1;32m----> 1\u001b[1;33m \u001b[0md6\u001b[0m\u001b[1;33m\u001b[0m\u001b[1;33m\u001b[0m\u001b[0m\n\u001b[0m",
      "\u001b[1;31mNameError\u001b[0m: name 'd6' is not defined"
     ]
    }
   ],
   "source": [
    "d6"
   ]
  },
  {
   "cell_type": "markdown",
   "id": "c3a1552d",
   "metadata": {},
   "source": [
    "### Deleting part of a dictionary"
   ]
  },
  {
   "cell_type": "code",
   "execution_count": 19,
   "id": "aed7964a",
   "metadata": {},
   "outputs": [
    {
     "data": {
      "text/plain": [
       "{'mentor': {'fsds': 'a', 'fsda': 'b', 'bigdata': 'c'}}"
      ]
     },
     "execution_count": 19,
     "metadata": {},
     "output_type": "execute_result"
    }
   ],
   "source": [
    "del d5['name']\n",
    "\n",
    "d5"
   ]
  },
  {
   "cell_type": "markdown",
   "id": "0d3e49e8",
   "metadata": {},
   "source": [
    "# Inserting elements in a dictionary"
   ]
  },
  {
   "cell_type": "code",
   "execution_count": 20,
   "id": "144fb958",
   "metadata": {},
   "outputs": [
    {
     "data": {
      "text/plain": [
       "{'mentor': {'fsds': 'a', 'fsda': 'b', 'bigdata': 'c'}, 'organization': 'abcd'}"
      ]
     },
     "execution_count": 20,
     "metadata": {},
     "output_type": "execute_result"
    }
   ],
   "source": [
    "d5[\"organization\"] = \"abcd\"\n",
    "\n",
    "d5"
   ]
  },
  {
   "cell_type": "markdown",
   "id": "6cac8217",
   "metadata": {},
   "source": [
    "# To pop an entity in dictionary\n",
    "\n",
    "Removes and returns the specified element from the dictionary."
   ]
  },
  {
   "cell_type": "code",
   "execution_count": 21,
   "id": "4531f5eb",
   "metadata": {},
   "outputs": [
    {
     "data": {
      "text/plain": [
       "{'fsds': 'a', 'fsda': 'b', 'bigdata': 'c'}"
      ]
     },
     "execution_count": 21,
     "metadata": {},
     "output_type": "execute_result"
    }
   ],
   "source": [
    "d5.pop('mentor')"
   ]
  },
  {
   "cell_type": "code",
   "execution_count": 22,
   "id": "17574be4",
   "metadata": {},
   "outputs": [
    {
     "data": {
      "text/plain": [
       "{'organization': 'abcd'}"
      ]
     },
     "execution_count": 22,
     "metadata": {},
     "output_type": "execute_result"
    }
   ],
   "source": [
    "d5"
   ]
  },
  {
   "cell_type": "markdown",
   "id": "d71406e7",
   "metadata": {},
   "source": [
    "# Changing value of a key"
   ]
  },
  {
   "cell_type": "code",
   "execution_count": 23,
   "id": "569e9c03",
   "metadata": {},
   "outputs": [
    {
     "data": {
      "text/plain": [
       "{'organization': 'ABC'}"
      ]
     },
     "execution_count": 23,
     "metadata": {},
     "output_type": "execute_result"
    }
   ],
   "source": [
    "d5[\"organization\"] = \"ABC\"\n",
    "\n",
    "d5"
   ]
  },
  {
   "cell_type": "code",
   "execution_count": null,
   "id": "d1628574",
   "metadata": {},
   "outputs": [],
   "source": []
  }
 ],
 "metadata": {
  "kernelspec": {
   "display_name": "Python 3 (ipykernel)",
   "language": "python",
   "name": "python3"
  },
  "language_info": {
   "codemirror_mode": {
    "name": "ipython",
    "version": 3
   },
   "file_extension": ".py",
   "mimetype": "text/x-python",
   "name": "python",
   "nbconvert_exporter": "python",
   "pygments_lexer": "ipython3",
   "version": "3.9.13"
  }
 },
 "nbformat": 4,
 "nbformat_minor": 5
}
