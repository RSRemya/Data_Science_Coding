{
 "cells": [
  {
   "cell_type": "markdown",
   "id": "3623c138",
   "metadata": {},
   "source": [
    "# ="
   ]
  },
  {
   "cell_type": "code",
   "execution_count": 1,
   "id": "5ca4ef02",
   "metadata": {},
   "outputs": [
    {
     "name": "stdout",
     "output_type": "stream",
     "text": [
      "8\n"
     ]
    }
   ],
   "source": [
    "a = 3\n",
    "b = 5\n",
    "  \n",
    "c = a + b\n",
    "  \n",
    "# Output\n",
    "print(c)"
   ]
  },
  {
   "cell_type": "markdown",
   "id": "8910d300",
   "metadata": {},
   "source": [
    "# +="
   ]
  },
  {
   "cell_type": "code",
   "execution_count": 2,
   "id": "3ce4d9c3",
   "metadata": {},
   "outputs": [
    {
     "name": "stdout",
     "output_type": "stream",
     "text": [
      "8\n"
     ]
    }
   ],
   "source": [
    "\n",
    "a = 3\n",
    "b = 5\n",
    "  \n",
    "# a = a + b\n",
    "a += b\n",
    "  \n",
    "# Output\n",
    "print(a)"
   ]
  },
  {
   "cell_type": "markdown",
   "id": "db5f039c",
   "metadata": {},
   "source": [
    "# -="
   ]
  },
  {
   "cell_type": "code",
   "execution_count": 3,
   "id": "b4b917d9",
   "metadata": {},
   "outputs": [
    {
     "name": "stdout",
     "output_type": "stream",
     "text": [
      "-2\n"
     ]
    }
   ],
   "source": [
    "a = 3\n",
    "b = 5\n",
    "  \n",
    "# a = a - b\n",
    "a -= b\n",
    "  \n",
    "# Output\n",
    "print(a)"
   ]
  },
  {
   "cell_type": "markdown",
   "id": "83d3882e",
   "metadata": {},
   "source": [
    "# *="
   ]
  },
  {
   "cell_type": "code",
   "execution_count": 4,
   "id": "b10afe18",
   "metadata": {},
   "outputs": [
    {
     "name": "stdout",
     "output_type": "stream",
     "text": [
      "15\n"
     ]
    }
   ],
   "source": [
    "a = 3\n",
    "b = 5\n",
    "  \n",
    "# a = a * b\n",
    "a *= b\n",
    "  \n",
    "# Output\n",
    "print(a)"
   ]
  },
  {
   "cell_type": "markdown",
   "id": "2d2403b4",
   "metadata": {},
   "source": [
    "# /="
   ]
  },
  {
   "cell_type": "code",
   "execution_count": 5,
   "id": "f7d428cd",
   "metadata": {},
   "outputs": [
    {
     "name": "stdout",
     "output_type": "stream",
     "text": [
      "0.6\n"
     ]
    }
   ],
   "source": [
    "a = 3\n",
    "b = 5\n",
    "  \n",
    "# a = a / b\n",
    "a /= b\n",
    "  \n",
    "# Output\n",
    "print(a)"
   ]
  },
  {
   "cell_type": "markdown",
   "id": "e7f6ff83",
   "metadata": {},
   "source": [
    "# %="
   ]
  },
  {
   "cell_type": "code",
   "execution_count": 8,
   "id": "89bf7011",
   "metadata": {},
   "outputs": [
    {
     "name": "stdout",
     "output_type": "stream",
     "text": [
      "3\n"
     ]
    }
   ],
   "source": [
    "a = 3\n",
    "b = 5\n",
    "  \n",
    "# a = a % b\n",
    "a %= b\n",
    "  \n",
    "# Output\n",
    "print(a)"
   ]
  },
  {
   "cell_type": "markdown",
   "id": "cdf07a72",
   "metadata": {},
   "source": [
    "# //="
   ]
  },
  {
   "cell_type": "code",
   "execution_count": 7,
   "id": "c586ef1d",
   "metadata": {},
   "outputs": [
    {
     "name": "stdout",
     "output_type": "stream",
     "text": [
      "0\n"
     ]
    }
   ],
   "source": [
    "a = 3\n",
    "b = 5\n",
    "  \n",
    "# a = a // b\n",
    "a //= b\n",
    "  \n",
    "# Output\n",
    "print(a)"
   ]
  },
  {
   "cell_type": "markdown",
   "id": "7f1f56a4",
   "metadata": {},
   "source": [
    "# **="
   ]
  },
  {
   "cell_type": "code",
   "execution_count": 9,
   "id": "8750e370",
   "metadata": {},
   "outputs": [
    {
     "name": "stdout",
     "output_type": "stream",
     "text": [
      "243\n"
     ]
    }
   ],
   "source": [
    "a = 3\n",
    "b = 5\n",
    "  \n",
    "# a = a ** b\n",
    "a **= b\n",
    "  \n",
    "# Output\n",
    "print(a)"
   ]
  },
  {
   "cell_type": "markdown",
   "id": "7009dc0c",
   "metadata": {},
   "source": [
    "# &=  Bitwise and"
   ]
  },
  {
   "cell_type": "code",
   "execution_count": 10,
   "id": "3784e805",
   "metadata": {},
   "outputs": [
    {
     "name": "stdout",
     "output_type": "stream",
     "text": [
      "1\n"
     ]
    }
   ],
   "source": [
    "a = 3\n",
    "b = 5\n",
    "  \n",
    "# a = a & b\n",
    "a &= b\n",
    "  \n",
    "# Output\n",
    "print(a)"
   ]
  },
  {
   "cell_type": "code",
   "execution_count": 11,
   "id": "224283c5",
   "metadata": {},
   "outputs": [
    {
     "name": "stdout",
     "output_type": "stream",
     "text": [
      "0\n"
     ]
    }
   ],
   "source": [
    "a = 0\n",
    "b = 5\n",
    "  \n",
    "# a = a & b\n",
    "a &= b\n",
    "  \n",
    "# Output\n",
    "print(a)"
   ]
  },
  {
   "cell_type": "markdown",
   "id": "68344c0a",
   "metadata": {},
   "source": [
    "# |=  Bitwise or"
   ]
  },
  {
   "cell_type": "code",
   "execution_count": 14,
   "id": "6e9e14f6",
   "metadata": {},
   "outputs": [
    {
     "name": "stdout",
     "output_type": "stream",
     "text": [
      "7\n"
     ]
    }
   ],
   "source": [
    "a = 2\n",
    "b = 5\n",
    "  \n",
    "# a = a | b\n",
    "a |= b\n",
    "  \n",
    "# Output\n",
    "print(a)"
   ]
  },
  {
   "cell_type": "code",
   "execution_count": 16,
   "id": "bb42bc2b",
   "metadata": {},
   "outputs": [
    {
     "name": "stdout",
     "output_type": "stream",
     "text": [
      "13\n"
     ]
    }
   ],
   "source": [
    "a = 8\n",
    "b = 5\n",
    "  \n",
    "# a = a | b\n",
    "a |= b\n",
    "  \n",
    "# Output\n",
    "print(a)"
   ]
  },
  {
   "cell_type": "code",
   "execution_count": 17,
   "id": "16c41d75",
   "metadata": {},
   "outputs": [
    {
     "name": "stdout",
     "output_type": "stream",
     "text": [
      "3\n"
     ]
    }
   ],
   "source": [
    "a = 3\n",
    "b = 3\n",
    "  \n",
    "# a = a | b\n",
    "a |= b\n",
    "  \n",
    "# Output\n",
    "print(a)"
   ]
  },
  {
   "cell_type": "markdown",
   "id": "53431e70",
   "metadata": {},
   "source": [
    "# ^=  Bitwise xor"
   ]
  },
  {
   "cell_type": "code",
   "execution_count": 18,
   "id": "dbb9b5fc",
   "metadata": {},
   "outputs": [
    {
     "name": "stdout",
     "output_type": "stream",
     "text": [
      "6\n"
     ]
    }
   ],
   "source": [
    "a = 3\n",
    "b = 5\n",
    "  \n",
    "# a = a ^ b\n",
    "a ^= b\n",
    "  \n",
    "# Output\n",
    "print(a)"
   ]
  },
  {
   "cell_type": "markdown",
   "id": "0f9a3412",
   "metadata": {},
   "source": [
    "# >>= Bitwise Right Shift"
   ]
  },
  {
   "cell_type": "code",
   "execution_count": 19,
   "id": "0513e46c",
   "metadata": {},
   "outputs": [
    {
     "name": "stdout",
     "output_type": "stream",
     "text": [
      "0\n"
     ]
    }
   ],
   "source": [
    "a = 3\n",
    "b = 5\n",
    "  \n",
    "# a = a >> b\n",
    "a >>= b\n",
    "  \n",
    "# Output\n",
    "print(a)"
   ]
  },
  {
   "cell_type": "markdown",
   "id": "5cd452a0",
   "metadata": {},
   "source": [
    "# <<= Bitwise Left Shift"
   ]
  },
  {
   "cell_type": "code",
   "execution_count": 20,
   "id": "92d2d776",
   "metadata": {},
   "outputs": [
    {
     "name": "stdout",
     "output_type": "stream",
     "text": [
      "96\n"
     ]
    }
   ],
   "source": [
    "\n",
    "a = 3\n",
    "b = 5\n",
    "  \n",
    "# a = a << b\n",
    "a <<= b\n",
    "  \n",
    "# Output\n",
    "print(a)"
   ]
  },
  {
   "cell_type": "code",
   "execution_count": null,
   "id": "fc56d6c3",
   "metadata": {},
   "outputs": [],
   "source": []
  }
 ],
 "metadata": {
  "kernelspec": {
   "display_name": "Python 3 (ipykernel)",
   "language": "python",
   "name": "python3"
  },
  "language_info": {
   "codemirror_mode": {
    "name": "ipython",
    "version": 3
   },
   "file_extension": ".py",
   "mimetype": "text/x-python",
   "name": "python",
   "nbconvert_exporter": "python",
   "pygments_lexer": "ipython3",
   "version": "3.9.13"
  }
 },
 "nbformat": 4,
 "nbformat_minor": 5
}
