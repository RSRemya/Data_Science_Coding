{
 "cells": [
  {
   "cell_type": "markdown",
   "id": "b627ab3d",
   "metadata": {},
   "source": [
    "# Applying Mathematical Operators on Integers"
   ]
  },
  {
   "cell_type": "code",
   "execution_count": null,
   "id": "1870e361",
   "metadata": {},
   "outputs": [],
   "source": [
    "A =8\n",
    "B=4"
   ]
  },
  {
   "cell_type": "code",
   "execution_count": 2,
   "id": "dd53f46a",
   "metadata": {},
   "outputs": [
    {
     "data": {
      "text/plain": [
       "12"
      ]
     },
     "execution_count": 2,
     "metadata": {},
     "output_type": "execute_result"
    }
   ],
   "source": [
    "A+B# ADDITION"
   ]
  },
  {
   "cell_type": "code",
   "execution_count": 3,
   "id": "3c5fb211",
   "metadata": {},
   "outputs": [
    {
     "data": {
      "text/plain": [
       "4"
      ]
     },
     "execution_count": 3,
     "metadata": {},
     "output_type": "execute_result"
    }
   ],
   "source": [
    "A-B# SUBTRACTION"
   ]
  },
  {
   "cell_type": "code",
   "execution_count": 4,
   "id": "cdd7d929",
   "metadata": {},
   "outputs": [
    {
     "data": {
      "text/plain": [
       "32"
      ]
     },
     "execution_count": 4,
     "metadata": {},
     "output_type": "execute_result"
    }
   ],
   "source": [
    "A*B# MULTIPLICATION"
   ]
  },
  {
   "cell_type": "code",
   "execution_count": 5,
   "id": "1f3e1edd",
   "metadata": {},
   "outputs": [
    {
     "data": {
      "text/plain": [
       "2.0"
      ]
     },
     "execution_count": 5,
     "metadata": {},
     "output_type": "execute_result"
    }
   ],
   "source": [
    "A/B# DIVISION"
   ]
  },
  {
   "cell_type": "code",
   "execution_count": 6,
   "id": "f275ff27",
   "metadata": {},
   "outputs": [
    {
     "data": {
      "text/plain": [
       "4"
      ]
     },
     "execution_count": 6,
     "metadata": {},
     "output_type": "execute_result"
    }
   ],
   "source": [
    "A//2# INTEGER DIVISION"
   ]
  },
  {
   "cell_type": "code",
   "execution_count": 7,
   "id": "902b3645",
   "metadata": {},
   "outputs": [
    {
     "data": {
      "text/plain": [
       "2.6666666666666665"
      ]
     },
     "execution_count": 7,
     "metadata": {},
     "output_type": "execute_result"
    }
   ],
   "source": [
    "C=3\n",
    "A/C"
   ]
  },
  {
   "cell_type": "code",
   "execution_count": 8,
   "id": "f98d3629",
   "metadata": {},
   "outputs": [
    {
     "data": {
      "text/plain": [
       "2"
      ]
     },
     "execution_count": 8,
     "metadata": {},
     "output_type": "execute_result"
    }
   ],
   "source": [
    "A//C"
   ]
  },
  {
   "cell_type": "code",
   "execution_count": 9,
   "id": "7c7f5e9b",
   "metadata": {},
   "outputs": [
    {
     "data": {
      "text/plain": [
       "2"
      ]
     },
     "execution_count": 9,
     "metadata": {},
     "output_type": "execute_result"
    }
   ],
   "source": [
    "A%C# REMAINDER"
   ]
  },
  {
   "cell_type": "code",
   "execution_count": 10,
   "id": "d0fa7ca4",
   "metadata": {},
   "outputs": [
    {
     "data": {
      "text/plain": [
       "0"
      ]
     },
     "execution_count": 10,
     "metadata": {},
     "output_type": "execute_result"
    }
   ],
   "source": [
    "A%B"
   ]
  },
  {
   "cell_type": "markdown",
   "id": "587bda4c",
   "metadata": {},
   "source": [
    "# Applying Mathematical Operators on String"
   ]
  },
  {
   "cell_type": "code",
   "execution_count": 11,
   "id": "8250906a",
   "metadata": {},
   "outputs": [],
   "source": [
    "# This mathematical operators can be applied on strings also... but not all"
   ]
  },
  {
   "cell_type": "code",
   "execution_count": 12,
   "id": "1b740e56",
   "metadata": {},
   "outputs": [],
   "source": [
    "C = \"Basic\"\n",
    "D = \"Python\""
   ]
  },
  {
   "cell_type": "code",
   "execution_count": 13,
   "id": "c62a43e0",
   "metadata": {},
   "outputs": [
    {
     "data": {
      "text/plain": [
       "'BasicPython'"
      ]
     },
     "execution_count": 13,
     "metadata": {},
     "output_type": "execute_result"
    }
   ],
   "source": [
    "C+D"
   ]
  },
  {
   "cell_type": "code",
   "execution_count": 14,
   "id": "8803a47c",
   "metadata": {},
   "outputs": [
    {
     "data": {
      "text/plain": [
       "'BasicBasicBasic'"
      ]
     },
     "execution_count": 14,
     "metadata": {},
     "output_type": "execute_result"
    }
   ],
   "source": [
    "C*3"
   ]
  },
  {
   "cell_type": "code",
   "execution_count": 15,
   "id": "bc46d623",
   "metadata": {},
   "outputs": [
    {
     "data": {
      "text/plain": [
       "'PythonPython'"
      ]
     },
     "execution_count": 15,
     "metadata": {},
     "output_type": "execute_result"
    }
   ],
   "source": [
    "D*2"
   ]
  },
  {
   "cell_type": "code",
   "execution_count": 16,
   "id": "05b646ff",
   "metadata": {},
   "outputs": [
    {
     "ename": "TypeError",
     "evalue": "can't multiply sequence by non-int of type 'str'",
     "output_type": "error",
     "traceback": [
      "\u001b[1;31m---------------------------------------------------------------------------\u001b[0m",
      "\u001b[1;31mTypeError\u001b[0m                                 Traceback (most recent call last)",
      "\u001b[1;32m~\\AppData\\Local\\Temp\\ipykernel_15768\\2870255442.py\u001b[0m in \u001b[0;36m<module>\u001b[1;34m\u001b[0m\n\u001b[1;32m----> 1\u001b[1;33m \u001b[0mC\u001b[0m\u001b[1;33m*\u001b[0m\u001b[0mD\u001b[0m\u001b[1;33m\u001b[0m\u001b[1;33m\u001b[0m\u001b[0m\n\u001b[0m",
      "\u001b[1;31mTypeError\u001b[0m: can't multiply sequence by non-int of type 'str'"
     ]
    }
   ],
   "source": [
    "C*D"
   ]
  },
  {
   "cell_type": "code",
   "execution_count": 17,
   "id": "6e2bfe03",
   "metadata": {},
   "outputs": [
    {
     "ename": "TypeError",
     "evalue": "unsupported operand type(s) for -: 'str' and 'str'",
     "output_type": "error",
     "traceback": [
      "\u001b[1;31m---------------------------------------------------------------------------\u001b[0m",
      "\u001b[1;31mTypeError\u001b[0m                                 Traceback (most recent call last)",
      "\u001b[1;32m~\\AppData\\Local\\Temp\\ipykernel_15768\\4030935056.py\u001b[0m in \u001b[0;36m<module>\u001b[1;34m\u001b[0m\n\u001b[1;32m----> 1\u001b[1;33m \u001b[0mC\u001b[0m\u001b[1;33m-\u001b[0m\u001b[0mD\u001b[0m\u001b[1;33m\u001b[0m\u001b[1;33m\u001b[0m\u001b[0m\n\u001b[0m",
      "\u001b[1;31mTypeError\u001b[0m: unsupported operand type(s) for -: 'str' and 'str'"
     ]
    }
   ],
   "source": [
    "C-D"
   ]
  },
  {
   "cell_type": "code",
   "execution_count": 18,
   "id": "70e2cd45",
   "metadata": {},
   "outputs": [
    {
     "ename": "TypeError",
     "evalue": "unsupported operand type(s) for /: 'str' and 'str'",
     "output_type": "error",
     "traceback": [
      "\u001b[1;31m---------------------------------------------------------------------------\u001b[0m",
      "\u001b[1;31mTypeError\u001b[0m                                 Traceback (most recent call last)",
      "\u001b[1;32m~\\AppData\\Local\\Temp\\ipykernel_15768\\3062716467.py\u001b[0m in \u001b[0;36m<module>\u001b[1;34m\u001b[0m\n\u001b[1;32m----> 1\u001b[1;33m \u001b[0mC\u001b[0m\u001b[1;33m/\u001b[0m\u001b[0mD\u001b[0m\u001b[1;33m\u001b[0m\u001b[1;33m\u001b[0m\u001b[0m\n\u001b[0m",
      "\u001b[1;31mTypeError\u001b[0m: unsupported operand type(s) for /: 'str' and 'str'"
     ]
    }
   ],
   "source": [
    "C/D"
   ]
  },
  {
   "cell_type": "code",
   "execution_count": 19,
   "id": "eda0770d",
   "metadata": {},
   "outputs": [
    {
     "ename": "TypeError",
     "evalue": "unsupported operand type(s) for //: 'str' and 'str'",
     "output_type": "error",
     "traceback": [
      "\u001b[1;31m---------------------------------------------------------------------------\u001b[0m",
      "\u001b[1;31mTypeError\u001b[0m                                 Traceback (most recent call last)",
      "\u001b[1;32m~\\AppData\\Local\\Temp\\ipykernel_15768\\687063737.py\u001b[0m in \u001b[0;36m<module>\u001b[1;34m\u001b[0m\n\u001b[1;32m----> 1\u001b[1;33m \u001b[0mC\u001b[0m\u001b[1;33m//\u001b[0m\u001b[0mD\u001b[0m\u001b[1;33m\u001b[0m\u001b[1;33m\u001b[0m\u001b[0m\n\u001b[0m",
      "\u001b[1;31mTypeError\u001b[0m: unsupported operand type(s) for //: 'str' and 'str'"
     ]
    }
   ],
   "source": [
    "C//D"
   ]
  },
  {
   "cell_type": "code",
   "execution_count": 20,
   "id": "152a05b6",
   "metadata": {},
   "outputs": [
    {
     "ename": "TypeError",
     "evalue": "not all arguments converted during string formatting",
     "output_type": "error",
     "traceback": [
      "\u001b[1;31m---------------------------------------------------------------------------\u001b[0m",
      "\u001b[1;31mTypeError\u001b[0m                                 Traceback (most recent call last)",
      "\u001b[1;32m~\\AppData\\Local\\Temp\\ipykernel_15768\\4249034306.py\u001b[0m in \u001b[0;36m<module>\u001b[1;34m\u001b[0m\n\u001b[1;32m----> 1\u001b[1;33m \u001b[0mC\u001b[0m\u001b[1;33m%\u001b[0m\u001b[0mD\u001b[0m\u001b[1;33m\u001b[0m\u001b[1;33m\u001b[0m\u001b[0m\n\u001b[0m",
      "\u001b[1;31mTypeError\u001b[0m: not all arguments converted during string formatting"
     ]
    }
   ],
   "source": [
    "C%D"
   ]
  },
  {
   "cell_type": "markdown",
   "id": "788786df",
   "metadata": {},
   "source": [
    "# Applying Mathematical Operators on Floating Point Numbers"
   ]
  },
  {
   "cell_type": "code",
   "execution_count": 32,
   "id": "fa2d585d",
   "metadata": {},
   "outputs": [],
   "source": [
    "E = 4.0\n",
    "F = 2.0\n",
    "G = 3.0"
   ]
  },
  {
   "cell_type": "code",
   "execution_count": 22,
   "id": "7b45f01e",
   "metadata": {},
   "outputs": [
    {
     "data": {
      "text/plain": [
       "6.0"
      ]
     },
     "execution_count": 22,
     "metadata": {},
     "output_type": "execute_result"
    }
   ],
   "source": [
    "E + F"
   ]
  },
  {
   "cell_type": "code",
   "execution_count": 23,
   "id": "fd27a0a4",
   "metadata": {},
   "outputs": [
    {
     "data": {
      "text/plain": [
       "2.0"
      ]
     },
     "execution_count": 23,
     "metadata": {},
     "output_type": "execute_result"
    }
   ],
   "source": [
    "E - F"
   ]
  },
  {
   "cell_type": "code",
   "execution_count": 24,
   "id": "cf35f270",
   "metadata": {},
   "outputs": [
    {
     "data": {
      "text/plain": [
       "8.0"
      ]
     },
     "execution_count": 24,
     "metadata": {},
     "output_type": "execute_result"
    }
   ],
   "source": [
    "E * F"
   ]
  },
  {
   "cell_type": "code",
   "execution_count": 42,
   "id": "e12afa7f",
   "metadata": {},
   "outputs": [
    {
     "data": {
      "text/plain": [
       "16.0"
      ]
     },
     "execution_count": 42,
     "metadata": {},
     "output_type": "execute_result"
    }
   ],
   "source": [
    "E ** F"
   ]
  },
  {
   "cell_type": "code",
   "execution_count": 25,
   "id": "66d5f093",
   "metadata": {},
   "outputs": [
    {
     "data": {
      "text/plain": [
       "2.0"
      ]
     },
     "execution_count": 25,
     "metadata": {},
     "output_type": "execute_result"
    }
   ],
   "source": [
    "E / F"
   ]
  },
  {
   "cell_type": "code",
   "execution_count": 26,
   "id": "fa5878ed",
   "metadata": {},
   "outputs": [
    {
     "data": {
      "text/plain": [
       "2.0"
      ]
     },
     "execution_count": 26,
     "metadata": {},
     "output_type": "execute_result"
    }
   ],
   "source": [
    "E // F"
   ]
  },
  {
   "cell_type": "code",
   "execution_count": 27,
   "id": "b38c2936",
   "metadata": {},
   "outputs": [
    {
     "data": {
      "text/plain": [
       "0.0"
      ]
     },
     "execution_count": 27,
     "metadata": {},
     "output_type": "execute_result"
    }
   ],
   "source": [
    "E % F"
   ]
  },
  {
   "cell_type": "code",
   "execution_count": 33,
   "id": "1ffdb7b0",
   "metadata": {},
   "outputs": [
    {
     "data": {
      "text/plain": [
       "1.0"
      ]
     },
     "execution_count": 33,
     "metadata": {},
     "output_type": "execute_result"
    }
   ],
   "source": [
    "E // G"
   ]
  },
  {
   "cell_type": "code",
   "execution_count": 34,
   "id": "5bb91eb2",
   "metadata": {},
   "outputs": [
    {
     "data": {
      "text/plain": [
       "1.0"
      ]
     },
     "execution_count": 34,
     "metadata": {},
     "output_type": "execute_result"
    }
   ],
   "source": [
    "E % G"
   ]
  },
  {
   "cell_type": "markdown",
   "id": "ba78fb97",
   "metadata": {},
   "source": [
    "# Applying Mathematical Operators on Boolean"
   ]
  },
  {
   "cell_type": "code",
   "execution_count": 35,
   "id": "ca4b956b",
   "metadata": {},
   "outputs": [],
   "source": [
    "H = True\n",
    "I = False"
   ]
  },
  {
   "cell_type": "code",
   "execution_count": 36,
   "id": "245cb016",
   "metadata": {},
   "outputs": [
    {
     "data": {
      "text/plain": [
       "1"
      ]
     },
     "execution_count": 36,
     "metadata": {},
     "output_type": "execute_result"
    }
   ],
   "source": [
    "H + I"
   ]
  },
  {
   "cell_type": "code",
   "execution_count": 37,
   "id": "124a8329",
   "metadata": {},
   "outputs": [
    {
     "data": {
      "text/plain": [
       "1"
      ]
     },
     "execution_count": 37,
     "metadata": {},
     "output_type": "execute_result"
    }
   ],
   "source": [
    "H - I"
   ]
  },
  {
   "cell_type": "code",
   "execution_count": 38,
   "id": "9aa7e93c",
   "metadata": {},
   "outputs": [
    {
     "data": {
      "text/plain": [
       "-1"
      ]
     },
     "execution_count": 38,
     "metadata": {},
     "output_type": "execute_result"
    }
   ],
   "source": [
    "I - H"
   ]
  },
  {
   "cell_type": "code",
   "execution_count": 39,
   "id": "101e39a3",
   "metadata": {},
   "outputs": [
    {
     "ename": "ZeroDivisionError",
     "evalue": "division by zero",
     "output_type": "error",
     "traceback": [
      "\u001b[1;31m---------------------------------------------------------------------------\u001b[0m",
      "\u001b[1;31mZeroDivisionError\u001b[0m                         Traceback (most recent call last)",
      "\u001b[1;32m~\\AppData\\Local\\Temp\\ipykernel_15768\\3616513450.py\u001b[0m in \u001b[0;36m<module>\u001b[1;34m\u001b[0m\n\u001b[1;32m----> 1\u001b[1;33m \u001b[0mH\u001b[0m \u001b[1;33m/\u001b[0m \u001b[0mI\u001b[0m\u001b[1;33m\u001b[0m\u001b[1;33m\u001b[0m\u001b[0m\n\u001b[0m",
      "\u001b[1;31mZeroDivisionError\u001b[0m: division by zero"
     ]
    }
   ],
   "source": [
    "H / I"
   ]
  },
  {
   "cell_type": "code",
   "execution_count": 40,
   "id": "2fcf43de",
   "metadata": {},
   "outputs": [
    {
     "data": {
      "text/plain": [
       "0.0"
      ]
     },
     "execution_count": 40,
     "metadata": {},
     "output_type": "execute_result"
    }
   ],
   "source": [
    "I / H"
   ]
  },
  {
   "cell_type": "code",
   "execution_count": 45,
   "id": "82199c05",
   "metadata": {},
   "outputs": [
    {
     "data": {
      "text/plain": [
       "0"
      ]
     },
     "execution_count": 45,
     "metadata": {},
     "output_type": "execute_result"
    }
   ],
   "source": [
    "I // H"
   ]
  },
  {
   "cell_type": "code",
   "execution_count": 41,
   "id": "9f56bdb2",
   "metadata": {},
   "outputs": [
    {
     "data": {
      "text/plain": [
       "0"
      ]
     },
     "execution_count": 41,
     "metadata": {},
     "output_type": "execute_result"
    }
   ],
   "source": [
    "H * I"
   ]
  },
  {
   "cell_type": "code",
   "execution_count": 44,
   "id": "296f5abb",
   "metadata": {},
   "outputs": [
    {
     "data": {
      "text/plain": [
       "1"
      ]
     },
     "execution_count": 44,
     "metadata": {},
     "output_type": "execute_result"
    }
   ],
   "source": [
    "H ** I"
   ]
  },
  {
   "cell_type": "markdown",
   "id": "799c40f1",
   "metadata": {},
   "source": [
    "# Applying Mathematical Operators on List"
   ]
  },
  {
   "cell_type": "code",
   "execution_count": 46,
   "id": "344b6909",
   "metadata": {},
   "outputs": [],
   "source": [
    "J = [2,5,9,\"class\"]\n",
    "K = [3,5, \"Python\"]\n",
    "L = [\"Basic\", 8]"
   ]
  },
  {
   "cell_type": "code",
   "execution_count": 47,
   "id": "0f2d4584",
   "metadata": {},
   "outputs": [
    {
     "data": {
      "text/plain": [
       "[2, 5, 9, 'class', 3, 5, 'Python']"
      ]
     },
     "execution_count": 47,
     "metadata": {},
     "output_type": "execute_result"
    }
   ],
   "source": [
    "J + K"
   ]
  },
  {
   "cell_type": "code",
   "execution_count": 48,
   "id": "9f752563",
   "metadata": {},
   "outputs": [
    {
     "ename": "TypeError",
     "evalue": "unsupported operand type(s) for -: 'list' and 'list'",
     "output_type": "error",
     "traceback": [
      "\u001b[1;31m---------------------------------------------------------------------------\u001b[0m",
      "\u001b[1;31mTypeError\u001b[0m                                 Traceback (most recent call last)",
      "\u001b[1;32m~\\AppData\\Local\\Temp\\ipykernel_15768\\1100030191.py\u001b[0m in \u001b[0;36m<module>\u001b[1;34m\u001b[0m\n\u001b[1;32m----> 1\u001b[1;33m \u001b[0mJ\u001b[0m \u001b[1;33m-\u001b[0m \u001b[0mK\u001b[0m\u001b[1;33m\u001b[0m\u001b[1;33m\u001b[0m\u001b[0m\n\u001b[0m",
      "\u001b[1;31mTypeError\u001b[0m: unsupported operand type(s) for -: 'list' and 'list'"
     ]
    }
   ],
   "source": [
    "J - K"
   ]
  },
  {
   "cell_type": "code",
   "execution_count": 49,
   "id": "77f8753b",
   "metadata": {},
   "outputs": [
    {
     "data": {
      "text/plain": [
       "[2, 5, 9, 'class', 2, 5, 9, 'class']"
      ]
     },
     "execution_count": 49,
     "metadata": {},
     "output_type": "execute_result"
    }
   ],
   "source": [
    "J*2"
   ]
  },
  {
   "cell_type": "code",
   "execution_count": 50,
   "id": "86d4f3f6",
   "metadata": {},
   "outputs": [
    {
     "ename": "TypeError",
     "evalue": "can't multiply sequence by non-int of type 'list'",
     "output_type": "error",
     "traceback": [
      "\u001b[1;31m---------------------------------------------------------------------------\u001b[0m",
      "\u001b[1;31mTypeError\u001b[0m                                 Traceback (most recent call last)",
      "\u001b[1;32m~\\AppData\\Local\\Temp\\ipykernel_15768\\963915122.py\u001b[0m in \u001b[0;36m<module>\u001b[1;34m\u001b[0m\n\u001b[1;32m----> 1\u001b[1;33m \u001b[0mJ\u001b[0m \u001b[1;33m*\u001b[0m \u001b[0mK\u001b[0m\u001b[1;33m\u001b[0m\u001b[1;33m\u001b[0m\u001b[0m\n\u001b[0m",
      "\u001b[1;31mTypeError\u001b[0m: can't multiply sequence by non-int of type 'list'"
     ]
    }
   ],
   "source": [
    "J * K"
   ]
  },
  {
   "cell_type": "code",
   "execution_count": 51,
   "id": "44c85932",
   "metadata": {},
   "outputs": [
    {
     "ename": "TypeError",
     "evalue": "unsupported operand type(s) for /: 'list' and 'list'",
     "output_type": "error",
     "traceback": [
      "\u001b[1;31m---------------------------------------------------------------------------\u001b[0m",
      "\u001b[1;31mTypeError\u001b[0m                                 Traceback (most recent call last)",
      "\u001b[1;32m~\\AppData\\Local\\Temp\\ipykernel_15768\\2482720936.py\u001b[0m in \u001b[0;36m<module>\u001b[1;34m\u001b[0m\n\u001b[1;32m----> 1\u001b[1;33m \u001b[0mJ\u001b[0m \u001b[1;33m/\u001b[0m \u001b[0mK\u001b[0m\u001b[1;33m\u001b[0m\u001b[1;33m\u001b[0m\u001b[0m\n\u001b[0m",
      "\u001b[1;31mTypeError\u001b[0m: unsupported operand type(s) for /: 'list' and 'list'"
     ]
    }
   ],
   "source": [
    "J / K"
   ]
  },
  {
   "cell_type": "code",
   "execution_count": 52,
   "id": "d71aebe0",
   "metadata": {},
   "outputs": [
    {
     "ename": "TypeError",
     "evalue": "unsupported operand type(s) for /: 'list' and 'int'",
     "output_type": "error",
     "traceback": [
      "\u001b[1;31m---------------------------------------------------------------------------\u001b[0m",
      "\u001b[1;31mTypeError\u001b[0m                                 Traceback (most recent call last)",
      "\u001b[1;32m~\\AppData\\Local\\Temp\\ipykernel_15768\\2435212867.py\u001b[0m in \u001b[0;36m<module>\u001b[1;34m\u001b[0m\n\u001b[1;32m----> 1\u001b[1;33m \u001b[0mJ\u001b[0m \u001b[1;33m/\u001b[0m \u001b[1;36m2\u001b[0m\u001b[1;33m\u001b[0m\u001b[1;33m\u001b[0m\u001b[0m\n\u001b[0m",
      "\u001b[1;31mTypeError\u001b[0m: unsupported operand type(s) for /: 'list' and 'int'"
     ]
    }
   ],
   "source": [
    "J / 2"
   ]
  },
  {
   "cell_type": "markdown",
   "id": "b0b51b56",
   "metadata": {},
   "source": [
    "# Applying Mathematical Operators on Tuple"
   ]
  },
  {
   "cell_type": "code",
   "execution_count": 53,
   "id": "3327c17f",
   "metadata": {},
   "outputs": [],
   "source": [
    "M = (9,8,\"Maths\")\n",
    "N = (7,4, True)"
   ]
  },
  {
   "cell_type": "code",
   "execution_count": 54,
   "id": "78ca9113",
   "metadata": {},
   "outputs": [
    {
     "data": {
      "text/plain": [
       "(9, 8, 'Maths', 7, 4, True)"
      ]
     },
     "execution_count": 54,
     "metadata": {},
     "output_type": "execute_result"
    }
   ],
   "source": [
    "M + N"
   ]
  },
  {
   "cell_type": "code",
   "execution_count": 55,
   "id": "866f8db3",
   "metadata": {},
   "outputs": [
    {
     "ename": "TypeError",
     "evalue": "unsupported operand type(s) for -: 'tuple' and 'tuple'",
     "output_type": "error",
     "traceback": [
      "\u001b[1;31m---------------------------------------------------------------------------\u001b[0m",
      "\u001b[1;31mTypeError\u001b[0m                                 Traceback (most recent call last)",
      "\u001b[1;32m~\\AppData\\Local\\Temp\\ipykernel_15768\\2211908687.py\u001b[0m in \u001b[0;36m<module>\u001b[1;34m\u001b[0m\n\u001b[1;32m----> 1\u001b[1;33m \u001b[0mM\u001b[0m \u001b[1;33m-\u001b[0m \u001b[0mN\u001b[0m\u001b[1;33m\u001b[0m\u001b[1;33m\u001b[0m\u001b[0m\n\u001b[0m",
      "\u001b[1;31mTypeError\u001b[0m: unsupported operand type(s) for -: 'tuple' and 'tuple'"
     ]
    }
   ],
   "source": [
    "M - N"
   ]
  },
  {
   "cell_type": "code",
   "execution_count": 56,
   "id": "71640f0f",
   "metadata": {},
   "outputs": [
    {
     "ename": "TypeError",
     "evalue": "can't multiply sequence by non-int of type 'tuple'",
     "output_type": "error",
     "traceback": [
      "\u001b[1;31m---------------------------------------------------------------------------\u001b[0m",
      "\u001b[1;31mTypeError\u001b[0m                                 Traceback (most recent call last)",
      "\u001b[1;32m~\\AppData\\Local\\Temp\\ipykernel_15768\\3536302358.py\u001b[0m in \u001b[0;36m<module>\u001b[1;34m\u001b[0m\n\u001b[1;32m----> 1\u001b[1;33m \u001b[0mM\u001b[0m \u001b[1;33m*\u001b[0m \u001b[0mN\u001b[0m\u001b[1;33m\u001b[0m\u001b[1;33m\u001b[0m\u001b[0m\n\u001b[0m",
      "\u001b[1;31mTypeError\u001b[0m: can't multiply sequence by non-int of type 'tuple'"
     ]
    }
   ],
   "source": [
    "M * N"
   ]
  },
  {
   "cell_type": "code",
   "execution_count": 57,
   "id": "32d2becb",
   "metadata": {},
   "outputs": [
    {
     "ename": "TypeError",
     "evalue": "unsupported operand type(s) for /: 'tuple' and 'tuple'",
     "output_type": "error",
     "traceback": [
      "\u001b[1;31m---------------------------------------------------------------------------\u001b[0m",
      "\u001b[1;31mTypeError\u001b[0m                                 Traceback (most recent call last)",
      "\u001b[1;32m~\\AppData\\Local\\Temp\\ipykernel_15768\\1761348355.py\u001b[0m in \u001b[0;36m<module>\u001b[1;34m\u001b[0m\n\u001b[1;32m----> 1\u001b[1;33m \u001b[0mM\u001b[0m \u001b[1;33m/\u001b[0m \u001b[0mN\u001b[0m\u001b[1;33m\u001b[0m\u001b[1;33m\u001b[0m\u001b[0m\n\u001b[0m",
      "\u001b[1;31mTypeError\u001b[0m: unsupported operand type(s) for /: 'tuple' and 'tuple'"
     ]
    }
   ],
   "source": [
    "M / N"
   ]
  },
  {
   "cell_type": "code",
   "execution_count": 58,
   "id": "16c170b8",
   "metadata": {},
   "outputs": [
    {
     "data": {
      "text/plain": [
       "(9, 8, 'Maths', 9, 8, 'Maths', 9, 8, 'Maths')"
      ]
     },
     "execution_count": 58,
     "metadata": {},
     "output_type": "execute_result"
    }
   ],
   "source": [
    "M * 3"
   ]
  },
  {
   "cell_type": "markdown",
   "id": "d7613c0c",
   "metadata": {},
   "source": [
    "# Applying Mathematical Operators on Dictionary"
   ]
  },
  {
   "cell_type": "code",
   "execution_count": 61,
   "id": "459082db",
   "metadata": {},
   "outputs": [],
   "source": [
    "O = {1: 'Basic', 2: 'Class', 3: 1}\n",
    "P = {\"a\": \"Python\", \"b\": 9}"
   ]
  },
  {
   "cell_type": "code",
   "execution_count": 62,
   "id": "35958f76",
   "metadata": {},
   "outputs": [
    {
     "ename": "TypeError",
     "evalue": "unsupported operand type(s) for +: 'dict' and 'dict'",
     "output_type": "error",
     "traceback": [
      "\u001b[1;31m---------------------------------------------------------------------------\u001b[0m",
      "\u001b[1;31mTypeError\u001b[0m                                 Traceback (most recent call last)",
      "\u001b[1;32m~\\AppData\\Local\\Temp\\ipykernel_15768\\3428873043.py\u001b[0m in \u001b[0;36m<module>\u001b[1;34m\u001b[0m\n\u001b[1;32m----> 1\u001b[1;33m \u001b[0mO\u001b[0m \u001b[1;33m+\u001b[0m \u001b[0mP\u001b[0m\u001b[1;33m\u001b[0m\u001b[1;33m\u001b[0m\u001b[0m\n\u001b[0m",
      "\u001b[1;31mTypeError\u001b[0m: unsupported operand type(s) for +: 'dict' and 'dict'"
     ]
    }
   ],
   "source": [
    "O + P"
   ]
  },
  {
   "cell_type": "code",
   "execution_count": 63,
   "id": "665062c5",
   "metadata": {},
   "outputs": [
    {
     "ename": "TypeError",
     "evalue": "unsupported operand type(s) for *: 'dict' and 'int'",
     "output_type": "error",
     "traceback": [
      "\u001b[1;31m---------------------------------------------------------------------------\u001b[0m",
      "\u001b[1;31mTypeError\u001b[0m                                 Traceback (most recent call last)",
      "\u001b[1;32m~\\AppData\\Local\\Temp\\ipykernel_15768\\3797236501.py\u001b[0m in \u001b[0;36m<module>\u001b[1;34m\u001b[0m\n\u001b[1;32m----> 1\u001b[1;33m \u001b[0mO\u001b[0m\u001b[1;33m*\u001b[0m\u001b[1;36m3\u001b[0m\u001b[1;33m\u001b[0m\u001b[1;33m\u001b[0m\u001b[0m\n\u001b[0m",
      "\u001b[1;31mTypeError\u001b[0m: unsupported operand type(s) for *: 'dict' and 'int'"
     ]
    }
   ],
   "source": [
    "O*3"
   ]
  },
  {
   "cell_type": "markdown",
   "id": "7a1b546e",
   "metadata": {},
   "source": [
    "# Applying Mathematical Operators on Set"
   ]
  },
  {
   "cell_type": "code",
   "execution_count": 64,
   "id": "bc5010a8",
   "metadata": {},
   "outputs": [],
   "source": [
    "Q = {4, \"apple\",True}\n",
    "R = {5, \"mango\"}"
   ]
  },
  {
   "cell_type": "code",
   "execution_count": 65,
   "id": "a5590d0a",
   "metadata": {},
   "outputs": [
    {
     "ename": "TypeError",
     "evalue": "unsupported operand type(s) for +: 'set' and 'set'",
     "output_type": "error",
     "traceback": [
      "\u001b[1;31m---------------------------------------------------------------------------\u001b[0m",
      "\u001b[1;31mTypeError\u001b[0m                                 Traceback (most recent call last)",
      "\u001b[1;32m~\\AppData\\Local\\Temp\\ipykernel_15768\\720445720.py\u001b[0m in \u001b[0;36m<module>\u001b[1;34m\u001b[0m\n\u001b[1;32m----> 1\u001b[1;33m \u001b[0mQ\u001b[0m \u001b[1;33m+\u001b[0m \u001b[0mR\u001b[0m\u001b[1;33m\u001b[0m\u001b[1;33m\u001b[0m\u001b[0m\n\u001b[0m",
      "\u001b[1;31mTypeError\u001b[0m: unsupported operand type(s) for +: 'set' and 'set'"
     ]
    }
   ],
   "source": [
    "Q + R"
   ]
  },
  {
   "cell_type": "code",
   "execution_count": 66,
   "id": "82412e01",
   "metadata": {},
   "outputs": [
    {
     "ename": "TypeError",
     "evalue": "unsupported operand type(s) for *: 'set' and 'int'",
     "output_type": "error",
     "traceback": [
      "\u001b[1;31m---------------------------------------------------------------------------\u001b[0m",
      "\u001b[1;31mTypeError\u001b[0m                                 Traceback (most recent call last)",
      "\u001b[1;32m~\\AppData\\Local\\Temp\\ipykernel_15768\\4215350648.py\u001b[0m in \u001b[0;36m<module>\u001b[1;34m\u001b[0m\n\u001b[1;32m----> 1\u001b[1;33m \u001b[0mQ\u001b[0m\u001b[1;33m*\u001b[0m\u001b[1;36m2\u001b[0m\u001b[1;33m\u001b[0m\u001b[1;33m\u001b[0m\u001b[0m\n\u001b[0m",
      "\u001b[1;31mTypeError\u001b[0m: unsupported operand type(s) for *: 'set' and 'int'"
     ]
    }
   ],
   "source": [
    "Q*2"
   ]
  },
  {
   "cell_type": "markdown",
   "id": "71fc65e3",
   "metadata": {},
   "source": [
    "# Applying Mathematical Operators on Complex Numbers"
   ]
  },
  {
   "cell_type": "code",
   "execution_count": 67,
   "id": "3a97f5fb",
   "metadata": {},
   "outputs": [],
   "source": [
    "S = 3 + 8j\n",
    "T = 4 + 7j"
   ]
  },
  {
   "cell_type": "code",
   "execution_count": 68,
   "id": "5794c977",
   "metadata": {},
   "outputs": [
    {
     "data": {
      "text/plain": [
       "(7+15j)"
      ]
     },
     "execution_count": 68,
     "metadata": {},
     "output_type": "execute_result"
    }
   ],
   "source": [
    "S + T"
   ]
  },
  {
   "cell_type": "code",
   "execution_count": 69,
   "id": "8453dd84",
   "metadata": {},
   "outputs": [
    {
     "data": {
      "text/plain": [
       "(-1+1j)"
      ]
     },
     "execution_count": 69,
     "metadata": {},
     "output_type": "execute_result"
    }
   ],
   "source": [
    "S - T"
   ]
  },
  {
   "cell_type": "code",
   "execution_count": 70,
   "id": "37b5c6da",
   "metadata": {},
   "outputs": [
    {
     "data": {
      "text/plain": [
       "(-44+53j)"
      ]
     },
     "execution_count": 70,
     "metadata": {},
     "output_type": "execute_result"
    }
   ],
   "source": [
    "S * T"
   ]
  },
  {
   "cell_type": "code",
   "execution_count": 71,
   "id": "47fd6caa",
   "metadata": {},
   "outputs": [
    {
     "data": {
      "text/plain": [
       "(1.0461538461538462+0.1692307692307692j)"
      ]
     },
     "execution_count": 71,
     "metadata": {},
     "output_type": "execute_result"
    }
   ],
   "source": [
    "S / T"
   ]
  },
  {
   "cell_type": "code",
   "execution_count": 72,
   "id": "4faa24bc",
   "metadata": {},
   "outputs": [
    {
     "data": {
      "text/plain": [
       "(0.9315068493150684-0.1506849315068493j)"
      ]
     },
     "execution_count": 72,
     "metadata": {},
     "output_type": "execute_result"
    }
   ],
   "source": [
    "T / S"
   ]
  },
  {
   "cell_type": "code",
   "execution_count": 73,
   "id": "dc6af936",
   "metadata": {},
   "outputs": [
    {
     "ename": "TypeError",
     "evalue": "can't take floor of complex number.",
     "output_type": "error",
     "traceback": [
      "\u001b[1;31m---------------------------------------------------------------------------\u001b[0m",
      "\u001b[1;31mTypeError\u001b[0m                                 Traceback (most recent call last)",
      "\u001b[1;32m~\\AppData\\Local\\Temp\\ipykernel_15768\\671620023.py\u001b[0m in \u001b[0;36m<module>\u001b[1;34m\u001b[0m\n\u001b[1;32m----> 1\u001b[1;33m \u001b[0mS\u001b[0m \u001b[1;33m//\u001b[0m \u001b[0mT\u001b[0m\u001b[1;33m\u001b[0m\u001b[1;33m\u001b[0m\u001b[0m\n\u001b[0m",
      "\u001b[1;31mTypeError\u001b[0m: can't take floor of complex number."
     ]
    }
   ],
   "source": [
    "S // T"
   ]
  },
  {
   "cell_type": "code",
   "execution_count": 74,
   "id": "dab14f49",
   "metadata": {},
   "outputs": [
    {
     "data": {
      "text/plain": [
       "(0.5810671301687881+0.9358548904276899j)"
      ]
     },
     "execution_count": 74,
     "metadata": {},
     "output_type": "execute_result"
    }
   ],
   "source": [
    "S ** T"
   ]
  },
  {
   "cell_type": "code",
   "execution_count": 75,
   "id": "86cbf76a",
   "metadata": {},
   "outputs": [
    {
     "ename": "TypeError",
     "evalue": "can't mod complex numbers.",
     "output_type": "error",
     "traceback": [
      "\u001b[1;31m---------------------------------------------------------------------------\u001b[0m",
      "\u001b[1;31mTypeError\u001b[0m                                 Traceback (most recent call last)",
      "\u001b[1;32m~\\AppData\\Local\\Temp\\ipykernel_15768\\3246345255.py\u001b[0m in \u001b[0;36m<module>\u001b[1;34m\u001b[0m\n\u001b[1;32m----> 1\u001b[1;33m \u001b[0mS\u001b[0m \u001b[1;33m%\u001b[0m \u001b[0mT\u001b[0m\u001b[1;33m\u001b[0m\u001b[1;33m\u001b[0m\u001b[0m\n\u001b[0m",
      "\u001b[1;31mTypeError\u001b[0m: can't mod complex numbers."
     ]
    }
   ],
   "source": [
    "S % T"
   ]
  },
  {
   "cell_type": "code",
   "execution_count": null,
   "id": "c6206028",
   "metadata": {},
   "outputs": [],
   "source": []
  }
 ],
 "metadata": {
  "kernelspec": {
   "display_name": "Python 3 (ipykernel)",
   "language": "python",
   "name": "python3"
  },
  "language_info": {
   "codemirror_mode": {
    "name": "ipython",
    "version": 3
   },
   "file_extension": ".py",
   "mimetype": "text/x-python",
   "name": "python",
   "nbconvert_exporter": "python",
   "pygments_lexer": "ipython3",
   "version": "3.9.13"
  }
 },
 "nbformat": 4,
 "nbformat_minor": 5
}
