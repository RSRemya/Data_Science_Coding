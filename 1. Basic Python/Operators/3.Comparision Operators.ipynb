{
 "cells": [
  {
   "cell_type": "code",
   "execution_count": 6,
   "id": "a293dbc0",
   "metadata": {},
   "outputs": [
    {
     "name": "stdout",
     "output_type": "stream",
     "text": [
      "Enter a number : 6\n",
      "Enter another number : 9\n"
     ]
    }
   ],
   "source": [
    "a = int(input(\"Enter a number : \"))\n",
    "b = int(input(\"Enter another number : \"))"
   ]
  },
  {
   "cell_type": "code",
   "execution_count": 8,
   "id": "d87a6442",
   "metadata": {},
   "outputs": [
    {
     "name": "stdout",
     "output_type": "stream",
     "text": [
      "a is not equal to b\n",
      "a is either less than or equal to  b\n",
      "a is less than b\n"
     ]
    }
   ],
   "source": [
    "if ( a == b ):\n",
    "    print(\"a is equal to b\")\n",
    "    \n",
    "if ( a != b ):\n",
    "    print(\"a is not equal to b\")      \n",
    "    \n",
    "if ( a <= b ):\n",
    "    print(\"a is either less than or equal to  b\")\n",
    "    \n",
    "if ( a >= b ):\n",
    "    print(\"a is either greater than  or equal to b\")\n",
    "    \n",
    "if ( a < b ):\n",
    "    print(\"a is less than b\")\n",
    "    \n",
    "if ( a > b ):\n",
    "    print(\"a is greater than b\")"
   ]
  },
  {
   "cell_type": "code",
   "execution_count": null,
   "id": "232de7b6",
   "metadata": {},
   "outputs": [],
   "source": []
  }
 ],
 "metadata": {
  "kernelspec": {
   "display_name": "Python 3 (ipykernel)",
   "language": "python",
   "name": "python3"
  },
  "language_info": {
   "codemirror_mode": {
    "name": "ipython",
    "version": 3
   },
   "file_extension": ".py",
   "mimetype": "text/x-python",
   "name": "python",
   "nbconvert_exporter": "python",
   "pygments_lexer": "ipython3",
   "version": "3.9.13"
  }
 },
 "nbformat": 4,
 "nbformat_minor": 5
}
