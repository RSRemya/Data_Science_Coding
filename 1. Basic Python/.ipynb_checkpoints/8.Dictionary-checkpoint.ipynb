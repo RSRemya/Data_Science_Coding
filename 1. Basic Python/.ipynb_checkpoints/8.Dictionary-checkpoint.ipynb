{
 "cells": [
  {
   "cell_type": "code",
   "execution_count": 3,
   "id": "5863e24d",
   "metadata": {},
   "outputs": [
    {
     "data": {
      "text/plain": [
       "dict"
      ]
     },
     "execution_count": 3,
     "metadata": {},
     "output_type": "execute_result"
    }
   ],
   "source": [
    "dit = {\"key1\" : \"python\" , \"key2\" : [2,3,4,5]}\n",
    "type(dit)"
   ]
  },
  {
   "cell_type": "code",
   "execution_count": 2,
   "id": "7cc4108c",
   "metadata": {},
   "outputs": [
    {
     "data": {
      "text/plain": [
       "{True: 'value1', 'key2': 'value2', 'key1': 'abc'}"
      ]
     },
     "execution_count": 2,
     "metadata": {},
     "output_type": "execute_result"
    }
   ],
   "source": [
    "my_dict = {True:'value1','key2':'value2','key1':'valuedfvdfg','key1':'abc'} # Same key check key1 value \n",
    "my_dict"
   ]
  },
  {
   "cell_type": "markdown",
   "id": "e4b87848",
   "metadata": {},
   "source": [
    "# Call values by their key, accessing values based on key"
   ]
  },
  {
   "cell_type": "code",
   "execution_count": 4,
   "id": "47c173b0",
   "metadata": {},
   "outputs": [
    {
     "data": {
      "text/plain": [
       "'value2'"
      ]
     },
     "execution_count": 4,
     "metadata": {},
     "output_type": "execute_result"
    }
   ],
   "source": [
    "my_dict['key2']"
   ]
  },
  {
   "cell_type": "code",
   "execution_count": 5,
   "id": "321bdada",
   "metadata": {},
   "outputs": [
    {
     "data": {
      "text/plain": [
       "33"
      ]
     },
     "execution_count": 5,
     "metadata": {},
     "output_type": "execute_result"
    }
   ],
   "source": [
    "my_dict = {'key1':123,'key2':[12,23,33],'key3':['item0','item1','item2']}\n",
    "my_dict['key2'][2]"
   ]
  },
  {
   "cell_type": "markdown",
   "id": "0d58b55f",
   "metadata": {},
   "source": [
    "# Changing case of value in a dictionary"
   ]
  },
  {
   "cell_type": "code",
   "execution_count": 6,
   "id": "db3b2d70",
   "metadata": {},
   "outputs": [
    {
     "data": {
      "text/plain": [
       "'ITEM0'"
      ]
     },
     "execution_count": 6,
     "metadata": {},
     "output_type": "execute_result"
    }
   ],
   "source": [
    "my_dict['key3'][0].upper()"
   ]
  },
  {
   "cell_type": "code",
   "execution_count": null,
   "id": "ca8eb9f6",
   "metadata": {},
   "outputs": [],
   "source": []
  }
 ],
 "metadata": {
  "kernelspec": {
   "display_name": "Python 3 (ipykernel)",
   "language": "python",
   "name": "python3"
  },
  "language_info": {
   "codemirror_mode": {
    "name": "ipython",
    "version": 3
   },
   "file_extension": ".py",
   "mimetype": "text/x-python",
   "name": "python",
   "nbconvert_exporter": "python",
   "pygments_lexer": "ipython3",
   "version": "3.9.13"
  }
 },
 "nbformat": 4,
 "nbformat_minor": 5
}
