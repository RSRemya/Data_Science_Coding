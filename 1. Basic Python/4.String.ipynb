{
 "cells": [
  {
   "cell_type": "markdown",
   "id": "b133a7ab",
   "metadata": {},
   "source": [
    "# Indexing a string"
   ]
  },
  {
   "cell_type": "code",
   "execution_count": 2,
   "id": "37434dee",
   "metadata": {},
   "outputs": [],
   "source": [
    "l = \"Kalam\""
   ]
  },
  {
   "cell_type": "code",
   "execution_count": 3,
   "id": "cafb8f7c",
   "metadata": {},
   "outputs": [
    {
     "name": "stdout",
     "output_type": "stream",
     "text": [
      "K\n",
      "a\n",
      "l\n",
      "a\n",
      "m\n"
     ]
    }
   ],
   "source": [
    "print(l[0])\n",
    "print(l[1])\n",
    "print(l[2])\n",
    "print(l[3])\n",
    "print(l[4])"
   ]
  },
  {
   "cell_type": "code",
   "execution_count": 4,
   "id": "66fc1a3d",
   "metadata": {},
   "outputs": [
    {
     "name": "stdout",
     "output_type": "stream",
     "text": [
      "m\n",
      "a\n",
      "l\n",
      "a\n",
      "K\n"
     ]
    }
   ],
   "source": [
    "print(l[-1])\n",
    "print(l[-2])\n",
    "print(l[-3])\n",
    "print(l[-4])\n",
    "print(l[-5])"
   ]
  },
  {
   "cell_type": "code",
   "execution_count": 6,
   "id": "e00068ae",
   "metadata": {},
   "outputs": [
    {
     "ename": "IndexError",
     "evalue": "string index out of range",
     "output_type": "error",
     "traceback": [
      "\u001b[1;31m---------------------------------------------------------------------------\u001b[0m",
      "\u001b[1;31mIndexError\u001b[0m                                Traceback (most recent call last)",
      "\u001b[1;32m~\\AppData\\Local\\Temp\\ipykernel_9296\\1591567035.py\u001b[0m in \u001b[0;36m<module>\u001b[1;34m\u001b[0m\n\u001b[1;32m----> 1\u001b[1;33m \u001b[0ml\u001b[0m\u001b[1;33m[\u001b[0m\u001b[1;36m5\u001b[0m\u001b[1;33m]\u001b[0m\u001b[1;31m# Only 5 letters are there in l... this command will give an error\u001b[0m\u001b[1;33m\u001b[0m\u001b[1;33m\u001b[0m\u001b[0m\n\u001b[0m",
      "\u001b[1;31mIndexError\u001b[0m: string index out of range"
     ]
    }
   ],
   "source": [
    "l[5]# Only 5 letters are there in l... this command will give an error"
   ]
  },
  {
   "cell_type": "code",
   "execution_count": 9,
   "id": "6207d3e1",
   "metadata": {},
   "outputs": [
    {
     "name": "stdout",
     "output_type": "stream",
     "text": [
      "index of 'ordinary' in string: 5\n"
     ]
    }
   ],
   "source": [
    "string = 'extraordinary'\n",
    "print(\"index of 'ordinary' in string:\", string.index('ordinary'))\n",
    "#  to find the index of the first occurrence of an existing substring inside a given string"
   ]
  },
  {
   "cell_type": "markdown",
   "id": "49308de6",
   "metadata": {},
   "source": [
    "# Finding Length of a String"
   ]
  },
  {
   "cell_type": "code",
   "execution_count": 10,
   "id": "c00180eb",
   "metadata": {},
   "outputs": [
    {
     "data": {
      "text/plain": [
       "15"
      ]
     },
     "execution_count": 10,
     "metadata": {},
     "output_type": "execute_result"
    }
   ],
   "source": [
    "y = \"APJ Abdul Kalam\"\n",
    "len(y)"
   ]
  },
  {
   "cell_type": "markdown",
   "id": "26aaa6b4",
   "metadata": {},
   "source": [
    "# Slicing of a String"
   ]
  },
  {
   "cell_type": "code",
   "execution_count": 11,
   "id": "621c6c96",
   "metadata": {},
   "outputs": [
    {
     "data": {
      "text/plain": [
       "'ta Scie'"
      ]
     },
     "execution_count": 11,
     "metadata": {},
     "output_type": "execute_result"
    }
   ],
   "source": [
    "m = \"Data Science\"\n",
    "m[2:9]"
   ]
  },
  {
   "cell_type": "code",
   "execution_count": 12,
   "id": "0d4e0bee",
   "metadata": {},
   "outputs": [
    {
     "data": {
      "text/plain": [
       "'ta Science'"
      ]
     },
     "execution_count": 12,
     "metadata": {},
     "output_type": "execute_result"
    }
   ],
   "source": [
    "m[2:100]"
   ]
  },
  {
   "cell_type": "code",
   "execution_count": 13,
   "id": "f961cf99",
   "metadata": {},
   "outputs": [
    {
     "data": {
      "text/plain": [
       "'Data Science'"
      ]
     },
     "execution_count": 13,
     "metadata": {},
     "output_type": "execute_result"
    }
   ],
   "source": [
    "m[0:100:1]"
   ]
  },
  {
   "cell_type": "code",
   "execution_count": 14,
   "id": "2330abf6",
   "metadata": {},
   "outputs": [
    {
     "data": {
      "text/plain": [
       "'Dt cec'"
      ]
     },
     "execution_count": 14,
     "metadata": {},
     "output_type": "execute_result"
    }
   ],
   "source": [
    "m[0:100:2]"
   ]
  },
  {
   "cell_type": "code",
   "execution_count": 17,
   "id": "b4b5b27d",
   "metadata": {},
   "outputs": [
    {
     "data": {
      "text/plain": [
       "''"
      ]
     },
     "execution_count": 17,
     "metadata": {},
     "output_type": "execute_result"
    }
   ],
   "source": [
    "m[0:100:-1]"
   ]
  },
  {
   "cell_type": "code",
   "execution_count": 18,
   "id": "49b378c2",
   "metadata": {},
   "outputs": [
    {
     "data": {
      "text/plain": [
       "'D'"
      ]
     },
     "execution_count": 18,
     "metadata": {},
     "output_type": "execute_result"
    }
   ],
   "source": [
    "m[0:-100:-1]"
   ]
  },
  {
   "cell_type": "code",
   "execution_count": 19,
   "id": "e3bfa376",
   "metadata": {},
   "outputs": [
    {
     "data": {
      "text/plain": [
       "'Data Science'"
      ]
     },
     "execution_count": 19,
     "metadata": {},
     "output_type": "execute_result"
    }
   ],
   "source": [
    "m[::]"
   ]
  },
  {
   "cell_type": "code",
   "execution_count": 20,
   "id": "2b91c291",
   "metadata": {},
   "outputs": [
    {
     "data": {
      "text/plain": [
       "'Dt cec'"
      ]
     },
     "execution_count": 20,
     "metadata": {},
     "output_type": "execute_result"
    }
   ],
   "source": [
    "m[::2]"
   ]
  },
  {
   "cell_type": "code",
   "execution_count": 21,
   "id": "7b6af71a",
   "metadata": {},
   "outputs": [
    {
     "data": {
      "text/plain": [
       "'ce'"
      ]
     },
     "execution_count": 21,
     "metadata": {},
     "output_type": "execute_result"
    }
   ],
   "source": [
    "m[-2:]"
   ]
  },
  {
   "cell_type": "code",
   "execution_count": 22,
   "id": "e8724f92",
   "metadata": {},
   "outputs": [
    {
     "data": {
      "text/plain": [
       "'ecneicS ataD'"
      ]
     },
     "execution_count": 22,
     "metadata": {},
     "output_type": "execute_result"
    }
   ],
   "source": [
    "m[::-1]"
   ]
  },
  {
   "cell_type": "code",
   "execution_count": 23,
   "id": "90f63198",
   "metadata": {},
   "outputs": [
    {
     "data": {
      "text/plain": [
       "'ecneicS ataD'"
      ]
     },
     "execution_count": 23,
     "metadata": {},
     "output_type": "execute_result"
    }
   ],
   "source": [
    "m[-1::-1]"
   ]
  },
  {
   "cell_type": "code",
   "execution_count": 26,
   "id": "c93007ce",
   "metadata": {},
   "outputs": [
    {
     "data": {
      "text/plain": [
       "'Data Science'"
      ]
     },
     "execution_count": 26,
     "metadata": {},
     "output_type": "execute_result"
    }
   ],
   "source": [
    "m[-12:12]"
   ]
  },
  {
   "cell_type": "code",
   "execution_count": 27,
   "id": "4e09e0a7",
   "metadata": {},
   "outputs": [
    {
     "data": {
      "text/plain": [
       "'Data Science'"
      ]
     },
     "execution_count": 27,
     "metadata": {},
     "output_type": "execute_result"
    }
   ],
   "source": [
    "m[-12:12:1]"
   ]
  },
  {
   "cell_type": "code",
   "execution_count": 28,
   "id": "ed634ab8",
   "metadata": {},
   "outputs": [
    {
     "data": {
      "text/plain": [
       "''"
      ]
     },
     "execution_count": 28,
     "metadata": {},
     "output_type": "execute_result"
    }
   ],
   "source": [
    "m[-12:12:-1]"
   ]
  },
  {
   "cell_type": "markdown",
   "id": "6989fdf9",
   "metadata": {},
   "source": [
    "# Applying Mathematical Operators on a String"
   ]
  },
  {
   "cell_type": "code",
   "execution_count": 29,
   "id": "8de5d5e3",
   "metadata": {},
   "outputs": [
    {
     "data": {
      "text/plain": [
       "'practicepracticepractice'"
      ]
     },
     "execution_count": 29,
     "metadata": {},
     "output_type": "execute_result"
    }
   ],
   "source": [
    "\"practice\"*3"
   ]
  },
  {
   "cell_type": "code",
   "execution_count": 34,
   "id": "95b76ebd",
   "metadata": {},
   "outputs": [
    {
     "data": {
      "text/plain": [
       "'practice coding'"
      ]
     },
     "execution_count": 34,
     "metadata": {},
     "output_type": "execute_result"
    }
   ],
   "source": [
    "\"practice\"+\" coding\""
   ]
  },
  {
   "cell_type": "markdown",
   "id": "6e27aec0",
   "metadata": {},
   "source": [
    "# Counting number of times a letter occurs in a string"
   ]
  },
  {
   "cell_type": "code",
   "execution_count": 33,
   "id": "3fb8b7f4",
   "metadata": {},
   "outputs": [
    {
     "data": {
      "text/plain": [
       "5"
      ]
     },
     "execution_count": 33,
     "metadata": {},
     "output_type": "execute_result"
    }
   ],
   "source": [
    "x =\"Count of letters in sentence\"\n",
    "\n",
    "x.count('e')#shows how many times y occurs in variable x"
   ]
  },
  {
   "cell_type": "markdown",
   "id": "6d1d74aa",
   "metadata": {},
   "source": [
    "# Finding position of a letter in a string"
   ]
  },
  {
   "cell_type": "code",
   "execution_count": 39,
   "id": "455bbf0d",
   "metadata": {},
   "outputs": [
    {
     "data": {
      "text/plain": [
       "1"
      ]
     },
     "execution_count": 39,
     "metadata": {},
     "output_type": "execute_result"
    }
   ],
   "source": [
    "x.find('o')# shows position of letter a when it occurs for first time in variable x"
   ]
  },
  {
   "cell_type": "markdown",
   "id": "b1c825c3",
   "metadata": {},
   "source": [
    "# Splitting a string where a particular character occurs"
   ]
  },
  {
   "cell_type": "code",
   "execution_count": 40,
   "id": "62e18972",
   "metadata": {},
   "outputs": [
    {
     "data": {
      "text/plain": [
       "['Count of l', 'tt', 'rs in s', 'nt', 'nc', '']"
      ]
     },
     "execution_count": 40,
     "metadata": {},
     "output_type": "execute_result"
    }
   ],
   "source": [
    "x.split('e')"
   ]
  },
  {
   "cell_type": "markdown",
   "id": "a5316ab1",
   "metadata": {},
   "source": [
    "# Changing Case of a String"
   ]
  },
  {
   "cell_type": "markdown",
   "id": "220dd352",
   "metadata": {},
   "source": [
    "## Uppercase"
   ]
  },
  {
   "cell_type": "code",
   "execution_count": 41,
   "id": "88395a1d",
   "metadata": {},
   "outputs": [
    {
     "data": {
      "text/plain": [
       "'COUNT OF LETTERS IN SENTENCE'"
      ]
     },
     "execution_count": 41,
     "metadata": {},
     "output_type": "execute_result"
    }
   ],
   "source": [
    "x.upper()"
   ]
  },
  {
   "cell_type": "markdown",
   "id": "8b37ac74",
   "metadata": {},
   "source": [
    "## Lowercase"
   ]
  },
  {
   "cell_type": "code",
   "execution_count": 42,
   "id": "7e9f270e",
   "metadata": {},
   "outputs": [
    {
     "data": {
      "text/plain": [
       "'count of letters in sentence'"
      ]
     },
     "execution_count": 42,
     "metadata": {},
     "output_type": "execute_result"
    }
   ],
   "source": [
    "y = x.lower()\n",
    "y"
   ]
  },
  {
   "cell_type": "code",
   "execution_count": 44,
   "id": "f9234d26",
   "metadata": {},
   "outputs": [
    {
     "data": {
      "text/plain": [
       "'count of letters in sentence'"
      ]
     },
     "execution_count": 44,
     "metadata": {},
     "output_type": "execute_result"
    }
   ],
   "source": [
    "x.casefold()"
   ]
  },
  {
   "cell_type": "markdown",
   "id": "fb03f240",
   "metadata": {},
   "source": [
    "## Swapcase"
   ]
  },
  {
   "cell_type": "code",
   "execution_count": 46,
   "id": "323dd016",
   "metadata": {},
   "outputs": [
    {
     "data": {
      "text/plain": [
       "'Count of letters in sentence'"
      ]
     },
     "execution_count": 46,
     "metadata": {},
     "output_type": "execute_result"
    }
   ],
   "source": [
    "x"
   ]
  },
  {
   "cell_type": "code",
   "execution_count": 47,
   "id": "6fa37bfe",
   "metadata": {},
   "outputs": [
    {
     "data": {
      "text/plain": [
       "'cOUNT OF LETTERS IN SENTENCE'"
      ]
     },
     "execution_count": 47,
     "metadata": {},
     "output_type": "execute_result"
    }
   ],
   "source": [
    "x.swapcase()"
   ]
  },
  {
   "cell_type": "markdown",
   "id": "328c46b0",
   "metadata": {},
   "source": [
    "## Titlecase"
   ]
  },
  {
   "cell_type": "code",
   "execution_count": 48,
   "id": "b99e6f93",
   "metadata": {},
   "outputs": [
    {
     "data": {
      "text/plain": [
       "'Count Of Letters In Sentence'"
      ]
     },
     "execution_count": 48,
     "metadata": {},
     "output_type": "execute_result"
    }
   ],
   "source": [
    "y.title()"
   ]
  },
  {
   "cell_type": "markdown",
   "id": "091f452a",
   "metadata": {},
   "source": [
    "## Capitalise First Letter of the Sentence"
   ]
  },
  {
   "cell_type": "code",
   "execution_count": 49,
   "id": "76b3dbfd",
   "metadata": {},
   "outputs": [
    {
     "data": {
      "text/plain": [
       "'Count of letters in sentence'"
      ]
     },
     "execution_count": 49,
     "metadata": {},
     "output_type": "execute_result"
    }
   ],
   "source": [
    "y.capitalize()"
   ]
  },
  {
   "cell_type": "markdown",
   "id": "656f8cfa",
   "metadata": {},
   "source": [
    "# Reversing a String"
   ]
  },
  {
   "cell_type": "markdown",
   "id": "b7ad1536",
   "metadata": {},
   "source": [
    "## Vertically"
   ]
  },
  {
   "cell_type": "code",
   "execution_count": 52,
   "id": "e6462d12",
   "metadata": {},
   "outputs": [
    {
     "data": {
      "text/plain": [
       "<reversed at 0x1a1279fba60>"
      ]
     },
     "execution_count": 52,
     "metadata": {},
     "output_type": "execute_result"
    }
   ],
   "source": [
    "reversed(\"science\")"
   ]
  },
  {
   "cell_type": "code",
   "execution_count": 51,
   "id": "a8338e15",
   "metadata": {},
   "outputs": [
    {
     "name": "stdout",
     "output_type": "stream",
     "text": [
      "a\n",
      "t\n",
      "a\n",
      "d\n"
     ]
    }
   ],
   "source": [
    "t = \"data\"\n",
    "for i in reversed(t):\n",
    "    print(i)"
   ]
  },
  {
   "cell_type": "markdown",
   "id": "2e892001",
   "metadata": {},
   "source": [
    "## Horizontally"
   ]
  },
  {
   "cell_type": "code",
   "execution_count": 53,
   "id": "33f9af71",
   "metadata": {},
   "outputs": [
    {
     "data": {
      "text/plain": [
       "'atad'"
      ]
     },
     "execution_count": 53,
     "metadata": {},
     "output_type": "execute_result"
    }
   ],
   "source": [
    "t[::-1]# reversing the string"
   ]
  },
  {
   "cell_type": "markdown",
   "id": "4a30e6e6",
   "metadata": {},
   "source": [
    "# Removing space from a String"
   ]
  },
  {
   "cell_type": "code",
   "execution_count": 54,
   "id": "9e8a6598",
   "metadata": {},
   "outputs": [
    {
     "data": {
      "text/plain": [
       "' basic'"
      ]
     },
     "execution_count": 54,
     "metadata": {},
     "output_type": "execute_result"
    }
   ],
   "source": [
    "p = \" basic \"\n",
    "p.rstrip()"
   ]
  },
  {
   "cell_type": "code",
   "execution_count": 55,
   "id": "3809bedf",
   "metadata": {},
   "outputs": [
    {
     "data": {
      "text/plain": [
       "'basic '"
      ]
     },
     "execution_count": 55,
     "metadata": {},
     "output_type": "execute_result"
    }
   ],
   "source": [
    "p.lstrip()"
   ]
  },
  {
   "cell_type": "code",
   "execution_count": 56,
   "id": "d03b1cb7",
   "metadata": {},
   "outputs": [
    {
     "data": {
      "text/plain": [
       "'basic'"
      ]
     },
     "execution_count": 56,
     "metadata": {},
     "output_type": "execute_result"
    }
   ],
   "source": [
    "p.strip()"
   ]
  },
  {
   "cell_type": "markdown",
   "id": "d71054c6",
   "metadata": {},
   "source": [
    "# Changing elements of a String"
   ]
  },
  {
   "cell_type": "code",
   "execution_count": 57,
   "id": "543c0d85",
   "metadata": {},
   "outputs": [
    {
     "data": {
      "text/plain": [
       "' base '"
      ]
     },
     "execution_count": 57,
     "metadata": {},
     "output_type": "execute_result"
    }
   ],
   "source": [
    "p.replace('ic','e')"
   ]
  },
  {
   "cell_type": "markdown",
   "id": "da27f9f7",
   "metadata": {},
   "source": [
    "# Putting Space in between a String"
   ]
  },
  {
   "cell_type": "code",
   "execution_count": 59,
   "id": "299118dd",
   "metadata": {},
   "outputs": [
    {
     "data": {
      "text/plain": [
       "'pra             ctice'"
      ]
     },
     "execution_count": 59,
     "metadata": {},
     "output_type": "execute_result"
    }
   ],
   "source": [
    "'pra\\tctice'.expandtabs()# 3 spaces in between"
   ]
  },
  {
   "cell_type": "markdown",
   "id": "82600888",
   "metadata": {},
   "source": [
    "# Beautifying a string by putting some characters before and after it"
   ]
  },
  {
   "cell_type": "code",
   "execution_count": 62,
   "id": "63e8d51d",
   "metadata": {},
   "outputs": [
    {
     "data": {
      "text/plain": [
       "'*******practice******'"
      ]
     },
     "execution_count": 62,
     "metadata": {},
     "output_type": "execute_result"
    }
   ],
   "source": [
    "# creates and returns a new string that is padded with the specified character.\n",
    "q = 'practice'\n",
    "q.center(21,'*')"
   ]
  },
  {
   "cell_type": "markdown",
   "id": "1aaba87c",
   "metadata": {},
   "source": [
    "# Join elements of the sequence separated by a string separator"
   ]
  },
  {
   "cell_type": "code",
   "execution_count": 63,
   "id": "de3ca704",
   "metadata": {},
   "outputs": [],
   "source": [
    "s1 = \"*\"\n",
    "s2 = \"Kalam\""
   ]
  },
  {
   "cell_type": "code",
   "execution_count": 64,
   "id": "d2de7307",
   "metadata": {},
   "outputs": [
    {
     "data": {
      "text/plain": [
       "'K*a*l*a*m'"
      ]
     },
     "execution_count": 64,
     "metadata": {},
     "output_type": "execute_result"
    }
   ],
   "source": [
    "s1.join(s2)"
   ]
  },
  {
   "cell_type": "code",
   "execution_count": 65,
   "id": "94ad254f",
   "metadata": {},
   "outputs": [
    {
     "data": {
      "text/plain": [
       "'cpython lpython apython spython s'"
      ]
     },
     "execution_count": 65,
     "metadata": {},
     "output_type": "execute_result"
    }
   ],
   "source": [
    "t = 'python '\n",
    "z ='class'\n",
    "t.join(z)"
   ]
  },
  {
   "cell_type": "code",
   "execution_count": null,
   "id": "cba47467",
   "metadata": {},
   "outputs": [],
   "source": [
    "isnum, isalpha, isdecimal, isalnum, is"
   ]
  },
  {
   "cell_type": "code",
   "execution_count": 66,
   "id": "b5aa3cb6",
   "metadata": {},
   "outputs": [
    {
     "name": "stdout",
     "output_type": "stream",
     "text": [
      "Enter a string : data\n",
      "Identifier :  True\n",
      "Alphabets :  True\n",
      "Lowercase :  True\n",
      "Uppercase :  False\n",
      "Titlecase :  False\n",
      "Alphanumeric :  True\n",
      "Numeric :  False\n",
      "Integers :  False\n",
      "Floating point :  False\n"
     ]
    }
   ],
   "source": [
    "data = input(\"Enter a string : \")\n",
    "print(\"Identifier : \", data.isidentifier())\n",
    "print(\"Alphabets : \", data.isalpha())\n",
    "print(\"Lowercase : \", data.islower())\n",
    "print(\"Uppercase : \", data.isupper())\n",
    "print(\"Titlecase : \", data.istitle())\n",
    "print(\"Alphanumeric : \", data.isalnum())\n",
    "print(\"Numeric : \", data.isnumeric())\n",
    "print(\"Integers : \", data.isdigit())\n",
    "print(\"Floating point : \", data.isdecimal())"
   ]
  },
  {
   "cell_type": "markdown",
   "id": "140bbe6b",
   "metadata": {},
   "source": [
    "# Application : checking whether a string is palindrome or not"
   ]
  },
  {
   "cell_type": "code",
   "execution_count": 68,
   "id": "a9fb6121",
   "metadata": {},
   "outputs": [
    {
     "name": "stdout",
     "output_type": "stream",
     "text": [
      "Enter a word : data\n",
      "Its not a palindrome\n"
     ]
    }
   ],
   "source": [
    "data = input(\"Enter a word : \")\n",
    "\n",
    "reverse = data[::-1]\n",
    "\n",
    "if data == reverse :\n",
    "    print(\"Its a palindrome\")\n",
    "else:\n",
    "    print(\"Its not a palindrome\")"
   ]
  },
  {
   "cell_type": "code",
   "execution_count": null,
   "id": "f832d8a6",
   "metadata": {},
   "outputs": [],
   "source": []
  }
 ],
 "metadata": {
  "kernelspec": {
   "display_name": "Python 3 (ipykernel)",
   "language": "python",
   "name": "python3"
  },
  "language_info": {
   "codemirror_mode": {
    "name": "ipython",
    "version": 3
   },
   "file_extension": ".py",
   "mimetype": "text/x-python",
   "name": "python",
   "nbconvert_exporter": "python",
   "pygments_lexer": "ipython3",
   "version": "3.9.13"
  }
 },
 "nbformat": 4,
 "nbformat_minor": 5
}
