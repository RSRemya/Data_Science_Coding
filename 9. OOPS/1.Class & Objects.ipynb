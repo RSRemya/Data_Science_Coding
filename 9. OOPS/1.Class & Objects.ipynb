{
 "cells": [
  {
   "cell_type": "markdown",
   "id": "50f6b659",
   "metadata": {},
   "source": [
    "# Concepts"
   ]
  },
  {
   "cell_type": "code",
   "execution_count": null,
   "id": "a9e8d28c",
   "metadata": {},
   "outputs": [],
   "source": [
    "# Class is blueprint containing all attributes and methods to create an object\n",
    "# or we can say that class ia a code template for object creation\n",
    "\n",
    "# Object is instance of a class\n",
    "# instance means – an example\n",
    "# properties of an object is called attributes\n",
    "# functionality of an object is called methods\n",
    "# An object can be anything that has properties and function\n"
   ]
  },
  {
   "cell_type": "code",
   "execution_count": null,
   "id": "5bb6c708",
   "metadata": {},
   "outputs": [],
   "source": []
  },
  {
   "cell_type": "markdown",
   "id": "c0c63ede",
   "metadata": {},
   "source": [
    "# Empty class"
   ]
  },
  {
   "cell_type": "code",
   "execution_count": 1,
   "id": "ec04a564",
   "metadata": {},
   "outputs": [],
   "source": [
    "class Emp:\n",
    "    pass\n",
    "\n",
    "# Emp is a class, an empty class\n",
    "\n",
    "# Never avoid making body of the class....although its empty"
   ]
  },
  {
   "cell_type": "code",
   "execution_count": 2,
   "id": "fb10275b",
   "metadata": {},
   "outputs": [
    {
     "name": "stdout",
     "output_type": "stream",
     "text": [
      "<class '__main__.Emp'>\n"
     ]
    }
   ],
   "source": [
    "e=Emp()\n",
    "# e is an object now\n",
    "\n",
    "print(type(e))"
   ]
  },
  {
   "cell_type": "code",
   "execution_count": 3,
   "id": "be05a70e",
   "metadata": {},
   "outputs": [
    {
     "name": "stdout",
     "output_type": "stream",
     "text": [
      "<__main__.Emp object at 0x000001C6F1DE0430>\n"
     ]
    }
   ],
   "source": [
    "print(e)"
   ]
  },
  {
   "cell_type": "code",
   "execution_count": 4,
   "id": "2afdaac2",
   "metadata": {},
   "outputs": [
    {
     "data": {
      "text/plain": [
       "1953973011504"
      ]
     },
     "execution_count": 4,
     "metadata": {},
     "output_type": "execute_result"
    }
   ],
   "source": [
    "id(e)\n",
    "# Shows location of the object"
   ]
  },
  {
   "cell_type": "markdown",
   "id": "d1de97f0",
   "metadata": {},
   "source": [
    "# Using self in class"
   ]
  },
  {
   "cell_type": "code",
   "execution_count": 2,
   "id": "b95452b4",
   "metadata": {},
   "outputs": [],
   "source": [
    "# self acts as pointer\n",
    "# By using the “self”  we can access the attributes and methods of the class in python. \n",
    "# It binds the attributes with the given arguments.\n",
    "\n",
    "class India:\n",
    "    def geo(self):#self is used to map function to a class\n",
    "        print(\"Its a country\")\n",
    "    \n",
    "    def citizen(self):\n",
    "        print(\"Indians\")\n",
    "        \n",
    "    def capital(self):\n",
    "        print(\"Delhi\")\n",
    "\n",
    "# all functions which are not static, is defined should be connected with class........ its done with the help of self"
   ]
  },
  {
   "cell_type": "code",
   "execution_count": 3,
   "id": "36e6ed81",
   "metadata": {},
   "outputs": [],
   "source": [
    "x = India()"
   ]
  },
  {
   "cell_type": "code",
   "execution_count": 4,
   "id": "b1ecc2b3",
   "metadata": {},
   "outputs": [
    {
     "name": "stdout",
     "output_type": "stream",
     "text": [
      "Its a country\n"
     ]
    }
   ],
   "source": [
    "x.geo()"
   ]
  },
  {
   "cell_type": "code",
   "execution_count": 5,
   "id": "00d9bcb8",
   "metadata": {},
   "outputs": [
    {
     "name": "stdout",
     "output_type": "stream",
     "text": [
      "Indians\n"
     ]
    }
   ],
   "source": [
    "x.citizen()"
   ]
  },
  {
   "cell_type": "code",
   "execution_count": 6,
   "id": "4bc1b825",
   "metadata": {},
   "outputs": [
    {
     "name": "stdout",
     "output_type": "stream",
     "text": [
      "Delhi\n"
     ]
    }
   ],
   "source": [
    "x.capital()"
   ]
  },
  {
   "cell_type": "code",
   "execution_count": 7,
   "id": "19da3b4f",
   "metadata": {},
   "outputs": [],
   "source": [
    "class State:\n",
    "    def name(self):\n",
    "        print(\"The state is : \", self.n)# n is an argument\n",
    "        \n",
    "    def capital(self):\n",
    "        print(\"The capital of state is : \", self.c)# c is an argument\n",
    "    "
   ]
  },
  {
   "cell_type": "code",
   "execution_count": 10,
   "id": "3b651e13",
   "metadata": {},
   "outputs": [
    {
     "name": "stdout",
     "output_type": "stream",
     "text": [
      "The state is :  Kerala\n"
     ]
    }
   ],
   "source": [
    "a=State() # Object of class State\n",
    "\n",
    "a.n=\"Kerala\"\n",
    "a.c=\"Thiruvananthapuram\"\n",
    "#in above two statements n and c are class variable/instance variable/variable/attributes\n",
    "\n",
    "a.name()"
   ]
  },
  {
   "cell_type": "code",
   "execution_count": 11,
   "id": "d9e3dbf0",
   "metadata": {},
   "outputs": [
    {
     "name": "stdout",
     "output_type": "stream",
     "text": [
      "The state is :  Kerala\n"
     ]
    }
   ],
   "source": [
    "a.name()"
   ]
  },
  {
   "cell_type": "code",
   "execution_count": 12,
   "id": "a3507419",
   "metadata": {},
   "outputs": [
    {
     "name": "stdout",
     "output_type": "stream",
     "text": [
      "The capital of state is :  Thiruvananthapuram\n"
     ]
    }
   ],
   "source": [
    "a.capital()"
   ]
  },
  {
   "cell_type": "code",
   "execution_count": 13,
   "id": "5f43b4c6",
   "metadata": {},
   "outputs": [
    {
     "name": "stdout",
     "output_type": "stream",
     "text": [
      "The state is :  Tamil Nadu\n"
     ]
    }
   ],
   "source": [
    "b=State()# New object of class State\n",
    "\n",
    "b.n = \"Tamil Nadu\"\n",
    "b.c = \"Chennai\"\n",
    "\n",
    "b.name()"
   ]
  },
  {
   "cell_type": "code",
   "execution_count": 15,
   "id": "048507fd",
   "metadata": {},
   "outputs": [
    {
     "name": "stdout",
     "output_type": "stream",
     "text": [
      "The capital of state is :  Chennai\n"
     ]
    }
   ],
   "source": [
    "b.capital()"
   ]
  },
  {
   "cell_type": "code",
   "execution_count": 16,
   "id": "5eeb58d0",
   "metadata": {},
   "outputs": [
    {
     "data": {
      "text/plain": [
       "['__class__',\n",
       " '__delattr__',\n",
       " '__dict__',\n",
       " '__dir__',\n",
       " '__doc__',\n",
       " '__eq__',\n",
       " '__format__',\n",
       " '__ge__',\n",
       " '__getattribute__',\n",
       " '__gt__',\n",
       " '__hash__',\n",
       " '__init__',\n",
       " '__init_subclass__',\n",
       " '__le__',\n",
       " '__lt__',\n",
       " '__module__',\n",
       " '__ne__',\n",
       " '__new__',\n",
       " '__reduce__',\n",
       " '__reduce_ex__',\n",
       " '__repr__',\n",
       " '__setattr__',\n",
       " '__sizeof__',\n",
       " '__str__',\n",
       " '__subclasshook__',\n",
       " '__weakref__',\n",
       " 'c',\n",
       " 'capital',\n",
       " 'n',\n",
       " 'name']"
      ]
     },
     "execution_count": 16,
     "metadata": {},
     "output_type": "execute_result"
    }
   ],
   "source": [
    "# To check, with how many modules a can be conneted:\n",
    "dir(a)"
   ]
  },
  {
   "cell_type": "markdown",
   "id": "9367d5fc",
   "metadata": {},
   "source": [
    "# Using __init__ module in class"
   ]
  },
  {
   "cell_type": "code",
   "execution_count": 1,
   "id": "bd0186bb",
   "metadata": {},
   "outputs": [],
   "source": [
    "# Among the modules in above code ie. dir(a):\n",
    "    # __init__ is a constructor used to avoid repitation of variable assignment in objects formed\n",
    "    # In above case we have written name and capital for all object separately, \n",
    "    # so in order to avoid such lengthy codes, __init__ is used\n",
    "    \n",
    "class toy:\n",
    "    def __init__(self,name,color,weight):\n",
    "        #self is pointer \n",
    "        #& rest of the things : name,color,weight are attributes\n",
    "        self.name = name\n",
    "        self.color = color\n",
    "        self.weight = weight\n",
    "        \n",
    "    def introduction(self):\n",
    "        print(f\"Color of {self.name} is {self.color}. {self.name} weights {self.weight}\")\n",
    "            "
   ]
  },
  {
   "cell_type": "code",
   "execution_count": 2,
   "id": "b75a04c9",
   "metadata": {},
   "outputs": [
    {
     "name": "stdout",
     "output_type": "stream",
     "text": [
      "Color of Tom is grey. Tom weights 100 gm\n"
     ]
    }
   ],
   "source": [
    "t1 = toy(\"Tom\",\"grey\",\"100 gm\")\n",
    "t1.introduction()"
   ]
  },
  {
   "cell_type": "code",
   "execution_count": 3,
   "id": "4d78b290",
   "metadata": {},
   "outputs": [
    {
     "name": "stdout",
     "output_type": "stream",
     "text": [
      "Color of Jerry is brown. Jerry weights 10 gm\n"
     ]
    }
   ],
   "source": [
    "t2 = toy(\"Jerry\",\"brown\",\"10 gm\")\n",
    "t2.introduction()"
   ]
  },
  {
   "cell_type": "markdown",
   "id": "b86a6ab9",
   "metadata": {},
   "source": [
    "# Self"
   ]
  },
  {
   "cell_type": "code",
   "execution_count": 30,
   "id": "ea973aae",
   "metadata": {},
   "outputs": [],
   "source": [
    "#instead of self one can write anything in place of it, but replace self with that element everywhere\n",
    "\n",
    "class Car:\n",
    "    def __init__(a,m,y,ma,mo):\n",
    "        a.milage=m\n",
    "        a.year=y\n",
    "        a.make=ma\n",
    "        a.model=mo\n",
    "        \n",
    "    def age(a,current_year):\n",
    "        return (\"Number of years for which car was used : \", current_year-a.year)\n",
    "    \n",
    "    def milage1(self):\n",
    "        return(\"Print a milage of the call\", self.milage)\n",
    "    \n",
    "    def __str__(c):\n",
    "        # __str__ is a method that will return some string\n",
    "        # where we don't want to use any memory, and just print statement should be returned, __str__ is used\n",
    "        return \"this is from class i have created\""
   ]
  },
  {
   "cell_type": "code",
   "execution_count": 31,
   "id": "600909f4",
   "metadata": {},
   "outputs": [
    {
     "data": {
      "text/plain": [
       "('Number of years for which car was used : ', 4)"
      ]
     },
     "execution_count": 31,
     "metadata": {},
     "output_type": "execute_result"
    }
   ],
   "source": [
    "nano=Car(10,2019,45,\"bhjagudbs\")\n",
    "nano.age(2023)"
   ]
  },
  {
   "cell_type": "raw",
   "id": "77f4abcd",
   "metadata": {},
   "source": [
    "Method __str__\n",
    "\n",
    "__str__ method is used to make a string representation of a class."
   ]
  },
  {
   "cell_type": "code",
   "execution_count": 33,
   "id": "b71b5864",
   "metadata": {},
   "outputs": [],
   "source": [
    "class Person:\n",
    "    \n",
    "    def __init__(self,first_name,last_name,age):\n",
    "        self.first_name=first_name\n",
    "        self.last_name=last_name\n",
    "        self.age=age\n",
    "        \n",
    "    def __str__(self):\n",
    "        return \" this is the person class\"\n",
    "    \n",
    "    def age():\n",
    "        return self.age\n",
    "    \n",
    "    def name():\n",
    "        return (\"First name is : \",self.first_name)"
   ]
  },
  {
   "cell_type": "code",
   "execution_count": 34,
   "id": "b6e64433",
   "metadata": {},
   "outputs": [
    {
     "name": "stdout",
     "output_type": "stream",
     "text": [
      " this is the person class\n"
     ]
    }
   ],
   "source": [
    "person=Person(\"imran\",\"a\",27)\n",
    "print(person)"
   ]
  },
  {
   "cell_type": "markdown",
   "id": "11c1a1c0",
   "metadata": {},
   "source": [
    "# Using try and except inside class"
   ]
  },
  {
   "cell_type": "code",
   "execution_count": 35,
   "id": "fac86482",
   "metadata": {},
   "outputs": [],
   "source": [
    "class Student:\n",
    "    \n",
    "    def __init__(self,name,rollno,joining_date,current_topic):\n",
    "        self.name=name\n",
    "        self.rollno=rollno\n",
    "        self.joining_date=joining_date\n",
    "        self.current_topic=current_topic\n",
    "        \n",
    "        \n",
    "    def cur_topic(self):\n",
    "        print(\"current topic dicussed in class is \", self.current_topic)\n",
    "    \n",
    "    def str_rollno(self):\n",
    "        \n",
    "        try:\n",
    "            if type(self.rollno)==str:\n",
    "                print(\"do nothing\")\n",
    "            \n",
    "            else:\n",
    "                return str(self.rollno)\n",
    "        except Exception as e:\n",
    "            \n",
    "            print(\"this is my error message\", e)\n",
    "            \n",
    "    def duration(self,current_date):\n",
    "        \n",
    "        print(\"durration of student in my class is \", current_date - self.joining_date)\n",
    "        \n",
    "    \n",
    "    def __str__(self):\n",
    "        \n",
    "        return \" this is student class\""
   ]
  },
  {
   "cell_type": "code",
   "execution_count": 36,
   "id": "24f413c3",
   "metadata": {},
   "outputs": [
    {
     "name": "stdout",
     "output_type": "stream",
     "text": [
      "do nothing\n"
     ]
    }
   ],
   "source": [
    "s1= Student(\"remya\",'45',2007,\"data science\")\n",
    "s1.str_rollno()"
   ]
  },
  {
   "cell_type": "code",
   "execution_count": 37,
   "id": "2253a268",
   "metadata": {},
   "outputs": [
    {
     "data": {
      "text/plain": [
       "'37'"
      ]
     },
     "execution_count": 37,
     "metadata": {},
     "output_type": "execute_result"
    }
   ],
   "source": [
    "s2=Student(\"rishma\",37,2012,\"data science\")\n",
    "s2.str_rollno()"
   ]
  },
  {
   "cell_type": "markdown",
   "id": "2f3599c8",
   "metadata": {},
   "source": [
    "# Constructor\n",
    "\n",
    "The main purpose of a constructor is to initialize or assign values to the data members of that class. It cannot return any value other than none."
   ]
  },
  {
   "cell_type": "markdown",
   "id": "c9d68640",
   "metadata": {},
   "source": [
    "### Default Constructor\n",
    "\n",
    "although __init__ is not present, internally after creating a class and corresponding object, python creates a default constructor"
   ]
  },
  {
   "cell_type": "code",
   "execution_count": 39,
   "id": "f5bf0a79",
   "metadata": {},
   "outputs": [],
   "source": [
    "class Student:\n",
    "    \n",
    "    def who(self):\n",
    "        print(\"iam a student\")"
   ]
  },
  {
   "cell_type": "code",
   "execution_count": 40,
   "id": "1405b4ac",
   "metadata": {},
   "outputs": [
    {
     "name": "stdout",
     "output_type": "stream",
     "text": [
      "iam a student\n"
     ]
    }
   ],
   "source": [
    "s1=Student()\n",
    "s1.who()"
   ]
  },
  {
   "cell_type": "markdown",
   "id": "c031ffcb",
   "metadata": {},
   "source": [
    "### Non parametized constructor"
   ]
  },
  {
   "cell_type": "code",
   "execution_count": 55,
   "id": "5b444ac4",
   "metadata": {},
   "outputs": [],
   "source": [
    "class Company:\n",
    "    \n",
    "    def __init__(self):\n",
    "        self.name=\"Remya\"\n",
    "        self.address=\"India\"\n",
    "        \n",
    "        \n",
    "    def show(self):\n",
    "        print(\"Name :\",self.name,\",\",\"Address :\",self.address)"
   ]
  },
  {
   "cell_type": "code",
   "execution_count": 56,
   "id": "d0550d15",
   "metadata": {},
   "outputs": [
    {
     "name": "stdout",
     "output_type": "stream",
     "text": [
      "Name : Remya , Address : India\n"
     ]
    }
   ],
   "source": [
    "cmp=Company()\n",
    "cmp.show()"
   ]
  },
  {
   "cell_type": "markdown",
   "id": "f934a0f1",
   "metadata": {},
   "source": [
    "### Parametized constructor"
   ]
  },
  {
   "cell_type": "code",
   "execution_count": 57,
   "id": "1d306cc7",
   "metadata": {},
   "outputs": [],
   "source": [
    "class Pub_mod:\n",
    "    \n",
    "    def __init__(self,name,age):\n",
    "        \n",
    "        self.name=name\n",
    "        self.age=age\n",
    "        \n",
    "    def age1(self):\n",
    "        print(\"Age : \",self.age)"
   ]
  },
  {
   "cell_type": "code",
   "execution_count": 58,
   "id": "90410083",
   "metadata": {},
   "outputs": [
    {
     "name": "stdout",
     "output_type": "stream",
     "text": [
      "Age :  33\n"
     ]
    }
   ],
   "source": [
    "c1=Pub_mod(\"Remya\",33)\n",
    "c1.age1()"
   ]
  },
  {
   "cell_type": "markdown",
   "id": "2819fb8f",
   "metadata": {},
   "source": [
    "# Using the concept in Maths problems"
   ]
  },
  {
   "cell_type": "code",
   "execution_count": 38,
   "id": "649f0cfb",
   "metadata": {},
   "outputs": [],
   "source": [
    "class Circle:\n",
    "    pi = 3.14159\n",
    "\n",
    "    def __init__(self, radius):\n",
    "        self.radius = radius\n",
    "\n",
    "    def area(self):\n",
    "        return self.pi * self.radius**2\n",
    "\n",
    "    def circumference(self):\n",
    "        return 2 * self.pi * self.radius"
   ]
  },
  {
   "cell_type": "code",
   "execution_count": 39,
   "id": "d244ebca",
   "metadata": {},
   "outputs": [
    {
     "data": {
      "text/plain": [
       "62.8318"
      ]
     },
     "execution_count": 39,
     "metadata": {},
     "output_type": "execute_result"
    }
   ],
   "source": [
    "c = Circle(10)\n",
    "c.circumference()"
   ]
  },
  {
   "cell_type": "code",
   "execution_count": 40,
   "id": "c1054702",
   "metadata": {},
   "outputs": [
    {
     "data": {
      "text/plain": [
       "314.159"
      ]
     },
     "execution_count": 40,
     "metadata": {},
     "output_type": "execute_result"
    }
   ],
   "source": [
    "c.area()"
   ]
  },
  {
   "cell_type": "markdown",
   "id": "e9a5e74e",
   "metadata": {},
   "source": [
    "# Banking Application"
   ]
  },
  {
   "cell_type": "code",
   "execution_count": 41,
   "id": "046adc3a",
   "metadata": {},
   "outputs": [],
   "source": [
    "class BankAccount:\n",
    "    def __init__(self,account_number, name, balance):\n",
    "        self.account_number = account_number\n",
    "        self.name = name\n",
    "        self.balance = balance\n",
    "   \n",
    "    def deposit(self,d_amount):\n",
    "        self.d_amount = d_amount\n",
    "        self.balance += self.d_amount\n",
    "        print(self.d_amount, ' is credited into your bank account')\n",
    "        print(f'your current balance is {self.balance}')\n",
    "\n",
    "    def withdraw(self,w_amount):\n",
    "        self.w_amount = w_amount\n",
    "        self.balance -= self.w_amount\n",
    "        print(self.w_amount, ' is debited into your bank account')\n",
    "        print(f'your current balance is {self.balance}')\n",
    "   \n",
    "    def account_details(self):\n",
    "        print(f'Your name is {self.name}')\n",
    "       \n",
    "        print(f'Your account number is {self.account_number}')\n",
    "        print(f'Your balance is {self.balance}')"
   ]
  },
  {
   "cell_type": "code",
   "execution_count": 45,
   "id": "daf5ef36",
   "metadata": {},
   "outputs": [
    {
     "name": "stdout",
     "output_type": "stream",
     "text": [
      "1200  is credited into your bank account\n",
      "your current balance is 601200\n"
     ]
    }
   ],
   "source": [
    "y  = BankAccount(\"42345622378\",\"Amratya\",600000)\n",
    "y.deposit(1200)"
   ]
  },
  {
   "cell_type": "code",
   "execution_count": 46,
   "id": "3b469423",
   "metadata": {},
   "outputs": [
    {
     "name": "stdout",
     "output_type": "stream",
     "text": [
      "1200  is debited into your bank account\n",
      "your current balance is 600000\n"
     ]
    }
   ],
   "source": [
    "y.withdraw(1200)"
   ]
  },
  {
   "cell_type": "code",
   "execution_count": 52,
   "id": "c15f3134",
   "metadata": {},
   "outputs": [],
   "source": [
    "class Pub_mod:\n",
    "    \n",
    "    def __init__(self,name,age):\n",
    "        \n",
    "        self._name=name\n",
    "        self.age=age\n",
    "        \n",
    "    def age1(self):\n",
    "        print(\"age : \",self.age)"
   ]
  },
  {
   "cell_type": "code",
   "execution_count": 54,
   "id": "fca8f082",
   "metadata": {},
   "outputs": [
    {
     "name": "stdout",
     "output_type": "stream",
     "text": [
      "age :  33\n"
     ]
    }
   ],
   "source": [
    "c1=Pub_mod(\"Remya\",33)\n",
    "c1.age1()"
   ]
  },
  {
   "cell_type": "code",
   "execution_count": 47,
   "id": "9944daa4",
   "metadata": {},
   "outputs": [
    {
     "name": "stdout",
     "output_type": "stream",
     "text": [
      "Your name is Amratya\n",
      "Your account number is 42345622378\n",
      "Your balance is 600000\n"
     ]
    }
   ],
   "source": [
    "y.account_details()"
   ]
  },
  {
   "cell_type": "markdown",
   "id": "263e8caa",
   "metadata": {},
   "source": [
    "# Calculator"
   ]
  },
  {
   "cell_type": "code",
   "execution_count": 27,
   "id": "fbe33d55",
   "metadata": {},
   "outputs": [],
   "source": [
    "class calculator:\n",
    "    def  __init__(self,a,b):\n",
    "        self.a=a\n",
    "        self.b=b\n",
    "    \n",
    "    def add(self):\n",
    "        return self.a+self.b\n",
    "\n",
    "    def subt(self):\n",
    "        return self.a-self.b\n",
    "    \n",
    "    def mul(self):\n",
    "        return self.a*self.b\n",
    "    \n",
    "    def div(self):\n",
    "        return self.a/self.b"
   ]
  },
  {
   "cell_type": "code",
   "execution_count": 29,
   "id": "19a1b521",
   "metadata": {},
   "outputs": [
    {
     "name": "stdout",
     "output_type": "stream",
     "text": [
      "11\n",
      "-1\n",
      "30\n",
      "0.8333333333333334\n"
     ]
    }
   ],
   "source": [
    "c=calculator(5,6)\n",
    "print(c.add())\n",
    "print(c.subt())\n",
    "print(c.mul())\n",
    "print(c.div())"
   ]
  },
  {
   "cell_type": "code",
   "execution_count": null,
   "id": "3e9c28fd",
   "metadata": {},
   "outputs": [],
   "source": []
  },
  {
   "cell_type": "code",
   "execution_count": null,
   "id": "aef7a0e9",
   "metadata": {},
   "outputs": [],
   "source": []
  }
 ],
 "metadata": {
  "kernelspec": {
   "display_name": "Python 3 (ipykernel)",
   "language": "python",
   "name": "python3"
  },
  "language_info": {
   "codemirror_mode": {
    "name": "ipython",
    "version": 3
   },
   "file_extension": ".py",
   "mimetype": "text/x-python",
   "name": "python",
   "nbconvert_exporter": "python",
   "pygments_lexer": "ipython3",
   "version": "3.9.13"
  }
 },
 "nbformat": 4,
 "nbformat_minor": 5
}
