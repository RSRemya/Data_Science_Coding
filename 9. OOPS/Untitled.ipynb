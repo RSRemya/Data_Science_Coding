{
 "cells": [
  {
   "cell_type": "markdown",
   "id": "942716a6",
   "metadata": {},
   "source": [
    "# Logging"
   ]
  },
  {
   "cell_type": "markdown",
   "id": "2b055f30",
   "metadata": {},
   "source": [
    "Log - Critical path of system documentation about runtime status of application\n",
    "\n",
    "Module - Python file with .py extension\n",
    "\n",
    "Levels of building an app : Development→ Debugging → Review → Testing → Production\n",
    "\n",
    "Logging is a module that helps us to keep track and monitor the application by recording log information\n",
    "\n",
    "Levels of logging :  Debug  →  Capture Info  → Warning → Error → Critical\n",
    "\n",
    "\n",
    "point for different levels:\n",
    "DEBUG - 10\n",
    "INFO - 20\n",
    "WARNING - 30\n",
    "ERROR - 40\n",
    "CRITICAL - 50"
   ]
  },
  {
   "cell_type": "markdown",
   "id": "79cb5054",
   "metadata": {},
   "source": [
    "### Eg:"
   ]
  },
  {
   "cell_type": "code",
   "execution_count": null,
   "id": "cb4f295a",
   "metadata": {},
   "outputs": [],
   "source": [
    "def add(x,y):\n",
    "    return x+y\n",
    "\n",
    "def subtract(x,y):\n",
    "    return x-y\n",
    "\n",
    "def multiply(x,y):\n",
    "    return x*y\n",
    "\n",
    "def divide(x,y):\n",
    "    return x/y\n",
    "\n",
    "num1 = 30\n",
    "\n",
    "num2 = 20\n",
    "\n",
    "add_result = add(num1,num2)\n",
    "print(add_result)\n",
    "\n",
    "subtract_result = subtract(num1,num2)\n",
    "print(subtract_result)\n",
    "\n",
    "multiply_result = multiply(num1,num2)\n",
    "print(multiply_result)\n",
    "\n",
    "divide_result = divide(num1,num2)\n",
    "print(divide_result)"
   ]
  },
  {
   "cell_type": "code",
   "execution_count": null,
   "id": "51ba9cd2",
   "metadata": {},
   "outputs": [],
   "source": [
    "import logging"
   ]
  },
  {
   "cell_type": "code",
   "execution_count": 3,
   "id": "cf44b984",
   "metadata": {},
   "outputs": [],
   "source": [
    "import logging\n",
    "\n",
    "# To configure logging write the following coe:\n",
    "logging.basicConfig(level=logging.DEBUG)\n",
    "\n",
    "def add(x,y):\n",
    "    return x+y\n",
    "\n",
    "def subtract(x,y):\n",
    "    return x-y\n",
    "\n",
    "def multiply(x,y):\n",
    "    return x*y\n",
    "\n",
    "def divide(x,y):\n",
    "    return x/y\n",
    "\n",
    "num1 = 30\n",
    "\n",
    "num2 = 20\n",
    "\n",
    "add_result = add(num1,num2)\n",
    "logging.debug(add_result)\n",
    "\n",
    "subtract_result = subtract(num1,num2)\n",
    "logging.debug(subtract_result)\n",
    "\n",
    "multiply_result = multiply(num1,num2)\n",
    "logging.debug(multiply_result)\n",
    "\n",
    "divide_result = divide(num1,num2)\n",
    "logging.debug(divide_result)"
   ]
  },
  {
   "cell_type": "code",
   "execution_count": null,
   "id": "80e40f2a",
   "metadata": {},
   "outputs": [],
   "source": [
    "logging.info(\"hi\")"
   ]
  },
  {
   "cell_type": "code",
   "execution_count": null,
   "id": "f1b854c2",
   "metadata": {},
   "outputs": [],
   "source": [
    "logging.debug(\"hi\")"
   ]
  },
  {
   "cell_type": "code",
   "execution_count": null,
   "id": "eece5c68",
   "metadata": {},
   "outputs": [],
   "source": [
    "logging.warning(\"hi\")"
   ]
  },
  {
   "cell_type": "code",
   "execution_count": null,
   "id": "87bbe876",
   "metadata": {},
   "outputs": [],
   "source": [
    "logging.error(\"hi\")"
   ]
  },
  {
   "cell_type": "code",
   "execution_count": null,
   "id": "3c0259e8",
   "metadata": {},
   "outputs": [],
   "source": [
    "logging.critical(\"hi\")"
   ]
  },
  {
   "cell_type": "code",
   "execution_count": null,
   "id": "094f90d4",
   "metadata": {},
   "outputs": [],
   "source": []
  }
 ],
 "metadata": {
  "kernelspec": {
   "display_name": "Python 3 (ipykernel)",
   "language": "python",
   "name": "python3"
  },
  "language_info": {
   "codemirror_mode": {
    "name": "ipython",
    "version": 3
   },
   "file_extension": ".py",
   "mimetype": "text/x-python",
   "name": "python",
   "nbconvert_exporter": "python",
   "pygments_lexer": "ipython3",
   "version": "3.9.13"
  }
 },
 "nbformat": 4,
 "nbformat_minor": 5
}
