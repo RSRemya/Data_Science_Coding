{
 "cells": [
  {
   "cell_type": "markdown",
   "id": "0a297c53",
   "metadata": {},
   "source": [
    "# Inheritance:\n",
    "    \n",
    "    Inheriting properties of a parent class by child class\n",
    "    \n",
    "    Application - code reusability"
   ]
  },
  {
   "attachments": {
    "images.png": {
     "image/png": "[encoded data removed]"
    }
   },
   "cell_type": "markdown",
   "id": "fa762b50",
   "metadata": {},
   "source": [
    "![images.png](attachment:images.png)"
   ]
  },
  {
   "cell_type": "markdown",
   "id": "8104441c",
   "metadata": {},
   "source": [
    "### Single Inhertance"
   ]
  },
  {
   "attachments": {
    "download%20%282%29.png": {
     "image/png": "[encoded data removed]"
    }
   },
   "cell_type": "markdown",
   "id": "9d10b6e9",
   "metadata": {},
   "source": [
    "![download%20%282%29.png](attachment:download%20%282%29.png)"
   ]
  },
  {
   "cell_type": "code",
   "execution_count": 1,
   "id": "6d176d0a",
   "metadata": {},
   "outputs": [],
   "source": [
    "class Parent:\n",
    "    def func1(self):\n",
    "        print(\"Hello from parent class\")\n",
    "        \n",
    "class child(Parent):\n",
    "    def func2(self):\n",
    "        print(\"Hello Child\")\n",
    "        \n",
    "        "
   ]
  },
  {
   "cell_type": "code",
   "execution_count": 2,
   "id": "fe496293",
   "metadata": {},
   "outputs": [],
   "source": [
    "test=child()"
   ]
  },
  {
   "cell_type": "code",
   "execution_count": 3,
   "id": "bc669f1d",
   "metadata": {},
   "outputs": [
    {
     "name": "stdout",
     "output_type": "stream",
     "text": [
      "Hello from parent class\n"
     ]
    }
   ],
   "source": [
    "test.func1()"
   ]
  },
  {
   "cell_type": "code",
   "execution_count": 4,
   "id": "cd1b1573",
   "metadata": {},
   "outputs": [
    {
     "name": "stdout",
     "output_type": "stream",
     "text": [
      "Hello Child\n"
     ]
    }
   ],
   "source": [
    "test.func2()"
   ]
  },
  {
   "cell_type": "code",
   "execution_count": 6,
   "id": "608e3372",
   "metadata": {},
   "outputs": [
    {
     "name": "stdout",
     "output_type": "stream",
     "text": [
      "Hello from parent class\n"
     ]
    }
   ],
   "source": [
    "test2=Parent()\n",
    "test2.func1()"
   ]
  },
  {
   "cell_type": "code",
   "execution_count": 7,
   "id": "c684bf00",
   "metadata": {},
   "outputs": [
    {
     "ename": "AttributeError",
     "evalue": "'Parent' object has no attribute 'func2'",
     "output_type": "error",
     "traceback": [
      "\u001b[1;31m---------------------------------------------------------------------------\u001b[0m",
      "\u001b[1;31mAttributeError\u001b[0m                            Traceback (most recent call last)",
      "\u001b[1;32m~\\AppData\\Local\\Temp\\ipykernel_11812\\848631700.py\u001b[0m in \u001b[0;36m<module>\u001b[1;34m\u001b[0m\n\u001b[0;32m      1\u001b[0m \u001b[0mtest2\u001b[0m\u001b[1;33m=\u001b[0m\u001b[0mParent\u001b[0m\u001b[1;33m(\u001b[0m\u001b[1;33m)\u001b[0m\u001b[1;33m\u001b[0m\u001b[1;33m\u001b[0m\u001b[0m\n\u001b[1;32m----> 2\u001b[1;33m \u001b[0mtest2\u001b[0m\u001b[1;33m.\u001b[0m\u001b[0mfunc2\u001b[0m\u001b[1;33m(\u001b[0m\u001b[1;33m)\u001b[0m\u001b[1;33m\u001b[0m\u001b[1;33m\u001b[0m\u001b[0m\n\u001b[0m",
      "\u001b[1;31mAttributeError\u001b[0m: 'Parent' object has no attribute 'func2'"
     ]
    }
   ],
   "source": [
    "test2=Parent()\n",
    "test2.func2()"
   ]
  },
  {
   "cell_type": "code",
   "execution_count": null,
   "id": "963c2f0f",
   "metadata": {},
   "outputs": [],
   "source": [
    "# All functions of parent class is inherited by child, but not vice-versa"
   ]
  },
  {
   "cell_type": "markdown",
   "id": "7fd50a0c",
   "metadata": {},
   "source": [
    "### Multiple Inheritance"
   ]
  },
  {
   "attachments": {
    "download%20%283%29.png": {
     "image/png": "[encoded data removed]"
    }
   },
   "cell_type": "markdown",
   "id": "3d46f01d",
   "metadata": {},
   "source": [
    "![download%20%283%29.png](attachment:download%20%283%29.png)"
   ]
  },
  {
   "cell_type": "code",
   "execution_count": 8,
   "id": "5fc9e3e0",
   "metadata": {},
   "outputs": [],
   "source": [
    "class Parent1:\n",
    "    def func1(self):\n",
    "        print(\"Hello from parent1\")\n",
    "    \n",
    "class Parent2:\n",
    "    def func2(self):\n",
    "        print(\"Hello from parent2\")\n",
    "        \n",
    "class Parent3:\n",
    "    def func3(self):\n",
    "        print(\"Hello from parent3\")\n",
    "    \n",
    "    \n",
    "class child(Parent1,Parent2):\n",
    "    def func4(self):\n",
    "        print(\"Hello child\")"
   ]
  },
  {
   "cell_type": "code",
   "execution_count": 9,
   "id": "cb23abfc",
   "metadata": {},
   "outputs": [],
   "source": [
    "test=child()"
   ]
  },
  {
   "cell_type": "code",
   "execution_count": 10,
   "id": "6c9d7773",
   "metadata": {},
   "outputs": [
    {
     "name": "stdout",
     "output_type": "stream",
     "text": [
      "Hello from parent2\n"
     ]
    }
   ],
   "source": [
    "test.func2()"
   ]
  },
  {
   "cell_type": "code",
   "execution_count": 11,
   "id": "debc10c0",
   "metadata": {},
   "outputs": [
    {
     "name": "stdout",
     "output_type": "stream",
     "text": [
      "Hello from parent1\n"
     ]
    }
   ],
   "source": [
    "test.func1()"
   ]
  },
  {
   "cell_type": "code",
   "execution_count": 12,
   "id": "a2d70c4f",
   "metadata": {},
   "outputs": [
    {
     "name": "stdout",
     "output_type": "stream",
     "text": [
      "Hello child\n"
     ]
    }
   ],
   "source": [
    "test.func4()"
   ]
  },
  {
   "cell_type": "markdown",
   "id": "f176836e",
   "metadata": {},
   "source": [
    "### Multi Level Inheritance"
   ]
  },
  {
   "attachments": {
    "download.png": {
     "image/png": "[encoded data removed]"
    }
   },
   "cell_type": "markdown",
   "id": "63e24f1c",
   "metadata": {},
   "source": [
    "![download.png](attachment:download.png)"
   ]
  },
  {
   "cell_type": "code",
   "execution_count": 13,
   "id": "d71b97fe",
   "metadata": {},
   "outputs": [],
   "source": [
    "class test1:\n",
    "    def a(self):\n",
    "        print(\"Inside test1....\")\n",
    "        \n",
    "\n",
    "class test2(test1):\n",
    "    def b(self):\n",
    "        print(\"Inside test2\")\n",
    "        \n",
    "class test3(test2):\n",
    "    def c(self):\n",
    "        print(\"Inside test3...\")\n",
    "        "
   ]
  },
  {
   "cell_type": "code",
   "execution_count": 14,
   "id": "f115fbac",
   "metadata": {},
   "outputs": [],
   "source": [
    "t3=test3()"
   ]
  },
  {
   "cell_type": "code",
   "execution_count": 15,
   "id": "708b3017",
   "metadata": {},
   "outputs": [
    {
     "name": "stdout",
     "output_type": "stream",
     "text": [
      "Inside test1....\n"
     ]
    }
   ],
   "source": [
    "t3.a()"
   ]
  },
  {
   "cell_type": "code",
   "execution_count": 16,
   "id": "9b6cec2e",
   "metadata": {},
   "outputs": [
    {
     "name": "stdout",
     "output_type": "stream",
     "text": [
      "Inside test2\n"
     ]
    }
   ],
   "source": [
    "t3.b()"
   ]
  },
  {
   "cell_type": "code",
   "execution_count": 17,
   "id": "bf981f53",
   "metadata": {},
   "outputs": [
    {
     "name": "stdout",
     "output_type": "stream",
     "text": [
      "Inside test3...\n"
     ]
    }
   ],
   "source": [
    "t3.c()"
   ]
  },
  {
   "cell_type": "code",
   "execution_count": 20,
   "id": "18856fc9",
   "metadata": {},
   "outputs": [],
   "source": [
    "t2=test2()"
   ]
  },
  {
   "cell_type": "code",
   "execution_count": 21,
   "id": "d378c2d9",
   "metadata": {},
   "outputs": [
    {
     "name": "stdout",
     "output_type": "stream",
     "text": [
      "Inside test1....\n"
     ]
    }
   ],
   "source": [
    "t2.a()"
   ]
  },
  {
   "cell_type": "code",
   "execution_count": 22,
   "id": "b4b64791",
   "metadata": {},
   "outputs": [
    {
     "name": "stdout",
     "output_type": "stream",
     "text": [
      "Inside test2\n"
     ]
    }
   ],
   "source": [
    "t2.b()"
   ]
  },
  {
   "cell_type": "code",
   "execution_count": 18,
   "id": "9381b57c",
   "metadata": {},
   "outputs": [],
   "source": [
    "t1=test1()"
   ]
  },
  {
   "cell_type": "code",
   "execution_count": 19,
   "id": "f51f391f",
   "metadata": {},
   "outputs": [
    {
     "name": "stdout",
     "output_type": "stream",
     "text": [
      "Inside test1....\n"
     ]
    }
   ],
   "source": [
    "t1.a()"
   ]
  },
  {
   "cell_type": "code",
   "execution_count": 36,
   "id": "e3248883",
   "metadata": {},
   "outputs": [],
   "source": [
    "# child class should have all arguments in parent class\n",
    "\n",
    "\n",
    "class Phones:\n",
    "    def __init__(self,brand,model,price):\n",
    "        self.brand=brand\n",
    "        self.model=model\n",
    "        self.price=price\n",
    "        \n",
    "    def specs(self):\n",
    "        return (\"brand\",self.brand,\"price\", self.price)\n",
    "    \n",
    "    def typeofphone(self):\n",
    "        if self.price > 25000:\n",
    "            return 'This is a Budget phone'\n",
    "        else:\n",
    "            return 'this is mid range phone'\n",
    "        \n",
    "\n",
    "        \n",
    "class Smartphone(Phones):\n",
    "    def __init__(self,brand,model,price,ram,storage):\n",
    "        super().__init__(brand,model,price)\n",
    "        self.ram=ram\n",
    "        self.storage=storage\n",
    "        \n",
    "# 1. super() is used when we need to build classes(child class) that extend \n",
    "#the functionality of previously build classes(parent class)\n",
    "\n",
    "# in simple words we can say that in order to access attributes of parent class,  super function is used in child class\n",
    "\n",
    "#2.  super function in python is used to access method of immediate parent class   \n",
    "\n",
    "# when you intialize a child class in python you can  call super().__init__() method\n",
    "#this initilize the parent class object into child class\n",
    "\n",
    "class Flashipphone(Smartphone):\n",
    "    def __init__(self,brand,model,price,ram,storage, frontcamera,backcamera, display):\n",
    "        super().__init__(brand,model,price,ram,storage)\n",
    "        self.frontcamera=frontcamera\n",
    "        self.backcamera=backcamera\n",
    "        self.display=display\n",
    "        "
   ]
  },
  {
   "cell_type": "code",
   "execution_count": 37,
   "id": "72333094",
   "metadata": {},
   "outputs": [],
   "source": [
    "p1=Flashipphone('Samsung','s3',60000,128,60,'yes','yes','yes')"
   ]
  },
  {
   "cell_type": "code",
   "execution_count": 38,
   "id": "12606f09",
   "metadata": {},
   "outputs": [
    {
     "data": {
      "text/plain": [
       "('brand', 'Samsung', 'price', 60000)"
      ]
     },
     "execution_count": 38,
     "metadata": {},
     "output_type": "execute_result"
    }
   ],
   "source": [
    "p1.specs()"
   ]
  },
  {
   "cell_type": "code",
   "execution_count": 39,
   "id": "211789d4",
   "metadata": {},
   "outputs": [
    {
     "data": {
      "text/plain": [
       "'This is a Budget phone'"
      ]
     },
     "execution_count": 39,
     "metadata": {},
     "output_type": "execute_result"
    }
   ],
   "source": [
    "p1.typeofphone()"
   ]
  },
  {
   "cell_type": "code",
   "execution_count": 40,
   "id": "d6b9fc6c",
   "metadata": {},
   "outputs": [
    {
     "data": {
      "text/plain": [
       "'yes'"
      ]
     },
     "execution_count": 40,
     "metadata": {},
     "output_type": "execute_result"
    }
   ],
   "source": [
    "p1.frontcamera"
   ]
  },
  {
   "cell_type": "code",
   "execution_count": 6,
   "id": "70396ed3",
   "metadata": {},
   "outputs": [],
   "source": [
    "# how super method works?\n",
    "\n",
    "class Parent:\n",
    "    def __init__(self):\n",
    "        print(\"This is the parent class\")\n",
    "        \n",
    "        \n",
    "class Parent1:\n",
    "    def __init__(self):\n",
    "        print(\"This is the parent1 class\")\n",
    "        \n",
    "    def info(self):\n",
    "        print(\"info\")\n",
    "        \n",
    "class Parent2:\n",
    "    def __init__(self):\n",
    "        print(\"This is the parent2 class\")\n",
    "        \n",
    "        \n",
    "class Child(Parent1,Parent2,Parent):\n",
    "    def hello():\n",
    "        print(\"hello\")\n",
    "    \n",
    "        super(Child,self).__init__()\n",
    "    "
   ]
  },
  {
   "cell_type": "code",
   "execution_count": 7,
   "id": "52ab6b19",
   "metadata": {},
   "outputs": [
    {
     "name": "stdout",
     "output_type": "stream",
     "text": [
      "This is the parent1 class\n"
     ]
    }
   ],
   "source": [
    "t1=Child()"
   ]
  },
  {
   "cell_type": "code",
   "execution_count": null,
   "id": "015b9f10",
   "metadata": {},
   "outputs": [],
   "source": [
    "#here child is acessing immediate parent"
   ]
  },
  {
   "cell_type": "code",
   "execution_count": 8,
   "id": "e7730467",
   "metadata": {},
   "outputs": [],
   "source": [
    "class Child(Parent2,Parent1,Parent):\n",
    "    def hello():\n",
    "        print(\"hello\")\n",
    "    \n",
    "        super(Child,self).__init__()"
   ]
  },
  {
   "cell_type": "code",
   "execution_count": 9,
   "id": "7283ca54",
   "metadata": {},
   "outputs": [
    {
     "name": "stdout",
     "output_type": "stream",
     "text": [
      "This is the parent2 class\n"
     ]
    }
   ],
   "source": [
    "t1=Child()"
   ]
  },
  {
   "cell_type": "markdown",
   "id": "80beb390",
   "metadata": {},
   "source": [
    "### Hierachical Inheritance"
   ]
  },
  {
   "attachments": {
    "hierarchical-inheritance.webp": {
     "image/webp": "[encoded data removed]"
    }
   },
   "cell_type": "markdown",
   "id": "e20e9e4f",
   "metadata": {},
   "source": [
    "![hierarchical-inheritance.webp](attachment:hierarchical-inheritance.webp)"
   ]
  },
  {
   "cell_type": "code",
   "execution_count": 2,
   "id": "f3bfd322",
   "metadata": {},
   "outputs": [],
   "source": [
    "\n",
    "\n",
    "class Vehicle:\n",
    "    def info(self):\n",
    "        print(\"This is Vechicle\")\n",
    "        \n",
    "\n",
    "class Car(Vehicle):\n",
    "    def car_info(self,name):\n",
    "        print(\"car name\",name)\n",
    "        \n",
    "\n",
    "class Truck(Vehicle):\n",
    "    def truck_info(self,name):\n",
    "        print(\"truck name\",name)\n",
    "        \n"
   ]
  },
  {
   "cell_type": "code",
   "execution_count": 3,
   "id": "54e3e225",
   "metadata": {},
   "outputs": [
    {
     "name": "stdout",
     "output_type": "stream",
     "text": [
      "This is Vechicle\n"
     ]
    }
   ],
   "source": [
    "s1=Car()\n",
    "\n",
    "s1.info()"
   ]
  },
  {
   "cell_type": "code",
   "execution_count": 4,
   "id": "aec83c0e",
   "metadata": {},
   "outputs": [
    {
     "name": "stdout",
     "output_type": "stream",
     "text": [
      "car name nano\n"
     ]
    }
   ],
   "source": [
    "s1.car_info('nano')"
   ]
  },
  {
   "cell_type": "code",
   "execution_count": 5,
   "id": "def1aeff",
   "metadata": {},
   "outputs": [
    {
     "name": "stdout",
     "output_type": "stream",
     "text": [
      "truck name mahindra\n"
     ]
    }
   ],
   "source": [
    "t1=Truck()\n",
    "t1.truck_info('mahindra')"
   ]
  },
  {
   "cell_type": "markdown",
   "id": "a22dfbc4",
   "metadata": {},
   "source": [
    "### Hybrid Inheritance"
   ]
  },
  {
   "attachments": {
    "download%20%281%29.png": {
     "image/png": "[encoded data removed]"
    }
   },
   "cell_type": "markdown",
   "id": "07d5c591",
   "metadata": {},
   "source": [
    "![download%20%281%29.png](attachment:download%20%281%29.png)"
   ]
  },
  {
   "cell_type": "code",
   "execution_count": 2,
   "id": "cadd449b",
   "metadata": {},
   "outputs": [],
   "source": [
    "class Vehicle:\n",
    "    def info(self):\n",
    "        print(\"This is Vechicle\")\n",
    "        \n",
    "\n",
    "class Car(Vehicle):\n",
    "    def car_info(self,name):\n",
    "        print(\"car name\",name)\n",
    "        \n",
    "\n",
    "class Truck(Vehicle):\n",
    "    def truck_info(self,name):\n",
    "        print(\"truck name\",name)\n",
    "        \n",
    "class Sportscar(Car,Vehicle):\n",
    "    def sportscar(self):\n",
    "        print(\"inisde from sports class\")"
   ]
  },
  {
   "cell_type": "code",
   "execution_count": 3,
   "id": "935b14e9",
   "metadata": {},
   "outputs": [],
   "source": [
    "d1=Sportscar()"
   ]
  },
  {
   "cell_type": "code",
   "execution_count": 4,
   "id": "affc7a91",
   "metadata": {},
   "outputs": [
    {
     "name": "stdout",
     "output_type": "stream",
     "text": [
      "inisde from sports class\n"
     ]
    }
   ],
   "source": [
    "d1.sportscar()"
   ]
  },
  {
   "cell_type": "code",
   "execution_count": null,
   "id": "5e0ce56e",
   "metadata": {},
   "outputs": [],
   "source": []
  }
 ],
 "metadata": {
  "kernelspec": {
   "display_name": "Python 3 (ipykernel)",
   "language": "python",
   "name": "python3"
  },
  "language_info": {
   "codemirror_mode": {
    "name": "ipython",
    "version": 3
   },
   "file_extension": ".py",
   "mimetype": "text/x-python",
   "name": "python",
   "nbconvert_exporter": "python",
   "pygments_lexer": "ipython3",
   "version": "3.9.13"
  }
 },
 "nbformat": 4,
 "nbformat_minor": 5
}
