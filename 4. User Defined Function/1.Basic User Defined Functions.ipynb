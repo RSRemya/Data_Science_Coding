{
 "cells": [
  {
   "cell_type": "markdown",
   "id": "b27d6fad",
   "metadata": {},
   "source": [
    "# Defining an Empty Function"
   ]
  },
  {
   "cell_type": "code",
   "execution_count": 76,
   "id": "508bd714",
   "metadata": {},
   "outputs": [],
   "source": [
    "def test():\n",
    "    pass\n",
    "    "
   ]
  },
  {
   "cell_type": "markdown",
   "id": "cd85e348",
   "metadata": {},
   "source": [
    "# Defining a function that returns print statement"
   ]
  },
  {
   "cell_type": "code",
   "execution_count": 23,
   "id": "ab0d3016",
   "metadata": {},
   "outputs": [],
   "source": [
    "def test1():\n",
    "    print(\"practice\")"
   ]
  },
  {
   "cell_type": "code",
   "execution_count": 24,
   "id": "4ae84bd4",
   "metadata": {},
   "outputs": [
    {
     "name": "stdout",
     "output_type": "stream",
     "text": [
      "practice\n"
     ]
    }
   ],
   "source": [
    "test1()"
   ]
  },
  {
   "cell_type": "code",
   "execution_count": 25,
   "id": "637de580",
   "metadata": {},
   "outputs": [
    {
     "name": "stdout",
     "output_type": "stream",
     "text": [
      "practice\n"
     ]
    }
   ],
   "source": [
    "a = test1()"
   ]
  },
  {
   "cell_type": "code",
   "execution_count": 26,
   "id": "39601c05",
   "metadata": {},
   "outputs": [
    {
     "data": {
      "text/plain": [
       "NoneType"
      ]
     },
     "execution_count": 26,
     "metadata": {},
     "output_type": "execute_result"
    }
   ],
   "source": [
    "type(a)"
   ]
  },
  {
   "cell_type": "code",
   "execution_count": 27,
   "id": "8ab3a349",
   "metadata": {},
   "outputs": [
    {
     "ename": "TypeError",
     "evalue": "unsupported operand type(s) for +: 'NoneType' and 'str'",
     "output_type": "error",
     "traceback": [
      "\u001b[1;31m---------------------------------------------------------------------------\u001b[0m",
      "\u001b[1;31mTypeError\u001b[0m                                 Traceback (most recent call last)",
      "\u001b[1;32m~\\AppData\\Local\\Temp\\ipykernel_4372\\1007442972.py\u001b[0m in \u001b[0;36m<module>\u001b[1;34m\u001b[0m\n\u001b[1;32m----> 1\u001b[1;33m \u001b[0ma\u001b[0m\u001b[1;33m+\u001b[0m\u001b[1;34m\"python\"\u001b[0m\u001b[1;33m\u001b[0m\u001b[1;33m\u001b[0m\u001b[0m\n\u001b[0m",
      "\u001b[1;31mTypeError\u001b[0m: unsupported operand type(s) for +: 'NoneType' and 'str'"
     ]
    }
   ],
   "source": [
    "a+\"python\""
   ]
  },
  {
   "cell_type": "markdown",
   "id": "a136af89",
   "metadata": {},
   "source": [
    "# Defining a function that returns a string"
   ]
  },
  {
   "cell_type": "code",
   "execution_count": 28,
   "id": "66e77dab",
   "metadata": {},
   "outputs": [],
   "source": [
    "def test2():\n",
    "    return \"practice\""
   ]
  },
  {
   "cell_type": "code",
   "execution_count": 29,
   "id": "45936ccb",
   "metadata": {},
   "outputs": [
    {
     "data": {
      "text/plain": [
       "'practice'"
      ]
     },
     "execution_count": 29,
     "metadata": {},
     "output_type": "execute_result"
    }
   ],
   "source": [
    "test2()"
   ]
  },
  {
   "cell_type": "code",
   "execution_count": 30,
   "id": "bcc63cba",
   "metadata": {},
   "outputs": [],
   "source": [
    "b = test2()"
   ]
  },
  {
   "cell_type": "code",
   "execution_count": 31,
   "id": "a52d0b6e",
   "metadata": {},
   "outputs": [
    {
     "data": {
      "text/plain": [
       "str"
      ]
     },
     "execution_count": 31,
     "metadata": {},
     "output_type": "execute_result"
    }
   ],
   "source": [
    "type(b)"
   ]
  },
  {
   "cell_type": "code",
   "execution_count": 32,
   "id": "401fcb5c",
   "metadata": {},
   "outputs": [
    {
     "data": {
      "text/plain": [
       "'practice'"
      ]
     },
     "execution_count": 32,
     "metadata": {},
     "output_type": "execute_result"
    }
   ],
   "source": [
    "b"
   ]
  },
  {
   "cell_type": "code",
   "execution_count": 34,
   "id": "564cf2b4",
   "metadata": {},
   "outputs": [
    {
     "data": {
      "text/plain": [
       "'practice python'"
      ]
     },
     "execution_count": 34,
     "metadata": {},
     "output_type": "execute_result"
    }
   ],
   "source": [
    "b + \" python\""
   ]
  },
  {
   "cell_type": "markdown",
   "id": "762ace67",
   "metadata": {},
   "source": [
    "# Defining a function that returns an Integer "
   ]
  },
  {
   "cell_type": "code",
   "execution_count": 36,
   "id": "44f68f6f",
   "metadata": {},
   "outputs": [],
   "source": [
    "def test3():\n",
    "    return 5 "
   ]
  },
  {
   "cell_type": "code",
   "execution_count": 37,
   "id": "e75b4233",
   "metadata": {},
   "outputs": [
    {
     "data": {
      "text/plain": [
       "5"
      ]
     },
     "execution_count": 37,
     "metadata": {},
     "output_type": "execute_result"
    }
   ],
   "source": [
    "test3()"
   ]
  },
  {
   "cell_type": "code",
   "execution_count": 38,
   "id": "6b2a2b6b",
   "metadata": {},
   "outputs": [
    {
     "data": {
      "text/plain": [
       "int"
      ]
     },
     "execution_count": 38,
     "metadata": {},
     "output_type": "execute_result"
    }
   ],
   "source": [
    "type(test3())"
   ]
  },
  {
   "cell_type": "code",
   "execution_count": 39,
   "id": "24770124",
   "metadata": {},
   "outputs": [
    {
     "data": {
      "text/plain": [
       "7"
      ]
     },
     "execution_count": 39,
     "metadata": {},
     "output_type": "execute_result"
    }
   ],
   "source": [
    "test3() + 2"
   ]
  },
  {
   "cell_type": "markdown",
   "id": "f384a045",
   "metadata": {},
   "source": [
    "# Defining a function that returns a tupple"
   ]
  },
  {
   "cell_type": "code",
   "execution_count": 40,
   "id": "c62c9ff7",
   "metadata": {},
   "outputs": [],
   "source": [
    "def test4():\n",
    "    return 1,3 , [3,4,5,\"sudh\"],(3,4,5,6)"
   ]
  },
  {
   "cell_type": "code",
   "execution_count": 41,
   "id": "e589b026",
   "metadata": {},
   "outputs": [
    {
     "data": {
      "text/plain": [
       "(1, 3, [3, 4, 5, 'sudh'], (3, 4, 5, 6))"
      ]
     },
     "execution_count": 41,
     "metadata": {},
     "output_type": "execute_result"
    }
   ],
   "source": [
    "test4()"
   ]
  },
  {
   "cell_type": "code",
   "execution_count": 42,
   "id": "263c599c",
   "metadata": {},
   "outputs": [
    {
     "data": {
      "text/plain": [
       "tuple"
      ]
     },
     "execution_count": 42,
     "metadata": {},
     "output_type": "execute_result"
    }
   ],
   "source": [
    "type(test4())"
   ]
  },
  {
   "cell_type": "code",
   "execution_count": 42,
   "id": "5b26bf59",
   "metadata": {},
   "outputs": [
    {
     "data": {
      "text/plain": [
       "3"
      ]
     },
     "execution_count": 42,
     "metadata": {},
     "output_type": "execute_result"
    }
   ],
   "source": [
    "test4()[1]"
   ]
  },
  {
   "cell_type": "code",
   "execution_count": 43,
   "id": "86129f3b",
   "metadata": {},
   "outputs": [
    {
     "data": {
      "text/plain": [
       "[3, 4, 5, 'sudh']"
      ]
     },
     "execution_count": 43,
     "metadata": {},
     "output_type": "execute_result"
    }
   ],
   "source": [
    "test4()[2]"
   ]
  },
  {
   "cell_type": "markdown",
   "id": "c78ea8f5",
   "metadata": {},
   "source": [
    "# Assigning multiple variables to return result"
   ]
  },
  {
   "cell_type": "code",
   "execution_count": 44,
   "id": "a9278a2a",
   "metadata": {},
   "outputs": [],
   "source": [
    "def test5():\n",
    "    return 1,3 , [3,4,5,\"sudh\"],(3,4,5,6)"
   ]
  },
  {
   "cell_type": "code",
   "execution_count": 45,
   "id": "26236d3c",
   "metadata": {},
   "outputs": [],
   "source": [
    "a,b,c,d = test5()"
   ]
  },
  {
   "cell_type": "code",
   "execution_count": 46,
   "id": "5ed25e03",
   "metadata": {},
   "outputs": [
    {
     "data": {
      "text/plain": [
       "1"
      ]
     },
     "execution_count": 46,
     "metadata": {},
     "output_type": "execute_result"
    }
   ],
   "source": [
    "a"
   ]
  },
  {
   "cell_type": "code",
   "execution_count": 47,
   "id": "69d4137b",
   "metadata": {},
   "outputs": [
    {
     "data": {
      "text/plain": [
       "3"
      ]
     },
     "execution_count": 47,
     "metadata": {},
     "output_type": "execute_result"
    }
   ],
   "source": [
    "b"
   ]
  },
  {
   "cell_type": "code",
   "execution_count": 48,
   "id": "25e8571d",
   "metadata": {},
   "outputs": [
    {
     "data": {
      "text/plain": [
       "[3, 4, 5, 'sudh']"
      ]
     },
     "execution_count": 48,
     "metadata": {},
     "output_type": "execute_result"
    }
   ],
   "source": [
    "c"
   ]
  },
  {
   "cell_type": "code",
   "execution_count": 49,
   "id": "89c6ce68",
   "metadata": {},
   "outputs": [
    {
     "data": {
      "text/plain": [
       "(3, 4, 5, 6)"
      ]
     },
     "execution_count": 49,
     "metadata": {},
     "output_type": "execute_result"
    }
   ],
   "source": [
    "d"
   ]
  },
  {
   "cell_type": "markdown",
   "id": "41820072",
   "metadata": {},
   "source": [
    "# Using mathematical operations in a function"
   ]
  },
  {
   "cell_type": "code",
   "execution_count": 77,
   "id": "679a4cbc",
   "metadata": {},
   "outputs": [],
   "source": [
    "def test6():\n",
    "    a = 4*5+8\n",
    "    return a "
   ]
  },
  {
   "cell_type": "code",
   "execution_count": 78,
   "id": "07f077fc",
   "metadata": {},
   "outputs": [
    {
     "data": {
      "text/plain": [
       "36"
      ]
     },
     "execution_count": 78,
     "metadata": {},
     "output_type": "execute_result"
    }
   ],
   "source": [
    "test6() + 8"
   ]
  },
  {
   "cell_type": "code",
   "execution_count": 79,
   "id": "6ffefeaa",
   "metadata": {},
   "outputs": [
    {
     "data": {
      "text/plain": [
       "int"
      ]
     },
     "execution_count": 79,
     "metadata": {},
     "output_type": "execute_result"
    }
   ],
   "source": [
    "type(test6())"
   ]
  },
  {
   "cell_type": "code",
   "execution_count": 85,
   "id": "903c8784",
   "metadata": {},
   "outputs": [],
   "source": [
    "def test7(a,b):\n",
    "    return a/b"
   ]
  },
  {
   "cell_type": "code",
   "execution_count": 86,
   "id": "b470da6f",
   "metadata": {},
   "outputs": [
    {
     "data": {
      "text/plain": [
       "0.6666666666666666"
      ]
     },
     "execution_count": 86,
     "metadata": {},
     "output_type": "execute_result"
    }
   ],
   "source": [
    "test7(2,3)"
   ]
  },
  {
   "cell_type": "code",
   "execution_count": 88,
   "id": "b773bcfb",
   "metadata": {},
   "outputs": [
    {
     "data": {
      "text/plain": [
       "1.4"
      ]
     },
     "execution_count": 88,
     "metadata": {},
     "output_type": "execute_result"
    }
   ],
   "source": [
    "test7(a = 7 , b = 5)"
   ]
  },
  {
   "cell_type": "code",
   "execution_count": 90,
   "id": "cebed068",
   "metadata": {},
   "outputs": [
    {
     "data": {
      "text/plain": [
       "0.7142857142857143"
      ]
     },
     "execution_count": 90,
     "metadata": {},
     "output_type": "execute_result"
    }
   ],
   "source": [
    "test7(b = 7 , a = 5)"
   ]
  },
  {
   "cell_type": "markdown",
   "id": "ae5f2261",
   "metadata": {},
   "source": [
    "# Using if looping and conditional statements in function"
   ]
  },
  {
   "cell_type": "code",
   "execution_count": 54,
   "id": "062b1c29",
   "metadata": {},
   "outputs": [],
   "source": [
    "def test8():\n",
    "    l = [2,3,4,5,6,7,8,9,\"sudh\"]\n",
    "    a = 0\n",
    "    for i in l :\n",
    "        if type(i) == int:\n",
    "            a = i+a\n",
    "    return a"
   ]
  },
  {
   "cell_type": "code",
   "execution_count": 55,
   "id": "fb0de7e5",
   "metadata": {},
   "outputs": [
    {
     "data": {
      "text/plain": [
       "44"
      ]
     },
     "execution_count": 55,
     "metadata": {},
     "output_type": "execute_result"
    }
   ],
   "source": [
    "test8()"
   ]
  },
  {
   "cell_type": "markdown",
   "id": "1b53bc79",
   "metadata": {},
   "source": [
    "# Making List out of List using looping, conditional statement and append"
   ]
  },
  {
   "cell_type": "code",
   "execution_count": 91,
   "id": "31b75103",
   "metadata": {},
   "outputs": [],
   "source": [
    "def test9(l):\n",
    "    l1 = []\n",
    "    for i in l :\n",
    "        if type(i) == str:\n",
    "            l1.append(i)\n",
    "    return l1"
   ]
  },
  {
   "cell_type": "code",
   "execution_count": 92,
   "id": "824819bc",
   "metadata": {},
   "outputs": [],
   "source": [
    "a = [3,4,5,6,7,8,\"sudh\" , 5,6,7,\"kumar\" , \"ineuron\"]"
   ]
  },
  {
   "cell_type": "code",
   "execution_count": 93,
   "id": "54f2a42b",
   "metadata": {},
   "outputs": [
    {
     "data": {
      "text/plain": [
       "['sudh', 'kumar', 'ineuron']"
      ]
     },
     "execution_count": 93,
     "metadata": {},
     "output_type": "execute_result"
    }
   ],
   "source": [
    "test9(a)"
   ]
  },
  {
   "cell_type": "code",
   "execution_count": 94,
   "id": "18c36a5c",
   "metadata": {},
   "outputs": [],
   "source": [
    "b = [\"fsfda\" , \"fsdf\" ,\"abc \" , 456,56]"
   ]
  },
  {
   "cell_type": "code",
   "execution_count": 95,
   "id": "ce214a35",
   "metadata": {},
   "outputs": [
    {
     "data": {
      "text/plain": [
       "['fsfda', 'fsdf', 'abc ']"
      ]
     },
     "execution_count": 95,
     "metadata": {},
     "output_type": "execute_result"
    }
   ],
   "source": [
    "test9(b)"
   ]
  },
  {
   "cell_type": "code",
   "execution_count": null,
   "id": "594be36a",
   "metadata": {},
   "outputs": [],
   "source": []
  }
 ],
 "metadata": {
  "kernelspec": {
   "display_name": "Python 3 (ipykernel)",
   "language": "python",
   "name": "python3"
  },
  "language_info": {
   "codemirror_mode": {
    "name": "ipython",
    "version": 3
   },
   "file_extension": ".py",
   "mimetype": "text/x-python",
   "name": "python",
   "nbconvert_exporter": "python",
   "pygments_lexer": "ipython3",
   "version": "3.9.13"
  }
 },
 "nbformat": 4,
 "nbformat_minor": 5
}
