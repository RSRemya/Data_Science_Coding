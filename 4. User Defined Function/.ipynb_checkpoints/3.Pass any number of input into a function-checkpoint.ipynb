{
 "cells": [
  {
   "cell_type": "markdown",
   "id": "59c2b08c",
   "metadata": {},
   "source": [
    "# To pass any number of input into a function"
   ]
  },
  {
   "cell_type": "code",
   "execution_count": 3,
   "id": "041f6793-b180-43cd-bc99-ff760bc5ea53",
   "metadata": {},
   "outputs": [],
   "source": [
    "def test1(*args) : \n",
    "    return args\n",
    "# here * symbol invites any number of input in the form of a tuple and gives output"
   ]
  },
  {
   "cell_type": "markdown",
   "id": "62de2daa",
   "metadata": {},
   "source": [
    "### Type of input accepted while passing n number of inputs"
   ]
  },
  {
   "cell_type": "code",
   "execution_count": 4,
   "id": "247de19f-b4ff-4a43-86d9-f7362b341d40",
   "metadata": {},
   "outputs": [
    {
     "data": {
      "text/plain": [
       "tuple"
      ]
     },
     "execution_count": 4,
     "metadata": {},
     "output_type": "execute_result"
    }
   ],
   "source": [
    "type(test1(1,2,3,4,\"sudh\"))"
   ]
  },
  {
   "cell_type": "code",
   "execution_count": 5,
   "id": "55370568-47a8-4b6b-9498-92c035b581ed",
   "metadata": {},
   "outputs": [
    {
     "data": {
      "text/plain": [
       "([1, 2, 3, 4, 5], 'sudh', 'ineuron', (5+7j), (4, 5, 6))"
      ]
     },
     "execution_count": 5,
     "metadata": {},
     "output_type": "execute_result"
    }
   ],
   "source": [
    "test1([1,2,3,4,5] , \"sudh\" , \"ineuron\" , 5+7j, (4,5,6))"
   ]
  },
  {
   "cell_type": "code",
   "execution_count": null,
   "id": "540fc21e",
   "metadata": {},
   "outputs": [],
   "source": [
    "# note that in case of accepting n number of inputs, type of input is a tupple as well as output is also a tupple"
   ]
  },
  {
   "cell_type": "markdown",
   "id": "3964adc2",
   "metadata": {},
   "source": [
    "### To get output in form of a list"
   ]
  },
  {
   "cell_type": "markdown",
   "id": "4d09f833",
   "metadata": {},
   "source": [
    "#### Method 1 :"
   ]
  },
  {
   "cell_type": "code",
   "execution_count": 6,
   "id": "30b18742-b761-4e06-a351-834a86977c3f",
   "metadata": {},
   "outputs": [],
   "source": [
    "def test2(*args):\n",
    "    return list(args)"
   ]
  },
  {
   "cell_type": "code",
   "execution_count": 7,
   "id": "dd5b1f2d-fb99-43ea-bb52-620748b12c20",
   "metadata": {},
   "outputs": [
    {
     "data": {
      "text/plain": [
       "['sudh', True, (8+7j), 34, 34.56]"
      ]
     },
     "execution_count": 7,
     "metadata": {},
     "output_type": "execute_result"
    }
   ],
   "source": [
    "test2(\"sudh\" , True , 8+7j , 34, 34.56)"
   ]
  },
  {
   "cell_type": "markdown",
   "id": "8af63a62",
   "metadata": {},
   "source": [
    "#### Method 2 :"
   ]
  },
  {
   "cell_type": "code",
   "execution_count": 9,
   "id": "0fb33bec-d35c-42bb-b7c3-c063deab475f",
   "metadata": {},
   "outputs": [],
   "source": [
    "def test3(*args) :\n",
    "        l = []\n",
    "        for i in args : \n",
    "            l.append(i)\n",
    "        return l\n",
    "        \n",
    "    "
   ]
  },
  {
   "cell_type": "code",
   "execution_count": 10,
   "id": "d467ee05",
   "metadata": {},
   "outputs": [
    {
     "data": {
      "text/plain": [
       "['sudh', True, (8+7j), 34, 34.56]"
      ]
     },
     "execution_count": 10,
     "metadata": {},
     "output_type": "execute_result"
    }
   ],
   "source": [
    "test3(\"sudh\" , True , 8+7j , 34, 34.56)"
   ]
  },
  {
   "cell_type": "markdown",
   "id": "8b6bed27",
   "metadata": {},
   "source": [
    "#### Method 3 :"
   ]
  },
  {
   "cell_type": "code",
   "execution_count": 11,
   "id": "56faa0f7-49ba-4024-8a5d-136dc9ad9ffd",
   "metadata": {},
   "outputs": [],
   "source": [
    "def test4(*args) : \n",
    "    return list(args)\n",
    "    "
   ]
  },
  {
   "cell_type": "code",
   "execution_count": 12,
   "id": "1c11c11c-2516-44ca-bd45-9e9e48d0c759",
   "metadata": {},
   "outputs": [
    {
     "data": {
      "text/plain": [
       "['sudh', True, (8+7j), 34, 34.56]"
      ]
     },
     "execution_count": 12,
     "metadata": {},
     "output_type": "execute_result"
    }
   ],
   "source": [
    "test4(\"sudh\" , True , 8+7j , 34, 34.56)"
   ]
  },
  {
   "cell_type": "markdown",
   "id": "85a1e351",
   "metadata": {},
   "source": [
    "# Pass Multiple Input as Variable Name and its Value"
   ]
  },
  {
   "cell_type": "code",
   "execution_count": 1,
   "id": "826eb5e6-e890-4f9c-bc4a-cf7af3bdfd97",
   "metadata": {},
   "outputs": [],
   "source": [
    "def test5(**kwargs) :\n",
    "    return kwargs\n",
    "    "
   ]
  },
  {
   "cell_type": "code",
   "execution_count": 3,
   "id": "765c312f-1c37-4095-a9ee-bebdeb9b7066",
   "metadata": {},
   "outputs": [
    {
     "data": {
      "text/plain": [
       "{'a': 4, 'b': 5, 'c': 6, 'sudh': [12, 3, 3, 4, 5]}"
      ]
     },
     "execution_count": 3,
     "metadata": {},
     "output_type": "execute_result"
    }
   ],
   "source": [
    "test5(a = 4,b = 5,c = 6,sudh = [12,3,3,4,5])"
   ]
  },
  {
   "cell_type": "code",
   "execution_count": 4,
   "id": "c7c23b1e-3f0d-4e4e-88c0-7ffb3f36d84a",
   "metadata": {},
   "outputs": [
    {
     "data": {
      "text/plain": [
       "{'b': 'sudh', 'm': 23423}"
      ]
     },
     "execution_count": 4,
     "metadata": {},
     "output_type": "execute_result"
    }
   ],
   "source": [
    "test5(b  = \"sudh\" , m = 23423 )"
   ]
  }
 ],
 "metadata": {
  "kernelspec": {
   "display_name": "Python 3 (ipykernel)",
   "language": "python",
   "name": "python3"
  },
  "language_info": {
   "codemirror_mode": {
    "name": "ipython",
    "version": 3
   },
   "file_extension": ".py",
   "mimetype": "text/x-python",
   "name": "python",
   "nbconvert_exporter": "python",
   "pygments_lexer": "ipython3",
   "version": "3.9.13"
  }
 },
 "nbformat": 4,
 "nbformat_minor": 5
}
