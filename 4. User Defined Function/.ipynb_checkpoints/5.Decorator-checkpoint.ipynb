{
 "cells": [
  {
   "cell_type": "markdown",
   "id": "2e284091",
   "metadata": {},
   "source": [
    "# Decorator"
   ]
  },
  {
   "cell_type": "markdown",
   "id": "7902a303",
   "metadata": {},
   "source": [
    "Its a useful tool in Python since it allows programmers to modify the behaviour of a function or class, without permanently modifying it."
   ]
  },
  {
   "cell_type": "markdown",
   "id": "eea9764c",
   "metadata": {},
   "source": [
    "### Relating decorator with function within function"
   ]
  },
  {
   "cell_type": "code",
   "execution_count": 8,
   "id": "ec333576",
   "metadata": {},
   "outputs": [
    {
     "name": "stdout",
     "output_type": "stream",
     "text": [
      "This is a decorator \n",
      "this is test3\n"
     ]
    }
   ],
   "source": [
    "#Lets recall function within function : \n",
    "\n",
    "def test1(func) : \n",
    "    def test2():\n",
    "        print(\"This is a decorator\")\n",
    "        func()\n",
    "    return test2()\n",
    "\n",
    "def test3(*args):\n",
    "    print(\"this is test3\")\n",
    "    \n",
    "\n",
    "test1(test3)"
   ]
  },
  {
   "cell_type": "raw",
   "id": "4e1b9e4e",
   "metadata": {},
   "source": [
    "The same thing can be achieved using a decorator as follows : where test1 acts as a decorator, which does not changes test3 but adds more result to it, just like a decoration or extra fitting"
   ]
  },
  {
   "cell_type": "code",
   "execution_count": 9,
   "id": "078875de",
   "metadata": {},
   "outputs": [],
   "source": [
    "def test1(func) : \n",
    "    def test2():\n",
    "        print(\"This is a decorator \")\n",
    "        func()\n",
    "    return test2"
   ]
  },
  {
   "cell_type": "code",
   "execution_count": 10,
   "id": "725d20bc",
   "metadata": {},
   "outputs": [],
   "source": [
    "@test1\n",
    "def test3():\n",
    "    print(\"this is test3\")"
   ]
  },
  {
   "cell_type": "code",
   "execution_count": 11,
   "id": "54c7b477",
   "metadata": {},
   "outputs": [
    {
     "name": "stdout",
     "output_type": "stream",
     "text": [
      "This is a decorator \n",
      "this is test3\n"
     ]
    }
   ],
   "source": [
    "test3()"
   ]
  },
  {
   "cell_type": "markdown",
   "id": "1550db97",
   "metadata": {},
   "source": [
    "### Adding location of the file with print statement in decorator"
   ]
  },
  {
   "cell_type": "code",
   "execution_count": 7,
   "id": "73f9d433",
   "metadata": {},
   "outputs": [
    {
     "data": {
      "text/plain": [
       "'C:\\\\Users\\\\HP\\\\Data Science\\\\4. User Defined Function'"
      ]
     },
     "execution_count": 7,
     "metadata": {},
     "output_type": "execute_result"
    }
   ],
   "source": [
    "pwd()"
   ]
  },
  {
   "cell_type": "code",
   "execution_count": 15,
   "id": "e709051b-b1ab-42d6-8a49-35dc6997dcb9",
   "metadata": {},
   "outputs": [],
   "source": [
    "import os \n",
    "def test4(func) : \n",
    "    def test5():\n",
    "        print(\"This is a decorator\")\n",
    "        print(\"Location of this file is : \"os.getcwd())# to show location of this file\n",
    "        func()\n",
    "    return test5"
   ]
  },
  {
   "cell_type": "code",
   "execution_count": 19,
   "id": "6351e0d5-81d3-455e-bada-1a2a28504bf7",
   "metadata": {},
   "outputs": [],
   "source": [
    "@test4\n",
    "def test6():\n",
    "    print(\"this is test6\")"
   ]
  },
  {
   "cell_type": "code",
   "execution_count": 20,
   "id": "9c78300b-495c-4c12-8094-741549a69916",
   "metadata": {},
   "outputs": [
    {
     "name": "stdout",
     "output_type": "stream",
     "text": [
      "This is a decorator\n",
      "C:\\Users\\HP\\Data Science\\4. User Defined Function\n",
      "this is test6\n"
     ]
    }
   ],
   "source": [
    "test6()"
   ]
  },
  {
   "cell_type": "markdown",
   "id": "651a44a9",
   "metadata": {},
   "source": [
    "### Adding location of the file with print statement and time taken for execution in decorator"
   ]
  },
  {
   "cell_type": "code",
   "execution_count": 39,
   "id": "6240f397",
   "metadata": {},
   "outputs": [],
   "source": [
    "import os \n",
    "import time\n",
    "start = time.time()\n",
    "def test4(func) : \n",
    "    def test5():\n",
    "        #start = time.time()\n",
    "        print(\"This is a decorator\")\n",
    "        print(\"Location of this file is : \",os.getcwd())# to show location of this file\n",
    "        func()\n",
    "        end = time.time()\n",
    "        print(\"Time taken for execution is : \",end - start)\n",
    "    return test5"
   ]
  },
  {
   "cell_type": "code",
   "execution_count": 40,
   "id": "ac933402",
   "metadata": {},
   "outputs": [],
   "source": [
    "@test4\n",
    "def test6():\n",
    "    print(\"this is test6\")"
   ]
  },
  {
   "cell_type": "code",
   "execution_count": 38,
   "id": "29c93f01",
   "metadata": {},
   "outputs": [
    {
     "name": "stdout",
     "output_type": "stream",
     "text": [
      "This is a decorator\n",
      "Location of this file is :  C:\\Users\\HP\\Data Science\\4. User Defined Function\n",
      "this is test6\n",
      "Time taken for execution is :  0.9840292930603027\n"
     ]
    }
   ],
   "source": [
    "test6()"
   ]
  },
  {
   "cell_type": "code",
   "execution_count": 43,
   "id": "e9978dde",
   "metadata": {},
   "outputs": [
    {
     "data": {
      "text/plain": [
       "1681409467.4435344"
      ]
     },
     "execution_count": 43,
     "metadata": {},
     "output_type": "execute_result"
    }
   ],
   "source": [
    "time.time()#shows current time in seconds"
   ]
  },
  {
   "cell_type": "markdown",
   "id": "3344ec18",
   "metadata": {},
   "source": [
    "### Using return to correct datatype of a function o/p"
   ]
  },
  {
   "cell_type": "code",
   "execution_count": 34,
   "id": "208a2103",
   "metadata": {},
   "outputs": [],
   "source": [
    "def test7(func) : \n",
    "    def test8():\n",
    "        \n",
    "        print(\"i am inside test8 \" )# gives output --  i am inside test8 \n",
    "        \n",
    "        func() # gives output --  of function for which its used as decorator\n",
    "        \n",
    "        print(\"function executed \") # gives output --  function executed\n",
    "        \n",
    "    \n",
    "    return test8"
   ]
  },
  {
   "cell_type": "code",
   "execution_count": 35,
   "id": "3471ce48",
   "metadata": {},
   "outputs": [],
   "source": [
    "@test7\n",
    "def test9():\n",
    "    print(\"this is my test9\")# gives output ->\"this is my test9\" when test3 is called for func() or return func() in decorator"
   ]
  },
  {
   "cell_type": "code",
   "execution_count": 36,
   "id": "e763d430",
   "metadata": {},
   "outputs": [
    {
     "name": "stdout",
     "output_type": "stream",
     "text": [
      "i am inside test8 \n",
      "this is my test9\n",
      "function executed \n"
     ]
    }
   ],
   "source": [
    "test9()"
   ]
  },
  {
   "cell_type": "code",
   "execution_count": 37,
   "id": "dcba6c80",
   "metadata": {},
   "outputs": [],
   "source": [
    "def test10():\n",
    "    return 5+6"
   ]
  },
  {
   "cell_type": "code",
   "execution_count": 38,
   "id": "df1b620f",
   "metadata": {},
   "outputs": [
    {
     "data": {
      "text/plain": [
       "int"
      ]
     },
     "execution_count": 38,
     "metadata": {},
     "output_type": "execute_result"
    }
   ],
   "source": [
    "type(test10())"
   ]
  },
  {
   "cell_type": "code",
   "execution_count": 39,
   "id": "eea16952",
   "metadata": {},
   "outputs": [],
   "source": [
    "@test7\n",
    "def test10():\n",
    "    return 5+6"
   ]
  },
  {
   "cell_type": "code",
   "execution_count": 40,
   "id": "e712ad07",
   "metadata": {},
   "outputs": [
    {
     "name": "stdout",
     "output_type": "stream",
     "text": [
      "i am inside test8 \n",
      "function executed \n"
     ]
    },
    {
     "data": {
      "text/plain": [
       "NoneType"
      ]
     },
     "execution_count": 40,
     "metadata": {},
     "output_type": "execute_result"
    }
   ],
   "source": [
    "type(test10())"
   ]
  },
  {
   "cell_type": "code",
   "execution_count": 41,
   "id": "93ef99c0",
   "metadata": {},
   "outputs": [
    {
     "name": "stdout",
     "output_type": "stream",
     "text": [
      "i am inside test8 \n",
      "function executed \n"
     ]
    },
    {
     "ename": "TypeError",
     "evalue": "unsupported operand type(s) for +: 'NoneType' and 'int'",
     "output_type": "error",
     "traceback": [
      "\u001b[1;31m---------------------------------------------------------------------------\u001b[0m",
      "\u001b[1;31mTypeError\u001b[0m                                 Traceback (most recent call last)",
      "\u001b[1;32m~\\AppData\\Local\\Temp\\ipykernel_1372\\3538643207.py\u001b[0m in \u001b[0;36m<module>\u001b[1;34m\u001b[0m\n\u001b[1;32m----> 1\u001b[1;33m \u001b[0mtest10\u001b[0m\u001b[1;33m(\u001b[0m\u001b[1;33m)\u001b[0m \u001b[1;33m+\u001b[0m \u001b[1;36m9\u001b[0m\u001b[1;33m\u001b[0m\u001b[1;33m\u001b[0m\u001b[0m\n\u001b[0m",
      "\u001b[1;31mTypeError\u001b[0m: unsupported operand type(s) for +: 'NoneType' and 'int'"
     ]
    }
   ],
   "source": [
    "test10() + 9"
   ]
  },
  {
   "cell_type": "code",
   "execution_count": 51,
   "id": "66c3c22a",
   "metadata": {},
   "outputs": [],
   "source": [
    "# To avoid this error redefine test7\n",
    "# because we have seen that type of test10 got changed as Nonetype when deorator test7 is used\n",
    "\n",
    "# add return func() inside test7 and test8 to make type(test10()) as int rather than Nonetype\n",
    "\n",
    "def test7(func) : \n",
    "    def test8():\n",
    "        \n",
    "        print(\"i am inside test8 \" )# gives output --  i am inside test8 \n",
    "        \n",
    "        func() # gives output --  of function for which its used as decorator\n",
    "        \n",
    "        print(\"function executed \") # gives output --  function executed\n",
    "        \n",
    "        return func()# gives output --  of function for which its used as decorator\n",
    "    \n",
    "    return test8"
   ]
  },
  {
   "cell_type": "code",
   "execution_count": 52,
   "id": "e57f376f",
   "metadata": {},
   "outputs": [],
   "source": [
    "@test7\n",
    "def test10():\n",
    "    return 5+6"
   ]
  },
  {
   "cell_type": "code",
   "execution_count": 53,
   "id": "29b448c4",
   "metadata": {},
   "outputs": [
    {
     "name": "stdout",
     "output_type": "stream",
     "text": [
      "i am inside test8 \n",
      "function executed \n"
     ]
    },
    {
     "data": {
      "text/plain": [
       "20"
      ]
     },
     "execution_count": 53,
     "metadata": {},
     "output_type": "execute_result"
    }
   ],
   "source": [
    "test10() + 9"
   ]
  },
  {
   "cell_type": "markdown",
   "id": "075f27be",
   "metadata": {},
   "source": [
    "### When instead of empty function, function with arguments is called along with decorator"
   ]
  },
  {
   "cell_type": "code",
   "execution_count": 54,
   "id": "da729867",
   "metadata": {},
   "outputs": [],
   "source": [
    "@test7\n",
    "def test10(a,b):\n",
    "    return a+b"
   ]
  },
  {
   "cell_type": "code",
   "execution_count": 55,
   "id": "56d7477b",
   "metadata": {},
   "outputs": [
    {
     "ename": "TypeError",
     "evalue": "test8() takes 0 positional arguments but 2 were given",
     "output_type": "error",
     "traceback": [
      "\u001b[1;31m---------------------------------------------------------------------------\u001b[0m",
      "\u001b[1;31mTypeError\u001b[0m                                 Traceback (most recent call last)",
      "\u001b[1;32m~\\AppData\\Local\\Temp\\ipykernel_1372\\3923140131.py\u001b[0m in \u001b[0;36m<module>\u001b[1;34m\u001b[0m\n\u001b[1;32m----> 1\u001b[1;33m \u001b[0mtest10\u001b[0m\u001b[1;33m(\u001b[0m\u001b[1;34m\"python\"\u001b[0m\u001b[1;33m,\u001b[0m\u001b[1;34m\"class\"\u001b[0m\u001b[1;33m)\u001b[0m\u001b[1;33m\u001b[0m\u001b[1;33m\u001b[0m\u001b[0m\n\u001b[0m",
      "\u001b[1;31mTypeError\u001b[0m: test8() takes 0 positional arguments but 2 were given"
     ]
    }
   ],
   "source": [
    "test10(\"python\",\"class\")"
   ]
  },
  {
   "cell_type": "code",
   "execution_count": 66,
   "id": "260a2df9",
   "metadata": {},
   "outputs": [],
   "source": [
    "# In order to avoid this error put arguments in decorator functions also\n",
    "#Redefine the decorator function\n",
    "\n",
    "def test7(func) : \n",
    "    def test8(c,d):\n",
    "        \n",
    "        print(\"i am inside test8 \" )# gives output --  i am inside test8 \n",
    "        \n",
    "        func(c,d) # gives output --  of function for which its used as decorator\n",
    "        \n",
    "        print(\"function executed \") # gives output --  function executed\n",
    "        \n",
    "        return func(c,d)# gives output --  of function for which its used as decorator\n",
    "    \n",
    "    return test8"
   ]
  },
  {
   "cell_type": "code",
   "execution_count": 67,
   "id": "0f90f00a",
   "metadata": {},
   "outputs": [],
   "source": [
    "@test7\n",
    "def test10(a,b):\n",
    "    return a+b"
   ]
  },
  {
   "cell_type": "code",
   "execution_count": 68,
   "id": "45891621",
   "metadata": {},
   "outputs": [
    {
     "name": "stdout",
     "output_type": "stream",
     "text": [
      "i am inside test8 \n",
      "function executed \n"
     ]
    },
    {
     "data": {
      "text/plain": [
       "'python class'"
      ]
     },
     "execution_count": 68,
     "metadata": {},
     "output_type": "execute_result"
    }
   ],
   "source": [
    "test10(\"python \",\"class\")"
   ]
  },
  {
   "cell_type": "markdown",
   "id": "80a9331b",
   "metadata": {},
   "source": [
    "### When function being called is having varrying number of arguments"
   ]
  },
  {
   "cell_type": "code",
   "execution_count": 2,
   "id": "b9718e0a",
   "metadata": {},
   "outputs": [],
   "source": [
    "#Redefine the decorator function\n",
    "\n",
    "def test7(func) : \n",
    "    def test8(*arg):\n",
    "        \n",
    "        print(\"i am inside test8 \" )# gives output --  i am inside test8 \n",
    "        \n",
    "        func(*arg) # gives output --  of function for which its used as decorator\n",
    "        \n",
    "        print(\"function executed \") # gives output --  function executed\n",
    "        \n",
    "        return func(*arg)# gives output --  of function for which its used as decorator\n",
    "    \n",
    "    return test8"
   ]
  },
  {
   "cell_type": "code",
   "execution_count": 3,
   "id": "bc7a44b4",
   "metadata": {},
   "outputs": [],
   "source": [
    "@test7\n",
    "def test10(a,b,c):\n",
    "    return a+b+c"
   ]
  },
  {
   "cell_type": "code",
   "execution_count": 4,
   "id": "d7f71685",
   "metadata": {},
   "outputs": [
    {
     "name": "stdout",
     "output_type": "stream",
     "text": [
      "i am inside test8 \n",
      "function executed \n"
     ]
    },
    {
     "data": {
      "text/plain": [
       "'Functions python class'"
      ]
     },
     "execution_count": 4,
     "metadata": {},
     "output_type": "execute_result"
    }
   ],
   "source": [
    "test10(\"Functions \",\"python \",\"class\")"
   ]
  },
  {
   "cell_type": "markdown",
   "id": "8d15e694",
   "metadata": {},
   "source": [
    "### How to specify argumnets and its values when function is called"
   ]
  },
  {
   "cell_type": "code",
   "execution_count": 5,
   "id": "430a66a0",
   "metadata": {},
   "outputs": [],
   "source": [
    "@test7\n",
    "def test10(**karg):\n",
    "    return karg"
   ]
  },
  {
   "cell_type": "code",
   "execution_count": 6,
   "id": "43a3ab8d",
   "metadata": {},
   "outputs": [
    {
     "ename": "TypeError",
     "evalue": "test8() got an unexpected keyword argument 'a'",
     "output_type": "error",
     "traceback": [
      "\u001b[1;31m---------------------------------------------------------------------------\u001b[0m",
      "\u001b[1;31mTypeError\u001b[0m                                 Traceback (most recent call last)",
      "\u001b[1;32m~\\AppData\\Local\\Temp\\ipykernel_11988\\429251048.py\u001b[0m in \u001b[0;36m<module>\u001b[1;34m\u001b[0m\n\u001b[1;32m----> 1\u001b[1;33m \u001b[0mtest10\u001b[0m\u001b[1;33m(\u001b[0m\u001b[0ma\u001b[0m\u001b[1;33m=\u001b[0m\u001b[1;34m\"Functions \"\u001b[0m\u001b[1;33m,\u001b[0m\u001b[0mb\u001b[0m\u001b[1;33m=\u001b[0m\u001b[1;34m\"python \"\u001b[0m\u001b[1;33m,\u001b[0m\u001b[0mc\u001b[0m\u001b[1;33m=\u001b[0m\u001b[1;34m\"class\"\u001b[0m\u001b[1;33m)\u001b[0m\u001b[1;33m\u001b[0m\u001b[1;33m\u001b[0m\u001b[0m\n\u001b[0m",
      "\u001b[1;31mTypeError\u001b[0m: test8() got an unexpected keyword argument 'a'"
     ]
    }
   ],
   "source": [
    "test10(a=\"Functions \",b=\"python \",c=\"class\")"
   ]
  },
  {
   "cell_type": "code",
   "execution_count": 7,
   "id": "0a0a2e81",
   "metadata": {},
   "outputs": [],
   "source": [
    "# To avoid this error mention both * arg and **karg as arguments in functions of decorator\n",
    "# Redefine decorator function test7\n",
    "\n",
    "def test7(func) : \n",
    "    def test8(*arg, **karg):\n",
    "        \n",
    "        print(\"i am inside test8 \" )# gives output --  i am inside test8 \n",
    "        \n",
    "        func(*arg, **karg) # gives output --  of function for which its used as decorator\n",
    "        \n",
    "        print(\"function executed \") # gives output --  function executed\n",
    "        \n",
    "        return func(*arg, **karg)# gives output --  of function for which its used as decorator\n",
    "    \n",
    "    return test8\n"
   ]
  },
  {
   "cell_type": "code",
   "execution_count": 8,
   "id": "1ef2e522",
   "metadata": {},
   "outputs": [],
   "source": [
    "@test7\n",
    "def test10(**karg):\n",
    "    return karg"
   ]
  },
  {
   "cell_type": "code",
   "execution_count": 9,
   "id": "07155820",
   "metadata": {},
   "outputs": [
    {
     "name": "stdout",
     "output_type": "stream",
     "text": [
      "i am inside test8 \n",
      "function executed \n"
     ]
    },
    {
     "data": {
      "text/plain": [
       "{'a': 'Functions ', 'b': 'python ', 'c': 'class'}"
      ]
     },
     "execution_count": 9,
     "metadata": {},
     "output_type": "execute_result"
    }
   ],
   "source": [
    "test10(a=\"Functions \",b=\"python \",c=\"class\")"
   ]
  },
  {
   "cell_type": "code",
   "execution_count": null,
   "id": "22ef20df",
   "metadata": {},
   "outputs": [],
   "source": [
    "# So always follow this type of standard form to avoid future hurdles"
   ]
  }
 ],
 "metadata": {
  "kernelspec": {
   "display_name": "Python 3 (ipykernel)",
   "language": "python",
   "name": "python3"
  },
  "language_info": {
   "codemirror_mode": {
    "name": "ipython",
    "version": 3
   },
   "file_extension": ".py",
   "mimetype": "text/x-python",
   "name": "python",
   "nbconvert_exporter": "python",
   "pygments_lexer": "ipython3",
   "version": "3.9.13"
  }
 },
 "nbformat": 4,
 "nbformat_minor": 5
}
