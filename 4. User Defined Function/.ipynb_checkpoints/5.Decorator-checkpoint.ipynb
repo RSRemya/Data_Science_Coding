{
 "cells": [
  {
   "cell_type": "markdown",
   "id": "49e42607",
   "metadata": {},
   "source": [
    "# Calling function within function"
   ]
  },
  {
   "cell_type": "markdown",
   "id": "f063d5b4",
   "metadata": {},
   "source": [
    "### Importance of Argument"
   ]
  },
  {
   "cell_type": "code",
   "execution_count": 81,
   "id": "2fdef8fb-fd25-4a64-83d6-4c2e4c8c6e26",
   "metadata": {},
   "outputs": [],
   "source": [
    "def test1(a) : \n",
    "    return \"python\" \n",
    "\n",
    "def test2(b):\n",
    "    return b\n",
    "\n",
    "def test3():\n",
    "    return \"function\""
   ]
  },
  {
   "cell_type": "code",
   "execution_count": 125,
   "id": "ec37c549",
   "metadata": {},
   "outputs": [
    {
     "data": {
      "text/plain": [
       "'python'"
      ]
     },
     "execution_count": 125,
     "metadata": {},
     "output_type": "execute_result"
    }
   ],
   "source": [
    "# calling test2 in test1\n",
    "# It will pass return value of test1\n",
    "test1(test2)"
   ]
  },
  {
   "cell_type": "code",
   "execution_count": 126,
   "id": "9b8c48b9",
   "metadata": {},
   "outputs": [
    {
     "data": {
      "text/plain": [
       "'python'"
      ]
     },
     "execution_count": 126,
     "metadata": {},
     "output_type": "execute_result"
    }
   ],
   "source": [
    "# calling test1 in test3\n",
    "# It will also pass return value of test1\n",
    "test1(test3)"
   ]
  },
  {
   "cell_type": "code",
   "execution_count": 129,
   "id": "ba207d34",
   "metadata": {},
   "outputs": [
    {
     "ename": "TypeError",
     "evalue": "test3() takes 0 positional arguments but 1 was given",
     "output_type": "error",
     "traceback": [
      "\u001b[1;31m---------------------------------------------------------------------------\u001b[0m",
      "\u001b[1;31mTypeError\u001b[0m                                 Traceback (most recent call last)",
      "\u001b[1;32m~\\AppData\\Local\\Temp\\ipykernel_10792\\1785459369.py\u001b[0m in \u001b[0;36m<module>\u001b[1;34m\u001b[0m\n\u001b[0;32m      3\u001b[0m \u001b[1;31m# But since test3 has no arguments  -----> error is produced\u001b[0m\u001b[1;33m\u001b[0m\u001b[1;33m\u001b[0m\u001b[0m\n\u001b[0;32m      4\u001b[0m \u001b[1;33m\u001b[0m\u001b[0m\n\u001b[1;32m----> 5\u001b[1;33m \u001b[0mtest3\u001b[0m\u001b[1;33m(\u001b[0m\u001b[0mtest1\u001b[0m\u001b[1;33m)\u001b[0m\u001b[1;33m\u001b[0m\u001b[1;33m\u001b[0m\u001b[0m\n\u001b[0m",
      "\u001b[1;31mTypeError\u001b[0m: test3() takes 0 positional arguments but 1 was given"
     ]
    }
   ],
   "source": [
    "# calling test1 or test 2 in test3 will return an error because test3 does not have any argument\n",
    "\n",
    "test3(test1)"
   ]
  },
  {
   "cell_type": "markdown",
   "id": "b213cced",
   "metadata": {},
   "source": [
    "So in order to pass a function within another function, the function holding other function should have argument"
   ]
  },
  {
   "cell_type": "markdown",
   "id": "77709a0d",
   "metadata": {},
   "source": [
    "### Function inside function"
   ]
  },
  {
   "cell_type": "code",
   "execution_count": 78,
   "id": "b5e860e8-2f59-49cb-a1e7-9df8c9d59217",
   "metadata": {},
   "outputs": [],
   "source": [
    "def test4(a) : \n",
    "    print(\"The course is\") \n",
    "    \n",
    "    def test5() :\n",
    "        print(\"Deep Learning\") \n",
    "    \n",
    "    def test6():\n",
    "        print(\"Machine Learning\")\n",
    "    \n",
    "    if a == \"DL\":\n",
    "        return test5()\n",
    "    elif a == \"ML\" :\n",
    "        return test6()"
   ]
  },
  {
   "cell_type": "code",
   "execution_count": 79,
   "id": "5533983f-5e23-42e9-9e52-acb079e7a72c",
   "metadata": {},
   "outputs": [
    {
     "name": "stdout",
     "output_type": "stream",
     "text": [
      "The course is\n",
      "Deep Learning\n"
     ]
    }
   ],
   "source": [
    "test4(\"DL\")"
   ]
  },
  {
   "cell_type": "code",
   "execution_count": 80,
   "id": "e7b39e90-35ab-493f-908b-04ccc0e85129",
   "metadata": {},
   "outputs": [
    {
     "name": "stdout",
     "output_type": "stream",
     "text": [
      "The course is\n",
      "Machine Learning\n"
     ]
    }
   ],
   "source": [
    "test4(\"ML\")"
   ]
  },
  {
   "cell_type": "markdown",
   "id": "383bf447",
   "metadata": {},
   "source": [
    "### Calling function inside function"
   ]
  },
  {
   "cell_type": "code",
   "execution_count": 130,
   "id": "5fb3bd93",
   "metadata": {},
   "outputs": [],
   "source": [
    "def test5(*args):\n",
    "    print(\"this is a return of test5\")"
   ]
  },
  {
   "cell_type": "code",
   "execution_count": 131,
   "id": "2225199f-9894-4a78-834a-db0488abca67",
   "metadata": {},
   "outputs": [],
   "source": [
    "def test6(func) : \n",
    "    def test7():\n",
    "        print(\"i am inside test7\") \n",
    "        func()# This will call function inside test6\n",
    "    return test7()"
   ]
  },
  {
   "cell_type": "code",
   "execution_count": 132,
   "id": "aec2a7e9",
   "metadata": {},
   "outputs": [
    {
     "name": "stdout",
     "output_type": "stream",
     "text": [
      "i am inside test7\n",
      "this is a return of test5\n"
     ]
    }
   ],
   "source": [
    "test6(test5)"
   ]
  },
  {
   "cell_type": "markdown",
   "id": "2e284091",
   "metadata": {},
   "source": [
    "Hence both test6 and test5 are called using coding shown above"
   ]
  },
  {
   "cell_type": "code",
   "execution_count": 175,
   "id": "e709051b-b1ab-42d6-8a49-35dc6997dcb9",
   "metadata": {},
   "outputs": [],
   "source": [
    "import os \n",
    "def test18(func) : \n",
    "    def test19():\n",
    "        print(\"i am inside test19 and this will behave a decorator to any function that i am going to call \")\n",
    "        print(os.getcwd())\n",
    "        func()\n",
    "    return test19"
   ]
  },
  {
   "cell_type": "code",
   "execution_count": 176,
   "id": "6351e0d5-81d3-455e-bada-1a2a28504bf7",
   "metadata": {},
   "outputs": [],
   "source": [
    "@test18\n",
    "def test20():\n",
    "    print(\"this is test20\")"
   ]
  },
  {
   "cell_type": "code",
   "execution_count": 177,
   "id": "9c78300b-495c-4c12-8094-741549a69916",
   "metadata": {},
   "outputs": [
    {
     "name": "stdout",
     "output_type": "stream",
     "text": [
      "i am inside test19 and this will behave a decorator to any function that i am going to call \n",
      "/home/jovyan/work\n",
      "this is test20\n"
     ]
    }
   ],
   "source": [
    "test20()"
   ]
  },
  {
   "cell_type": "code",
   "execution_count": 150,
   "id": "c5e3d9e1-c06a-4180-aaff-74d8870efa4a",
   "metadata": {},
   "outputs": [
    {
     "name": "stdout",
     "output_type": "stream",
     "text": [
      "i am inside test19 and this will behave a decorator to any function that i am going to call \n",
      "this is my test20\n"
     ]
    }
   ],
   "source": [
    "test18(test20)"
   ]
  },
  {
   "cell_type": "code",
   "execution_count": 168,
   "id": "947813b7-58af-4501-893b-b8c0fd6b2e41",
   "metadata": {},
   "outputs": [
    {
     "data": {
      "text/plain": [
       "'/home/jovyan/work'"
      ]
     },
     "execution_count": 168,
     "metadata": {},
     "output_type": "execute_result"
    }
   ],
   "source": [
    "pwd()"
   ]
  },
  {
   "cell_type": "code",
   "execution_count": 178,
   "id": "c20b6229-86c8-46b5-aa39-d973fef8c776",
   "metadata": {},
   "outputs": [],
   "source": [
    "def test20(func):\n",
    "    def test21():\n",
    "        func()\n",
    "        print(os.getcwd())\n",
    "    return test21\n",
    "    "
   ]
  },
  {
   "cell_type": "code",
   "execution_count": 183,
   "id": "48c8969e-108d-4d1c-80a5-11be4be354de",
   "metadata": {},
   "outputs": [],
   "source": [
    "@test18\n",
    "@test20\n",
    "def test22():\n",
    "    print(\"this will print inside test22\")"
   ]
  },
  {
   "cell_type": "code",
   "execution_count": 184,
   "id": "1f82ade3-cad8-43d2-9c52-34f61a961c8c",
   "metadata": {},
   "outputs": [
    {
     "name": "stdout",
     "output_type": "stream",
     "text": [
      "i am inside test19 and this will behave a decorator to any function that i am going to call \n",
      "/home/jovyan/work\n",
      "this will print inside test22\n",
      "/home/jovyan/work\n"
     ]
    }
   ],
   "source": [
    "test22()"
   ]
  },
  {
   "cell_type": "code",
   "execution_count": 185,
   "id": "b4fca32d-183a-47f0-afac-04dbe6becb94",
   "metadata": {},
   "outputs": [
    {
     "name": "stdout",
     "output_type": "stream",
     "text": [
      "hello\n",
      "0.00011658668518066406\n"
     ]
    }
   ],
   "source": [
    "import time\n",
    "\n",
    "start = time.time()\n",
    "print(\"hello\")\n",
    "end = time.time()\n",
    "print(end - start)\n"
   ]
  },
  {
   "cell_type": "code",
   "execution_count": 186,
   "id": "f15db362-aca3-47f0-9137-968239655a4b",
   "metadata": {},
   "outputs": [
    {
     "data": {
      "text/plain": [
       "1668253844.9711988"
      ]
     },
     "execution_count": 186,
     "metadata": {},
     "output_type": "execute_result"
    }
   ],
   "source": [
    "time.time()"
   ]
  },
  {
   "cell_type": "code",
   "execution_count": 202,
   "id": "e2fa3f33-bed8-475e-b774-8868f5296dca",
   "metadata": {},
   "outputs": [],
   "source": [
    "def test25(func) : \n",
    "    def test26():\n",
    "        print(\"this wil give you executation time of a function \") \n",
    "        start = time.time()\n",
    "        func()\n",
    "        print(func())\n",
    "        end = time.time()\n",
    "        print(end -start)\n",
    "    return  test26\n",
    "\n",
    "@test25\n",
    "def test27() - > int:\n",
    "    \"\"\"\n",
    "    this is a functin whichi will take a decorator for calculating a executation timeing of a functioin \n",
    "    \"\"\"\n",
    "    l = [4,5,6,7,8,8]\n",
    "    l1 = []\n",
    "    for i in l :\n",
    "        if type(i) == int :\n",
    "            l1.append(i)\n",
    "    return l1\n",
    "        "
   ]
  },
  {
   "cell_type": "code",
   "execution_count": 294,
   "id": "eeada4c0-873b-44a3-9d92-2c5fe2113c4a",
   "metadata": {},
   "outputs": [],
   "source": [
    "def test25(func) : \n",
    "    def test26():\n",
    "        print(\"this wil give you executation time of a function \") \n",
    "        start = time.time()\n",
    "        func()\n",
    "        print(func())\n",
    "        end = time.time()\n",
    "        print(end -start)\n",
    "    return  test26"
   ]
  },
  {
   "cell_type": "code",
   "execution_count": 295,
   "id": "6da32466-a990-489b-9844-8537474238af",
   "metadata": {},
   "outputs": [],
   "source": [
    "@test25\n",
    "def test27(a,b,c) :\n",
    "    l = [4,5,6,7,8,8]\n",
    "    l1 = []\n",
    "    for i in l :\n",
    "        if type(i) == int :\n",
    "            l1.append(i)\n",
    "    return l1\n",
    "        "
   ]
  },
  {
   "cell_type": "code",
   "execution_count": 296,
   "id": "c9ef8ae0-139f-4660-abac-c587e202c88b",
   "metadata": {},
   "outputs": [
    {
     "name": "stdout",
     "output_type": "stream",
     "text": [
      "this wil give you executation time of a function \n",
      "[4, 5, 6, 7, 8, 8]\n",
      "1.2874603271484375e-05\n"
     ]
    }
   ],
   "source": [
    "test27()"
   ]
  },
  {
   "cell_type": "code",
   "execution_count": 288,
   "id": "7b326ff3-5ca2-4dc9-8a76-be3784df2b9b",
   "metadata": {},
   "outputs": [
    {
     "data": {
      "text/plain": [
       "<function __main__.test25.<locals>.test26()>"
      ]
     },
     "execution_count": 288,
     "metadata": {},
     "output_type": "execute_result"
    }
   ],
   "source": [
    "test25(test27)"
   ]
  },
  {
   "cell_type": "code",
   "execution_count": 203,
   "id": "2788df97-7d92-41ec-928c-f333f10de113",
   "metadata": {},
   "outputs": [
    {
     "name": "stdout",
     "output_type": "stream",
     "text": [
      "this wil give you executation time of a function \n",
      "[4, 5, 6, 7, 8, 8]\n",
      "1.2159347534179688e-05\n"
     ]
    }
   ],
   "source": [
    "test27()"
   ]
  },
  {
   "cell_type": "code",
   "execution_count": 286,
   "id": "08b60c84-06e9-4fcf-82d6-38d445b6de4d",
   "metadata": {},
   "outputs": [],
   "source": [
    "def test123():\n",
    "    print(\"sdfsf\")"
   ]
  },
  {
   "cell_type": "code",
   "execution_count": 287,
   "id": "920761b8-b37c-4027-91ae-0fd9c4b6cc98",
   "metadata": {},
   "outputs": [
    {
     "name": "stdout",
     "output_type": "stream",
     "text": [
      "sdfsf\n"
     ]
    }
   ],
   "source": [
    "test123()"
   ]
  },
  {
   "cell_type": "code",
   "execution_count": 277,
   "id": "4ed1bb45-43d3-4d4e-a8a2-d346f4f313c0",
   "metadata": {},
   "outputs": [],
   "source": [
    "import time\n",
    "def test25(f):\n",
    "        print(\"This will give you execution time of a function\")\n",
    "        start = time.time()\n",
    "        f()\n",
    "        end = time.time()\n",
    "        diff = end - start\n",
    "        print(diff)\n",
    "        return f \n"
   ]
  },
  {
   "cell_type": "code",
   "execution_count": 278,
   "id": "dd61e164-b8b1-4f94-930c-7e1e43934fd3",
   "metadata": {},
   "outputs": [
    {
     "name": "stdout",
     "output_type": "stream",
     "text": [
      "This will give you execution time of a function\n",
      "3.0994415283203125e-06\n"
     ]
    }
   ],
   "source": [
    "@test25\n",
    "def test27():    \n",
    "    l = [4,5,6,7,8,9]\n",
    "    l1 = []\n",
    "    for i in l:\n",
    "        if type(i) == int :\n",
    "            l1.append(i)\n",
    "    return l1\n"
   ]
  },
  {
   "cell_type": "code",
   "execution_count": 280,
   "id": "54b33e9b-5dee-4e99-aa3c-6abb28510b85",
   "metadata": {},
   "outputs": [
    {
     "data": {
      "text/plain": [
       "[4, 5, 6, 7, 8, 9]"
      ]
     },
     "execution_count": 280,
     "metadata": {},
     "output_type": "execute_result"
    }
   ],
   "source": [
    "test27()"
   ]
  },
  {
   "cell_type": "code",
   "execution_count": null,
   "id": "67861653-64fa-46e0-9f8a-0ebf39eb0e9d",
   "metadata": {},
   "outputs": [],
   "source": []
  },
  {
   "cell_type": "code",
   "execution_count": 276,
   "id": "93aba173-5525-4597-871b-35e0992a6cf3",
   "metadata": {},
   "outputs": [
    {
     "data": {
      "text/plain": [
       "[4, 5, 6, 7, 8, 9]"
      ]
     },
     "execution_count": 276,
     "metadata": {},
     "output_type": "execute_result"
    }
   ],
   "source": [
    "a"
   ]
  },
  {
   "cell_type": "code",
   "execution_count": 250,
   "id": "5e5e9a87-939a-411a-b66b-42bbe8ebdfd8",
   "metadata": {},
   "outputs": [
    {
     "data": {
      "text/plain": [
       "{'name': 'sudh',\n",
       " 'mentor': {'fsds': 'imran', 'fsda': 'anand', 'bigdata': 'shashank'},\n",
       " 'mail_id': {'imran': 'imran@ineiuron.ai',\n",
       "  'anand': 'anand@ineuron.ai',\n",
       "  'shashank': 'shashank@ineuron.ai'}}"
      ]
     },
     "execution_count": 250,
     "metadata": {},
     "output_type": "execute_result"
    }
   ],
   "source": [
    "d9"
   ]
  },
  {
   "cell_type": "code",
   "execution_count": 219,
   "id": "bd7f0ee0-bcad-483f-b7b1-68e8219bacd8",
   "metadata": {},
   "outputs": [
    {
     "name": "stdout",
     "output_type": "stream",
     "text": [
      "name\n",
      "mentor\n",
      "dict_values(['imran', 'anand', 'shashank'])\n",
      "mail_id\n",
      "dict_values(['imran@ineiuron.ai', 'anand@ineuron.ai', 'shashank@ineuron.ai'])\n"
     ]
    }
   ],
   "source": [
    "for i in d9.keys():\n",
    "    print(i)\n",
    "    if type(d9[i]) == dict:\n",
    "        print(d9[i].values())\n",
    "        \n",
    "    "
   ]
  },
  {
   "cell_type": "code",
   "execution_count": 216,
   "id": "81fc7875-4baa-4a5a-bb65-8851cd4ff077",
   "metadata": {},
   "outputs": [
    {
     "data": {
      "text/plain": [
       "str"
      ]
     },
     "execution_count": 216,
     "metadata": {},
     "output_type": "execute_result"
    }
   ],
   "source": [
    "type(d9['name'])"
   ]
  },
  {
   "cell_type": "code",
   "execution_count": 217,
   "id": "174929ad-98ec-46ca-b5d6-a8c77f155d09",
   "metadata": {},
   "outputs": [
    {
     "data": {
      "text/plain": [
       "dict"
      ]
     },
     "execution_count": 217,
     "metadata": {},
     "output_type": "execute_result"
    }
   ],
   "source": [
    "type(d9['mentor'])"
   ]
  },
  {
   "cell_type": "code",
   "execution_count": 218,
   "id": "372adbaa-dc09-41a6-9891-0d4a44952fd7",
   "metadata": {},
   "outputs": [
    {
     "data": {
      "text/plain": [
       "dict_values(['imran', 'anand', 'shashank'])"
      ]
     },
     "execution_count": 218,
     "metadata": {},
     "output_type": "execute_result"
    }
   ],
   "source": [
    "d9['mentor'].values()"
   ]
  },
  {
   "cell_type": "code",
   "execution_count": 297,
   "id": "3e42afd9-3337-4403-bff2-65f86d05c3f2",
   "metadata": {},
   "outputs": [],
   "source": [
    "amazon_website = [(\"watch\", 5000), (\"phone\", 10000), (\"laptop\", 50000), (\"shirt\", 1000)]"
   ]
  },
  {
   "cell_type": "code",
   "execution_count": 302,
   "id": "96eccab2-e5bb-458f-8001-77764cc6b9dc",
   "metadata": {},
   "outputs": [
    {
     "name": "stdin",
     "output_type": "stream",
     "text": [
      "enter the items you are looking for  watch\n",
      "number of quantiry you are looking for  5\n"
     ]
    },
    {
     "name": "stdout",
     "output_type": "stream",
     "text": [
      "calculate the price \n",
      "25000\n"
     ]
    }
   ],
   "source": [
    "a = input(\"enter the items you are looking for \")\n",
    "b = int(input(\"number of quantiry you are looking for \"))\n",
    "for i in amazon_website:\n",
    "    price = 0 \n",
    "    if i[0] == a :\n",
    "        print(\"calculate the price \")\n",
    "        price = price + b  * i[1]\n",
    "    print(price)\n",
    "    elif i[0] != a :\n",
    "        print(\"item is not avaible \") \n",
    "    "
   ]
  },
  {
   "cell_type": "code",
   "execution_count": 303,
   "id": "6e71384f-f8f7-4a18-87a3-fbb774834acc",
   "metadata": {},
   "outputs": [],
   "source": [
    "l_iteam  = []\n",
    "l_price = []\n",
    "for i,j in amazon_website:\n",
    "    l_iteam.append(i)\n",
    "    l_price.append(j)"
   ]
  },
  {
   "cell_type": "code",
   "execution_count": 304,
   "id": "c4abe17a-73cd-413f-bc40-fef5fc42448f",
   "metadata": {},
   "outputs": [
    {
     "data": {
      "text/plain": [
       "['watch', 'phone', 'laptop', 'shirt']"
      ]
     },
     "execution_count": 304,
     "metadata": {},
     "output_type": "execute_result"
    }
   ],
   "source": [
    "l_iteam"
   ]
  },
  {
   "cell_type": "code",
   "execution_count": 305,
   "id": "056bf822-9e54-413f-ba74-030716021fa0",
   "metadata": {},
   "outputs": [
    {
     "data": {
      "text/plain": [
       "[5000, 10000, 50000, 1000]"
      ]
     },
     "execution_count": 305,
     "metadata": {},
     "output_type": "execute_result"
    }
   ],
   "source": [
    "l_price"
   ]
  },
  {
   "cell_type": "code",
   "execution_count": null,
   "id": "4f8b6531-ff13-4011-85aa-c683e06e5b6b",
   "metadata": {},
   "outputs": [],
   "source": []
  },
  {
   "cell_type": "code",
   "execution_count": 311,
   "id": "f0e9690e-5899-4847-b7f2-065cbf048a7c",
   "metadata": {},
   "outputs": [
    {
     "name": "stdin",
     "output_type": "stream",
     "text": [
      "enter the items you are looking for  phone\n",
      "number of quantiry you are looking for  3\n"
     ]
    },
    {
     "name": "stdout",
     "output_type": "stream",
     "text": [
      "calculate the price \n"
     ]
    },
    {
     "name": "stdin",
     "output_type": "stream",
     "text": [
      "enter the items you are looking for  watch\n",
      "number of quantiry you are looking for  2\n"
     ]
    },
    {
     "name": "stdout",
     "output_type": "stream",
     "text": [
      "calculate the price \n"
     ]
    },
    {
     "name": "stdin",
     "output_type": "stream",
     "text": [
      "enter the items you are looking for  xyz\n",
      "number of quantiry you are looking for  3\n"
     ]
    },
    {
     "name": "stdout",
     "output_type": "stream",
     "text": [
      "40000\n"
     ]
    }
   ],
   "source": [
    "amazon_website = [(\"watch\", 5000), (\"phone\", 10000), (\"laptop\", 50000), (\"shirt\", 1000)]\n",
    "price = 0 \n",
    "while True :\n",
    "    a = input(\"enter the items you are looking for \")\n",
    "    b = int(input(\"number of quantiry you are looking for \"))\n",
    "    if a in l_iteam :\n",
    "        print(\"calculate the price \")\n",
    "        for i in amazon_website:\n",
    "            if i[0] == a :\n",
    "                price = price + b  * i[1]\n",
    "    else :\n",
    "        print(\"your items are not matching would you like to give a next try\")\n",
    "        user_in = input(\"enter yes or no\")\n",
    "        if user_in == \"yes\"\n",
    "        continue \n",
    "print(price)\n",
    "    "
   ]
  },
  {
   "cell_type": "code",
   "execution_count": null,
   "id": "d6b84a1b-6c63-4842-ba8b-2210c115c07a",
   "metadata": {},
   "outputs": [],
   "source": [
    "n = int(input(\"enter no of items u want to purchase: \"))\n",
    "for i in range (n):\n",
    "    user_input = input(\"enter what items u need from amazon_website\")\n",
    "amazon_website = [(\"watch\", 5000), (\"phone\", 10000), (\"laptop\", 50000), (\"shirt\", 1000)]\n",
    "cost = 0\n",
    "for i in amazon_website:\n",
    "    print(i[1])\n",
    "    cost = cost+i[0][1]\n",
    "    print(i[0],cost)\n",
    "print(cost)\n"
   ]
  }
 ],
 "metadata": {
  "kernelspec": {
   "display_name": "Python 3 (ipykernel)",
   "language": "python",
   "name": "python3"
  },
  "language_info": {
   "codemirror_mode": {
    "name": "ipython",
    "version": 3
   },
   "file_extension": ".py",
   "mimetype": "text/x-python",
   "name": "python",
   "nbconvert_exporter": "python",
   "pygments_lexer": "ipython3",
   "version": "3.9.13"
  }
 },
 "nbformat": 4,
 "nbformat_minor": 5
}
