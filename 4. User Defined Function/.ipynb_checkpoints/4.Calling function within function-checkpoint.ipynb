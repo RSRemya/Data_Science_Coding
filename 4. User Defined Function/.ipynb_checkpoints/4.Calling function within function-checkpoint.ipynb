{
 "cells": [
  {
   "cell_type": "markdown",
   "id": "49e42607",
   "metadata": {},
   "source": [
    "# Calling function within function"
   ]
  },
  {
   "cell_type": "markdown",
   "id": "f063d5b4",
   "metadata": {},
   "source": [
    "### Importance of Argument"
   ]
  },
  {
   "cell_type": "code",
   "execution_count": 81,
   "id": "2fdef8fb-fd25-4a64-83d6-4c2e4c8c6e26",
   "metadata": {},
   "outputs": [],
   "source": [
    "def test1(a) : \n",
    "    return \"python\" \n",
    "\n",
    "def test2(b):\n",
    "    return b\n",
    "\n",
    "def test3():\n",
    "    return \"function\""
   ]
  },
  {
   "cell_type": "code",
   "execution_count": 125,
   "id": "ec37c549",
   "metadata": {},
   "outputs": [
    {
     "data": {
      "text/plain": [
       "'python'"
      ]
     },
     "execution_count": 125,
     "metadata": {},
     "output_type": "execute_result"
    }
   ],
   "source": [
    "# It will pass return value of test1, not test2\n",
    "# Because test2 is not called here, its only defined\n",
    "test1(test2)"
   ]
  },
  {
   "cell_type": "code",
   "execution_count": 126,
   "id": "9b8c48b9",
   "metadata": {},
   "outputs": [
    {
     "data": {
      "text/plain": [
       "'python'"
      ]
     },
     "execution_count": 126,
     "metadata": {},
     "output_type": "execute_result"
    }
   ],
   "source": [
    "# It will pass return value of test1, not test3\n",
    "# Because test3 is not called here, its only defined\n",
    "test1(test3)"
   ]
  },
  {
   "cell_type": "code",
   "execution_count": 129,
   "id": "ba207d34",
   "metadata": {},
   "outputs": [
    {
     "ename": "TypeError",
     "evalue": "test3() takes 0 positional arguments but 1 was given",
     "output_type": "error",
     "traceback": [
      "\u001b[1;31m---------------------------------------------------------------------------\u001b[0m",
      "\u001b[1;31mTypeError\u001b[0m                                 Traceback (most recent call last)",
      "\u001b[1;32m~\\AppData\\Local\\Temp\\ipykernel_10792\\1785459369.py\u001b[0m in \u001b[0;36m<module>\u001b[1;34m\u001b[0m\n\u001b[0;32m      3\u001b[0m \u001b[1;31m# But since test3 has no arguments  -----> error is produced\u001b[0m\u001b[1;33m\u001b[0m\u001b[1;33m\u001b[0m\u001b[0m\n\u001b[0;32m      4\u001b[0m \u001b[1;33m\u001b[0m\u001b[0m\n\u001b[1;32m----> 5\u001b[1;33m \u001b[0mtest3\u001b[0m\u001b[1;33m(\u001b[0m\u001b[0mtest1\u001b[0m\u001b[1;33m)\u001b[0m\u001b[1;33m\u001b[0m\u001b[1;33m\u001b[0m\u001b[0m\n\u001b[0m",
      "\u001b[1;31mTypeError\u001b[0m: test3() takes 0 positional arguments but 1 was given"
     ]
    }
   ],
   "source": [
    "# putting test1 or test2 in test3 will return an error because test3 does not have any argument\n",
    "\n",
    "test3(test1)"
   ]
  },
  {
   "cell_type": "markdown",
   "id": "b213cced",
   "metadata": {},
   "source": [
    "So in order to pass a function within another function, the function holding other function should have argument"
   ]
  },
  {
   "cell_type": "markdown",
   "id": "e5690dbd",
   "metadata": {},
   "source": [
    "### Calling function inside function"
   ]
  },
  {
   "cell_type": "code",
   "execution_count": 133,
   "id": "06f8844b",
   "metadata": {},
   "outputs": [],
   "source": [
    "def test4(*args):\n",
    "    print(\"this is a return of test4\")"
   ]
  },
  {
   "cell_type": "code",
   "execution_count": 134,
   "id": "09e9402d",
   "metadata": {},
   "outputs": [],
   "source": [
    "def test5(func) : \n",
    "    def test6():\n",
    "        print(\"i am inside test6\") \n",
    "        func()# This will call function inside test6\n",
    "    return test6()"
   ]
  },
  {
   "cell_type": "code",
   "execution_count": 135,
   "id": "5aee85c8",
   "metadata": {},
   "outputs": [
    {
     "name": "stdout",
     "output_type": "stream",
     "text": [
      "i am inside test6\n",
      "this is a return of test4\n"
     ]
    }
   ],
   "source": [
    "test5(test4)"
   ]
  },
  {
   "cell_type": "markdown",
   "id": "77709a0d",
   "metadata": {},
   "source": [
    "### Defining function inside function and calling them using if condition"
   ]
  },
  {
   "cell_type": "code",
   "execution_count": 136,
   "id": "b5e860e8-2f59-49cb-a1e7-9df8c9d59217",
   "metadata": {},
   "outputs": [],
   "source": [
    "def test7(a) : \n",
    "    print(\"The course is\") \n",
    "    \n",
    "    def test8() :\n",
    "        print(\"Deep Learning\") \n",
    "    \n",
    "    def test9():\n",
    "        print(\"Machine Learning\")\n",
    "    \n",
    "    if a == \"DL\":\n",
    "        return test8()\n",
    "    elif a == \"ML\" :\n",
    "        return test9()"
   ]
  },
  {
   "cell_type": "code",
   "execution_count": 137,
   "id": "5533983f-5e23-42e9-9e52-acb079e7a72c",
   "metadata": {},
   "outputs": [
    {
     "name": "stdout",
     "output_type": "stream",
     "text": [
      "The course is\n",
      "Deep Learning\n"
     ]
    }
   ],
   "source": [
    "test7(\"DL\")"
   ]
  },
  {
   "cell_type": "code",
   "execution_count": 138,
   "id": "e7b39e90-35ab-493f-908b-04ccc0e85129",
   "metadata": {},
   "outputs": [
    {
     "name": "stdout",
     "output_type": "stream",
     "text": [
      "The course is\n",
      "Machine Learning\n"
     ]
    }
   ],
   "source": [
    "test7(\"ML\")"
   ]
  },
  {
   "cell_type": "markdown",
   "id": "383bf447",
   "metadata": {},
   "source": [
    "### Calling function inside function"
   ]
  },
  {
   "cell_type": "code",
   "execution_count": 130,
   "id": "5fb3bd93",
   "metadata": {},
   "outputs": [],
   "source": [
    "def test5(*args):\n",
    "    print(\"this is a return of test5\")"
   ]
  },
  {
   "cell_type": "code",
   "execution_count": 131,
   "id": "2225199f-9894-4a78-834a-db0488abca67",
   "metadata": {},
   "outputs": [],
   "source": [
    "def test6(func) : \n",
    "    def test7():\n",
    "        print(\"i am inside test7\") \n",
    "        func()# This will call function inside test6\n",
    "    return test7()"
   ]
  },
  {
   "cell_type": "code",
   "execution_count": 132,
   "id": "aec2a7e9",
   "metadata": {},
   "outputs": [
    {
     "name": "stdout",
     "output_type": "stream",
     "text": [
      "i am inside test7\n",
      "this is a return of test5\n"
     ]
    }
   ],
   "source": [
    "test6(test5)"
   ]
  },
  {
   "cell_type": "markdown",
   "id": "2e284091",
   "metadata": {},
   "source": [
    "Hence both test6 and test5 are called using coding shown above"
   ]
  }
 ],
 "metadata": {
  "kernelspec": {
   "display_name": "Python 3 (ipykernel)",
   "language": "python",
   "name": "python3"
  },
  "language_info": {
   "codemirror_mode": {
    "name": "ipython",
    "version": 3
   },
   "file_extension": ".py",
   "mimetype": "text/x-python",
   "name": "python",
   "nbconvert_exporter": "python",
   "pygments_lexer": "ipython3",
   "version": "3.9.13"
  }
 },
 "nbformat": 4,
 "nbformat_minor": 5
}
