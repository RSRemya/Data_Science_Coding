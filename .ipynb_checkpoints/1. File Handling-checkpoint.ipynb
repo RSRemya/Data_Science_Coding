{
 "cells": [
  {
   "cell_type": "markdown",
   "id": "ebc3f752",
   "metadata": {},
   "source": [
    "# File Handling"
   ]
  },
  {
   "cell_type": "code",
   "execution_count": 2,
   "id": "0065adcf",
   "metadata": {},
   "outputs": [
    {
     "ename": "NameError",
     "evalue": "name 'ls' is not defined",
     "output_type": "error",
     "traceback": [
      "\u001b[1;31m---------------------------------------------------------------------------\u001b[0m",
      "\u001b[1;31mNameError\u001b[0m                                 Traceback (most recent call last)",
      "\u001b[1;32m~\\AppData\\Local\\Temp\\ipykernel_6400\\2322207690.py\u001b[0m in \u001b[0;36m<module>\u001b[1;34m\u001b[0m\n\u001b[0;32m      1\u001b[0m \u001b[1;31m#Checking present working directory via following code\u001b[0m\u001b[1;33m\u001b[0m\u001b[1;33m\u001b[0m\u001b[0m\n\u001b[0;32m      2\u001b[0m \u001b[1;31m#Check all the files over there\u001b[0m\u001b[1;33m\u001b[0m\u001b[1;33m\u001b[0m\u001b[0m\n\u001b[1;32m----> 3\u001b[1;33m \u001b[0mls\u001b[0m\u001b[1;33m\u001b[0m\u001b[1;33m\u001b[0m\u001b[0m\n\u001b[0m",
      "\u001b[1;31mNameError\u001b[0m: name 'ls' is not defined"
     ]
    }
   ],
   "source": [
    "#Checking present working directory via following code\n",
    "#Check all the files over there\n",
    "ls"
   ]
  },
  {
   "cell_type": "code",
   "execution_count": 2,
   "id": "c53a261f",
   "metadata": {},
   "outputs": [
    {
     "ename": "NameError",
     "evalue": "name 'pwd' is not defined",
     "output_type": "error",
     "traceback": [
      "\u001b[1;31m---------------------------------------------------------------------------\u001b[0m",
      "\u001b[1;31mNameError\u001b[0m                                 Traceback (most recent call last)",
      "\u001b[1;32m~\\AppData\\Local\\Temp\\ipykernel_7916\\2136035195.py\u001b[0m in \u001b[0;36m<module>\u001b[1;34m\u001b[0m\n\u001b[0;32m      1\u001b[0m \u001b[1;31m#Check location of current file, onwhich we are working\u001b[0m\u001b[1;33m\u001b[0m\u001b[1;33m\u001b[0m\u001b[0m\n\u001b[1;32m----> 2\u001b[1;33m \u001b[0mpwd\u001b[0m\u001b[1;33m(\u001b[0m\u001b[1;33m)\u001b[0m\u001b[1;33m\u001b[0m\u001b[1;33m\u001b[0m\u001b[0m\n\u001b[0m",
      "\u001b[1;31mNameError\u001b[0m: name 'pwd' is not defined"
     ]
    }
   ],
   "source": [
    "#Check location of current file, onwhich we are working\n",
    "pwd()"
   ]
  },
  {
   "cell_type": "markdown",
   "id": "ad97253f",
   "metadata": {},
   "source": [
    "### Opening and Closing a File"
   ]
  },
  {
   "cell_type": "code",
   "execution_count": 3,
   "id": "9ef53a36",
   "metadata": {},
   "outputs": [
    {
     "ename": "FileNotFoundError",
     "evalue": "[Errno 2] No such file or directory: 'test.txt'",
     "output_type": "error",
     "traceback": [
      "\u001b[1;31m---------------------------------------------------------------------------\u001b[0m",
      "\u001b[1;31mFileNotFoundError\u001b[0m                         Traceback (most recent call last)",
      "\u001b[1;32m~\\AppData\\Local\\Temp\\ipykernel_6400\\2604973991.py\u001b[0m in \u001b[0;36m<module>\u001b[1;34m\u001b[0m\n\u001b[0;32m      1\u001b[0m \u001b[1;31m#used to open file\u001b[0m\u001b[1;33m\u001b[0m\u001b[1;33m\u001b[0m\u001b[0m\n\u001b[1;32m----> 2\u001b[1;33m \u001b[0mf\u001b[0m\u001b[1;33m=\u001b[0m\u001b[0mopen\u001b[0m\u001b[1;33m(\u001b[0m\u001b[1;34m\"test.txt\"\u001b[0m\u001b[1;33m)\u001b[0m\u001b[1;33m\u001b[0m\u001b[1;33m\u001b[0m\u001b[0m\n\u001b[0m",
      "\u001b[1;31mFileNotFoundError\u001b[0m: [Errno 2] No such file or directory: 'test.txt'"
     ]
    }
   ],
   "source": [
    "#used to open file\n",
    "f=open(\"test.txt\")"
   ]
  },
  {
   "cell_type": "code",
   "execution_count": 13,
   "id": "75a38c8b",
   "metadata": {},
   "outputs": [
    {
     "data": {
      "text/plain": [
       "_io.TextIOWrapper"
      ]
     },
     "execution_count": 13,
     "metadata": {},
     "output_type": "execute_result"
    }
   ],
   "source": [
    "type(f)"
   ]
  },
  {
   "cell_type": "code",
   "execution_count": 14,
   "id": "1d4bcd33",
   "metadata": {},
   "outputs": [],
   "source": [
    "f.close()"
   ]
  },
  {
   "cell_type": "markdown",
   "id": "1dcb06a5",
   "metadata": {},
   "source": [
    "### Opening and Reading a File"
   ]
  },
  {
   "cell_type": "code",
   "execution_count": 28,
   "id": "2cd13cd7",
   "metadata": {},
   "outputs": [
    {
     "data": {
      "text/plain": [
       "'File Handling Operations'"
      ]
     },
     "execution_count": 28,
     "metadata": {},
     "output_type": "execute_result"
    }
   ],
   "source": [
    "f=open(\"test.txt\")\n",
    "\n",
    "f.read()"
   ]
  },
  {
   "cell_type": "code",
   "execution_count": 27,
   "id": "b7ddac95",
   "metadata": {},
   "outputs": [
    {
     "data": {
      "text/plain": [
       "'File Han'"
      ]
     },
     "execution_count": 27,
     "metadata": {},
     "output_type": "execute_result"
    }
   ],
   "source": [
    "f=open(\"test.txt\")\n",
    "f.read(8)"
   ]
  },
  {
   "cell_type": "markdown",
   "id": "ee85e0ba",
   "metadata": {},
   "source": [
    "### Cursor positions in a file"
   ]
  },
  {
   "cell_type": "code",
   "execution_count": 32,
   "id": "813ecbf8",
   "metadata": {},
   "outputs": [
    {
     "data": {
      "text/plain": [
       "24"
      ]
     },
     "execution_count": 32,
     "metadata": {},
     "output_type": "execute_result"
    }
   ],
   "source": [
    "# To get current cursor position\n",
    "f.tell()"
   ]
  },
  {
   "cell_type": "code",
   "execution_count": 34,
   "id": "73e374a0",
   "metadata": {},
   "outputs": [
    {
     "data": {
      "text/plain": [
       "0"
      ]
     },
     "execution_count": 34,
     "metadata": {},
     "output_type": "execute_result"
    }
   ],
   "source": [
    "# To change the cursor position use seek function\n",
    "f.seek(0)"
   ]
  },
  {
   "cell_type": "code",
   "execution_count": 35,
   "id": "6a66bb46",
   "metadata": {},
   "outputs": [
    {
     "data": {
      "text/plain": [
       "0"
      ]
     },
     "execution_count": 35,
     "metadata": {},
     "output_type": "execute_result"
    }
   ],
   "source": [
    "f.tell()"
   ]
  },
  {
   "cell_type": "code",
   "execution_count": 36,
   "id": "eeb998a2",
   "metadata": {},
   "outputs": [
    {
     "data": {
      "text/plain": [
       "5"
      ]
     },
     "execution_count": 36,
     "metadata": {},
     "output_type": "execute_result"
    }
   ],
   "source": [
    "f.seek(5)"
   ]
  },
  {
   "cell_type": "code",
   "execution_count": 37,
   "id": "70adc5c6",
   "metadata": {},
   "outputs": [
    {
     "data": {
      "text/plain": [
       "5"
      ]
     },
     "execution_count": 37,
     "metadata": {},
     "output_type": "execute_result"
    }
   ],
   "source": [
    "f.tell()"
   ]
  },
  {
   "cell_type": "code",
   "execution_count": 24,
   "id": "639876d7",
   "metadata": {},
   "outputs": [
    {
     "data": {
      "text/plain": [
       "[]"
      ]
     },
     "execution_count": 24,
     "metadata": {},
     "output_type": "execute_result"
    }
   ],
   "source": [
    "f.readlines()"
   ]
  },
  {
   "cell_type": "code",
   "execution_count": 80,
   "id": "813e7857",
   "metadata": {},
   "outputs": [],
   "source": [
    "# r open a filefor readding\n",
    "# w opens a file for writing and creates a new file if its does not exits or tructaes the file if exitss\n",
    "# x opens a file for exclustive creation if the file already exits operations\n",
    "# a open a file for appending at ethe ned of file\n",
    "# + oepns a file for updating (reading a dwriting)"
   ]
  },
  {
   "cell_type": "markdown",
   "id": "d1043b9c",
   "metadata": {},
   "source": [
    "### Creating a file & writing within it"
   ]
  },
  {
   "cell_type": "code",
   "execution_count": 25,
   "id": "1c97d584",
   "metadata": {},
   "outputs": [
    {
     "name": "stdout",
     "output_type": "stream",
     "text": [
      "done\n"
     ]
    }
   ],
   "source": [
    "data=\"First file created via code\"\n",
    "f=open(\"test1.txt\",'w')\n",
    "f.write(data)\n",
    "print(\"done\")\n",
    "f.close()"
   ]
  },
  {
   "cell_type": "code",
   "execution_count": null,
   "id": "fc306491",
   "metadata": {},
   "outputs": [],
   "source": [
    "# Checking the file"
   ]
  },
  {
   "cell_type": "code",
   "execution_count": 26,
   "id": "3e29b817",
   "metadata": {},
   "outputs": [
    {
     "data": {
      "text/plain": [
       "'First file created via code'"
      ]
     },
     "execution_count": 26,
     "metadata": {},
     "output_type": "execute_result"
    }
   ],
   "source": [
    "f=open(\"test1.txt\")\n",
    "f.read()"
   ]
  },
  {
   "cell_type": "code",
   "execution_count": 38,
   "id": "55384df3",
   "metadata": {},
   "outputs": [],
   "source": [
    "try:\n",
    "    f=open(\"test.txt\")\n",
    "finally:\n",
    "    f.close()"
   ]
  },
  {
   "cell_type": "code",
   "execution_count": 39,
   "id": "0666c07a",
   "metadata": {},
   "outputs": [],
   "source": [
    "f=open(\"test.txt\")\n",
    "\n",
    "with open(\"test.txt\") as f:\n",
    "    #file operation\n",
    "    f.read()\n",
    "    pass"
   ]
  },
  {
   "cell_type": "markdown",
   "id": "ba31a8d7",
   "metadata": {},
   "source": [
    "### Creating, opening & Closing a file using with statement"
   ]
  },
  {
   "cell_type": "code",
   "execution_count": 71,
   "id": "ffbedd32",
   "metadata": {},
   "outputs": [],
   "source": [
    "# we need to close a file after reading and writing it, its the standard practice that one should follow\n",
    "# This closing procedure is automatically done in with statement, no need to close the file separately\n",
    "\n",
    "with open(\"test2.txt\",'w') as f:\n",
    "    f.write(\"first line\\n\")\n",
    "    f.write(\"second line\\n\")\n",
    "    f.write(\"third line\\n\")\n",
    "    f.write(\"fourth line\\n\")"
   ]
  },
  {
   "cell_type": "markdown",
   "id": "5b71cda1",
   "metadata": {},
   "source": [
    "### Opening a file and reading its lines"
   ]
  },
  {
   "cell_type": "code",
   "execution_count": 72,
   "id": "3a1a5416",
   "metadata": {},
   "outputs": [
    {
     "data": {
      "text/plain": [
       "['first line\\n']"
      ]
     },
     "execution_count": 72,
     "metadata": {},
     "output_type": "execute_result"
    }
   ],
   "source": [
    "f=open(\"test2.txt\")\n",
    "\n",
    "f.readlines(1)"
   ]
  },
  {
   "cell_type": "code",
   "execution_count": 73,
   "id": "df08450b",
   "metadata": {},
   "outputs": [
    {
     "data": {
      "text/plain": [
       "['second line\\n']"
      ]
     },
     "execution_count": 73,
     "metadata": {},
     "output_type": "execute_result"
    }
   ],
   "source": [
    "f.readlines(2)"
   ]
  },
  {
   "cell_type": "code",
   "execution_count": 74,
   "id": "4d5105ed",
   "metadata": {},
   "outputs": [
    {
     "data": {
      "text/plain": [
       "['third line\\n']"
      ]
     },
     "execution_count": 74,
     "metadata": {},
     "output_type": "execute_result"
    }
   ],
   "source": [
    "f.readlines(3)"
   ]
  },
  {
   "cell_type": "code",
   "execution_count": 75,
   "id": "3ffe6239",
   "metadata": {},
   "outputs": [
    {
     "data": {
      "text/plain": [
       "['fourth line\\n']"
      ]
     },
     "execution_count": 75,
     "metadata": {},
     "output_type": "execute_result"
    }
   ],
   "source": [
    "f.readlines(4)"
   ]
  },
  {
   "cell_type": "code",
   "execution_count": 82,
   "id": "4092a4a2",
   "metadata": {},
   "outputs": [
    {
     "ename": "FileExistsError",
     "evalue": "[Errno 17] File exists: 'new.txt'",
     "output_type": "error",
     "traceback": [
      "\u001b[1;31m---------------------------------------------------------------------------\u001b[0m",
      "\u001b[1;31mFileExistsError\u001b[0m                           Traceback (most recent call last)",
      "\u001b[1;32m~\\AppData\\Local\\Temp\\ipykernel_2572\\2522195319.py\u001b[0m in \u001b[0;36m<module>\u001b[1;34m\u001b[0m\n\u001b[1;32m----> 1\u001b[1;33m \u001b[0mf\u001b[0m\u001b[1;33m=\u001b[0m\u001b[0mopen\u001b[0m\u001b[1;33m(\u001b[0m\u001b[1;34m\"new.txt\"\u001b[0m\u001b[1;33m,\u001b[0m\u001b[1;34m'x'\u001b[0m\u001b[1;33m)\u001b[0m\u001b[1;33m\u001b[0m\u001b[1;33m\u001b[0m\u001b[0m\n\u001b[0m\u001b[0;32m      2\u001b[0m \u001b[1;33m\u001b[0m\u001b[0m\n",
      "\u001b[1;31mFileExistsError\u001b[0m: [Errno 17] File exists: 'new.txt'"
     ]
    }
   ],
   "source": [
    "f=open(\"new.txt\",'x')\n",
    "\n",
    "# when first time this statement is executed, it will create new.txt in the location where this file is\n",
    "# when this code is executed second time or more error got generated \n",
    "# Because x means opens a file for exclustive creation if the file already exits operations"
   ]
  },
  {
   "cell_type": "code",
   "execution_count": null,
   "id": "b975338e",
   "metadata": {},
   "outputs": [],
   "source": []
  },
  {
   "cell_type": "code",
   "execution_count": 85,
   "id": "8fc4a3a3",
   "metadata": {},
   "outputs": [
    {
     "name": "stdout",
     "output_type": "stream",
     "text": [
      "enter the first number8\n",
      "enter the second number0\n",
      "there is some issue with my code division by zero\n",
      "Error Found is : division by zero\n"
     ]
    }
   ],
   "source": [
    "try:\n",
    "    a=int(input(\"enter the first number\"))\n",
    "    b=int(input(\"enter the second number\"))\n",
    "    c=a/b\n",
    "except ArithmeticError as e:\n",
    "    print(\"there is some issue with my code\", e)\n",
    "    f=open(\"error5.txt\",'w+')\n",
    "    f.write(\"Error Found is : \")\n",
    "    f.write(str(e))\n",
    "    # above three statements will create an erro.txt file with statement : Error Found is : division by zero\n",
    "    f.seek(0)\n",
    "    print(f.read())\n",
    "else:\n",
    "    print(\"No error generated\")\n",
    "    print(\"Result\")\n",
    "    try:\n",
    "        f= open(\"test3.txt\",'w')\n",
    "    except:\n",
    "        print(\"this is and issue with try block\")"
   ]
  },
  {
   "cell_type": "code",
   "execution_count": null,
   "id": "523cc985",
   "metadata": {},
   "outputs": [],
   "source": []
  },
  {
   "cell_type": "code",
   "execution_count": null,
   "id": "bdb69de7",
   "metadata": {},
   "outputs": [],
   "source": []
  }
 ],
 "metadata": {
  "kernelspec": {
   "display_name": "Python 3 (ipykernel)",
   "language": "python",
   "name": "python3"
  },
  "language_info": {
   "codemirror_mode": {
    "name": "ipython",
    "version": 3
   },
   "file_extension": ".py",
   "mimetype": "text/x-python",
   "name": "python",
   "nbconvert_exporter": "python",
   "pygments_lexer": "ipython3",
   "version": "3.9.13"
  }
 },
 "nbformat": 4,
 "nbformat_minor": 5
}
