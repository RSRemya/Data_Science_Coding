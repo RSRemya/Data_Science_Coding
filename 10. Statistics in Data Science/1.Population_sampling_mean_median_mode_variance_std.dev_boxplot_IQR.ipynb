{
 "cells": [
  {
   "cell_type": "code",
   "execution_count": 1,
   "id": "55aff5d2",
   "metadata": {},
   "outputs": [],
   "source": [
    "import numpy as np"
   ]
  },
  {
   "cell_type": "markdown",
   "id": "223f5171",
   "metadata": {},
   "source": [
    "In statistics, a population is the pool of individuals from which a statistical sample is drawn for a study. "
   ]
  },
  {
   "cell_type": "markdown",
   "id": "a3d720d1",
   "metadata": {},
   "source": [
    "# Making random population"
   ]
  },
  {
   "cell_type": "code",
   "execution_count": 2,
   "id": "76669e72",
   "metadata": {},
   "outputs": [],
   "source": [
    "population1 = np.random.randint(10,20,50)# to genarate 50 random integer inside the dataset in the range 10 to 20\n",
    "population2 = np.random.binomial(10,0.5,10000)# result of flipping a coin 10 times, tested 10000 times, with prob = 0.5."
   ]
  },
  {
   "cell_type": "code",
   "execution_count": 3,
   "id": "c058a77e",
   "metadata": {},
   "outputs": [
    {
     "data": {
      "text/plain": [
       "array([14, 12, 14, 11, 15, 14, 13, 18, 19, 14, 10, 17, 13, 16, 16, 13, 13,\n",
       "       14, 10, 12, 14, 10, 18, 18, 10, 18, 19, 18, 12, 18, 15, 16, 18, 10,\n",
       "       15, 10, 17, 12, 16, 19, 14, 10, 17, 10, 18, 10, 19, 17, 10, 18])"
      ]
     },
     "execution_count": 3,
     "metadata": {},
     "output_type": "execute_result"
    }
   ],
   "source": [
    "population1"
   ]
  },
  {
   "cell_type": "code",
   "execution_count": 4,
   "id": "2f512508",
   "metadata": {},
   "outputs": [
    {
     "data": {
      "text/plain": [
       "array([7, 5, 3, ..., 6, 6, 4])"
      ]
     },
     "execution_count": 4,
     "metadata": {},
     "output_type": "execute_result"
    }
   ],
   "source": [
    "population2"
   ]
  },
  {
   "cell_type": "code",
   "execution_count": 5,
   "id": "b19e3ecc",
   "metadata": {},
   "outputs": [
    {
     "data": {
      "text/plain": [
       "10000"
      ]
     },
     "execution_count": 5,
     "metadata": {},
     "output_type": "execute_result"
    }
   ],
   "source": [
    "len(population2)"
   ]
  },
  {
   "cell_type": "markdown",
   "id": "29c950a4",
   "metadata": {},
   "source": [
    "# Mean Median Mode"
   ]
  },
  {
   "cell_type": "code",
   "execution_count": 6,
   "id": "0584d44b",
   "metadata": {},
   "outputs": [
    {
     "data": {
      "text/plain": [
       "14.48"
      ]
     },
     "execution_count": 6,
     "metadata": {},
     "output_type": "execute_result"
    }
   ],
   "source": [
    "#mean\n",
    "np.mean(population1)"
   ]
  },
  {
   "cell_type": "code",
   "execution_count": 7,
   "id": "3201d3e1",
   "metadata": {},
   "outputs": [
    {
     "data": {
      "text/plain": [
       "14.0"
      ]
     },
     "execution_count": 7,
     "metadata": {},
     "output_type": "execute_result"
    }
   ],
   "source": [
    "#median\n",
    "np.median(population1)"
   ]
  },
  {
   "cell_type": "code",
   "execution_count": 8,
   "id": "e2e111b4",
   "metadata": {},
   "outputs": [
    {
     "data": {
      "text/plain": [
       "10"
      ]
     },
     "execution_count": 8,
     "metadata": {},
     "output_type": "execute_result"
    }
   ],
   "source": [
    "from statistics import mode\n",
    "#mode\n",
    "mode(population1)"
   ]
  },
  {
   "cell_type": "markdown",
   "id": "98629f1a",
   "metadata": {},
   "source": [
    "# Variance & standard deviation"
   ]
  },
  {
   "cell_type": "code",
   "execution_count": 9,
   "id": "023fb89c",
   "metadata": {},
   "outputs": [
    {
     "data": {
      "text/plain": [
       "9"
      ]
     },
     "execution_count": 9,
     "metadata": {},
     "output_type": "execute_result"
    }
   ],
   "source": [
    "#Variance\n",
    "import statistics\n",
    "statistics.variance(population1)"
   ]
  },
  {
   "cell_type": "code",
   "execution_count": 11,
   "id": "b280f5ab",
   "metadata": {},
   "outputs": [
    {
     "data": {
      "text/plain": [
       "3.0"
      ]
     },
     "execution_count": 11,
     "metadata": {},
     "output_type": "execute_result"
    }
   ],
   "source": [
    "# standard deviation\n",
    "import math\n",
    "math.sqrt(statistics.variance(population1))"
   ]
  },
  {
   "cell_type": "markdown",
   "id": "ab2fdc0b",
   "metadata": {},
   "source": [
    "# Box plot and IQR"
   ]
  },
  {
   "cell_type": "code",
   "execution_count": 13,
   "id": "0cc7461a",
   "metadata": {},
   "outputs": [
    {
     "name": "stderr",
     "output_type": "stream",
     "text": [
      "C:\\ProgramData\\Anaconda3\\lib\\site-packages\\seaborn\\_decorators.py:36: FutureWarning: Pass the following variable as a keyword arg: x. From version 0.12, the only valid positional argument will be `data`, and passing other arguments without an explicit keyword will result in an error or misinterpretation.\n",
      "  warnings.warn(\n"
     ]
    },
    {
     "data": {
      "text/plain": [
       "<AxesSubplot:>"
      ]
     },
     "execution_count": 13,
     "metadata": {},
     "output_type": "execute_result"
    },
    {
     "data": {
      "image/png": "[encoded data removed]",
      "text/plain": [
       "<Figure size 640x480 with 1 Axes>"
      ]
     },
     "metadata": {},
     "output_type": "display_data"
    }
   ],
   "source": [
    "import seaborn as sns\n",
    "sns.boxplot(population2)"
   ]
  },
  {
   "cell_type": "code",
   "execution_count": 15,
   "id": "ee6ff013",
   "metadata": {},
   "outputs": [
    {
     "data": {
      "text/plain": [
       "2.0"
      ]
     },
     "execution_count": 15,
     "metadata": {},
     "output_type": "execute_result"
    }
   ],
   "source": [
    "q1,q2,q3,q4 = np.percentile(population2,[25,50,75,100])\n",
    "\n",
    "IQR=q3-q1\n",
    "IQR"
   ]
  },
  {
   "cell_type": "code",
   "execution_count": 19,
   "id": "3cea743a",
   "metadata": {},
   "outputs": [
    {
     "name": "stdout",
     "output_type": "stream",
     "text": [
      "Lower Fence :  1.0\n",
      "Upper Fence :  9.0\n"
     ]
    }
   ],
   "source": [
    "lower_fence=q1-IQR*1.5\n",
    "upper_fence=q3+IQR*1.5\n",
    "\n",
    "print(\"Lower Fence : \", lower_fence)\n",
    "print(\"Upper Fence : \", upper_fence)"
   ]
  },
  {
   "cell_type": "markdown",
   "id": "7f544c47",
   "metadata": {},
   "source": [
    "# Sampling"
   ]
  },
  {
   "cell_type": "code",
   "execution_count": 9,
   "id": "ca99b502",
   "metadata": {},
   "outputs": [],
   "source": [
    "# Taking 3 sample of size 10 from the population\n",
    "sample1 = np.random.choice(population1,10)\n",
    "sample2 = np.random.choice(population1,10)\n",
    "sample3 = np.random.choice(population1,10)"
   ]
  },
  {
   "cell_type": "code",
   "execution_count": 10,
   "id": "b05c8b28",
   "metadata": {},
   "outputs": [
    {
     "name": "stdout",
     "output_type": "stream",
     "text": [
      "[14 12 19 14 10 17 18 14 16 12]\n",
      "==============================\n",
      "[15 11 19 17 17 17 19 15 14 12]\n",
      "==============================\n",
      "[14 16 14 11 16 17 12 16 12 18]\n",
      "==============================\n"
     ]
    }
   ],
   "source": [
    "print(sample1)\n",
    "print(30*\"=\")\n",
    "print(sample2)\n",
    "print(30*\"=\")\n",
    "print(sample3)\n",
    "print(30*\"=\")"
   ]
  },
  {
   "cell_type": "code",
   "execution_count": 11,
   "id": "3bb74f23",
   "metadata": {},
   "outputs": [
    {
     "name": "stdout",
     "output_type": "stream",
     "text": [
      "mean of the sample1 : 14.6\n",
      "median of the sample1 : 14.0\n",
      "mode of the sample1 : 14\n"
     ]
    }
   ],
   "source": [
    "print(f\"mean of the sample1 : {np.mean(sample1)}\")\n",
    "print(f\"median of the sample1 : {np.median(sample1)}\")\n",
    "print(f\"mode of the sample1 : {mode(sample1)}\")"
   ]
  },
  {
   "cell_type": "code",
   "execution_count": null,
   "id": "772b5318",
   "metadata": {},
   "outputs": [],
   "source": []
  }
 ],
 "metadata": {
  "kernelspec": {
   "display_name": "Python 3 (ipykernel)",
   "language": "python",
   "name": "python3"
  },
  "language_info": {
   "codemirror_mode": {
    "name": "ipython",
    "version": 3
   },
   "file_extension": ".py",
   "mimetype": "text/x-python",
   "name": "python",
   "nbconvert_exporter": "python",
   "pygments_lexer": "ipython3",
   "version": "3.9.13"
  }
 },
 "nbformat": 4,
 "nbformat_minor": 5
}
