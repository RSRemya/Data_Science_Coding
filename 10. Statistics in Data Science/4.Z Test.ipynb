{
 "cells": [
  {
   "cell_type": "markdown",
   "id": "ee43d279",
   "metadata": {},
   "source": [
    "# Z Test"
   ]
  },
  {
   "cell_type": "code",
   "execution_count": 6,
   "id": "3a0d5347",
   "metadata": {},
   "outputs": [],
   "source": [
    "# Importing required libraries\n",
    "import numpy as np\n",
    "from statistics import mode\n",
    "import scipy.stats as stats\n",
    "from statsmodels.stats.weightstats import ztest"
   ]
  },
  {
   "cell_type": "code",
   "execution_count": 7,
   "id": "b594cd1b",
   "metadata": {},
   "outputs": [],
   "source": [
    "# Creating a population using random numbers\n",
    "from numpy.random import randn\n",
    "population=randn(5000)"
   ]
  },
  {
   "cell_type": "code",
   "execution_count": 8,
   "id": "7363d86e",
   "metadata": {},
   "outputs": [
    {
     "data": {
      "text/plain": [
       "array([-0.08578849,  1.39841212, -2.11149596, ...,  0.17726738,\n",
       "       -1.2194429 , -1.32168304])"
      ]
     },
     "execution_count": 8,
     "metadata": {},
     "output_type": "execute_result"
    }
   ],
   "source": [
    "population"
   ]
  },
  {
   "cell_type": "code",
   "execution_count": 10,
   "id": "7a6ba066",
   "metadata": {},
   "outputs": [],
   "source": [
    "null_mean = np.mean(population) # mean value in the null hypothesis"
   ]
  },
  {
   "cell_type": "code",
   "execution_count": 11,
   "id": "05903ff3",
   "metadata": {},
   "outputs": [],
   "source": [
    "z_score,p_value=ztest(population,value=null_mean,alternative='larger')\n",
    "#alternative='larger' - means that in alternative hypothesis we check whether the mean is larger"
   ]
  },
  {
   "cell_type": "code",
   "execution_count": 12,
   "id": "35ea7083",
   "metadata": {},
   "outputs": [],
   "source": [
    "#Taking C.I=95%\n",
    "# Means ALPHA=0.05(5%)\n",
    "\n",
    "ALPHA=0.05"
   ]
  },
  {
   "cell_type": "code",
   "execution_count": 13,
   "id": "aacec578",
   "metadata": {},
   "outputs": [
    {
     "data": {
      "text/plain": [
       "0.5"
      ]
     },
     "execution_count": 13,
     "metadata": {},
     "output_type": "execute_result"
    }
   ],
   "source": [
    "p_value"
   ]
  },
  {
   "cell_type": "code",
   "execution_count": 14,
   "id": "8fbeacaa",
   "metadata": {},
   "outputs": [
    {
     "name": "stdout",
     "output_type": "stream",
     "text": [
      "we are going to accept the null hyphothesis\n"
     ]
    }
   ],
   "source": [
    "# p-value with alpha, if it is greater than alpha then we do not null hypothesis \n",
    "# else we reject it.\n",
    "\n",
    "if (p_value<ALPHA):\n",
    "    print(\"reject the null hyphothesis\")\n",
    "else:\n",
    "    print(\"we are going to accept the null hyphothesis\")"
   ]
  },
  {
   "cell_type": "code",
   "execution_count": null,
   "id": "5be3d621",
   "metadata": {},
   "outputs": [],
   "source": []
  }
 ],
 "metadata": {
  "kernelspec": {
   "display_name": "Python 3 (ipykernel)",
   "language": "python",
   "name": "python3"
  },
  "language_info": {
   "codemirror_mode": {
    "name": "ipython",
    "version": 3
   },
   "file_extension": ".py",
   "mimetype": "text/x-python",
   "name": "python",
   "nbconvert_exporter": "python",
   "pygments_lexer": "ipython3",
   "version": "3.9.13"
  }
 },
 "nbformat": 4,
 "nbformat_minor": 5
}
