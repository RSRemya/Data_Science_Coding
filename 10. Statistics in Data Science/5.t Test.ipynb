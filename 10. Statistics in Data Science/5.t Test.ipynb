{
 "cells": [
  {
   "cell_type": "markdown",
   "id": "43574b85",
   "metadata": {},
   "source": [
    "# t Test\n",
    "\n",
    "A t-test is a type of inferential statistic which is used to determine if there is a significant difference between the means of two groups which may be related in certain features\n",
    "\n",
    "T-test has 2 types : 1. one sampled t-test 2. two-sampled t-test."
   ]
  },
  {
   "cell_type": "markdown",
   "id": "dd9b091c",
   "metadata": {},
   "source": [
    "### One sampled t-test\n",
    "\n",
    "This test will tell us that whether mean of population & sample mean are same or different, wrt one sample"
   ]
  },
  {
   "cell_type": "code",
   "execution_count": 36,
   "id": "b1500906",
   "metadata": {},
   "outputs": [],
   "source": [
    "# When sample size <30 use t test instead of z test\n",
    "# While using t test we don't need population std dev, instead of it sample std dev is required"
   ]
  },
  {
   "cell_type": "code",
   "execution_count": 37,
   "id": "b88e5163",
   "metadata": {},
   "outputs": [],
   "source": [
    "import numpy as np"
   ]
  },
  {
   "cell_type": "code",
   "execution_count": 38,
   "id": "9237ba99",
   "metadata": {},
   "outputs": [
    {
     "data": {
      "text/plain": [
       "array([16, 43, 50, 18, 20, 40, 19, 28, 70, 32])"
      ]
     },
     "execution_count": 38,
     "metadata": {},
     "output_type": "execute_result"
    }
   ],
   "source": [
    "population=[10,20,35,50,28,40,55,18,16,55,30,25,43,18,30,28,14,24,16,17,32,35,26,27,65,18,43,23,21,20,19,70]\n",
    "\n",
    "## Lets take sample\n",
    "\n",
    "sample_size=10\n",
    "\n",
    "sample1=np.random.choice(population,sample_size)\n",
    "\n",
    "sample1"
   ]
  },
  {
   "cell_type": "code",
   "execution_count": 39,
   "id": "308902ec",
   "metadata": {},
   "outputs": [
    {
     "data": {
      "text/plain": [
       "33.6"
      ]
     },
     "execution_count": 39,
     "metadata": {},
     "output_type": "execute_result"
    }
   ],
   "source": [
    "np.mean(sample1)"
   ]
  },
  {
   "cell_type": "code",
   "execution_count": 40,
   "id": "a54f26f4",
   "metadata": {},
   "outputs": [],
   "source": [
    "population_mean=np.mean(population)"
   ]
  },
  {
   "cell_type": "code",
   "execution_count": 41,
   "id": "31b2be4d",
   "metadata": {},
   "outputs": [
    {
     "name": "stdout",
     "output_type": "stream",
     "text": [
      "0.5579068067847075\n"
     ]
    }
   ],
   "source": [
    "from scipy.stats import ttest_1samp\n",
    "ttest,p_value=ttest_1samp(sample,population_mean)\n",
    "print(p_value)"
   ]
  },
  {
   "cell_type": "code",
   "execution_count": 42,
   "id": "2d05c72e",
   "metadata": {},
   "outputs": [
    {
     "name": "stdout",
     "output_type": "stream",
     "text": [
      "we are accepting null hypothesis\n"
     ]
    }
   ],
   "source": [
    "if p_value < 0.05:    # alpha value is 0.05 or 5%\n",
    "    print(\" we are rejecting null hypothesis\")\n",
    "else:\n",
    "    print(\"we are accepting null hypothesis\")"
   ]
  },
  {
   "cell_type": "markdown",
   "id": "4503b284",
   "metadata": {},
   "source": [
    "### Two-sample T-test With Python"
   ]
  },
  {
   "cell_type": "markdown",
   "id": "8c7b9a3b",
   "metadata": {},
   "source": [
    "The Independent Samples t Test or 2-sample t-test compares the means of two independent groups in order to determine whether there is statistical evidence that the associated population means are significantly different. \n",
    "The Independent Samples t Test is a parametric test. This test is also known as: Independent t Test"
   ]
  },
  {
   "cell_type": "code",
   "execution_count": null,
   "id": "adb4318c",
   "metadata": {},
   "outputs": [],
   "source": [
    "## Lets take another sample\n",
    "\n",
    "sample2=np.random.choice(population,sample_size)\n",
    "\n",
    "sample2"
   ]
  },
  {
   "cell_type": "code",
   "execution_count": null,
   "id": "67c933f9",
   "metadata": {},
   "outputs": [],
   "source": [
    "np.mean(sample2)"
   ]
  },
  {
   "cell_type": "code",
   "execution_count": null,
   "id": "7ca64db7",
   "metadata": {},
   "outputs": [],
   "source": [
    "ttest,p_value=stats.ttest_ind(a=sample1,b=sample2,equal_var=False)\n",
    "\n",
    "p_value    "
   ]
  },
  {
   "cell_type": "code",
   "execution_count": null,
   "id": "8ff86cd2",
   "metadata": {},
   "outputs": [],
   "source": [
    "if p_value < 0.05:    # alpha value is 0.05 or 5%\n",
    "    print(\" we are rejecting null hypothesis\")\n",
    "else:\n",
    "    print(\"we are accepting null hypothesis\")"
   ]
  },
  {
   "cell_type": "markdown",
   "id": "4d6df69c",
   "metadata": {},
   "source": [
    "# Another example"
   ]
  },
  {
   "cell_type": "code",
   "execution_count": 48,
   "id": "a16bb7f1",
   "metadata": {},
   "outputs": [
    {
     "data": {
      "text/plain": [
       "46.9"
      ]
     },
     "execution_count": 48,
     "metadata": {},
     "output_type": "execute_result"
    }
   ],
   "source": [
    "import scipy.stats as stats\n",
    "\n",
    "np.random.seed(6)\n",
    "school_ages=stats.poisson.rvs(loc=18,mu=35,size=1500)\n",
    "classA_ages=stats.poisson.rvs(loc=18,mu=30,size=60)\n",
    "classA_ages.mean()"
   ]
  },
  {
   "cell_type": "code",
   "execution_count": 49,
   "id": "203496ef",
   "metadata": {},
   "outputs": [
    {
     "data": {
      "text/plain": [
       "53.303333333333335"
      ]
     },
     "execution_count": 49,
     "metadata": {},
     "output_type": "execute_result"
    }
   ],
   "source": [
    "school_ages.mean()"
   ]
  },
  {
   "cell_type": "code",
   "execution_count": 50,
   "id": "4decd195",
   "metadata": {},
   "outputs": [
    {
     "name": "stdout",
     "output_type": "stream",
     "text": [
      "1.139027071016194e-13\n"
     ]
    }
   ],
   "source": [
    "from scipy.stats import ttest_1samp\n",
    "ttest,p_value=ttest_1samp(classA_ages,school_ages.mean())\n",
    "print(p_value)"
   ]
  },
  {
   "cell_type": "code",
   "execution_count": 51,
   "id": "0c6d313a",
   "metadata": {},
   "outputs": [
    {
     "name": "stdout",
     "output_type": "stream",
     "text": [
      " we are rejecting null hypothesis\n"
     ]
    }
   ],
   "source": [
    "if p_value < 0.05:    # alpha value is 0.05 or 5%\n",
    "    print(\" we are rejecting null hypothesis\")\n",
    "else:\n",
    "    print(\"we are accepting null hypothesis\")"
   ]
  },
  {
   "cell_type": "code",
   "execution_count": 52,
   "id": "ef774908",
   "metadata": {},
   "outputs": [
    {
     "data": {
      "text/plain": [
       "50.68333333333333"
      ]
     },
     "execution_count": 52,
     "metadata": {},
     "output_type": "execute_result"
    }
   ],
   "source": [
    "classB_ages=stats.poisson.rvs(loc=18,mu=33,size=60)\n",
    "classB_ages.mean()"
   ]
  },
  {
   "cell_type": "code",
   "execution_count": 53,
   "id": "fa917590",
   "metadata": {},
   "outputs": [
    {
     "data": {
      "text/plain": [
       "0.00030935839774215933"
      ]
     },
     "execution_count": 53,
     "metadata": {},
     "output_type": "execute_result"
    }
   ],
   "source": [
    "ttest,p_value=stats.ttest_ind(a=classA_ages,b=classB_ages,equal_var=False)\n",
    "\n",
    "p_value     "
   ]
  },
  {
   "cell_type": "code",
   "execution_count": 54,
   "id": "8e4f6c24",
   "metadata": {},
   "outputs": [
    {
     "name": "stdout",
     "output_type": "stream",
     "text": [
      " we are rejecting null hypothesis\n"
     ]
    }
   ],
   "source": [
    "\n",
    "if p_value < 0.05:    # alpha value is 0.05 or 5%\n",
    "    print(\" we are rejecting null hypothesis\")\n",
    "else:\n",
    "    print(\"we are accepting null hypothesis\")\n",
    "     "
   ]
  },
  {
   "cell_type": "markdown",
   "id": "fb229658",
   "metadata": {},
   "source": [
    "### Paired T-test With Python"
   ]
  },
  {
   "cell_type": "markdown",
   "id": "0be1ab58",
   "metadata": {},
   "source": [
    "When you want to check how different samples from the same group are, you can go for a paired T-test"
   ]
  },
  {
   "cell_type": "code",
   "execution_count": 58,
   "id": "1b333bd9",
   "metadata": {},
   "outputs": [
    {
     "name": "stdout",
     "output_type": "stream",
     "text": [
      "[25, 30, 28, 35, 28, 34, 26, 29, 30, 26, 28, 32, 31, 30, 45]\n",
      "[27.09095011 19.68648006 25.52783857 30.04252112 24.94225147 36.94963554\n",
      " 24.75250635 26.86682019 23.61999608 23.77091128 22.2370207  33.7160076\n",
      " 31.25494158 32.61759329 48.57480905]\n"
     ]
    },
    {
     "data": {
      "text/html": [
       "<div>\n",
       "<style scoped>\n",
       "    .dataframe tbody tr th:only-of-type {\n",
       "        vertical-align: middle;\n",
       "    }\n",
       "\n",
       "    .dataframe tbody tr th {\n",
       "        vertical-align: top;\n",
       "    }\n",
       "\n",
       "    .dataframe thead th {\n",
       "        text-align: right;\n",
       "    }\n",
       "</style>\n",
       "<table border=\"1\" class=\"dataframe\">\n",
       "  <thead>\n",
       "    <tr style=\"text-align: right;\">\n",
       "      <th></th>\n",
       "      <th>weight_10</th>\n",
       "      <th>weight_20</th>\n",
       "      <th>weight_change</th>\n",
       "    </tr>\n",
       "  </thead>\n",
       "  <tbody>\n",
       "    <tr>\n",
       "      <th>0</th>\n",
       "      <td>25</td>\n",
       "      <td>23.053398</td>\n",
       "      <td>-1.946602</td>\n",
       "    </tr>\n",
       "    <tr>\n",
       "      <th>1</th>\n",
       "      <td>30</td>\n",
       "      <td>22.317693</td>\n",
       "      <td>-7.682307</td>\n",
       "    </tr>\n",
       "    <tr>\n",
       "      <th>2</th>\n",
       "      <td>28</td>\n",
       "      <td>23.458350</td>\n",
       "      <td>-4.541650</td>\n",
       "    </tr>\n",
       "    <tr>\n",
       "      <th>3</th>\n",
       "      <td>35</td>\n",
       "      <td>26.648694</td>\n",
       "      <td>-8.351306</td>\n",
       "    </tr>\n",
       "    <tr>\n",
       "      <th>4</th>\n",
       "      <td>28</td>\n",
       "      <td>30.281454</td>\n",
       "      <td>2.281454</td>\n",
       "    </tr>\n",
       "    <tr>\n",
       "      <th>5</th>\n",
       "      <td>34</td>\n",
       "      <td>34.632320</td>\n",
       "      <td>0.632320</td>\n",
       "    </tr>\n",
       "    <tr>\n",
       "      <th>6</th>\n",
       "      <td>26</td>\n",
       "      <td>16.514915</td>\n",
       "      <td>-9.485085</td>\n",
       "    </tr>\n",
       "    <tr>\n",
       "      <th>7</th>\n",
       "      <td>29</td>\n",
       "      <td>28.028242</td>\n",
       "      <td>-0.971758</td>\n",
       "    </tr>\n",
       "    <tr>\n",
       "      <th>8</th>\n",
       "      <td>30</td>\n",
       "      <td>32.132783</td>\n",
       "      <td>2.132783</td>\n",
       "    </tr>\n",
       "    <tr>\n",
       "      <th>9</th>\n",
       "      <td>26</td>\n",
       "      <td>23.372477</td>\n",
       "      <td>-2.627523</td>\n",
       "    </tr>\n",
       "    <tr>\n",
       "      <th>10</th>\n",
       "      <td>28</td>\n",
       "      <td>26.253276</td>\n",
       "      <td>-1.746724</td>\n",
       "    </tr>\n",
       "    <tr>\n",
       "      <th>11</th>\n",
       "      <td>32</td>\n",
       "      <td>24.816208</td>\n",
       "      <td>-7.183792</td>\n",
       "    </tr>\n",
       "    <tr>\n",
       "      <th>12</th>\n",
       "      <td>31</td>\n",
       "      <td>25.076766</td>\n",
       "      <td>-5.923234</td>\n",
       "    </tr>\n",
       "    <tr>\n",
       "      <th>13</th>\n",
       "      <td>30</td>\n",
       "      <td>27.854208</td>\n",
       "      <td>-2.145792</td>\n",
       "    </tr>\n",
       "    <tr>\n",
       "      <th>14</th>\n",
       "      <td>45</td>\n",
       "      <td>34.242053</td>\n",
       "      <td>-10.757947</td>\n",
       "    </tr>\n",
       "  </tbody>\n",
       "</table>\n",
       "</div>"
      ],
      "text/plain": [
       "    weight_10  weight_20  weight_change\n",
       "0          25  23.053398      -1.946602\n",
       "1          30  22.317693      -7.682307\n",
       "2          28  23.458350      -4.541650\n",
       "3          35  26.648694      -8.351306\n",
       "4          28  30.281454       2.281454\n",
       "5          34  34.632320       0.632320\n",
       "6          26  16.514915      -9.485085\n",
       "7          29  28.028242      -0.971758\n",
       "8          30  32.132783       2.132783\n",
       "9          26  23.372477      -2.627523\n",
       "10         28  26.253276      -1.746724\n",
       "11         32  24.816208      -7.183792\n",
       "12         31  25.076766      -5.923234\n",
       "13         30  27.854208      -2.145792\n",
       "14         45  34.242053     -10.757947"
      ]
     },
     "execution_count": 58,
     "metadata": {},
     "output_type": "execute_result"
    }
   ],
   "source": [
    "weight1=[25,30,28,35,28,34,26,29,30,26,28,32,31,30,45]# present age of students\n",
    "weight2=weight1+stats.norm.rvs(scale=5,loc=-1.25,size=15)# future age of students after some years\n",
    "\n",
    "print(weight1)\n",
    "print(weight2)\n",
    "\n",
    "\n",
    "weight_df"
   ]
  },
  {
   "cell_type": "code",
   "execution_count": 57,
   "id": "7cf39e35",
   "metadata": {},
   "outputs": [],
   "source": [
    "import pandas as pd\n",
    "weight_df=pd.DataFrame({\"weight_10\":np.array(weight1),\n",
    "                         \"weight_20\":np.array(weight2),\n",
    "                       \"weight_change\":np.array(weight2)-np.array(weight1)})"
   ]
  },
  {
   "cell_type": "code",
   "execution_count": 59,
   "id": "abd116da",
   "metadata": {},
   "outputs": [
    {
     "name": "stdout",
     "output_type": "stream",
     "text": [
      "0.12425645767645806\n"
     ]
    }
   ],
   "source": [
    "ttest,p_value=stats.ttest_rel(a=weight1,b=weight2)\n",
    "\n",
    "print(p_value)"
   ]
  },
  {
   "cell_type": "code",
   "execution_count": 60,
   "id": "50079894",
   "metadata": {},
   "outputs": [
    {
     "name": "stdout",
     "output_type": "stream",
     "text": [
      "we are accepting null hypothesis\n"
     ]
    }
   ],
   "source": [
    "\n",
    "if p_value < 0.05:    # alpha value is 0.05 or 5%\n",
    "    print(\" we are rejecting null hypothesis\")\n",
    "else:\n",
    "    print(\"we are accepting null hypothesis\")"
   ]
  },
  {
   "cell_type": "code",
   "execution_count": null,
   "id": "72d96927",
   "metadata": {},
   "outputs": [],
   "source": []
  }
 ],
 "metadata": {
  "kernelspec": {
   "display_name": "Python 3 (ipykernel)",
   "language": "python",
   "name": "python3"
  },
  "language_info": {
   "codemirror_mode": {
    "name": "ipython",
    "version": 3
   },
   "file_extension": ".py",
   "mimetype": "text/x-python",
   "name": "python",
   "nbconvert_exporter": "python",
   "pygments_lexer": "ipython3",
   "version": "3.9.13"
  }
 },
 "nbformat": 4,
 "nbformat_minor": 5
}
