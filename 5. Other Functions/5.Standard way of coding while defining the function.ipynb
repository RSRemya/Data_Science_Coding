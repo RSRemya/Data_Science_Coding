{
 "cells": [
  {
   "cell_type": "markdown",
   "id": "337c67f9",
   "metadata": {},
   "source": [
    "# Standard way of coding while defining the function"
   ]
  },
  {
   "cell_type": "markdown",
   "id": "fc478ec2",
   "metadata": {},
   "source": [
    "### Generating a simple Docstring"
   ]
  },
  {
   "cell_type": "code",
   "execution_count": 5,
   "id": "2a13171e",
   "metadata": {},
   "outputs": [],
   "source": [
    "def test1():\n",
    "    '''this is my doc string to give a hint to next programer '''\n",
    "    return \"Eg of Docstring\"\n",
    "\n",
    "# Things mentioned in tripple quotes is a doc string"
   ]
  },
  {
   "cell_type": "markdown",
   "id": "f213016a",
   "metadata": {},
   "source": [
    "### Mentioning the appropriate type of outcome that should come out of a function"
   ]
  },
  {
   "cell_type": "code",
   "execution_count": 6,
   "id": "1289f99e",
   "metadata": {},
   "outputs": [],
   "source": [
    "def test2() -> int:  # here int means, giving integer input is best according to person who formed the code\n",
    "    '''this is my doc string to give a hint to next programer '''\n",
    "    return a + b"
   ]
  },
  {
   "cell_type": "markdown",
   "id": "c3b806cf",
   "metadata": {},
   "source": [
    "### Mentioning the appropriate type of inputs that should be given to a function"
   ]
  },
  {
   "cell_type": "code",
   "execution_count": 15,
   "id": "8a53a2fc",
   "metadata": {},
   "outputs": [],
   "source": [
    "def test2(a : int ,b : int) -> int:\n",
    "    '''this is my doc string to give a hint to next programer '''\n",
    "    return a + b\n",
    "\n",
    "# here in arguments : a : int ,b : int, specifies the type of input that should be given to a function"
   ]
  },
  {
   "cell_type": "code",
   "execution_count": 16,
   "id": "3ece5d14",
   "metadata": {},
   "outputs": [
    {
     "data": {
      "text/plain": [
       "'pythonclass '"
      ]
     },
     "execution_count": 16,
     "metadata": {},
     "output_type": "execute_result"
    }
   ],
   "source": [
    "# But if you are not giving input type as mentioned then also you will get output without error\n",
    "# But its not correct practice\n",
    "\n",
    "test2(\"python\"  , \"class \")\n",
    "\n",
    "# here input a is not an integer neither other input follows correct type as per given in defined function"
   ]
  },
  {
   "cell_type": "code",
   "execution_count": 17,
   "id": "62577123",
   "metadata": {},
   "outputs": [
    {
     "data": {
      "text/plain": [
       "9"
      ]
     },
     "execution_count": 17,
     "metadata": {},
     "output_type": "execute_result"
    }
   ],
   "source": [
    "test2(3,6)"
   ]
  },
  {
   "cell_type": "code",
   "execution_count": null,
   "id": "9d9e6e30",
   "metadata": {},
   "outputs": [],
   "source": []
  }
 ],
 "metadata": {
  "kernelspec": {
   "display_name": "Python 3 (ipykernel)",
   "language": "python",
   "name": "python3"
  },
  "language_info": {
   "codemirror_mode": {
    "name": "ipython",
    "version": 3
   },
   "file_extension": ".py",
   "mimetype": "text/x-python",
   "name": "python",
   "nbconvert_exporter": "python",
   "pygments_lexer": "ipython3",
   "version": "3.9.13"
  }
 },
 "nbformat": 4,
 "nbformat_minor": 5
}
