{
 "cells": [
  {
   "cell_type": "markdown",
   "id": "c08ed448",
   "metadata": {},
   "source": [
    "# Map Function"
   ]
  },
  {
   "cell_type": "code",
   "execution_count": null,
   "id": "63f6e5c2",
   "metadata": {},
   "outputs": [],
   "source": [
    "#Map function is an iterator to return a result after applying a function to every item of an iterable (tuple, lists, etc.). \n",
    "#It is used when you want to apply a single transformation function to all the iterable elements. "
   ]
  },
  {
   "cell_type": "markdown",
   "id": "4af2d002",
   "metadata": {},
   "source": [
    "### To add a number to every elements in a numerical list"
   ]
  },
  {
   "cell_type": "code",
   "execution_count": 3,
   "id": "9a4e78a5",
   "metadata": {},
   "outputs": [],
   "source": [
    "# Mention the data on whose elements you want to apply the changes\n",
    "\n",
    "l = [1,2,3,4,5,6,7]"
   ]
  },
  {
   "cell_type": "markdown",
   "id": "cabe6d32",
   "metadata": {},
   "source": [
    "#### Method 1"
   ]
  },
  {
   "cell_type": "code",
   "execution_count": 6,
   "id": "8d96052b",
   "metadata": {},
   "outputs": [],
   "source": [
    "# Then define a function which you want to use for mapping\n",
    "\n",
    "def test1(a):\n",
    "    return a + 10"
   ]
  },
  {
   "cell_type": "code",
   "execution_count": 7,
   "id": "00bea6bc",
   "metadata": {},
   "outputs": [
    {
     "data": {
      "text/plain": [
       "[11, 12, 13, 14, 15, 16, 17]"
      ]
     },
     "execution_count": 7,
     "metadata": {},
     "output_type": "execute_result"
    }
   ],
   "source": [
    "# Now finally apply mapping on data via function defined\n",
    "\n",
    "list(map( test1,l ))"
   ]
  },
  {
   "cell_type": "markdown",
   "id": "60efd4aa",
   "metadata": {},
   "source": [
    "#### Method 2"
   ]
  },
  {
   "cell_type": "code",
   "execution_count": 8,
   "id": "99ee8efd",
   "metadata": {},
   "outputs": [
    {
     "data": {
      "text/plain": [
       "[11, 12, 13, 14, 15, 16, 17]"
      ]
     },
     "execution_count": 8,
     "metadata": {},
     "output_type": "execute_result"
    }
   ],
   "source": [
    "#through lambda function same result can be obtained in a single line\n",
    "\n",
    "list(map(lambda a : a +10  , l))"
   ]
  },
  {
   "cell_type": "markdown",
   "id": "08fdb2ed",
   "metadata": {},
   "source": [
    "### Performing string related operations"
   ]
  },
  {
   "cell_type": "code",
   "execution_count": 16,
   "id": "1ddcb13b",
   "metadata": {},
   "outputs": [],
   "source": [
    "l = [\"Python\", \"Mapping\" , \"Function\"]"
   ]
  },
  {
   "cell_type": "code",
   "execution_count": 18,
   "id": "63acd03b",
   "metadata": {},
   "outputs": [
    {
     "data": {
      "text/plain": [
       "['PYTHON', 'MAPPING', 'FUNCTION']"
      ]
     },
     "execution_count": 18,
     "metadata": {},
     "output_type": "execute_result"
    }
   ],
   "source": [
    "#Changing case\n",
    "\n",
    "list(map(str.upper , l))"
   ]
  },
  {
   "cell_type": "code",
   "execution_count": 13,
   "id": "31852fbb",
   "metadata": {},
   "outputs": [
    {
     "data": {
      "text/plain": [
       "[6, 7, 8]"
      ]
     },
     "execution_count": 13,
     "metadata": {},
     "output_type": "execute_result"
    }
   ],
   "source": [
    "#Finding length of elements\n",
    "\n",
    "list(map(len,l))"
   ]
  },
  {
   "cell_type": "markdown",
   "id": "dd3faaf8",
   "metadata": {},
   "source": [
    "### Finding even numbers from a list given"
   ]
  },
  {
   "cell_type": "code",
   "execution_count": 14,
   "id": "016db6d1",
   "metadata": {},
   "outputs": [],
   "source": [
    "l = [1,2,3,4,5,6,7,8]"
   ]
  },
  {
   "cell_type": "code",
   "execution_count": 15,
   "id": "2852bbae",
   "metadata": {},
   "outputs": [
    {
     "data": {
      "text/plain": [
       "[2, 4, 6, 8]"
      ]
     },
     "execution_count": 15,
     "metadata": {},
     "output_type": "execute_result"
    }
   ],
   "source": [
    "# Using for loop:\n",
    "\n",
    "[i for i in l if i%2 == 0 ]"
   ]
  },
  {
   "cell_type": "code",
   "execution_count": null,
   "id": "de4d3afc",
   "metadata": {},
   "outputs": [],
   "source": []
  }
 ],
 "metadata": {
  "kernelspec": {
   "display_name": "Python 3 (ipykernel)",
   "language": "python",
   "name": "python3"
  },
  "language_info": {
   "codemirror_mode": {
    "name": "ipython",
    "version": 3
   },
   "file_extension": ".py",
   "mimetype": "text/x-python",
   "name": "python",
   "nbconvert_exporter": "python",
   "pygments_lexer": "ipython3",
   "version": "3.9.13"
  }
 },
 "nbformat": 4,
 "nbformat_minor": 5
}
