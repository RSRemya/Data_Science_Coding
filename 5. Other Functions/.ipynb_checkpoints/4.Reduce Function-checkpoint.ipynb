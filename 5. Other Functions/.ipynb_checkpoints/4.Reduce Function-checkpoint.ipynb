{
 "cells": [
  {
   "cell_type": "markdown",
   "id": "18ec9a62",
   "metadata": {},
   "source": [
    "# Reduce Function"
   ]
  },
  {
   "cell_type": "code",
   "execution_count": 1,
   "id": "97e8d9ef",
   "metadata": {},
   "outputs": [],
   "source": [
    "# Used to apply a particular function passed in its argument to all of the list elements "
   ]
  },
  {
   "cell_type": "code",
   "execution_count": 2,
   "id": "0d3ab410",
   "metadata": {},
   "outputs": [],
   "source": [
    "from functools import reduce"
   ]
  },
  {
   "cell_type": "markdown",
   "id": "54367940",
   "metadata": {},
   "source": [
    "### To find sum of all elements in a list"
   ]
  },
  {
   "cell_type": "code",
   "execution_count": 6,
   "id": "a63426b5",
   "metadata": {},
   "outputs": [],
   "source": [
    "l = [1,2,3,4,5,6,7,8]"
   ]
  },
  {
   "cell_type": "code",
   "execution_count": 7,
   "id": "e09b8201",
   "metadata": {},
   "outputs": [
    {
     "data": {
      "text/plain": [
       "36"
      ]
     },
     "execution_count": 7,
     "metadata": {},
     "output_type": "execute_result"
    }
   ],
   "source": [
    "reduce(lambda a,b : a + b ,l)"
   ]
  },
  {
   "cell_type": "markdown",
   "id": "fc13027c",
   "metadata": {},
   "source": [
    "### To find product of all elements in a list"
   ]
  },
  {
   "cell_type": "code",
   "execution_count": 8,
   "id": "eab8108a",
   "metadata": {},
   "outputs": [
    {
     "data": {
      "text/plain": [
       "40320"
      ]
     },
     "execution_count": 8,
     "metadata": {},
     "output_type": "execute_result"
    }
   ],
   "source": [
    "reduce(lambda a,b : a * b ,l)"
   ]
  },
  {
   "cell_type": "code",
   "execution_count": 9,
   "id": "80dfb010",
   "metadata": {},
   "outputs": [],
   "source": [
    "#But we can't use reduce function wrt 3 variables\n",
    "#because cummulative addition or multiplication may not be applicable when 3 variables are taken"
   ]
  },
  {
   "cell_type": "code",
   "execution_count": null,
   "id": "7ce56332",
   "metadata": {},
   "outputs": [],
   "source": []
  }
 ],
 "metadata": {
  "kernelspec": {
   "display_name": "Python 3 (ipykernel)",
   "language": "python",
   "name": "python3"
  },
  "language_info": {
   "codemirror_mode": {
    "name": "ipython",
    "version": 3
   },
   "file_extension": ".py",
   "mimetype": "text/x-python",
   "name": "python",
   "nbconvert_exporter": "python",
   "pygments_lexer": "ipython3",
   "version": "3.9.13"
  }
 },
 "nbformat": 4,
 "nbformat_minor": 5
}
