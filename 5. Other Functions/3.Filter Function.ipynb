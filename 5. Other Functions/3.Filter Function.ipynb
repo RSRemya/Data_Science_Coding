{
 "cells": [
  {
   "cell_type": "markdown",
   "id": "5842f2f0",
   "metadata": {},
   "source": [
    "# Filter Function"
   ]
  },
  {
   "cell_type": "code",
   "execution_count": 5,
   "id": "3f8fde7f",
   "metadata": {},
   "outputs": [],
   "source": [
    "l = [1,2,3,4,5,6,7]"
   ]
  },
  {
   "cell_type": "markdown",
   "id": "0839c684",
   "metadata": {},
   "source": [
    "### To filter out even numbers from the list"
   ]
  },
  {
   "cell_type": "code",
   "execution_count": 8,
   "id": "1a453708",
   "metadata": {},
   "outputs": [
    {
     "data": {
      "text/plain": [
       "[2, 4, 6]"
      ]
     },
     "execution_count": 8,
     "metadata": {},
     "output_type": "execute_result"
    }
   ],
   "source": [
    "# Using for loop\n",
    "\n",
    "[i for i in l if i%2 == 0 ]"
   ]
  },
  {
   "cell_type": "code",
   "execution_count": 9,
   "id": "3231f62b",
   "metadata": {},
   "outputs": [
    {
     "data": {
      "text/plain": [
       "[2, 4, 6]"
      ]
     },
     "execution_count": 9,
     "metadata": {},
     "output_type": "execute_result"
    }
   ],
   "source": [
    "# Using filter function with lambda function\n",
    "\n",
    "a = lambda a :a if  a %2 == 0 else None \n",
    "list(filter(a , l))"
   ]
  },
  {
   "cell_type": "code",
   "execution_count": 10,
   "id": "34f85d83",
   "metadata": {},
   "outputs": [],
   "source": [
    "# Using user defined function with filter\n",
    "\n",
    "def test1(a):\n",
    "    if a%2 ==0 :\n",
    "        return True  \n",
    "    else :\n",
    "        return False"
   ]
  },
  {
   "cell_type": "code",
   "execution_count": 11,
   "id": "4bb574fc",
   "metadata": {},
   "outputs": [
    {
     "data": {
      "text/plain": [
       "[2, 4, 6]"
      ]
     },
     "execution_count": 11,
     "metadata": {},
     "output_type": "execute_result"
    }
   ],
   "source": [
    "list(filter(test1,l))"
   ]
  },
  {
   "cell_type": "markdown",
   "id": "d8431add",
   "metadata": {},
   "source": [
    "### To filter out even numbers from the list"
   ]
  },
  {
   "cell_type": "code",
   "execution_count": 12,
   "id": "3b8e4774",
   "metadata": {},
   "outputs": [
    {
     "data": {
      "text/plain": [
       "[1, 3, 5, 7]"
      ]
     },
     "execution_count": 12,
     "metadata": {},
     "output_type": "execute_result"
    }
   ],
   "source": [
    "# Using for loop\n",
    "\n",
    "[i for i in l if i%2 != 0 ]"
   ]
  },
  {
   "cell_type": "code",
   "execution_count": 13,
   "id": "42286ba3",
   "metadata": {},
   "outputs": [
    {
     "data": {
      "text/plain": [
       "[1, 3, 5, 7]"
      ]
     },
     "execution_count": 13,
     "metadata": {},
     "output_type": "execute_result"
    }
   ],
   "source": [
    "# Using filter function with lambda function\n",
    "\n",
    "a = lambda a :a if  a %2 != 0 else None \n",
    "list(filter(a , l))"
   ]
  },
  {
   "cell_type": "code",
   "execution_count": 14,
   "id": "b6e91abc",
   "metadata": {},
   "outputs": [],
   "source": [
    "# Using user defined function with filter\n",
    "\n",
    "def test2(a):\n",
    "    if a%2 ==0 :\n",
    "        return False  \n",
    "    else :\n",
    "        return True"
   ]
  },
  {
   "cell_type": "code",
   "execution_count": 15,
   "id": "6de1753f",
   "metadata": {},
   "outputs": [
    {
     "data": {
      "text/plain": [
       "[1, 3, 5, 7]"
      ]
     },
     "execution_count": 15,
     "metadata": {},
     "output_type": "execute_result"
    }
   ],
   "source": [
    "list(filter(test2,l))"
   ]
  },
  {
   "cell_type": "code",
   "execution_count": null,
   "id": "84b44623",
   "metadata": {},
   "outputs": [],
   "source": []
  }
 ],
 "metadata": {
  "kernelspec": {
   "display_name": "Python 3 (ipykernel)",
   "language": "python",
   "name": "python3"
  },
  "language_info": {
   "codemirror_mode": {
    "name": "ipython",
    "version": 3
   },
   "file_extension": ".py",
   "mimetype": "text/x-python",
   "name": "python",
   "nbconvert_exporter": "python",
   "pygments_lexer": "ipython3",
   "version": "3.9.13"
  }
 },
 "nbformat": 4,
 "nbformat_minor": 5
}
