{
 "cells": [
  {
   "cell_type": "markdown",
   "id": "723d2dbc",
   "metadata": {},
   "source": [
    "# Lambda Function - One liner function"
   ]
  },
  {
   "cell_type": "code",
   "execution_count": null,
   "id": "71bd301c",
   "metadata": {},
   "outputs": [],
   "source": [
    "#This function is used where we don't want to give any name to the function,\n",
    "#but we want to give argument and get output of an operation"
   ]
  },
  {
   "cell_type": "code",
   "execution_count": 6,
   "id": "8b9a224f",
   "metadata": {},
   "outputs": [
    {
     "data": {
      "text/plain": [
       "'Python Class'"
      ]
     },
     "execution_count": 6,
     "metadata": {},
     "output_type": "execute_result"
    }
   ],
   "source": [
    "x = lambda a , b : a + b \n",
    "\n",
    "x(\"Python \",\"Class\")"
   ]
  },
  {
   "cell_type": "code",
   "execution_count": 7,
   "id": "d48b245f",
   "metadata": {},
   "outputs": [
    {
     "data": {
      "text/plain": [
       "17"
      ]
     },
     "execution_count": 7,
     "metadata": {},
     "output_type": "execute_result"
    }
   ],
   "source": [
    "x(8,9)"
   ]
  },
  {
   "cell_type": "code",
   "execution_count": 8,
   "id": "ccd1ac9d",
   "metadata": {},
   "outputs": [
    {
     "data": {
      "text/plain": [
       "12.833333333333334"
      ]
     },
     "execution_count": 8,
     "metadata": {},
     "output_type": "execute_result"
    }
   ],
   "source": [
    "y = lambda a , b ,c ,d : a*b+c/d\n",
    "\n",
    "y(3,4,5,6)"
   ]
  },
  {
   "cell_type": "code",
   "execution_count": null,
   "id": "9d601afe",
   "metadata": {},
   "outputs": [],
   "source": []
  }
 ],
 "metadata": {
  "kernelspec": {
   "display_name": "Python 3 (ipykernel)",
   "language": "python",
   "name": "python3"
  },
  "language_info": {
   "codemirror_mode": {
    "name": "ipython",
    "version": 3
   },
   "file_extension": ".py",
   "mimetype": "text/x-python",
   "name": "python",
   "nbconvert_exporter": "python",
   "pygments_lexer": "ipython3",
   "version": "3.9.13"
  }
 },
 "nbformat": 4,
 "nbformat_minor": 5
}
