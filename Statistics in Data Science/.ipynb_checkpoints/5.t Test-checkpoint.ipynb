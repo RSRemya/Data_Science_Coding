{
 "cells": [
  {
   "cell_type": "markdown",
   "id": "43574b85",
   "metadata": {},
   "source": [
    "# t Test"
   ]
  },
  {
   "cell_type": "code",
   "execution_count": null,
   "id": "b1500906",
   "metadata": {},
   "outputs": [],
   "source": [
    "# When sample size <30 use t test instead of z test\n",
    "# While using t test we don't need population std dev, instead of it sample std dev is required"
   ]
  },
  {
   "cell_type": "code",
   "execution_count": 1,
   "id": "b88e5163",
   "metadata": {},
   "outputs": [],
   "source": [
    "import random\n",
    "import numpy as np"
   ]
  },
  {
   "cell_type": "code",
   "execution_count": 7,
   "id": "9237ba99",
   "metadata": {},
   "outputs": [
    {
     "data": {
      "text/plain": [
       "array([14, 28, 36, 17, 35, 18, 16, 45, 32, 20, 11, 48, 34, 31, 30, 43, 15,\n",
       "       37, 19, 21, 47, 15, 48, 38, 14, 19, 35, 27, 16, 47, 29, 46, 46, 28,\n",
       "       23, 22, 18, 44, 26, 20, 27, 14, 33, 48, 16, 21, 20, 28, 37, 10, 30,\n",
       "       19, 42, 39, 42, 22, 28, 31, 13, 19, 41, 47, 44, 18, 29, 36, 25, 29,\n",
       "       25, 12, 13, 32, 48, 39, 49, 27, 25, 30, 31, 38, 46, 46, 19, 19, 23,\n",
       "       36, 36, 16, 42, 41, 10, 33, 21, 45, 47, 49, 18, 13, 42, 44, 12, 43,\n",
       "       14, 12, 16, 39, 22, 24, 37, 47, 19, 48, 45, 44, 39, 39, 24, 47, 35,\n",
       "       42, 34, 24, 47, 18, 42, 23, 12, 44, 48, 41, 43, 10, 17, 42, 48, 31,\n",
       "       28, 33, 14, 33, 21, 43, 48, 36, 43, 36, 38, 10, 32, 45, 42, 14, 27,\n",
       "       41, 36, 18, 43, 13, 47, 45, 15, 39, 32, 17, 47, 27, 40, 43, 49, 17,\n",
       "       29, 47, 48, 39, 24, 34, 26, 41, 47, 26, 16, 31, 12, 46, 11, 38, 16,\n",
       "       15, 38, 46, 26, 41, 45, 46, 43, 48, 21, 15, 27, 29, 46, 49, 26, 38,\n",
       "       25, 31, 34, 29, 19, 41, 34, 33, 22, 48, 48, 12, 35, 30, 39, 28, 18,\n",
       "       11, 10, 23, 19, 41, 30, 42, 11, 21, 13, 19, 13, 29, 32, 47, 45, 40,\n",
       "       49, 35, 40, 19, 27, 13, 31, 24, 15, 42, 20, 19, 48, 39, 34, 13, 12,\n",
       "       13, 17, 34, 18, 19, 18, 20, 39, 27, 10, 49, 34, 22, 36, 45, 45, 11,\n",
       "       22, 17, 31, 29, 32, 13, 13, 11, 32, 26, 19, 37, 12, 43, 23, 25, 26,\n",
       "       18, 24, 30, 12, 24, 34, 11, 25, 33, 25, 37, 35, 30, 25, 34, 48, 41,\n",
       "       38, 40, 11, 40, 15, 18, 42, 41, 26, 47, 33, 44, 11, 30, 34, 22, 18,\n",
       "       48, 18, 17, 34, 40, 27, 34, 25, 31, 22, 10, 36, 10, 15, 39, 27, 21,\n",
       "       24, 19, 32, 45, 40, 15, 38, 35, 16, 23, 10, 43, 38, 47, 20, 16, 24,\n",
       "       12, 45, 31, 11, 39, 17, 40, 34, 15, 20, 35, 24, 48, 32, 24, 46, 18,\n",
       "       13, 30, 31, 39, 41, 32, 49, 24, 38, 41, 11, 21, 43, 38, 22, 43, 47,\n",
       "       38, 22, 34, 15, 32, 30, 18, 46, 30, 30, 32, 22, 20, 26, 15, 30, 23,\n",
       "       43, 20, 41, 48, 18, 14, 27, 26, 12, 29, 14, 43, 29, 48, 11, 13, 26,\n",
       "       42, 31, 27, 27, 29, 38, 19, 44, 31, 30, 31, 10, 18, 18, 32, 45, 30,\n",
       "       39, 20, 39, 36, 33, 12, 35, 43, 47, 49, 12, 43, 14, 41, 24, 15, 45,\n",
       "       18, 11, 18, 23, 24, 28, 44, 38, 20, 22, 23, 35, 23, 19, 18, 10, 15,\n",
       "       29, 37, 18, 21, 22, 33, 39, 42, 13, 11, 37, 22, 19, 19, 26, 28, 21,\n",
       "       43, 45, 30, 45, 13, 18, 48])"
      ]
     },
     "execution_count": 7,
     "metadata": {},
     "output_type": "execute_result"
    }
   ],
   "source": [
    "population=np.random.randint(10,50,500)\n",
    "population"
   ]
  },
  {
   "cell_type": "code",
   "execution_count": 8,
   "id": "58353f36",
   "metadata": {},
   "outputs": [],
   "source": [
    "sample1=np.random.choice(population,20)\n",
    "sample2=np.random.choice(population,20)\n",
    "sample2=np.random.choice(population,10)"
   ]
  },
  {
   "cell_type": "code",
   "execution_count": 9,
   "id": "359ec3e5",
   "metadata": {},
   "outputs": [],
   "source": [
    "null_mean = np.mean(population)"
   ]
  },
  {
   "cell_type": "code",
   "execution_count": 10,
   "id": "31b2be4d",
   "metadata": {},
   "outputs": [
    {
     "data": {
      "text/plain": [
       "Ttest_1sampResult(statistic=-0.05434368953325893, pvalue=0.9572286996094571)"
      ]
     },
     "execution_count": 10,
     "metadata": {},
     "output_type": "execute_result"
    }
   ],
   "source": [
    "import scipy\n",
    "scipy.stats.ttest_1samp(sample1,null_mean)"
   ]
  },
  {
   "cell_type": "code",
   "execution_count": 11,
   "id": "e1dbb66a",
   "metadata": {},
   "outputs": [
    {
     "data": {
      "text/plain": [
       "Ttest_indResult(statistic=0.5681706873161094, pvalue=0.5744477165069233)"
      ]
     },
     "execution_count": 11,
     "metadata": {},
     "output_type": "execute_result"
    }
   ],
   "source": [
    "# TWO SAMPLE T TEST - Tests whether the difference between the means of two independent populations is equal to a target value\n",
    "scipy.stats.ttest_ind(sample1,sample2)"
   ]
  },
  {
   "cell_type": "code",
   "execution_count": null,
   "id": "8a7e83fc",
   "metadata": {},
   "outputs": [],
   "source": []
  }
 ],
 "metadata": {
  "kernelspec": {
   "display_name": "Python 3 (ipykernel)",
   "language": "python",
   "name": "python3"
  },
  "language_info": {
   "codemirror_mode": {
    "name": "ipython",
    "version": 3
   },
   "file_extension": ".py",
   "mimetype": "text/x-python",
   "name": "python",
   "nbconvert_exporter": "python",
   "pygments_lexer": "ipython3",
   "version": "3.9.13"
  }
 },
 "nbformat": 4,
 "nbformat_minor": 5
}
