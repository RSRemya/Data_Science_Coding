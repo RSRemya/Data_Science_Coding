{
 "cells": [
  {
   "cell_type": "code",
   "execution_count": 1,
   "id": "5aa608b5",
   "metadata": {},
   "outputs": [],
   "source": [
    "import numpy as np\n",
    "from statistics import mode"
   ]
  },
  {
   "cell_type": "markdown",
   "id": "a3d720d1",
   "metadata": {},
   "source": [
    "# Making random population"
   ]
  },
  {
   "cell_type": "code",
   "execution_count": 2,
   "id": "76669e72",
   "metadata": {},
   "outputs": [],
   "source": [
    "population1 = np.random.randint(10,20,50)# to genarate 50 random integer inside the dataset in the range 10 to 20\n",
    "population2 = np.random.binomial(10,0.5,10000)# result of flipping a coin 10 times, tested 10000 times, with prob = 0.5."
   ]
  },
  {
   "cell_type": "code",
   "execution_count": 3,
   "id": "c058a77e",
   "metadata": {},
   "outputs": [
    {
     "data": {
      "text/plain": [
       "array([11, 11, 16, 12, 17, 13, 18, 19, 13, 13, 18, 14, 18, 17, 13, 12, 16,\n",
       "       15, 12, 11, 18, 16, 11, 10, 16, 10, 10, 11, 15, 12, 11, 19, 15, 14,\n",
       "       13, 18, 16, 12, 17, 16, 16, 10, 13, 10, 14, 10, 14, 14, 16, 12])"
      ]
     },
     "execution_count": 3,
     "metadata": {},
     "output_type": "execute_result"
    }
   ],
   "source": [
    "population1"
   ]
  },
  {
   "cell_type": "code",
   "execution_count": 4,
   "id": "2f512508",
   "metadata": {},
   "outputs": [
    {
     "data": {
      "text/plain": [
       "array([7, 5, 7, ..., 7, 2, 4])"
      ]
     },
     "execution_count": 4,
     "metadata": {},
     "output_type": "execute_result"
    }
   ],
   "source": [
    "population2"
   ]
  },
  {
   "cell_type": "code",
   "execution_count": 5,
   "id": "b19e3ecc",
   "metadata": {},
   "outputs": [
    {
     "data": {
      "text/plain": [
       "10000"
      ]
     },
     "execution_count": 5,
     "metadata": {},
     "output_type": "execute_result"
    }
   ],
   "source": [
    "len(population2)"
   ]
  },
  {
   "cell_type": "markdown",
   "id": "29c950a4",
   "metadata": {},
   "source": [
    "# Mean Median Mode"
   ]
  },
  {
   "cell_type": "code",
   "execution_count": 6,
   "id": "0584d44b",
   "metadata": {},
   "outputs": [
    {
     "data": {
      "text/plain": [
       "13.96"
      ]
     },
     "execution_count": 6,
     "metadata": {},
     "output_type": "execute_result"
    }
   ],
   "source": [
    "#mean\n",
    "np.mean(population1)"
   ]
  },
  {
   "cell_type": "code",
   "execution_count": 7,
   "id": "3201d3e1",
   "metadata": {},
   "outputs": [
    {
     "data": {
      "text/plain": [
       "14.0"
      ]
     },
     "execution_count": 7,
     "metadata": {},
     "output_type": "execute_result"
    }
   ],
   "source": [
    "#median\n",
    "np.median(population1)"
   ]
  },
  {
   "cell_type": "code",
   "execution_count": 8,
   "id": "e2e111b4",
   "metadata": {},
   "outputs": [
    {
     "data": {
      "text/plain": [
       "16"
      ]
     },
     "execution_count": 8,
     "metadata": {},
     "output_type": "execute_result"
    }
   ],
   "source": [
    "#mode\n",
    "mode(population1)"
   ]
  },
  {
   "cell_type": "markdown",
   "id": "7f544c47",
   "metadata": {},
   "source": [
    "# Sampling"
   ]
  },
  {
   "cell_type": "code",
   "execution_count": 9,
   "id": "ca99b502",
   "metadata": {},
   "outputs": [],
   "source": [
    "# Taking 3 sample of size 10 from the population\n",
    "sample1 = np.random.choice(population1,10)\n",
    "sample2 = np.random.choice(population1,10)\n",
    "sample3 = np.random.choice(population1,10)"
   ]
  },
  {
   "cell_type": "code",
   "execution_count": 10,
   "id": "b05c8b28",
   "metadata": {},
   "outputs": [
    {
     "name": "stdout",
     "output_type": "stream",
     "text": [
      "[18 18 13 10 13 17 13 18 12 13]\n",
      "==============================\n",
      "[15 12 12 17 14 11 10 11 15 13]\n",
      "==============================\n",
      "[10 10 13 13 13 18 16 16 13 13]\n",
      "==============================\n"
     ]
    }
   ],
   "source": [
    "print(sample1)\n",
    "print(30*\"=\")\n",
    "print(sample2)\n",
    "print(30*\"=\")\n",
    "print(sample3)\n",
    "print(30*\"=\")"
   ]
  },
  {
   "cell_type": "code",
   "execution_count": 11,
   "id": "3bb74f23",
   "metadata": {},
   "outputs": [
    {
     "name": "stdout",
     "output_type": "stream",
     "text": [
      "mean of the sample1 : 14.5\n",
      "median of the sample1 : 13.0\n",
      "mode of the sample1 : 13\n"
     ]
    }
   ],
   "source": [
    "print(f\"mean of the sample1 : {np.mean(sample1)}\")\n",
    "print(f\"median of the sample1 : {np.median(sample1)}\")\n",
    "print(f\"mode of the sample1 : {mode(sample1)}\")"
   ]
  },
  {
   "cell_type": "code",
   "execution_count": null,
   "id": "772b5318",
   "metadata": {},
   "outputs": [],
   "source": []
  }
 ],
 "metadata": {
  "kernelspec": {
   "display_name": "Python 3 (ipykernel)",
   "language": "python",
   "name": "python3"
  },
  "language_info": {
   "codemirror_mode": {
    "name": "ipython",
    "version": 3
   },
   "file_extension": ".py",
   "mimetype": "text/x-python",
   "name": "python",
   "nbconvert_exporter": "python",
   "pygments_lexer": "ipython3",
   "version": "3.9.13"
  }
 },
 "nbformat": 4,
 "nbformat_minor": 5
}
