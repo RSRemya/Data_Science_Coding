{
 "cells": [
  {
   "cell_type": "markdown",
   "id": "27dc61b0",
   "metadata": {},
   "source": [
    "# Central Limit Theorem"
   ]
  },
  {
   "cell_type": "markdown",
   "id": "67b515ff",
   "metadata": {},
   "source": [
    "The central limit theorem says that the sampling distribution of the mean will always be normally distributed, as long as the sample size is large enough. Regardless of whether the population has a normal, Poisson, binomial, or any other distribution, the sampling distribution of the mean will be normal."
   ]
  },
  {
   "cell_type": "code",
   "execution_count": 8,
   "id": "ff8705d2",
   "metadata": {},
   "outputs": [],
   "source": [
    "import numpy as np\n",
    "from statistics import mode\n",
    "from scipy import stats"
   ]
  },
  {
   "cell_type": "markdown",
   "id": "fbd9144c",
   "metadata": {},
   "source": [
    "# Proof of Central Limit Theorem"
   ]
  },
  {
   "cell_type": "code",
   "execution_count": 17,
   "id": "ee830c32",
   "metadata": {},
   "outputs": [],
   "source": [
    "# Defining the population\n",
    "population=np.random.binomial(10,0.5,10000)"
   ]
  },
  {
   "cell_type": "code",
   "execution_count": 18,
   "id": "3d6ce8ca",
   "metadata": {},
   "outputs": [],
   "source": [
    "size=int(len(population)*0.30) # size of a sample (size of population is 10000 and size of sample is 3000)"
   ]
  },
  {
   "cell_type": "code",
   "execution_count": 19,
   "id": "1e905d7e",
   "metadata": {},
   "outputs": [
    {
     "data": {
      "text/plain": [
       "ShapiroResult(statistic=0.9897873997688293, pvalue=0.6474215984344482)"
      ]
     },
     "execution_count": 19,
     "metadata": {},
     "output_type": "execute_result"
    }
   ],
   "source": [
    "# On taking 100 samples(having 3000 datapoints each) from population\n",
    "\n",
    "sample_mean=[]\n",
    "for i in range(1,101):\n",
    "    sample=np.random.choice(population,size=size)\n",
    "    sample_mean.append(np.mean(sample))\n",
    "    \n",
    "    \n",
    "# Applying shapiro wilk test\n",
    "stats.shapiro(sample_mean)"
   ]
  },
  {
   "cell_type": "code",
   "execution_count": 20,
   "id": "49223dc6",
   "metadata": {},
   "outputs": [
    {
     "data": {
      "text/plain": [
       "ShapiroResult(statistic=0.9931524991989136, pvalue=0.022439531981945038)"
      ]
     },
     "execution_count": 20,
     "metadata": {},
     "output_type": "execute_result"
    }
   ],
   "source": [
    "# According to shapiro wilk test above distribution is not normal distribution when number of samples taken is just 100\n",
    "\n",
    "sample_mean=[]\n",
    "for i in range(1,501):\n",
    "    sample=np.random.choice(population,size=size)\n",
    "    sample_mean.append(np.mean(sample))\n",
    "    \n",
    "    \n",
    "# Applying shapiro wilk test\n",
    "stats.shapiro(sample_mean)"
   ]
  },
  {
   "cell_type": "code",
   "execution_count": 23,
   "id": "96ff206f",
   "metadata": {},
   "outputs": [],
   "source": [
    "# Since p<0.05, the sample mean distribution is a normal distribution"
   ]
  },
  {
   "cell_type": "code",
   "execution_count": null,
   "id": "6ffd5f3e",
   "metadata": {},
   "outputs": [],
   "source": []
  }
 ],
 "metadata": {
  "kernelspec": {
   "display_name": "Python 3 (ipykernel)",
   "language": "python",
   "name": "python3"
  },
  "language_info": {
   "codemirror_mode": {
    "name": "ipython",
    "version": 3
   },
   "file_extension": ".py",
   "mimetype": "text/x-python",
   "name": "python",
   "nbconvert_exporter": "python",
   "pygments_lexer": "ipython3",
   "version": "3.9.13"
  }
 },
 "nbformat": 4,
 "nbformat_minor": 5
}
